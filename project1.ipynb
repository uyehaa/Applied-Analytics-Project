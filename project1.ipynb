{
 "cells": [
  {
   "cell_type": "code",
   "execution_count": 99,
   "metadata": {},
   "outputs": [
    {
     "ename": "SyntaxError",
     "evalue": "invalid syntax (1587396824.py, line 5)",
     "output_type": "error",
     "traceback": [
      "\u001b[0;36m  Cell \u001b[0;32mIn[99], line 5\u001b[0;36m\u001b[0m\n\u001b[0;31m    pip install -r requirements.txt install bertopic\u001b[0m\n\u001b[0m        ^\u001b[0m\n\u001b[0;31mSyntaxError\u001b[0m\u001b[0;31m:\u001b[0m invalid syntax\n"
     ]
    }
   ],
   "source": [
    "# # Run these in your terminal in order\n",
    "\n",
    "# !pip install bertopic\n",
    "\n",
    "# pip install -r requirements.txt install bertopic\n",
    "\n",
    "# pip uninstall transformers bertopic\n",
    "# pip install transformers bertopic\n",
    "\n",
    "# !pip install spacytextblob\n",
    "# python -m spacy download en_core_web_sm"
   ]
  },
  {
   "cell_type": "code",
   "execution_count": 102,
   "metadata": {},
   "outputs": [],
   "source": [
    "import pandas as pd\n",
    "\n",
    "#Correlation Matrix\n",
    "import seaborn as sns\n",
    "import matplotlib.pyplot as plt\n",
    "import datetime\n",
    "\n",
    "import nltk\n",
    "from nltk.corpus import stopwords\n",
    "from nltk import ngrams\n",
    "\n",
    "import re\n",
    "\n",
    "from sklearn.model_selection import train_test_split\n",
    "from sklearn.ensemble import RandomForestClassifier\n",
    "from sklearn.metrics import accuracy_score\n",
    "\n",
    "from bertopic import BERTopic\n",
    "\n",
    "import spacy\n",
    "from spacytextblob.spacytextblob import SpacyTextBlob\n",
    "\n",
    "from sklearn.preprocessing import MinMaxScaler, OneHotEncoder\n",
    "\n",
    "from sklearn.cluster import KMeans\n"
   ]
  },
  {
   "cell_type": "code",
   "execution_count": 80,
   "metadata": {},
   "outputs": [],
   "source": [
    "#Amado's csv to df \n",
    "\n",
    "df_comments = pd.read_csv('/Users/amadouyehara/Desktop/Spring 2024/Applied Analytics & Predictive Modeling/Project 1/opiates_comments6_LIWC.csv')\n",
    "df_submissions = pd.read_csv('/Users/amadouyehara/Desktop/Spring 2024/Applied Analytics & Predictive Modeling/Project 1/opiates_submissions6_LIWC.csv', low_memory=False)\n"
   ]
  },
  {
   "cell_type": "code",
   "execution_count": 81,
   "metadata": {},
   "outputs": [],
   "source": [
    "#Kaily's csv to df\n",
    "\n",
    "# df_comments = pd.read_csv(\"C:/Users/Kaily Mejia/Dropbox/Graduate Courses/Applied and Predictive Modeling/Final Project/opiates_comments6_LIWC.csv\" )\n",
    "# df_submissions = pd.read_csv('C:/Users/Kaily Mejia/Dropbox/Graduate Courses/Applied and Predictive Modeling/Final Project/opiates_submissions6_LIWC.csv', low_memory = False)\n"
   ]
  },
  {
   "cell_type": "code",
   "execution_count": 82,
   "metadata": {},
   "outputs": [
    {
     "data": {
      "text/html": [
       "<div>\n",
       "<style scoped>\n",
       "    .dataframe tbody tr th:only-of-type {\n",
       "        vertical-align: middle;\n",
       "    }\n",
       "\n",
       "    .dataframe tbody tr th {\n",
       "        vertical-align: top;\n",
       "    }\n",
       "\n",
       "    .dataframe thead th {\n",
       "        text-align: right;\n",
       "    }\n",
       "</style>\n",
       "<table border=\"1\" class=\"dataframe\">\n",
       "  <thead>\n",
       "    <tr style=\"text-align: right;\">\n",
       "      <th></th>\n",
       "      <th>author</th>\n",
       "      <th>created_utc</th>\n",
       "      <th>score</th>\n",
       "      <th>subreddit</th>\n",
       "      <th>WC</th>\n",
       "      <th>Analytic</th>\n",
       "      <th>Clout</th>\n",
       "      <th>Authentic</th>\n",
       "      <th>Tone</th>\n",
       "      <th>WPS</th>\n",
       "      <th>...</th>\n",
       "      <th>Comma</th>\n",
       "      <th>Colon</th>\n",
       "      <th>SemiC</th>\n",
       "      <th>QMark</th>\n",
       "      <th>Exclam</th>\n",
       "      <th>Dash</th>\n",
       "      <th>Quote</th>\n",
       "      <th>Apostro</th>\n",
       "      <th>Parenth</th>\n",
       "      <th>OtherP</th>\n",
       "    </tr>\n",
       "  </thead>\n",
       "  <tbody>\n",
       "    <tr>\n",
       "      <th>0</th>\n",
       "      <td>BoofDontShoot</td>\n",
       "      <td>1659067065</td>\n",
       "      <td>1</td>\n",
       "      <td>opiates</td>\n",
       "      <td>5</td>\n",
       "      <td>8.69</td>\n",
       "      <td>50.00</td>\n",
       "      <td>1.00</td>\n",
       "      <td>25.77</td>\n",
       "      <td>2.50</td>\n",
       "      <td>...</td>\n",
       "      <td>0.0</td>\n",
       "      <td>0.0</td>\n",
       "      <td>0.0</td>\n",
       "      <td>0.0</td>\n",
       "      <td>0.0</td>\n",
       "      <td>0.00</td>\n",
       "      <td>0.00</td>\n",
       "      <td>0.00</td>\n",
       "      <td>0.00</td>\n",
       "      <td>0.0</td>\n",
       "    </tr>\n",
       "    <tr>\n",
       "      <th>1</th>\n",
       "      <td>Busy_Background_195</td>\n",
       "      <td>1659067044</td>\n",
       "      <td>1</td>\n",
       "      <td>opiates</td>\n",
       "      <td>55</td>\n",
       "      <td>32.58</td>\n",
       "      <td>13.76</td>\n",
       "      <td>14.10</td>\n",
       "      <td>1.00</td>\n",
       "      <td>13.75</td>\n",
       "      <td>...</td>\n",
       "      <td>0.0</td>\n",
       "      <td>0.0</td>\n",
       "      <td>0.0</td>\n",
       "      <td>0.0</td>\n",
       "      <td>0.0</td>\n",
       "      <td>0.00</td>\n",
       "      <td>0.00</td>\n",
       "      <td>5.45</td>\n",
       "      <td>3.64</td>\n",
       "      <td>0.0</td>\n",
       "    </tr>\n",
       "    <tr>\n",
       "      <th>2</th>\n",
       "      <td>Wolf_Double</td>\n",
       "      <td>1659066949</td>\n",
       "      <td>1</td>\n",
       "      <td>opiates</td>\n",
       "      <td>6</td>\n",
       "      <td>1.00</td>\n",
       "      <td>95.20</td>\n",
       "      <td>23.51</td>\n",
       "      <td>99.00</td>\n",
       "      <td>6.00</td>\n",
       "      <td>...</td>\n",
       "      <td>0.0</td>\n",
       "      <td>0.0</td>\n",
       "      <td>0.0</td>\n",
       "      <td>0.0</td>\n",
       "      <td>0.0</td>\n",
       "      <td>0.00</td>\n",
       "      <td>0.00</td>\n",
       "      <td>0.00</td>\n",
       "      <td>0.00</td>\n",
       "      <td>0.0</td>\n",
       "    </tr>\n",
       "    <tr>\n",
       "      <th>3</th>\n",
       "      <td>Knowagoraaa</td>\n",
       "      <td>1659066905</td>\n",
       "      <td>1</td>\n",
       "      <td>opiates</td>\n",
       "      <td>39</td>\n",
       "      <td>71.92</td>\n",
       "      <td>60.13</td>\n",
       "      <td>99.00</td>\n",
       "      <td>73.64</td>\n",
       "      <td>13.00</td>\n",
       "      <td>...</td>\n",
       "      <td>0.0</td>\n",
       "      <td>0.0</td>\n",
       "      <td>0.0</td>\n",
       "      <td>0.0</td>\n",
       "      <td>0.0</td>\n",
       "      <td>2.56</td>\n",
       "      <td>0.00</td>\n",
       "      <td>5.13</td>\n",
       "      <td>0.00</td>\n",
       "      <td>0.0</td>\n",
       "    </tr>\n",
       "    <tr>\n",
       "      <th>4</th>\n",
       "      <td>Busy_Background_195</td>\n",
       "      <td>1659066875</td>\n",
       "      <td>1</td>\n",
       "      <td>opiates</td>\n",
       "      <td>75</td>\n",
       "      <td>24.37</td>\n",
       "      <td>29.68</td>\n",
       "      <td>14.56</td>\n",
       "      <td>2.41</td>\n",
       "      <td>25.00</td>\n",
       "      <td>...</td>\n",
       "      <td>0.0</td>\n",
       "      <td>0.0</td>\n",
       "      <td>0.0</td>\n",
       "      <td>0.0</td>\n",
       "      <td>0.0</td>\n",
       "      <td>0.00</td>\n",
       "      <td>2.67</td>\n",
       "      <td>4.00</td>\n",
       "      <td>0.00</td>\n",
       "      <td>0.0</td>\n",
       "    </tr>\n",
       "  </tbody>\n",
       "</table>\n",
       "<p>5 rows × 96 columns</p>\n",
       "</div>"
      ],
      "text/plain": [
       "                author  created_utc  score subreddit  WC  Analytic  Clout  \\\n",
       "0        BoofDontShoot   1659067065      1   opiates   5      8.69  50.00   \n",
       "1  Busy_Background_195   1659067044      1   opiates  55     32.58  13.76   \n",
       "2          Wolf_Double   1659066949      1   opiates   6      1.00  95.20   \n",
       "3          Knowagoraaa   1659066905      1   opiates  39     71.92  60.13   \n",
       "4  Busy_Background_195   1659066875      1   opiates  75     24.37  29.68   \n",
       "\n",
       "   Authentic   Tone    WPS  ...  Comma  Colon  SemiC  QMark  Exclam  Dash  \\\n",
       "0       1.00  25.77   2.50  ...    0.0    0.0    0.0    0.0     0.0  0.00   \n",
       "1      14.10   1.00  13.75  ...    0.0    0.0    0.0    0.0     0.0  0.00   \n",
       "2      23.51  99.00   6.00  ...    0.0    0.0    0.0    0.0     0.0  0.00   \n",
       "3      99.00  73.64  13.00  ...    0.0    0.0    0.0    0.0     0.0  2.56   \n",
       "4      14.56   2.41  25.00  ...    0.0    0.0    0.0    0.0     0.0  0.00   \n",
       "\n",
       "   Quote  Apostro  Parenth  OtherP  \n",
       "0   0.00     0.00     0.00     0.0  \n",
       "1   0.00     5.45     3.64     0.0  \n",
       "2   0.00     0.00     0.00     0.0  \n",
       "3   0.00     5.13     0.00     0.0  \n",
       "4   2.67     4.00     0.00     0.0  \n",
       "\n",
       "[5 rows x 96 columns]"
      ]
     },
     "execution_count": 82,
     "metadata": {},
     "output_type": "execute_result"
    }
   ],
   "source": [
    "#Structure of Comments dataset\n",
    "df_comments.head()"
   ]
  },
  {
   "cell_type": "code",
   "execution_count": 64,
   "metadata": {},
   "outputs": [
    {
     "data": {
      "text/html": [
       "<div>\n",
       "<style scoped>\n",
       "    .dataframe tbody tr th:only-of-type {\n",
       "        vertical-align: middle;\n",
       "    }\n",
       "\n",
       "    .dataframe tbody tr th {\n",
       "        vertical-align: top;\n",
       "    }\n",
       "\n",
       "    .dataframe thead th {\n",
       "        text-align: right;\n",
       "    }\n",
       "</style>\n",
       "<table border=\"1\" class=\"dataframe\">\n",
       "  <thead>\n",
       "    <tr style=\"text-align: right;\">\n",
       "      <th></th>\n",
       "      <th>author</th>\n",
       "      <th>title</th>\n",
       "      <th>created_utc</th>\n",
       "      <th>score</th>\n",
       "      <th>subreddit</th>\n",
       "      <th>WC</th>\n",
       "      <th>Analytic</th>\n",
       "      <th>Clout</th>\n",
       "      <th>Authentic</th>\n",
       "      <th>Tone</th>\n",
       "      <th>...</th>\n",
       "      <th>Comma</th>\n",
       "      <th>Colon</th>\n",
       "      <th>SemiC</th>\n",
       "      <th>QMark</th>\n",
       "      <th>Exclam</th>\n",
       "      <th>Dash</th>\n",
       "      <th>Quote</th>\n",
       "      <th>Apostro</th>\n",
       "      <th>Parenth</th>\n",
       "      <th>OtherP</th>\n",
       "    </tr>\n",
       "  </thead>\n",
       "  <tbody>\n",
       "    <tr>\n",
       "      <th>0</th>\n",
       "      <td>Odd-Pizza-1079</td>\n",
       "      <td>How much tylenol is too much? Asking for a fri...</td>\n",
       "      <td>1.659067e+09</td>\n",
       "      <td>1</td>\n",
       "      <td>opiates</td>\n",
       "      <td>12.0</td>\n",
       "      <td>18.82</td>\n",
       "      <td>79.76</td>\n",
       "      <td>1.79</td>\n",
       "      <td>25.77</td>\n",
       "      <td>...</td>\n",
       "      <td>0.0</td>\n",
       "      <td>0.0</td>\n",
       "      <td>0.00</td>\n",
       "      <td>8.33</td>\n",
       "      <td>0.00</td>\n",
       "      <td>0.00</td>\n",
       "      <td>0.0</td>\n",
       "      <td>0.0</td>\n",
       "      <td>16.67</td>\n",
       "      <td>0.00</td>\n",
       "    </tr>\n",
       "    <tr>\n",
       "      <th>1</th>\n",
       "      <td>Global_Face_4708</td>\n",
       "      <td>Gabapentin/Lyrica/Clonidine Through Telehealth?</td>\n",
       "      <td>1.659065e+09</td>\n",
       "      <td>1</td>\n",
       "      <td>opiates</td>\n",
       "      <td>5.0</td>\n",
       "      <td>99.00</td>\n",
       "      <td>50.00</td>\n",
       "      <td>1.00</td>\n",
       "      <td>25.77</td>\n",
       "      <td>...</td>\n",
       "      <td>0.0</td>\n",
       "      <td>0.0</td>\n",
       "      <td>0.00</td>\n",
       "      <td>20.00</td>\n",
       "      <td>0.00</td>\n",
       "      <td>0.00</td>\n",
       "      <td>0.0</td>\n",
       "      <td>0.0</td>\n",
       "      <td>0.00</td>\n",
       "      <td>40.00</td>\n",
       "    </tr>\n",
       "    <tr>\n",
       "      <th>2</th>\n",
       "      <td>Bluebeamtwinfn</td>\n",
       "      <td>Opiates prolonging finish/enhancing sex</td>\n",
       "      <td>1.659064e+09</td>\n",
       "      <td>1</td>\n",
       "      <td>opiates</td>\n",
       "      <td>5.0</td>\n",
       "      <td>93.26</td>\n",
       "      <td>50.00</td>\n",
       "      <td>43.37</td>\n",
       "      <td>25.77</td>\n",
       "      <td>...</td>\n",
       "      <td>0.0</td>\n",
       "      <td>0.0</td>\n",
       "      <td>0.00</td>\n",
       "      <td>0.00</td>\n",
       "      <td>0.00</td>\n",
       "      <td>0.00</td>\n",
       "      <td>0.0</td>\n",
       "      <td>0.0</td>\n",
       "      <td>0.00</td>\n",
       "      <td>20.00</td>\n",
       "    </tr>\n",
       "    <tr>\n",
       "      <th>3</th>\n",
       "      <td>iLoveLuckiii</td>\n",
       "      <td>Boost your oxy high! &amp;amp; Save money! (USE ON...</td>\n",
       "      <td>1.659063e+09</td>\n",
       "      <td>1</td>\n",
       "      <td>opiates</td>\n",
       "      <td>13.0</td>\n",
       "      <td>82.82</td>\n",
       "      <td>93.79</td>\n",
       "      <td>94.81</td>\n",
       "      <td>99.00</td>\n",
       "      <td>...</td>\n",
       "      <td>0.0</td>\n",
       "      <td>0.0</td>\n",
       "      <td>7.69</td>\n",
       "      <td>0.00</td>\n",
       "      <td>15.38</td>\n",
       "      <td>0.00</td>\n",
       "      <td>0.0</td>\n",
       "      <td>0.0</td>\n",
       "      <td>15.38</td>\n",
       "      <td>7.69</td>\n",
       "    </tr>\n",
       "    <tr>\n",
       "      <th>4</th>\n",
       "      <td>Downtown_Syrup4635</td>\n",
       "      <td>IOP Detox while working 9-5??</td>\n",
       "      <td>1.659061e+09</td>\n",
       "      <td>1</td>\n",
       "      <td>opiates</td>\n",
       "      <td>6.0</td>\n",
       "      <td>62.04</td>\n",
       "      <td>50.00</td>\n",
       "      <td>23.51</td>\n",
       "      <td>25.77</td>\n",
       "      <td>...</td>\n",
       "      <td>0.0</td>\n",
       "      <td>0.0</td>\n",
       "      <td>0.00</td>\n",
       "      <td>33.33</td>\n",
       "      <td>0.00</td>\n",
       "      <td>16.67</td>\n",
       "      <td>0.0</td>\n",
       "      <td>0.0</td>\n",
       "      <td>0.00</td>\n",
       "      <td>0.00</td>\n",
       "    </tr>\n",
       "  </tbody>\n",
       "</table>\n",
       "<p>5 rows × 98 columns</p>\n",
       "</div>"
      ],
      "text/plain": [
       "               author                                              title  \\\n",
       "0      Odd-Pizza-1079  How much tylenol is too much? Asking for a fri...   \n",
       "1    Global_Face_4708    Gabapentin/Lyrica/Clonidine Through Telehealth?   \n",
       "2      Bluebeamtwinfn            Opiates prolonging finish/enhancing sex   \n",
       "3        iLoveLuckiii  Boost your oxy high! &amp; Save money! (USE ON...   \n",
       "4  Downtown_Syrup4635                      IOP Detox while working 9-5??   \n",
       "\n",
       "    created_utc score subreddit    WC  Analytic  Clout  Authentic   Tone  ...  \\\n",
       "0  1.659067e+09     1   opiates  12.0     18.82  79.76       1.79  25.77  ...   \n",
       "1  1.659065e+09     1   opiates   5.0     99.00  50.00       1.00  25.77  ...   \n",
       "2  1.659064e+09     1   opiates   5.0     93.26  50.00      43.37  25.77  ...   \n",
       "3  1.659063e+09     1   opiates  13.0     82.82  93.79      94.81  99.00  ...   \n",
       "4  1.659061e+09     1   opiates   6.0     62.04  50.00      23.51  25.77  ...   \n",
       "\n",
       "   Comma  Colon  SemiC  QMark  Exclam   Dash  Quote  Apostro  Parenth  OtherP  \n",
       "0    0.0    0.0   0.00   8.33    0.00   0.00    0.0      0.0    16.67    0.00  \n",
       "1    0.0    0.0   0.00  20.00    0.00   0.00    0.0      0.0     0.00   40.00  \n",
       "2    0.0    0.0   0.00   0.00    0.00   0.00    0.0      0.0     0.00   20.00  \n",
       "3    0.0    0.0   7.69   0.00   15.38   0.00    0.0      0.0    15.38    7.69  \n",
       "4    0.0    0.0   0.00  33.33    0.00  16.67    0.0      0.0     0.00    0.00  \n",
       "\n",
       "[5 rows x 98 columns]"
      ]
     },
     "execution_count": 64,
     "metadata": {},
     "output_type": "execute_result"
    }
   ],
   "source": [
    "#Structure of Submissions dataset\n",
    "df_submissions.head()"
   ]
  },
  {
   "cell_type": "code",
   "execution_count": 83,
   "metadata": {},
   "outputs": [
    {
     "name": "stdout",
     "output_type": "stream",
     "text": [
      "1014397\n",
      "1014397\n",
      "79676\n",
      "79674\n"
     ]
    }
   ],
   "source": [
    "#Removing null values\n",
    "print(len(df_comments))\n",
    "df_comments = df_comments.dropna()\n",
    "print(len(df_comments))\n",
    "\n",
    "print(len(df_submissions))\n",
    "df_submissions = df_submissions.dropna()\n",
    "print(len(df_submissions))"
   ]
  },
  {
   "cell_type": "code",
   "execution_count": 84,
   "metadata": {},
   "outputs": [],
   "source": [
    "df_comments = df_comments[['author', 'created_utc','score', 'WC', 'Tone','posemo', 'negemo','anger', 'anx', 'sad']]\n",
    "df_submissions = df_submissions[['author', 'title', 'created_utc','score', 'WC', 'Tone', 'posemo', 'negemo','anger', 'anx', 'sad']]"
   ]
  },
  {
   "cell_type": "code",
   "execution_count": 67,
   "metadata": {},
   "outputs": [
    {
     "data": {
      "text/html": [
       "<style type=\"text/css\">\n",
       "#T_9c1e4_row0_col1 {\n",
       "  background-color: #fea245;\n",
       "  color: #000000;\n",
       "}\n",
       "#T_9c1e4_row0_col2, #T_9c1e4_row0_col3, #T_9c1e4_row1_col2, #T_9c1e4_row1_col3, #T_9c1e4_row2_col2, #T_9c1e4_row2_col3, #T_9c1e4_row3_col1, #T_9c1e4_row3_col2, #T_9c1e4_row3_col3, #T_9c1e4_row4_col1, #T_9c1e4_row4_col2, #T_9c1e4_row4_col3, #T_9c1e4_row5_col1, #T_9c1e4_row5_col2, #T_9c1e4_row5_col3, #T_9c1e4_row6_col1, #T_9c1e4_row6_col2, #T_9c1e4_row6_col3, #T_9c1e4_row7_col1, #T_9c1e4_row7_col2, #T_9c1e4_row7_col3, #T_9c1e4_row8_col1, #T_9c1e4_row8_col2, #T_9c1e4_row8_col3, #T_9c1e4_row9_col1, #T_9c1e4_row9_col2, #T_9c1e4_row9_col3, #T_9c1e4_row10_col1, #T_9c1e4_row10_col2, #T_9c1e4_row10_col3 {\n",
       "  background-color: #ffffcc;\n",
       "  color: #000000;\n",
       "}\n",
       "#T_9c1e4_row1_col1 {\n",
       "  background-color: #9d0026;\n",
       "  color: #f1f1f1;\n",
       "}\n",
       "#T_9c1e4_row2_col1 {\n",
       "  background-color: #800026;\n",
       "  color: #f1f1f1;\n",
       "}\n",
       "</style>\n",
       "<table id=\"T_9c1e4\">\n",
       "  <thead>\n",
       "    <tr>\n",
       "      <th class=\"blank level0\" >&nbsp;</th>\n",
       "      <th id=\"T_9c1e4_level0_col0\" class=\"col_heading level0 col0\" >Data Type</th>\n",
       "      <th id=\"T_9c1e4_level0_col1\" class=\"col_heading level0 col1\" >Unique Values</th>\n",
       "      <th id=\"T_9c1e4_level0_col2\" class=\"col_heading level0 col2\" >Null Values</th>\n",
       "      <th id=\"T_9c1e4_level0_col3\" class=\"col_heading level0 col3\" >% null Values</th>\n",
       "    </tr>\n",
       "  </thead>\n",
       "  <tbody>\n",
       "    <tr>\n",
       "      <th id=\"T_9c1e4_level0_row0\" class=\"row_heading level0 row0\" >author</th>\n",
       "      <td id=\"T_9c1e4_row0_col0\" class=\"data row0 col0\" >object</td>\n",
       "      <td id=\"T_9c1e4_row0_col1\" class=\"data row0 col1\" >34175</td>\n",
       "      <td id=\"T_9c1e4_row0_col2\" class=\"data row0 col2\" >0</td>\n",
       "      <td id=\"T_9c1e4_row0_col3\" class=\"data row0 col3\" >0.000000</td>\n",
       "    </tr>\n",
       "    <tr>\n",
       "      <th id=\"T_9c1e4_level0_row1\" class=\"row_heading level0 row1\" >title</th>\n",
       "      <td id=\"T_9c1e4_row1_col0\" class=\"data row1 col0\" >object</td>\n",
       "      <td id=\"T_9c1e4_row1_col1\" class=\"data row1 col1\" >74710</td>\n",
       "      <td id=\"T_9c1e4_row1_col2\" class=\"data row1 col2\" >0</td>\n",
       "      <td id=\"T_9c1e4_row1_col3\" class=\"data row1 col3\" >0.000000</td>\n",
       "    </tr>\n",
       "    <tr>\n",
       "      <th id=\"T_9c1e4_level0_row2\" class=\"row_heading level0 row2\" >created_utc</th>\n",
       "      <td id=\"T_9c1e4_row2_col0\" class=\"data row2 col0\" >float64</td>\n",
       "      <td id=\"T_9c1e4_row2_col1\" class=\"data row2 col1\" >79580</td>\n",
       "      <td id=\"T_9c1e4_row2_col2\" class=\"data row2 col2\" >0</td>\n",
       "      <td id=\"T_9c1e4_row2_col3\" class=\"data row2 col3\" >0.000000</td>\n",
       "    </tr>\n",
       "    <tr>\n",
       "      <th id=\"T_9c1e4_level0_row3\" class=\"row_heading level0 row3\" >score</th>\n",
       "      <td id=\"T_9c1e4_row3_col0\" class=\"data row3 col0\" >object</td>\n",
       "      <td id=\"T_9c1e4_row3_col1\" class=\"data row3 col1\" >200</td>\n",
       "      <td id=\"T_9c1e4_row3_col2\" class=\"data row3 col2\" >0</td>\n",
       "      <td id=\"T_9c1e4_row3_col3\" class=\"data row3 col3\" >0.000000</td>\n",
       "    </tr>\n",
       "    <tr>\n",
       "      <th id=\"T_9c1e4_level0_row4\" class=\"row_heading level0 row4\" >WC</th>\n",
       "      <td id=\"T_9c1e4_row4_col0\" class=\"data row4 col0\" >float64</td>\n",
       "      <td id=\"T_9c1e4_row4_col1\" class=\"data row4 col1\" >70</td>\n",
       "      <td id=\"T_9c1e4_row4_col2\" class=\"data row4 col2\" >0</td>\n",
       "      <td id=\"T_9c1e4_row4_col3\" class=\"data row4 col3\" >0.000000</td>\n",
       "    </tr>\n",
       "    <tr>\n",
       "      <th id=\"T_9c1e4_level0_row5\" class=\"row_heading level0 row5\" >Tone</th>\n",
       "      <td id=\"T_9c1e4_row5_col0\" class=\"data row5 col0\" >float64</td>\n",
       "      <td id=\"T_9c1e4_row5_col1\" class=\"data row5 col1\" >120</td>\n",
       "      <td id=\"T_9c1e4_row5_col2\" class=\"data row5 col2\" >0</td>\n",
       "      <td id=\"T_9c1e4_row5_col3\" class=\"data row5 col3\" >0.000000</td>\n",
       "    </tr>\n",
       "    <tr>\n",
       "      <th id=\"T_9c1e4_level0_row6\" class=\"row_heading level0 row6\" >posemo</th>\n",
       "      <td id=\"T_9c1e4_row6_col0\" class=\"data row6 col0\" >float64</td>\n",
       "      <td id=\"T_9c1e4_row6_col1\" class=\"data row6 col1\" >198</td>\n",
       "      <td id=\"T_9c1e4_row6_col2\" class=\"data row6 col2\" >0</td>\n",
       "      <td id=\"T_9c1e4_row6_col3\" class=\"data row6 col3\" >0.000000</td>\n",
       "    </tr>\n",
       "    <tr>\n",
       "      <th id=\"T_9c1e4_level0_row7\" class=\"row_heading level0 row7\" >negemo</th>\n",
       "      <td id=\"T_9c1e4_row7_col0\" class=\"data row7 col0\" >float64</td>\n",
       "      <td id=\"T_9c1e4_row7_col1\" class=\"data row7 col1\" >196</td>\n",
       "      <td id=\"T_9c1e4_row7_col2\" class=\"data row7 col2\" >0</td>\n",
       "      <td id=\"T_9c1e4_row7_col3\" class=\"data row7 col3\" >0.000000</td>\n",
       "    </tr>\n",
       "    <tr>\n",
       "      <th id=\"T_9c1e4_level0_row8\" class=\"row_heading level0 row8\" >anger</th>\n",
       "      <td id=\"T_9c1e4_row8_col0\" class=\"data row8 col0\" >float64</td>\n",
       "      <td id=\"T_9c1e4_row8_col1\" class=\"data row8 col1\" >126</td>\n",
       "      <td id=\"T_9c1e4_row8_col2\" class=\"data row8 col2\" >0</td>\n",
       "      <td id=\"T_9c1e4_row8_col3\" class=\"data row8 col3\" >0.000000</td>\n",
       "    </tr>\n",
       "    <tr>\n",
       "      <th id=\"T_9c1e4_level0_row9\" class=\"row_heading level0 row9\" >anx</th>\n",
       "      <td id=\"T_9c1e4_row9_col0\" class=\"data row9 col0\" >float64</td>\n",
       "      <td id=\"T_9c1e4_row9_col1\" class=\"data row9 col1\" >106</td>\n",
       "      <td id=\"T_9c1e4_row9_col2\" class=\"data row9 col2\" >0</td>\n",
       "      <td id=\"T_9c1e4_row9_col3\" class=\"data row9 col3\" >0.000000</td>\n",
       "    </tr>\n",
       "    <tr>\n",
       "      <th id=\"T_9c1e4_level0_row10\" class=\"row_heading level0 row10\" >sad</th>\n",
       "      <td id=\"T_9c1e4_row10_col0\" class=\"data row10 col0\" >float64</td>\n",
       "      <td id=\"T_9c1e4_row10_col1\" class=\"data row10 col1\" >106</td>\n",
       "      <td id=\"T_9c1e4_row10_col2\" class=\"data row10 col2\" >0</td>\n",
       "      <td id=\"T_9c1e4_row10_col3\" class=\"data row10 col3\" >0.000000</td>\n",
       "    </tr>\n",
       "  </tbody>\n",
       "</table>\n"
      ],
      "text/plain": [
       "<pandas.io.formats.style.Styler at 0x39a556a90>"
      ]
     },
     "execution_count": 67,
     "metadata": {},
     "output_type": "execute_result"
    }
   ],
   "source": [
    "dtypes = pd.DataFrame(df_submissions.dtypes,columns=[\"Data Type\"])\n",
    "dtypes[\"Unique Values\"]=df_submissions.nunique().sort_values(ascending=True)\n",
    "dtypes[\"Null Values\"]=df_submissions.isnull().sum()\n",
    "dtypes[\"% null Values\"]=df_submissions.isnull().sum()/len(df_submissions)\n",
    "dtypes.sort_values(by=\"Null Values\" , ascending=False).style.background_gradient(cmap='YlOrRd',axis=0)"
   ]
  },
  {
   "cell_type": "code",
   "execution_count": 68,
   "metadata": {},
   "outputs": [
    {
     "data": {
      "text/html": [
       "<style type=\"text/css\">\n",
       "#T_8b443_row0_col1 {\n",
       "  background-color: #fff7b9;\n",
       "  color: #000000;\n",
       "}\n",
       "#T_8b443_row0_col2, #T_8b443_row0_col3, #T_8b443_row1_col2, #T_8b443_row1_col3, #T_8b443_row2_col1, #T_8b443_row2_col2, #T_8b443_row2_col3, #T_8b443_row3_col1, #T_8b443_row3_col2, #T_8b443_row3_col3, #T_8b443_row4_col2, #T_8b443_row4_col3, #T_8b443_row5_col1, #T_8b443_row5_col2, #T_8b443_row5_col3, #T_8b443_row6_col1, #T_8b443_row6_col2, #T_8b443_row6_col3, #T_8b443_row7_col1, #T_8b443_row7_col2, #T_8b443_row7_col3, #T_8b443_row8_col1, #T_8b443_row8_col2, #T_8b443_row8_col3, #T_8b443_row9_col1, #T_8b443_row9_col2, #T_8b443_row9_col3 {\n",
       "  background-color: #ffffcc;\n",
       "  color: #000000;\n",
       "}\n",
       "#T_8b443_row1_col1 {\n",
       "  background-color: #800026;\n",
       "  color: #f1f1f1;\n",
       "}\n",
       "#T_8b443_row4_col1 {\n",
       "  background-color: #fffecb;\n",
       "  color: #000000;\n",
       "}\n",
       "</style>\n",
       "<table id=\"T_8b443\">\n",
       "  <thead>\n",
       "    <tr>\n",
       "      <th class=\"blank level0\" >&nbsp;</th>\n",
       "      <th id=\"T_8b443_level0_col0\" class=\"col_heading level0 col0\" >Data Type</th>\n",
       "      <th id=\"T_8b443_level0_col1\" class=\"col_heading level0 col1\" >Unique Values</th>\n",
       "      <th id=\"T_8b443_level0_col2\" class=\"col_heading level0 col2\" >Null Values</th>\n",
       "      <th id=\"T_8b443_level0_col3\" class=\"col_heading level0 col3\" >% null Values</th>\n",
       "    </tr>\n",
       "  </thead>\n",
       "  <tbody>\n",
       "    <tr>\n",
       "      <th id=\"T_8b443_level0_row0\" class=\"row_heading level0 row0\" >author</th>\n",
       "      <td id=\"T_8b443_row0_col0\" class=\"data row0 col0\" >object</td>\n",
       "      <td id=\"T_8b443_row0_col1\" class=\"data row0 col1\" >58868</td>\n",
       "      <td id=\"T_8b443_row0_col2\" class=\"data row0 col2\" >0</td>\n",
       "      <td id=\"T_8b443_row0_col3\" class=\"data row0 col3\" >0.000000</td>\n",
       "    </tr>\n",
       "    <tr>\n",
       "      <th id=\"T_8b443_level0_row1\" class=\"row_heading level0 row1\" >created_utc</th>\n",
       "      <td id=\"T_8b443_row1_col0\" class=\"data row1 col0\" >int64</td>\n",
       "      <td id=\"T_8b443_row1_col1\" class=\"data row1 col1\" >1005848</td>\n",
       "      <td id=\"T_8b443_row1_col2\" class=\"data row1 col2\" >0</td>\n",
       "      <td id=\"T_8b443_row1_col3\" class=\"data row1 col3\" >0.000000</td>\n",
       "    </tr>\n",
       "    <tr>\n",
       "      <th id=\"T_8b443_level0_row2\" class=\"row_heading level0 row2\" >score</th>\n",
       "      <td id=\"T_8b443_row2_col0\" class=\"data row2 col0\" >int64</td>\n",
       "      <td id=\"T_8b443_row2_col1\" class=\"data row2 col1\" >188</td>\n",
       "      <td id=\"T_8b443_row2_col2\" class=\"data row2 col2\" >0</td>\n",
       "      <td id=\"T_8b443_row2_col3\" class=\"data row2 col3\" >0.000000</td>\n",
       "    </tr>\n",
       "    <tr>\n",
       "      <th id=\"T_8b443_level0_row3\" class=\"row_heading level0 row3\" >WC</th>\n",
       "      <td id=\"T_8b443_row3_col0\" class=\"data row3 col0\" >int64</td>\n",
       "      <td id=\"T_8b443_row3_col1\" class=\"data row3 col1\" >1049</td>\n",
       "      <td id=\"T_8b443_row3_col2\" class=\"data row3 col2\" >0</td>\n",
       "      <td id=\"T_8b443_row3_col3\" class=\"data row3 col3\" >0.000000</td>\n",
       "    </tr>\n",
       "    <tr>\n",
       "      <th id=\"T_8b443_level0_row4\" class=\"row_heading level0 row4\" >Tone</th>\n",
       "      <td id=\"T_8b443_row4_col0\" class=\"data row4 col0\" >float64</td>\n",
       "      <td id=\"T_8b443_row4_col1\" class=\"data row4 col1\" >4364</td>\n",
       "      <td id=\"T_8b443_row4_col2\" class=\"data row4 col2\" >0</td>\n",
       "      <td id=\"T_8b443_row4_col3\" class=\"data row4 col3\" >0.000000</td>\n",
       "    </tr>\n",
       "    <tr>\n",
       "      <th id=\"T_8b443_level0_row5\" class=\"row_heading level0 row5\" >posemo</th>\n",
       "      <td id=\"T_8b443_row5_col0\" class=\"data row5 col0\" >float64</td>\n",
       "      <td id=\"T_8b443_row5_col1\" class=\"data row5 col1\" >1264</td>\n",
       "      <td id=\"T_8b443_row5_col2\" class=\"data row5 col2\" >0</td>\n",
       "      <td id=\"T_8b443_row5_col3\" class=\"data row5 col3\" >0.000000</td>\n",
       "    </tr>\n",
       "    <tr>\n",
       "      <th id=\"T_8b443_level0_row6\" class=\"row_heading level0 row6\" >negemo</th>\n",
       "      <td id=\"T_8b443_row6_col0\" class=\"data row6 col0\" >float64</td>\n",
       "      <td id=\"T_8b443_row6_col1\" class=\"data row6 col1\" >1267</td>\n",
       "      <td id=\"T_8b443_row6_col2\" class=\"data row6 col2\" >0</td>\n",
       "      <td id=\"T_8b443_row6_col3\" class=\"data row6 col3\" >0.000000</td>\n",
       "    </tr>\n",
       "    <tr>\n",
       "      <th id=\"T_8b443_level0_row7\" class=\"row_heading level0 row7\" >anger</th>\n",
       "      <td id=\"T_8b443_row7_col0\" class=\"data row7 col0\" >float64</td>\n",
       "      <td id=\"T_8b443_row7_col1\" class=\"data row7 col1\" >886</td>\n",
       "      <td id=\"T_8b443_row7_col2\" class=\"data row7 col2\" >0</td>\n",
       "      <td id=\"T_8b443_row7_col3\" class=\"data row7 col3\" >0.000000</td>\n",
       "    </tr>\n",
       "    <tr>\n",
       "      <th id=\"T_8b443_level0_row8\" class=\"row_heading level0 row8\" >anx</th>\n",
       "      <td id=\"T_8b443_row8_col0\" class=\"data row8 col0\" >float64</td>\n",
       "      <td id=\"T_8b443_row8_col1\" class=\"data row8 col1\" >596</td>\n",
       "      <td id=\"T_8b443_row8_col2\" class=\"data row8 col2\" >0</td>\n",
       "      <td id=\"T_8b443_row8_col3\" class=\"data row8 col3\" >0.000000</td>\n",
       "    </tr>\n",
       "    <tr>\n",
       "      <th id=\"T_8b443_level0_row9\" class=\"row_heading level0 row9\" >sad</th>\n",
       "      <td id=\"T_8b443_row9_col0\" class=\"data row9 col0\" >float64</td>\n",
       "      <td id=\"T_8b443_row9_col1\" class=\"data row9 col1\" >618</td>\n",
       "      <td id=\"T_8b443_row9_col2\" class=\"data row9 col2\" >0</td>\n",
       "      <td id=\"T_8b443_row9_col3\" class=\"data row9 col3\" >0.000000</td>\n",
       "    </tr>\n",
       "  </tbody>\n",
       "</table>\n"
      ],
      "text/plain": [
       "<pandas.io.formats.style.Styler at 0x3998cb790>"
      ]
     },
     "execution_count": 68,
     "metadata": {},
     "output_type": "execute_result"
    }
   ],
   "source": [
    "dtypes = pd.DataFrame(df_comments.dtypes,columns=[\"Data Type\"])\n",
    "dtypes[\"Unique Values\"]=df_comments.nunique().sort_values(ascending=True)\n",
    "dtypes[\"Null Values\"]=df_comments.isnull().sum()\n",
    "dtypes[\"% null Values\"]=df_comments.isnull().sum()/len(df_submissions)\n",
    "dtypes.sort_values(by=\"Null Values\" , ascending=False).style.background_gradient(cmap='YlOrRd',axis=0)\n",
    "\n",
    "#df_comments has no null values"
   ]
  },
  {
   "cell_type": "code",
   "execution_count": 69,
   "metadata": {},
   "outputs": [
    {
     "data": {
      "image/png": "[encoded data removed]",
      "text/plain": [
       "<Figure size 1000x800 with 2 Axes>"
      ]
     },
     "metadata": {},
     "output_type": "display_data"
    }
   ],
   "source": [
    "#only using numerical values for heatmap \n",
    "\n",
    "df_submissions = df_submissions.select_dtypes(include=['float64', 'int64'])\n",
    "\n",
    "correlation_matrix = df_submissions.corr()\n",
    "\n",
    "plt.figure(figsize=(10, 8))\n",
    "sns.heatmap(correlation_matrix, annot=True, cmap='coolwarm', fmt=\".2f\")\n",
    "plt.title('Correlation Matrix Heatmap')\n",
    "plt.show()\n"
   ]
  },
  {
   "cell_type": "code",
   "execution_count": 32,
   "metadata": {},
   "outputs": [
    {
     "data": {
      "image/png": "[encoded data removed]",
      "text/plain": [
       "<Figure size 1000x800 with 2 Axes>"
      ]
     },
     "metadata": {},
     "output_type": "display_data"
    }
   ],
   "source": [
    "#only using numerical values for heatmap \n",
    "\n",
    "df_comments = df_comments.select_dtypes(include=['float64', 'int64'])\n",
    "\n",
    "correlation_matrix = df_comments.corr()\n",
    "\n",
    "plt.figure(figsize=(10, 8))\n",
    "sns.heatmap(correlation_matrix, annot=True, cmap='coolwarm', fmt=\".2f\")\n",
    "plt.title('Correlation Matrix Heatmap')\n",
    "plt.show()\n"
   ]
  },
  {
   "cell_type": "code",
   "execution_count": 85,
   "metadata": {},
   "outputs": [
    {
     "name": "stdout",
     "output_type": "stream",
     "text": [
      "created_utc, -- Min: 1561436002.0, -- Max: 1659066615.0, -- Unique Values: 79580\n",
      "WC, -- Min: 0.0, -- Max: 69.0, -- Unique Values: 70\n",
      "Tone, -- Min: 0.0, -- Max: 99.0, -- Unique Values: 120\n",
      "posemo, -- Min: 0.0, -- Max: 100.0, -- Unique Values: 198\n",
      "negemo, -- Min: 0.0, -- Max: 100.0, -- Unique Values: 196\n",
      "anger, -- Min: 0.0, -- Max: 100.0, -- Unique Values: 126\n",
      "anx, -- Min: 0.0, -- Max: 100.0, -- Unique Values: 106\n",
      "sad, -- Min: 0.0, -- Max: 100.0, -- Unique Values: 106\n"
     ]
    }
   ],
   "source": [
    "#Checking for outliers, using min, max, and unique values for comments dataframe\n",
    "\n",
    "numerical_df_s = df_submissions.select_dtypes(include=['int', 'float'])\n",
    "\n",
    "# Iterate through each numerical column\n",
    "for column in numerical_df_s.columns:\n",
    "    # Calculate min and max range of unique values\n",
    "    min_val = numerical_df_s[column].min()\n",
    "    max_val = numerical_df_s[column].max()\n",
    "    unique_values = numerical_df_s[column].nunique()\n",
    "    \n",
    "    # Print the results\n",
    "    print(f\"{column}, -- Min: {min_val}, -- Max: {max_val}, -- Unique Values: {unique_values}\")\n"
   ]
  },
  {
   "cell_type": "code",
   "execution_count": 86,
   "metadata": {},
   "outputs": [
    {
     "name": "stdout",
     "output_type": "stream",
     "text": [
      "created_utc, -- Min: 1561435211, -- Max: 1659067065, -- Unique Values: 1005848\n",
      "score, -- Min: -105, -- Max: 217, -- Unique Values: 188\n",
      "WC, -- Min: 0, -- Max: 1935, -- Unique Values: 1049\n",
      "Tone, -- Min: 0.0, -- Max: 99.0, -- Unique Values: 4364\n",
      "posemo, -- Min: 0.0, -- Max: 100.0, -- Unique Values: 1264\n",
      "negemo, -- Min: 0.0, -- Max: 100.0, -- Unique Values: 1267\n",
      "anger, -- Min: 0.0, -- Max: 100.0, -- Unique Values: 886\n",
      "anx, -- Min: 0.0, -- Max: 100.0, -- Unique Values: 596\n",
      "sad, -- Min: 0.0, -- Max: 100.0, -- Unique Values: 618\n"
     ]
    }
   ],
   "source": [
    "#Checking for outliers, using min, max, and unique values for comments dataframe\n",
    "\n",
    "numerical_df_c = df_comments.select_dtypes(include=['int', 'float'])\n",
    "\n",
    "# Iterate through each numerical column\n",
    "for column in numerical_df_c.columns:\n",
    "    # Calculate min and max range of unique values\n",
    "    min_val = numerical_df_c[column].min()\n",
    "    max_val = numerical_df_c[column].max()\n",
    "    unique_values = numerical_df_c[column].nunique()\n",
    "    \n",
    "    # Print the results\n",
    "    print(f\"{column}, -- Min: {min_val}, -- Max: {max_val}, -- Unique Values: {unique_values}\")"
   ]
  },
  {
   "cell_type": "code",
   "execution_count": 87,
   "metadata": {},
   "outputs": [],
   "source": [
    "import datetime\n",
    "import pandas as pd\n",
    "\n",
    "# Define the extract_datetime function\n",
    "def extract_datetime(row):\n",
    "    timestamp = row['created_utc']\n",
    "    dt_object = datetime.datetime.fromtimestamp(timestamp)\n",
    "    return dt_object\n",
    "\n",
    "# Assuming df_submissions and df_comments are your DataFrames\n",
    "# Apply the function to each row in df_submissions and create a new column 'Datetime'\n",
    "df_submissions['Datetime'] = df_submissions.apply(extract_datetime, axis=1)\n",
    "\n",
    "# Apply the function to each row in df_comments and create a new column 'Datetime'\n",
    "df_comments['Datetime'] = df_comments.apply(extract_datetime, axis=1)\n",
    "\n",
    "# Define the bins for the seasons based on days of the year\n",
    "seasons_bins = [0, 80, 172, 264, 355, 366]\n",
    "seasons_labels = ['Winter', 'Spring', 'Summer', 'Fall', 'Winter']\n",
    "\n",
    "# Add the values to the season column for df_submissions\n",
    "df_submissions['season'] = pd.cut(df_submissions['Datetime'].dt.dayofyear, bins=seasons_bins, labels=seasons_labels, ordered=False)\n",
    "\n",
    "# Add the values to the season column for df_comments\n",
    "df_comments['season'] = pd.cut(df_comments['Datetime'].dt.dayofyear, bins=seasons_bins, labels=seasons_labels, ordered=False)\n",
    "\n",
    "# Drop the 'created_utc' column from both DataFrames if needed\n",
    "# df_submissions.drop('created_utc', axis=1, inplace=True)\n",
    "# df_comments.drop('created_utc', axis=1, inplace=True)\n"
   ]
  },
  {
   "cell_type": "code",
   "execution_count": 88,
   "metadata": {},
   "outputs": [],
   "source": [
    "#DateTime to get month name and year \n",
    "df_submissions['Datetime'] = pd.to_datetime(df_submissions['Datetime'])\n",
    "\n",
    "# Extract month name and year into separate columns\n",
    "df_submissions['Month'] = df_submissions['Datetime'].dt.strftime('%B') \n",
    "df_submissions['Year'] = df_submissions['Datetime'].dt.strftime('%Y')  \n",
    "\n",
    "df_comments['Datetime'] = pd.to_datetime(df_comments['Datetime'])\n",
    "\n",
    "df_comments['Month'] = df_comments['Datetime'].dt.strftime('%B') \n",
    "df_comments['Year'] = df_comments['Datetime'].dt.strftime('%Y')  \n",
    "\n",
    "df_submissions = df_submissions.dropna()\n",
    "df_comments = df_comments.dropna()\n"
   ]
  },
  {
   "cell_type": "code",
   "execution_count": 89,
   "metadata": {},
   "outputs": [
    {
     "data": {
      "text/html": [
       "<div>\n",
       "<style scoped>\n",
       "    .dataframe tbody tr th:only-of-type {\n",
       "        vertical-align: middle;\n",
       "    }\n",
       "\n",
       "    .dataframe tbody tr th {\n",
       "        vertical-align: top;\n",
       "    }\n",
       "\n",
       "    .dataframe thead th {\n",
       "        text-align: right;\n",
       "    }\n",
       "</style>\n",
       "<table border=\"1\" class=\"dataframe\">\n",
       "  <thead>\n",
       "    <tr style=\"text-align: right;\">\n",
       "      <th></th>\n",
       "      <th>author</th>\n",
       "      <th>created_utc</th>\n",
       "      <th>score</th>\n",
       "      <th>WC</th>\n",
       "      <th>Tone</th>\n",
       "      <th>posemo</th>\n",
       "      <th>negemo</th>\n",
       "      <th>anger</th>\n",
       "      <th>anx</th>\n",
       "      <th>sad</th>\n",
       "      <th>Datetime</th>\n",
       "      <th>season</th>\n",
       "      <th>Month</th>\n",
       "      <th>Year</th>\n",
       "    </tr>\n",
       "  </thead>\n",
       "  <tbody>\n",
       "    <tr>\n",
       "      <th>0</th>\n",
       "      <td>BoofDontShoot</td>\n",
       "      <td>1659067065</td>\n",
       "      <td>1</td>\n",
       "      <td>5</td>\n",
       "      <td>25.77</td>\n",
       "      <td>0.00</td>\n",
       "      <td>0.00</td>\n",
       "      <td>0.00</td>\n",
       "      <td>0.0</td>\n",
       "      <td>0.00</td>\n",
       "      <td>2022-07-28 23:57:45</td>\n",
       "      <td>Summer</td>\n",
       "      <td>July</td>\n",
       "      <td>2022</td>\n",
       "    </tr>\n",
       "    <tr>\n",
       "      <th>1</th>\n",
       "      <td>Busy_Background_195</td>\n",
       "      <td>1659067044</td>\n",
       "      <td>1</td>\n",
       "      <td>55</td>\n",
       "      <td>1.00</td>\n",
       "      <td>1.82</td>\n",
       "      <td>5.45</td>\n",
       "      <td>3.64</td>\n",
       "      <td>0.0</td>\n",
       "      <td>1.82</td>\n",
       "      <td>2022-07-28 23:57:24</td>\n",
       "      <td>Summer</td>\n",
       "      <td>July</td>\n",
       "      <td>2022</td>\n",
       "    </tr>\n",
       "    <tr>\n",
       "      <th>2</th>\n",
       "      <td>Wolf_Double</td>\n",
       "      <td>1659066949</td>\n",
       "      <td>1</td>\n",
       "      <td>6</td>\n",
       "      <td>99.00</td>\n",
       "      <td>33.33</td>\n",
       "      <td>0.00</td>\n",
       "      <td>0.00</td>\n",
       "      <td>0.0</td>\n",
       "      <td>0.00</td>\n",
       "      <td>2022-07-28 23:55:49</td>\n",
       "      <td>Summer</td>\n",
       "      <td>July</td>\n",
       "      <td>2022</td>\n",
       "    </tr>\n",
       "    <tr>\n",
       "      <th>3</th>\n",
       "      <td>Knowagoraaa</td>\n",
       "      <td>1659066905</td>\n",
       "      <td>1</td>\n",
       "      <td>39</td>\n",
       "      <td>73.64</td>\n",
       "      <td>2.56</td>\n",
       "      <td>0.00</td>\n",
       "      <td>0.00</td>\n",
       "      <td>0.0</td>\n",
       "      <td>0.00</td>\n",
       "      <td>2022-07-28 23:55:05</td>\n",
       "      <td>Summer</td>\n",
       "      <td>July</td>\n",
       "      <td>2022</td>\n",
       "    </tr>\n",
       "    <tr>\n",
       "      <th>4</th>\n",
       "      <td>Busy_Background_195</td>\n",
       "      <td>1659066875</td>\n",
       "      <td>1</td>\n",
       "      <td>75</td>\n",
       "      <td>2.41</td>\n",
       "      <td>2.67</td>\n",
       "      <td>5.33</td>\n",
       "      <td>0.00</td>\n",
       "      <td>0.0</td>\n",
       "      <td>2.67</td>\n",
       "      <td>2022-07-28 23:54:35</td>\n",
       "      <td>Summer</td>\n",
       "      <td>July</td>\n",
       "      <td>2022</td>\n",
       "    </tr>\n",
       "    <tr>\n",
       "      <th>...</th>\n",
       "      <td>...</td>\n",
       "      <td>...</td>\n",
       "      <td>...</td>\n",
       "      <td>...</td>\n",
       "      <td>...</td>\n",
       "      <td>...</td>\n",
       "      <td>...</td>\n",
       "      <td>...</td>\n",
       "      <td>...</td>\n",
       "      <td>...</td>\n",
       "      <td>...</td>\n",
       "      <td>...</td>\n",
       "      <td>...</td>\n",
       "      <td>...</td>\n",
       "    </tr>\n",
       "    <tr>\n",
       "      <th>1014392</th>\n",
       "      <td>Virgowitch</td>\n",
       "      <td>1561435458</td>\n",
       "      <td>2</td>\n",
       "      <td>5</td>\n",
       "      <td>99.00</td>\n",
       "      <td>20.00</td>\n",
       "      <td>0.00</td>\n",
       "      <td>0.00</td>\n",
       "      <td>0.0</td>\n",
       "      <td>0.00</td>\n",
       "      <td>2019-06-25 00:04:18</td>\n",
       "      <td>Summer</td>\n",
       "      <td>June</td>\n",
       "      <td>2019</td>\n",
       "    </tr>\n",
       "    <tr>\n",
       "      <th>1014393</th>\n",
       "      <td>DrewSkii1010</td>\n",
       "      <td>1561435416</td>\n",
       "      <td>1</td>\n",
       "      <td>9</td>\n",
       "      <td>99.00</td>\n",
       "      <td>11.11</td>\n",
       "      <td>0.00</td>\n",
       "      <td>0.00</td>\n",
       "      <td>0.0</td>\n",
       "      <td>0.00</td>\n",
       "      <td>2019-06-25 00:03:36</td>\n",
       "      <td>Summer</td>\n",
       "      <td>June</td>\n",
       "      <td>2019</td>\n",
       "    </tr>\n",
       "    <tr>\n",
       "      <th>1014394</th>\n",
       "      <td>erischilde</td>\n",
       "      <td>1561435383</td>\n",
       "      <td>1</td>\n",
       "      <td>104</td>\n",
       "      <td>43.27</td>\n",
       "      <td>1.92</td>\n",
       "      <td>0.96</td>\n",
       "      <td>0.96</td>\n",
       "      <td>0.0</td>\n",
       "      <td>0.00</td>\n",
       "      <td>2019-06-25 00:03:03</td>\n",
       "      <td>Summer</td>\n",
       "      <td>June</td>\n",
       "      <td>2019</td>\n",
       "    </tr>\n",
       "    <tr>\n",
       "      <th>1014395</th>\n",
       "      <td>dingobaybees</td>\n",
       "      <td>1561435314</td>\n",
       "      <td>3</td>\n",
       "      <td>44</td>\n",
       "      <td>25.77</td>\n",
       "      <td>2.27</td>\n",
       "      <td>2.27</td>\n",
       "      <td>0.00</td>\n",
       "      <td>0.0</td>\n",
       "      <td>0.00</td>\n",
       "      <td>2019-06-25 00:01:54</td>\n",
       "      <td>Summer</td>\n",
       "      <td>June</td>\n",
       "      <td>2019</td>\n",
       "    </tr>\n",
       "    <tr>\n",
       "      <th>1014396</th>\n",
       "      <td>wonderwoman2381</td>\n",
       "      <td>1561435211</td>\n",
       "      <td>2</td>\n",
       "      <td>69</td>\n",
       "      <td>1.00</td>\n",
       "      <td>1.45</td>\n",
       "      <td>5.80</td>\n",
       "      <td>4.35</td>\n",
       "      <td>0.0</td>\n",
       "      <td>0.00</td>\n",
       "      <td>2019-06-25 00:00:11</td>\n",
       "      <td>Summer</td>\n",
       "      <td>June</td>\n",
       "      <td>2019</td>\n",
       "    </tr>\n",
       "  </tbody>\n",
       "</table>\n",
       "<p>1014397 rows × 14 columns</p>\n",
       "</div>"
      ],
      "text/plain": [
       "                      author  created_utc  score   WC   Tone  posemo  negemo  \\\n",
       "0              BoofDontShoot   1659067065      1    5  25.77    0.00    0.00   \n",
       "1        Busy_Background_195   1659067044      1   55   1.00    1.82    5.45   \n",
       "2                Wolf_Double   1659066949      1    6  99.00   33.33    0.00   \n",
       "3                Knowagoraaa   1659066905      1   39  73.64    2.56    0.00   \n",
       "4        Busy_Background_195   1659066875      1   75   2.41    2.67    5.33   \n",
       "...                      ...          ...    ...  ...    ...     ...     ...   \n",
       "1014392           Virgowitch   1561435458      2    5  99.00   20.00    0.00   \n",
       "1014393         DrewSkii1010   1561435416      1    9  99.00   11.11    0.00   \n",
       "1014394           erischilde   1561435383      1  104  43.27    1.92    0.96   \n",
       "1014395         dingobaybees   1561435314      3   44  25.77    2.27    2.27   \n",
       "1014396      wonderwoman2381   1561435211      2   69   1.00    1.45    5.80   \n",
       "\n",
       "         anger  anx   sad            Datetime  season Month  Year  \n",
       "0         0.00  0.0  0.00 2022-07-28 23:57:45  Summer  July  2022  \n",
       "1         3.64  0.0  1.82 2022-07-28 23:57:24  Summer  July  2022  \n",
       "2         0.00  0.0  0.00 2022-07-28 23:55:49  Summer  July  2022  \n",
       "3         0.00  0.0  0.00 2022-07-28 23:55:05  Summer  July  2022  \n",
       "4         0.00  0.0  2.67 2022-07-28 23:54:35  Summer  July  2022  \n",
       "...        ...  ...   ...                 ...     ...   ...   ...  \n",
       "1014392   0.00  0.0  0.00 2019-06-25 00:04:18  Summer  June  2019  \n",
       "1014393   0.00  0.0  0.00 2019-06-25 00:03:36  Summer  June  2019  \n",
       "1014394   0.96  0.0  0.00 2019-06-25 00:03:03  Summer  June  2019  \n",
       "1014395   0.00  0.0  0.00 2019-06-25 00:01:54  Summer  June  2019  \n",
       "1014396   4.35  0.0  0.00 2019-06-25 00:00:11  Summer  June  2019  \n",
       "\n",
       "[1014397 rows x 14 columns]"
      ]
     },
     "execution_count": 89,
     "metadata": {},
     "output_type": "execute_result"
    }
   ],
   "source": [
    "df_comments"
   ]
  },
  {
   "cell_type": "code",
   "execution_count": 90,
   "metadata": {},
   "outputs": [
    {
     "data": {
      "text/html": [
       "<div>\n",
       "<style scoped>\n",
       "    .dataframe tbody tr th:only-of-type {\n",
       "        vertical-align: middle;\n",
       "    }\n",
       "\n",
       "    .dataframe tbody tr th {\n",
       "        vertical-align: top;\n",
       "    }\n",
       "\n",
       "    .dataframe thead th {\n",
       "        text-align: right;\n",
       "    }\n",
       "</style>\n",
       "<table border=\"1\" class=\"dataframe\">\n",
       "  <thead>\n",
       "    <tr style=\"text-align: right;\">\n",
       "      <th></th>\n",
       "      <th>author</th>\n",
       "      <th>title</th>\n",
       "      <th>created_utc</th>\n",
       "      <th>score</th>\n",
       "      <th>WC</th>\n",
       "      <th>Tone</th>\n",
       "      <th>posemo</th>\n",
       "      <th>negemo</th>\n",
       "      <th>anger</th>\n",
       "      <th>anx</th>\n",
       "      <th>sad</th>\n",
       "      <th>Datetime</th>\n",
       "      <th>season</th>\n",
       "      <th>Month</th>\n",
       "      <th>Year</th>\n",
       "    </tr>\n",
       "  </thead>\n",
       "  <tbody>\n",
       "    <tr>\n",
       "      <th>0</th>\n",
       "      <td>Odd-Pizza-1079</td>\n",
       "      <td>How much tylenol is too much? Asking for a fri...</td>\n",
       "      <td>1.659067e+09</td>\n",
       "      <td>1</td>\n",
       "      <td>12.0</td>\n",
       "      <td>25.77</td>\n",
       "      <td>0.00</td>\n",
       "      <td>0.00</td>\n",
       "      <td>0.00</td>\n",
       "      <td>0.00</td>\n",
       "      <td>0.00</td>\n",
       "      <td>2022-07-28 23:50:15</td>\n",
       "      <td>Summer</td>\n",
       "      <td>July</td>\n",
       "      <td>2022</td>\n",
       "    </tr>\n",
       "    <tr>\n",
       "      <th>1</th>\n",
       "      <td>Global_Face_4708</td>\n",
       "      <td>Gabapentin/Lyrica/Clonidine Through Telehealth?</td>\n",
       "      <td>1.659065e+09</td>\n",
       "      <td>1</td>\n",
       "      <td>5.0</td>\n",
       "      <td>25.77</td>\n",
       "      <td>0.00</td>\n",
       "      <td>0.00</td>\n",
       "      <td>0.00</td>\n",
       "      <td>0.00</td>\n",
       "      <td>0.00</td>\n",
       "      <td>2022-07-28 23:22:43</td>\n",
       "      <td>Summer</td>\n",
       "      <td>July</td>\n",
       "      <td>2022</td>\n",
       "    </tr>\n",
       "    <tr>\n",
       "      <th>2</th>\n",
       "      <td>Bluebeamtwinfn</td>\n",
       "      <td>Opiates prolonging finish/enhancing sex</td>\n",
       "      <td>1.659064e+09</td>\n",
       "      <td>1</td>\n",
       "      <td>5.0</td>\n",
       "      <td>25.77</td>\n",
       "      <td>0.00</td>\n",
       "      <td>0.00</td>\n",
       "      <td>0.00</td>\n",
       "      <td>0.00</td>\n",
       "      <td>0.00</td>\n",
       "      <td>2022-07-28 23:06:11</td>\n",
       "      <td>Summer</td>\n",
       "      <td>July</td>\n",
       "      <td>2022</td>\n",
       "    </tr>\n",
       "    <tr>\n",
       "      <th>3</th>\n",
       "      <td>iLoveLuckiii</td>\n",
       "      <td>Boost your oxy high! &amp;amp; Save money! (USE ON...</td>\n",
       "      <td>1.659063e+09</td>\n",
       "      <td>1</td>\n",
       "      <td>13.0</td>\n",
       "      <td>99.00</td>\n",
       "      <td>7.69</td>\n",
       "      <td>0.00</td>\n",
       "      <td>0.00</td>\n",
       "      <td>0.00</td>\n",
       "      <td>0.00</td>\n",
       "      <td>2022-07-28 22:49:43</td>\n",
       "      <td>Summer</td>\n",
       "      <td>July</td>\n",
       "      <td>2022</td>\n",
       "    </tr>\n",
       "    <tr>\n",
       "      <th>4</th>\n",
       "      <td>Downtown_Syrup4635</td>\n",
       "      <td>IOP Detox while working 9-5??</td>\n",
       "      <td>1.659061e+09</td>\n",
       "      <td>1</td>\n",
       "      <td>6.0</td>\n",
       "      <td>25.77</td>\n",
       "      <td>0.00</td>\n",
       "      <td>0.00</td>\n",
       "      <td>0.00</td>\n",
       "      <td>0.00</td>\n",
       "      <td>0.00</td>\n",
       "      <td>2022-07-28 22:21:57</td>\n",
       "      <td>Summer</td>\n",
       "      <td>July</td>\n",
       "      <td>2022</td>\n",
       "    </tr>\n",
       "    <tr>\n",
       "      <th>...</th>\n",
       "      <td>...</td>\n",
       "      <td>...</td>\n",
       "      <td>...</td>\n",
       "      <td>...</td>\n",
       "      <td>...</td>\n",
       "      <td>...</td>\n",
       "      <td>...</td>\n",
       "      <td>...</td>\n",
       "      <td>...</td>\n",
       "      <td>...</td>\n",
       "      <td>...</td>\n",
       "      <td>...</td>\n",
       "      <td>...</td>\n",
       "      <td>...</td>\n",
       "      <td>...</td>\n",
       "    </tr>\n",
       "    <tr>\n",
       "      <th>79671</th>\n",
       "      <td>Kriskross88</td>\n",
       "      <td>I started nodding in front of my friend last n...</td>\n",
       "      <td>1.561437e+09</td>\n",
       "      <td>6</td>\n",
       "      <td>38.0</td>\n",
       "      <td>1.00</td>\n",
       "      <td>0.00</td>\n",
       "      <td>10.53</td>\n",
       "      <td>2.63</td>\n",
       "      <td>2.63</td>\n",
       "      <td>5.26</td>\n",
       "      <td>2019-06-25 00:32:36</td>\n",
       "      <td>Summer</td>\n",
       "      <td>June</td>\n",
       "      <td>2019</td>\n",
       "    </tr>\n",
       "    <tr>\n",
       "      <th>79672</th>\n",
       "      <td>Jupiterjigs1</td>\n",
       "      <td>Best way to use oxy 30s?</td>\n",
       "      <td>1.561437e+09</td>\n",
       "      <td>3</td>\n",
       "      <td>6.0</td>\n",
       "      <td>99.00</td>\n",
       "      <td>16.67</td>\n",
       "      <td>0.00</td>\n",
       "      <td>0.00</td>\n",
       "      <td>0.00</td>\n",
       "      <td>0.00</td>\n",
       "      <td>2019-06-25 00:32:34</td>\n",
       "      <td>Summer</td>\n",
       "      <td>June</td>\n",
       "      <td>2019</td>\n",
       "    </tr>\n",
       "    <tr>\n",
       "      <th>79673</th>\n",
       "      <td>FBIintern</td>\n",
       "      <td>Is it me or not many homosexual use Opiates?</td>\n",
       "      <td>1.561437e+09</td>\n",
       "      <td>0</td>\n",
       "      <td>9.0</td>\n",
       "      <td>25.77</td>\n",
       "      <td>0.00</td>\n",
       "      <td>0.00</td>\n",
       "      <td>0.00</td>\n",
       "      <td>0.00</td>\n",
       "      <td>0.00</td>\n",
       "      <td>2019-06-25 00:23:52</td>\n",
       "      <td>Summer</td>\n",
       "      <td>June</td>\n",
       "      <td>2019</td>\n",
       "    </tr>\n",
       "    <tr>\n",
       "      <th>79674</th>\n",
       "      <td>AutomaticBrick3</td>\n",
       "      <td>Stamp bags review</td>\n",
       "      <td>1.561436e+09</td>\n",
       "      <td>0</td>\n",
       "      <td>3.0</td>\n",
       "      <td>25.77</td>\n",
       "      <td>0.00</td>\n",
       "      <td>0.00</td>\n",
       "      <td>0.00</td>\n",
       "      <td>0.00</td>\n",
       "      <td>0.00</td>\n",
       "      <td>2019-06-25 00:17:35</td>\n",
       "      <td>Summer</td>\n",
       "      <td>June</td>\n",
       "      <td>2019</td>\n",
       "    </tr>\n",
       "    <tr>\n",
       "      <th>79675</th>\n",
       "      <td>Bartard666</td>\n",
       "      <td>How's everyone doing?</td>\n",
       "      <td>1.561436e+09</td>\n",
       "      <td>3</td>\n",
       "      <td>3.0</td>\n",
       "      <td>25.77</td>\n",
       "      <td>0.00</td>\n",
       "      <td>0.00</td>\n",
       "      <td>0.00</td>\n",
       "      <td>0.00</td>\n",
       "      <td>0.00</td>\n",
       "      <td>2019-06-25 00:13:22</td>\n",
       "      <td>Summer</td>\n",
       "      <td>June</td>\n",
       "      <td>2019</td>\n",
       "    </tr>\n",
       "  </tbody>\n",
       "</table>\n",
       "<p>79674 rows × 15 columns</p>\n",
       "</div>"
      ],
      "text/plain": [
       "                   author                                              title  \\\n",
       "0          Odd-Pizza-1079  How much tylenol is too much? Asking for a fri...   \n",
       "1        Global_Face_4708    Gabapentin/Lyrica/Clonidine Through Telehealth?   \n",
       "2          Bluebeamtwinfn            Opiates prolonging finish/enhancing sex   \n",
       "3            iLoveLuckiii  Boost your oxy high! &amp; Save money! (USE ON...   \n",
       "4      Downtown_Syrup4635                      IOP Detox while working 9-5??   \n",
       "...                   ...                                                ...   \n",
       "79671         Kriskross88  I started nodding in front of my friend last n...   \n",
       "79672        Jupiterjigs1                           Best way to use oxy 30s?   \n",
       "79673           FBIintern       Is it me or not many homosexual use Opiates?   \n",
       "79674     AutomaticBrick3                                  Stamp bags review   \n",
       "79675          Bartard666                              How's everyone doing?   \n",
       "\n",
       "        created_utc score    WC   Tone  posemo  negemo  anger   anx   sad  \\\n",
       "0      1.659067e+09     1  12.0  25.77    0.00    0.00   0.00  0.00  0.00   \n",
       "1      1.659065e+09     1   5.0  25.77    0.00    0.00   0.00  0.00  0.00   \n",
       "2      1.659064e+09     1   5.0  25.77    0.00    0.00   0.00  0.00  0.00   \n",
       "3      1.659063e+09     1  13.0  99.00    7.69    0.00   0.00  0.00  0.00   \n",
       "4      1.659061e+09     1   6.0  25.77    0.00    0.00   0.00  0.00  0.00   \n",
       "...             ...   ...   ...    ...     ...     ...    ...   ...   ...   \n",
       "79671  1.561437e+09     6  38.0   1.00    0.00   10.53   2.63  2.63  5.26   \n",
       "79672  1.561437e+09     3   6.0  99.00   16.67    0.00   0.00  0.00  0.00   \n",
       "79673  1.561437e+09     0   9.0  25.77    0.00    0.00   0.00  0.00  0.00   \n",
       "79674  1.561436e+09     0   3.0  25.77    0.00    0.00   0.00  0.00  0.00   \n",
       "79675  1.561436e+09     3   3.0  25.77    0.00    0.00   0.00  0.00  0.00   \n",
       "\n",
       "                 Datetime  season Month  Year  \n",
       "0     2022-07-28 23:50:15  Summer  July  2022  \n",
       "1     2022-07-28 23:22:43  Summer  July  2022  \n",
       "2     2022-07-28 23:06:11  Summer  July  2022  \n",
       "3     2022-07-28 22:49:43  Summer  July  2022  \n",
       "4     2022-07-28 22:21:57  Summer  July  2022  \n",
       "...                   ...     ...   ...   ...  \n",
       "79671 2019-06-25 00:32:36  Summer  June  2019  \n",
       "79672 2019-06-25 00:32:34  Summer  June  2019  \n",
       "79673 2019-06-25 00:23:52  Summer  June  2019  \n",
       "79674 2019-06-25 00:17:35  Summer  June  2019  \n",
       "79675 2019-06-25 00:13:22  Summer  June  2019  \n",
       "\n",
       "[79674 rows x 15 columns]"
      ]
     },
     "execution_count": 90,
     "metadata": {},
     "output_type": "execute_result"
    }
   ],
   "source": [
    "df_submissions"
   ]
  },
  {
   "cell_type": "code",
   "execution_count": 100,
   "metadata": {},
   "outputs": [
    {
     "name": "stderr",
     "output_type": "stream",
     "text": [
      "[nltk_data] Downloading package stopwords to\n",
      "[nltk_data]     /Users/amadouyehara/nltk_data...\n",
      "[nltk_data]   Package stopwords is already up-to-date!\n"
     ]
    },
    {
     "data": {
      "text/plain": [
       "0    much tylenol much asking friend actually\n",
       "1        gabapentinlyricaclonidine telehealth\n",
       "2      opiates prolonging finishenhancing sex\n",
       "3           boost oxy high amp save money use\n",
       "4                        iop detox working 95\n",
       "Name: title, dtype: object"
      ]
     },
     "execution_count": 100,
     "metadata": {},
     "output_type": "execute_result"
    }
   ],
   "source": [
    "#Natural Language Processing for Title columns \n",
    "\n",
    "nltk.download('stopwords')\n",
    "swords = stopwords.words('english')\n",
    "#Removing the word 'not' to avoid consfusion from negative to positive sentiment\n",
    "swords.remove('not')\n",
    "\n",
    "df_submissions['title'] = df_submissions['title'].apply(lambda x: re.sub(r'[^a-zA-Z\\d\\s.]', '', x.lower()))\n",
    "df_submissions['title'] = df_submissions['title'].apply(lambda x: x.replace('.', ' '))\n",
    "df_submissions['title'] = df_submissions['title'].apply(lambda x: ' '.join([t for t in x.split(' ') if (t not in swords) and len(t) > 1]))\n",
    "df_submissions['title'].head()"
   ]
  },
  {
   "cell_type": "code",
   "execution_count": 104,
   "metadata": {},
   "outputs": [
    {
     "name": "stderr",
     "output_type": "stream",
     "text": [
      "huggingface/tokenizers: The current process just got forked, after parallelism has already been used. Disabling parallelism to avoid deadlocks...\n",
      "To disable this warning, you can either:\n",
      "\t- Avoid using `tokenizers` before the fork if possible\n",
      "\t- Explicitly set the environment variable TOKENIZERS_PARALLELISM=(true | false)\n",
      "huggingface/tokenizers: The current process just got forked, after parallelism has already been used. Disabling parallelism to avoid deadlocks...\n",
      "To disable this warning, you can either:\n",
      "\t- Avoid using `tokenizers` before the fork if possible\n",
      "\t- Explicitly set the environment variable TOKENIZERS_PARALLELISM=(true | false)\n",
      "huggingface/tokenizers: The current process just got forked, after parallelism has already been used. Disabling parallelism to avoid deadlocks...\n",
      "To disable this warning, you can either:\n",
      "\t- Avoid using `tokenizers` before the fork if possible\n",
      "\t- Explicitly set the environment variable TOKENIZERS_PARALLELISM=(true | false)\n",
      "huggingface/tokenizers: The current process just got forked, after parallelism has already been used. Disabling parallelism to avoid deadlocks...\n",
      "To disable this warning, you can either:\n",
      "\t- Avoid using `tokenizers` before the fork if possible\n",
      "\t- Explicitly set the environment variable TOKENIZERS_PARALLELISM=(true | false)\n",
      "huggingface/tokenizers: The current process just got forked, after parallelism has already been used. Disabling parallelism to avoid deadlocks...\n",
      "To disable this warning, you can either:\n",
      "\t- Avoid using `tokenizers` before the fork if possible\n",
      "\t- Explicitly set the environment variable TOKENIZERS_PARALLELISM=(true | false)\n"
     ]
    },
    {
     "name": "stdout",
     "output_type": "stream",
     "text": [
      "      Topic  Count                                               Name  \\\n",
      "0        -1  24112                             -1_im_take_opiates_ive   \n",
      "1         0    401                0_addiction_addict_addicted_addicts   \n",
      "2         1    389               1_opioids_opioid_opiods_opioidopiate   \n",
      "3         2    359                               2_40mg_20mg_80mg_5mg   \n",
      "4         3    313                      3_high_anymore_pyramid_folbee   \n",
      "...     ...    ...                                                ...   \n",
      "1403   1402     10             1402_nausea_bloated_decreasing_desired   \n",
      "1404   1403     10  1403_minneapolis_minnesota_lakewooddenver_minn...   \n",
      "1405   1404     10                            1404_5s_a04_2000_street   \n",
      "1406   1405     10           1405_8mg_truefalse_malindrockt_dilaudids   \n",
      "1407   1406     10  1406_hangover_hangoverwithdrawals_hangovers_av...   \n",
      "\n",
      "                                         Representation  \\\n",
      "0     [im, take, opiates, ive, took, dont, ago, like...   \n",
      "1     [addiction, addict, addicted, addicts, functio...   \n",
      "2     [opioids, opioid, opiods, opioidopiate, monolo...   \n",
      "3     [40mg, 20mg, 80mg, 5mg, 10mg, oxy, 30mg, 15mg,...   \n",
      "4     [high, anymore, pyramid, folbee, postrehab, as...   \n",
      "...                                                 ...   \n",
      "1403  [nausea, bloated, decreasing, desired, reduce,...   \n",
      "1404  [minneapolis, minnesota, lakewooddenver, minne...   \n",
      "1405  [5s, a04, 2000, street, isotonitazene, hell, p...   \n",
      "1406  [8mg, truefalse, malindrockt, dilaudids, amd, ...   \n",
      "1407  [hangover, hangoverwithdrawals, hangovers, avo...   \n",
      "\n",
      "                                    Representative_Docs  \n",
      "0     [take 8mg suboxone every day ive fent presses ...  \n",
      "1                     [addiction, addiction, addiction]  \n",
      "2                       [get opioids, opioids, opioids]  \n",
      "3     [40mg oxy much, first time oxy 40mg, take 20mg...  \n",
      "4                                    [high, high, high]  \n",
      "...                                                 ...  \n",
      "1403  [codeine nausea, codeine nausea, reduce codein...  \n",
      "1404  [minneapolis, minneapolis, twin cities minnesota]  \n",
      "1405                           [oxy 5s, oxy 5s, oxy 5s]  \n",
      "1406         [dilaudid 8mg, dilaudid 8mg, dilaudid 8mg]  \n",
      "1407  [hangover tips, withdrawal hangover, hangover ...  \n",
      "\n",
      "[1408 rows x 5 columns]\n"
     ]
    }
   ],
   "source": [
    "docs = df_submissions['title'].tolist()\n",
    "\n",
    "topic_model = BERTopic()\n",
    "topics, probs = topic_model.fit_transform(docs)\n",
    "\n",
    "print(topic_model.get_topic_info())"
   ]
  },
  {
   "cell_type": "code",
   "execution_count": 105,
   "metadata": {},
   "outputs": [
    {
     "name": "stderr",
     "output_type": "stream",
     "text": [
      "huggingface/tokenizers: The current process just got forked, after parallelism has already been used. Disabling parallelism to avoid deadlocks...\n",
      "To disable this warning, you can either:\n",
      "\t- Avoid using `tokenizers` before the fork if possible\n",
      "\t- Explicitly set the environment variable TOKENIZERS_PARALLELISM=(true | false)\n"
     ]
    },
    {
     "data": {
      "application/vnd.plotly.v1+json": {
       "config": {
        "plotlyServerURL": "https://plot.ly"
       },
       "data": [
        {
         "marker": {
          "color": "#D55E00"
         },
         "orientation": "h",
         "type": "bar",
         "x": [
          0.0058234048293448635,
          0.006112437645137647,
          0.006336145964081774,
          0.007045844438354879,
          0.007969609839020503,
          0.007988022893288359,
          0.019361426015908085,
          0.02273187276351124,
          0.027086400347188365,
          0.03231682699276096
         ],
         "xaxis": "x",
         "y": [
          "supporting  ",
          "overcome  ",
          "poly  ",
          "psychological  ",
          "addictions  ",
          "functional  ",
          "addicts  ",
          "addicted  ",
          "addict  ",
          "addiction  "
         ],
         "yaxis": "y"
        },
        {
         "marker": {
          "color": "#0072B2"
         },
         "orientation": "h",
         "type": "bar",
         "x": [
          0.004583504430954304,
          0.0047227843400773325,
          0.0047227843400773325,
          0.005702641545395109,
          0.006259761717990406,
          0.00651229233798033,
          0.0076391740515905065,
          0.01111618662584223,
          0.018649150068167697,
          0.035009237474612466
         ],
         "xaxis": "x2",
         "y": [
          "lesser  ",
          "withdralws  ",
          "epigenetics  ",
          "synthetic  ",
          "opiod  ",
          "monologues  ",
          "opioidopiate  ",
          "opiods  ",
          "opioid  ",
          "opioids  "
         ],
         "yaxis": "y2"
        },
        {
         "marker": {
          "color": "#CC79A7"
         },
         "orientation": "h",
         "type": "bar",
         "x": [
          0.005360666447579127,
          0.005888922507168252,
          0.005988188026940289,
          0.006307358892360782,
          0.0068135682466021665,
          0.0068347055006584756,
          0.00941328593225415,
          0.009473586370913766,
          0.010053999868575567,
          0.01231369651024314
         ],
         "xaxis": "x3",
         "y": [
          "took  ",
          "oxys  ",
          "15mg  ",
          "30mg  ",
          "oxy  ",
          "10mg  ",
          "5mg  ",
          "80mg  ",
          "20mg  ",
          "40mg  "
         ],
         "yaxis": "y3"
        },
        {
         "marker": {
          "color": "#E69F00"
         },
         "orientation": "h",
         "type": "bar",
         "x": [
          0.005981669941392607,
          0.006086290925438947,
          0.006086290925438947,
          0.006875061811414644,
          0.006879368571798942,
          0.0070590731206400395,
          0.0070590731206400395,
          0.0070590731206400395,
          0.009751905805579438,
          0.024331311050372343
         ],
         "xaxis": "x4",
         "y": [
          "get  ",
          "beautifully  ",
          "perfection  ",
          "getting  ",
          "asf  ",
          "postrehab  ",
          "folbee  ",
          "pyramid  ",
          "anymore  ",
          "high  "
         ],
         "yaxis": "y4"
        },
        {
         "marker": {
          "color": "#56B4E9"
         },
         "orientation": "h",
         "type": "bar",
         "x": [
          0.00674024345743846,
          0.006786466165859935,
          0.00734233692805737,
          0.007546604065289597,
          0.008316378246016096,
          0.008432567048696202,
          0.008651229066322633,
          0.009326606021532865,
          0.03639025113277463,
          0.059671781696240614
         ],
         "xaxis": "x5",
         "y": [
          "new  ",
          "ghosted  ",
          "prove  ",
          "dudes  ",
          "gangsta  ",
          "find  ",
          "biz  ",
          "finding  ",
          "plugs  ",
          "plug  "
         ],
         "yaxis": "y5"
        },
        {
         "marker": {
          "color": "#009E73"
         },
         "orientation": "h",
         "type": "bar",
         "x": [
          0.006109347709857275,
          0.006217969658666766,
          0.006244734904842066,
          0.0065828255344874955,
          0.006798038740669963,
          0.007042851357872252,
          0.008076260027392809,
          0.008610924476990918,
          0.011319037618698477,
          0.020340290325845396
         ],
         "xaxis": "x6",
         "y": [
          "article  ",
          "involved  ",
          "genitals  ",
          "hip  ",
          "90s  ",
          "heroins  ",
          "1996  ",
          "detailing  ",
          "base  ",
          "heroin  "
         ],
         "yaxis": "y6"
        },
        {
         "marker": {
          "color": "#F0E442"
         },
         "orientation": "h",
         "type": "bar",
         "x": [
          0.004982569458502938,
          0.004982569458502938,
          0.005315022504387991,
          0.005324388689016331,
          0.006522105424073502,
          0.0069246589389040806,
          0.009359625013340575,
          0.01313669230054992,
          0.03915501077536084,
          0.07049862956621775
         ],
         "xaxis": "x7",
         "y": [
          "drunk  ",
          "kicked  ",
          "soberish  ",
          "journey  ",
          "49  ",
          "months  ",
          "staying  ",
          "living  ",
          "sobriety  ",
          "sober  "
         ],
         "yaxis": "y7"
        },
        {
         "marker": {
          "color": "#D55E00"
         },
         "orientation": "h",
         "type": "bar",
         "x": [
          0.05303671290102037,
          0.057382279646543397,
          0.09076629901298242,
          0.12520601754289146,
          0.1391346322650795,
          0.1575649710008859,
          0.21702670649511613,
          0.22383806694261282,
          0.31643233565651385,
          0.3291731735587407
         ],
         "xaxis": "x8",
         "y": [
          "alcohol  ",
          "sh  ",
          "weve  ",
          "18  ",
          "survey  ",
          "lucky  ",
          "anonymous  ",
          "draw  ",
          "incentive  ",
          "aususa  "
         ],
         "yaxis": "y8"
        },
        {
         "marker": {
          "color": "#0072B2"
         },
         "orientation": "h",
         "type": "bar",
         "x": [
          0.00001,
          0.0005066708763317981,
          0.001051385956575235,
          0.0035851038770298013,
          0.00630418850334827,
          0.006453327403159109,
          0.0076624665332779476,
          0.00882435368618937,
          0.029630122581124223,
          0.0656222054093603
         ],
         "xaxis": "x9",
         "y": [
          "  ",
          "long  ",
          "cant  ",
          "hell  ",
          "couldnt  ",
          "yes  ",
          "late  ",
          "smh  ",
          "helppp  ",
          "help  "
         ],
         "yaxis": "y9"
        }
       ],
       "layout": {
        "annotations": [
         {
          "font": {
           "size": 16
          },
          "showarrow": false,
          "text": "Topic 0",
          "x": 0.0875,
          "xanchor": "center",
          "xref": "paper",
          "y": 1,
          "yanchor": "bottom",
          "yref": "paper"
         },
         {
          "font": {
           "size": 16
          },
          "showarrow": false,
          "text": "Topic 1",
          "x": 0.36250000000000004,
          "xanchor": "center",
          "xref": "paper",
          "y": 1,
          "yanchor": "bottom",
          "yref": "paper"
         },
         {
          "font": {
           "size": 16
          },
          "showarrow": false,
          "text": "Topic 2",
          "x": 0.6375000000000001,
          "xanchor": "center",
          "xref": "paper",
          "y": 1,
          "yanchor": "bottom",
          "yref": "paper"
         },
         {
          "font": {
           "size": 16
          },
          "showarrow": false,
          "text": "Topic 3",
          "x": 0.9125,
          "xanchor": "center",
          "xref": "paper",
          "y": 1,
          "yanchor": "bottom",
          "yref": "paper"
         },
         {
          "font": {
           "size": 16
          },
          "showarrow": false,
          "text": "Topic 4",
          "x": 0.0875,
          "xanchor": "center",
          "xref": "paper",
          "y": 0.6222222222222222,
          "yanchor": "bottom",
          "yref": "paper"
         },
         {
          "font": {
           "size": 16
          },
          "showarrow": false,
          "text": "Topic 5",
          "x": 0.36250000000000004,
          "xanchor": "center",
          "xref": "paper",
          "y": 0.6222222222222222,
          "yanchor": "bottom",
          "yref": "paper"
         },
         {
          "font": {
           "size": 16
          },
          "showarrow": false,
          "text": "Topic 6",
          "x": 0.6375000000000001,
          "xanchor": "center",
          "xref": "paper",
          "y": 0.6222222222222222,
          "yanchor": "bottom",
          "yref": "paper"
         },
         {
          "font": {
           "size": 16
          },
          "showarrow": false,
          "text": "Topic 7",
          "x": 0.9125,
          "xanchor": "center",
          "xref": "paper",
          "y": 0.6222222222222222,
          "yanchor": "bottom",
          "yref": "paper"
         },
         {
          "font": {
           "size": 16
          },
          "showarrow": false,
          "text": "Topic 8",
          "x": 0.0875,
          "xanchor": "center",
          "xref": "paper",
          "y": 0.24444444444444446,
          "yanchor": "bottom",
          "yref": "paper"
         }
        ],
        "height": 1950,
        "hoverlabel": {
         "bgcolor": "white",
         "font": {
          "family": "Rockwell",
          "size": 16
         }
        },
        "showlegend": false,
        "template": {
         "data": {
          "bar": [
           {
            "error_x": {
             "color": "#2a3f5f"
            },
            "error_y": {
             "color": "#2a3f5f"
            },
            "marker": {
             "line": {
              "color": "white",
              "width": 0.5
             },
             "pattern": {
              "fillmode": "overlay",
              "size": 10,
              "solidity": 0.2
             }
            },
            "type": "bar"
           }
          ],
          "barpolar": [
           {
            "marker": {
             "line": {
              "color": "white",
              "width": 0.5
             },
             "pattern": {
              "fillmode": "overlay",
              "size": 10,
              "solidity": 0.2
             }
            },
            "type": "barpolar"
           }
          ],
          "carpet": [
           {
            "aaxis": {
             "endlinecolor": "#2a3f5f",
             "gridcolor": "#C8D4E3",
             "linecolor": "#C8D4E3",
             "minorgridcolor": "#C8D4E3",
             "startlinecolor": "#2a3f5f"
            },
            "baxis": {
             "endlinecolor": "#2a3f5f",
             "gridcolor": "#C8D4E3",
             "linecolor": "#C8D4E3",
             "minorgridcolor": "#C8D4E3",
             "startlinecolor": "#2a3f5f"
            },
            "type": "carpet"
           }
          ],
          "choropleth": [
           {
            "colorbar": {
             "outlinewidth": 0,
             "ticks": ""
            },
            "type": "choropleth"
           }
          ],
          "contour": [
           {
            "colorbar": {
             "outlinewidth": 0,
             "ticks": ""
            },
            "colorscale": [
             [
              0,
              "#0d0887"
             ],
             [
              0.1111111111111111,
              "#46039f"
             ],
             [
              0.2222222222222222,
              "#7201a8"
             ],
             [
              0.3333333333333333,
              "#9c179e"
             ],
             [
              0.4444444444444444,
              "#bd3786"
             ],
             [
              0.5555555555555556,
              "#d8576b"
             ],
             [
              0.6666666666666666,
              "#ed7953"
             ],
             [
              0.7777777777777778,
              "#fb9f3a"
             ],
             [
              0.8888888888888888,
              "#fdca26"
             ],
             [
              1,
              "#f0f921"
             ]
            ],
            "type": "contour"
           }
          ],
          "contourcarpet": [
           {
            "colorbar": {
             "outlinewidth": 0,
             "ticks": ""
            },
            "type": "contourcarpet"
           }
          ],
          "heatmap": [
           {
            "colorbar": {
             "outlinewidth": 0,
             "ticks": ""
            },
            "colorscale": [
             [
              0,
              "#0d0887"
             ],
             [
              0.1111111111111111,
              "#46039f"
             ],
             [
              0.2222222222222222,
              "#7201a8"
             ],
             [
              0.3333333333333333,
              "#9c179e"
             ],
             [
              0.4444444444444444,
              "#bd3786"
             ],
             [
              0.5555555555555556,
              "#d8576b"
             ],
             [
              0.6666666666666666,
              "#ed7953"
             ],
             [
              0.7777777777777778,
              "#fb9f3a"
             ],
             [
              0.8888888888888888,
              "#fdca26"
             ],
             [
              1,
              "#f0f921"
             ]
            ],
            "type": "heatmap"
           }
          ],
          "heatmapgl": [
           {
            "colorbar": {
             "outlinewidth": 0,
             "ticks": ""
            },
            "colorscale": [
             [
              0,
              "#0d0887"
             ],
             [
              0.1111111111111111,
              "#46039f"
             ],
             [
              0.2222222222222222,
              "#7201a8"
             ],
             [
              0.3333333333333333,
              "#9c179e"
             ],
             [
              0.4444444444444444,
              "#bd3786"
             ],
             [
              0.5555555555555556,
              "#d8576b"
             ],
             [
              0.6666666666666666,
              "#ed7953"
             ],
             [
              0.7777777777777778,
              "#fb9f3a"
             ],
             [
              0.8888888888888888,
              "#fdca26"
             ],
             [
              1,
              "#f0f921"
             ]
            ],
            "type": "heatmapgl"
           }
          ],
          "histogram": [
           {
            "marker": {
             "pattern": {
              "fillmode": "overlay",
              "size": 10,
              "solidity": 0.2
             }
            },
            "type": "histogram"
           }
          ],
          "histogram2d": [
           {
            "colorbar": {
             "outlinewidth": 0,
             "ticks": ""
            },
            "colorscale": [
             [
              0,
              "#0d0887"
             ],
             [
              0.1111111111111111,
              "#46039f"
             ],
             [
              0.2222222222222222,
              "#7201a8"
             ],
             [
              0.3333333333333333,
              "#9c179e"
             ],
             [
              0.4444444444444444,
              "#bd3786"
             ],
             [
              0.5555555555555556,
              "#d8576b"
             ],
             [
              0.6666666666666666,
              "#ed7953"
             ],
             [
              0.7777777777777778,
              "#fb9f3a"
             ],
             [
              0.8888888888888888,
              "#fdca26"
             ],
             [
              1,
              "#f0f921"
             ]
            ],
            "type": "histogram2d"
           }
          ],
          "histogram2dcontour": [
           {
            "colorbar": {
             "outlinewidth": 0,
             "ticks": ""
            },
            "colorscale": [
             [
              0,
              "#0d0887"
             ],
             [
              0.1111111111111111,
              "#46039f"
             ],
             [
              0.2222222222222222,
              "#7201a8"
             ],
             [
              0.3333333333333333,
              "#9c179e"
             ],
             [
              0.4444444444444444,
              "#bd3786"
             ],
             [
              0.5555555555555556,
              "#d8576b"
             ],
             [
              0.6666666666666666,
              "#ed7953"
             ],
             [
              0.7777777777777778,
              "#fb9f3a"
             ],
             [
              0.8888888888888888,
              "#fdca26"
             ],
             [
              1,
              "#f0f921"
             ]
            ],
            "type": "histogram2dcontour"
           }
          ],
          "mesh3d": [
           {
            "colorbar": {
             "outlinewidth": 0,
             "ticks": ""
            },
            "type": "mesh3d"
           }
          ],
          "parcoords": [
           {
            "line": {
             "colorbar": {
              "outlinewidth": 0,
              "ticks": ""
             }
            },
            "type": "parcoords"
           }
          ],
          "pie": [
           {
            "automargin": true,
            "type": "pie"
           }
          ],
          "scatter": [
           {
            "fillpattern": {
             "fillmode": "overlay",
             "size": 10,
             "solidity": 0.2
            },
            "type": "scatter"
           }
          ],
          "scatter3d": [
           {
            "line": {
             "colorbar": {
              "outlinewidth": 0,
              "ticks": ""
             }
            },
            "marker": {
             "colorbar": {
              "outlinewidth": 0,
              "ticks": ""
             }
            },
            "type": "scatter3d"
           }
          ],
          "scattercarpet": [
           {
            "marker": {
             "colorbar": {
              "outlinewidth": 0,
              "ticks": ""
             }
            },
            "type": "scattercarpet"
           }
          ],
          "scattergeo": [
           {
            "marker": {
             "colorbar": {
              "outlinewidth": 0,
              "ticks": ""
             }
            },
            "type": "scattergeo"
           }
          ],
          "scattergl": [
           {
            "marker": {
             "colorbar": {
              "outlinewidth": 0,
              "ticks": ""
             }
            },
            "type": "scattergl"
           }
          ],
          "scattermapbox": [
           {
            "marker": {
             "colorbar": {
              "outlinewidth": 0,
              "ticks": ""
             }
            },
            "type": "scattermapbox"
           }
          ],
          "scatterpolar": [
           {
            "marker": {
             "colorbar": {
              "outlinewidth": 0,
              "ticks": ""
             }
            },
            "type": "scatterpolar"
           }
          ],
          "scatterpolargl": [
           {
            "marker": {
             "colorbar": {
              "outlinewidth": 0,
              "ticks": ""
             }
            },
            "type": "scatterpolargl"
           }
          ],
          "scatterternary": [
           {
            "marker": {
             "colorbar": {
              "outlinewidth": 0,
              "ticks": ""
             }
            },
            "type": "scatterternary"
           }
          ],
          "surface": [
           {
            "colorbar": {
             "outlinewidth": 0,
             "ticks": ""
            },
            "colorscale": [
             [
              0,
              "#0d0887"
             ],
             [
              0.1111111111111111,
              "#46039f"
             ],
             [
              0.2222222222222222,
              "#7201a8"
             ],
             [
              0.3333333333333333,
              "#9c179e"
             ],
             [
              0.4444444444444444,
              "#bd3786"
             ],
             [
              0.5555555555555556,
              "#d8576b"
             ],
             [
              0.6666666666666666,
              "#ed7953"
             ],
             [
              0.7777777777777778,
              "#fb9f3a"
             ],
             [
              0.8888888888888888,
              "#fdca26"
             ],
             [
              1,
              "#f0f921"
             ]
            ],
            "type": "surface"
           }
          ],
          "table": [
           {
            "cells": {
             "fill": {
              "color": "#EBF0F8"
             },
             "line": {
              "color": "white"
             }
            },
            "header": {
             "fill": {
              "color": "#C8D4E3"
             },
             "line": {
              "color": "white"
             }
            },
            "type": "table"
           }
          ]
         },
         "layout": {
          "annotationdefaults": {
           "arrowcolor": "#2a3f5f",
           "arrowhead": 0,
           "arrowwidth": 1
          },
          "autotypenumbers": "strict",
          "coloraxis": {
           "colorbar": {
            "outlinewidth": 0,
            "ticks": ""
           }
          },
          "colorscale": {
           "diverging": [
            [
             0,
             "#8e0152"
            ],
            [
             0.1,
             "#c51b7d"
            ],
            [
             0.2,
             "#de77ae"
            ],
            [
             0.3,
             "#f1b6da"
            ],
            [
             0.4,
             "#fde0ef"
            ],
            [
             0.5,
             "#f7f7f7"
            ],
            [
             0.6,
             "#e6f5d0"
            ],
            [
             0.7,
             "#b8e186"
            ],
            [
             0.8,
             "#7fbc41"
            ],
            [
             0.9,
             "#4d9221"
            ],
            [
             1,
             "#276419"
            ]
           ],
           "sequential": [
            [
             0,
             "#0d0887"
            ],
            [
             0.1111111111111111,
             "#46039f"
            ],
            [
             0.2222222222222222,
             "#7201a8"
            ],
            [
             0.3333333333333333,
             "#9c179e"
            ],
            [
             0.4444444444444444,
             "#bd3786"
            ],
            [
             0.5555555555555556,
             "#d8576b"
            ],
            [
             0.6666666666666666,
             "#ed7953"
            ],
            [
             0.7777777777777778,
             "#fb9f3a"
            ],
            [
             0.8888888888888888,
             "#fdca26"
            ],
            [
             1,
             "#f0f921"
            ]
           ],
           "sequentialminus": [
            [
             0,
             "#0d0887"
            ],
            [
             0.1111111111111111,
             "#46039f"
            ],
            [
             0.2222222222222222,
             "#7201a8"
            ],
            [
             0.3333333333333333,
             "#9c179e"
            ],
            [
             0.4444444444444444,
             "#bd3786"
            ],
            [
             0.5555555555555556,
             "#d8576b"
            ],
            [
             0.6666666666666666,
             "#ed7953"
            ],
            [
             0.7777777777777778,
             "#fb9f3a"
            ],
            [
             0.8888888888888888,
             "#fdca26"
            ],
            [
             1,
             "#f0f921"
            ]
           ]
          },
          "colorway": [
           "#636efa",
           "#EF553B",
           "#00cc96",
           "#ab63fa",
           "#FFA15A",
           "#19d3f3",
           "#FF6692",
           "#B6E880",
           "#FF97FF",
           "#FECB52"
          ],
          "font": {
           "color": "#2a3f5f"
          },
          "geo": {
           "bgcolor": "white",
           "lakecolor": "white",
           "landcolor": "white",
           "showlakes": true,
           "showland": true,
           "subunitcolor": "#C8D4E3"
          },
          "hoverlabel": {
           "align": "left"
          },
          "hovermode": "closest",
          "mapbox": {
           "style": "light"
          },
          "paper_bgcolor": "white",
          "plot_bgcolor": "white",
          "polar": {
           "angularaxis": {
            "gridcolor": "#EBF0F8",
            "linecolor": "#EBF0F8",
            "ticks": ""
           },
           "bgcolor": "white",
           "radialaxis": {
            "gridcolor": "#EBF0F8",
            "linecolor": "#EBF0F8",
            "ticks": ""
           }
          },
          "scene": {
           "xaxis": {
            "backgroundcolor": "white",
            "gridcolor": "#DFE8F3",
            "gridwidth": 2,
            "linecolor": "#EBF0F8",
            "showbackground": true,
            "ticks": "",
            "zerolinecolor": "#EBF0F8"
           },
           "yaxis": {
            "backgroundcolor": "white",
            "gridcolor": "#DFE8F3",
            "gridwidth": 2,
            "linecolor": "#EBF0F8",
            "showbackground": true,
            "ticks": "",
            "zerolinecolor": "#EBF0F8"
           },
           "zaxis": {
            "backgroundcolor": "white",
            "gridcolor": "#DFE8F3",
            "gridwidth": 2,
            "linecolor": "#EBF0F8",
            "showbackground": true,
            "ticks": "",
            "zerolinecolor": "#EBF0F8"
           }
          },
          "shapedefaults": {
           "line": {
            "color": "#2a3f5f"
           }
          },
          "ternary": {
           "aaxis": {
            "gridcolor": "#DFE8F3",
            "linecolor": "#A2B1C6",
            "ticks": ""
           },
           "baxis": {
            "gridcolor": "#DFE8F3",
            "linecolor": "#A2B1C6",
            "ticks": ""
           },
           "bgcolor": "white",
           "caxis": {
            "gridcolor": "#DFE8F3",
            "linecolor": "#A2B1C6",
            "ticks": ""
           }
          },
          "title": {
           "x": 0.05
          },
          "xaxis": {
           "automargin": true,
           "gridcolor": "#EBF0F8",
           "linecolor": "#EBF0F8",
           "ticks": "",
           "title": {
            "standoff": 15
           },
           "zerolinecolor": "#EBF0F8",
           "zerolinewidth": 2
          },
          "yaxis": {
           "automargin": true,
           "gridcolor": "#EBF0F8",
           "linecolor": "#EBF0F8",
           "ticks": "",
           "title": {
            "standoff": 15
           },
           "zerolinecolor": "#EBF0F8",
           "zerolinewidth": 2
          }
         }
        },
        "title": {
         "font": {
          "color": "Black",
          "size": 22
         },
         "text": "Topic Word Scores",
         "x": 0.5,
         "xanchor": "center",
         "yanchor": "top"
        },
        "width": 2600,
        "xaxis": {
         "anchor": "y",
         "domain": [
          0,
          0.175
         ],
         "showgrid": true
        },
        "xaxis10": {
         "anchor": "y10",
         "domain": [
          0.275,
          0.45
         ],
         "showgrid": true
        },
        "xaxis11": {
         "anchor": "y11",
         "domain": [
          0.55,
          0.7250000000000001
         ],
         "showgrid": true
        },
        "xaxis12": {
         "anchor": "y12",
         "domain": [
          0.825,
          1
         ],
         "showgrid": true
        },
        "xaxis2": {
         "anchor": "y2",
         "domain": [
          0.275,
          0.45
         ],
         "showgrid": true
        },
        "xaxis3": {
         "anchor": "y3",
         "domain": [
          0.55,
          0.7250000000000001
         ],
         "showgrid": true
        },
        "xaxis4": {
         "anchor": "y4",
         "domain": [
          0.825,
          1
         ],
         "showgrid": true
        },
        "xaxis5": {
         "anchor": "y5",
         "domain": [
          0,
          0.175
         ],
         "showgrid": true
        },
        "xaxis6": {
         "anchor": "y6",
         "domain": [
          0.275,
          0.45
         ],
         "showgrid": true
        },
        "xaxis7": {
         "anchor": "y7",
         "domain": [
          0.55,
          0.7250000000000001
         ],
         "showgrid": true
        },
        "xaxis8": {
         "anchor": "y8",
         "domain": [
          0.825,
          1
         ],
         "showgrid": true
        },
        "xaxis9": {
         "anchor": "y9",
         "domain": [
          0,
          0.175
         ],
         "showgrid": true
        },
        "yaxis": {
         "anchor": "x",
         "domain": [
          0.7555555555555555,
          1
         ],
         "showgrid": true
        },
        "yaxis10": {
         "anchor": "x10",
         "domain": [
          0,
          0.24444444444444446
         ],
         "showgrid": true
        },
        "yaxis11": {
         "anchor": "x11",
         "domain": [
          0,
          0.24444444444444446
         ],
         "showgrid": true
        },
        "yaxis12": {
         "anchor": "x12",
         "domain": [
          0,
          0.24444444444444446
         ],
         "showgrid": true
        },
        "yaxis2": {
         "anchor": "x2",
         "domain": [
          0.7555555555555555,
          1
         ],
         "showgrid": true
        },
        "yaxis3": {
         "anchor": "x3",
         "domain": [
          0.7555555555555555,
          1
         ],
         "showgrid": true
        },
        "yaxis4": {
         "anchor": "x4",
         "domain": [
          0.7555555555555555,
          1
         ],
         "showgrid": true
        },
        "yaxis5": {
         "anchor": "x5",
         "domain": [
          0.37777777777777777,
          0.6222222222222222
         ],
         "showgrid": true
        },
        "yaxis6": {
         "anchor": "x6",
         "domain": [
          0.37777777777777777,
          0.6222222222222222
         ],
         "showgrid": true
        },
        "yaxis7": {
         "anchor": "x7",
         "domain": [
          0.37777777777777777,
          0.6222222222222222
         ],
         "showgrid": true
        },
        "yaxis8": {
         "anchor": "x8",
         "domain": [
          0.37777777777777777,
          0.6222222222222222
         ],
         "showgrid": true
        },
        "yaxis9": {
         "anchor": "x9",
         "domain": [
          0,
          0.24444444444444446
         ],
         "showgrid": true
        }
       }
      }
     },
     "metadata": {},
     "output_type": "display_data"
    }
   ],
   "source": [
    "topic_model.visualize_barchart(top_n_topics=9, n_words=10, width=650, height=650)"
   ]
  },
  {
   "cell_type": "code",
   "execution_count": 106,
   "metadata": {},
   "outputs": [
    {
     "data": {
      "text/html": [
       "<div>\n",
       "<style scoped>\n",
       "    .dataframe tbody tr th:only-of-type {\n",
       "        vertical-align: middle;\n",
       "    }\n",
       "\n",
       "    .dataframe tbody tr th {\n",
       "        vertical-align: top;\n",
       "    }\n",
       "\n",
       "    .dataframe thead th {\n",
       "        text-align: right;\n",
       "    }\n",
       "</style>\n",
       "<table border=\"1\" class=\"dataframe\">\n",
       "  <thead>\n",
       "    <tr style=\"text-align: right;\">\n",
       "      <th></th>\n",
       "      <th>author</th>\n",
       "      <th>title</th>\n",
       "      <th>created_utc</th>\n",
       "      <th>score</th>\n",
       "      <th>WC</th>\n",
       "      <th>Tone</th>\n",
       "      <th>posemo</th>\n",
       "      <th>negemo</th>\n",
       "      <th>anger</th>\n",
       "      <th>anx</th>\n",
       "      <th>sad</th>\n",
       "      <th>Datetime</th>\n",
       "      <th>season</th>\n",
       "      <th>Month</th>\n",
       "      <th>Year</th>\n",
       "      <th>title_polarity</th>\n",
       "    </tr>\n",
       "  </thead>\n",
       "  <tbody>\n",
       "    <tr>\n",
       "      <th>0</th>\n",
       "      <td>Odd-Pizza-1079</td>\n",
       "      <td>much tylenol much asking friend actually</td>\n",
       "      <td>1.659067e+09</td>\n",
       "      <td>1</td>\n",
       "      <td>12.0</td>\n",
       "      <td>25.77</td>\n",
       "      <td>0.00</td>\n",
       "      <td>0.00</td>\n",
       "      <td>0.00</td>\n",
       "      <td>0.00</td>\n",
       "      <td>0.00</td>\n",
       "      <td>2022-07-28 23:50:15</td>\n",
       "      <td>Summer</td>\n",
       "      <td>July</td>\n",
       "      <td>2022</td>\n",
       "      <td>0.13</td>\n",
       "    </tr>\n",
       "    <tr>\n",
       "      <th>1</th>\n",
       "      <td>Global_Face_4708</td>\n",
       "      <td>gabapentinlyricaclonidine telehealth</td>\n",
       "      <td>1.659065e+09</td>\n",
       "      <td>1</td>\n",
       "      <td>5.0</td>\n",
       "      <td>25.77</td>\n",
       "      <td>0.00</td>\n",
       "      <td>0.00</td>\n",
       "      <td>0.00</td>\n",
       "      <td>0.00</td>\n",
       "      <td>0.00</td>\n",
       "      <td>2022-07-28 23:22:43</td>\n",
       "      <td>Summer</td>\n",
       "      <td>July</td>\n",
       "      <td>2022</td>\n",
       "      <td>0.00</td>\n",
       "    </tr>\n",
       "    <tr>\n",
       "      <th>2</th>\n",
       "      <td>Bluebeamtwinfn</td>\n",
       "      <td>opiates prolonging finishenhancing sex</td>\n",
       "      <td>1.659064e+09</td>\n",
       "      <td>1</td>\n",
       "      <td>5.0</td>\n",
       "      <td>25.77</td>\n",
       "      <td>0.00</td>\n",
       "      <td>0.00</td>\n",
       "      <td>0.00</td>\n",
       "      <td>0.00</td>\n",
       "      <td>0.00</td>\n",
       "      <td>2022-07-28 23:06:11</td>\n",
       "      <td>Summer</td>\n",
       "      <td>July</td>\n",
       "      <td>2022</td>\n",
       "      <td>0.00</td>\n",
       "    </tr>\n",
       "    <tr>\n",
       "      <th>3</th>\n",
       "      <td>iLoveLuckiii</td>\n",
       "      <td>boost oxy high amp save money use</td>\n",
       "      <td>1.659063e+09</td>\n",
       "      <td>1</td>\n",
       "      <td>13.0</td>\n",
       "      <td>99.00</td>\n",
       "      <td>7.69</td>\n",
       "      <td>0.00</td>\n",
       "      <td>0.00</td>\n",
       "      <td>0.00</td>\n",
       "      <td>0.00</td>\n",
       "      <td>2022-07-28 22:49:43</td>\n",
       "      <td>Summer</td>\n",
       "      <td>July</td>\n",
       "      <td>2022</td>\n",
       "      <td>0.16</td>\n",
       "    </tr>\n",
       "    <tr>\n",
       "      <th>4</th>\n",
       "      <td>Downtown_Syrup4635</td>\n",
       "      <td>iop detox working 95</td>\n",
       "      <td>1.659061e+09</td>\n",
       "      <td>1</td>\n",
       "      <td>6.0</td>\n",
       "      <td>25.77</td>\n",
       "      <td>0.00</td>\n",
       "      <td>0.00</td>\n",
       "      <td>0.00</td>\n",
       "      <td>0.00</td>\n",
       "      <td>0.00</td>\n",
       "      <td>2022-07-28 22:21:57</td>\n",
       "      <td>Summer</td>\n",
       "      <td>July</td>\n",
       "      <td>2022</td>\n",
       "      <td>0.00</td>\n",
       "    </tr>\n",
       "    <tr>\n",
       "      <th>...</th>\n",
       "      <td>...</td>\n",
       "      <td>...</td>\n",
       "      <td>...</td>\n",
       "      <td>...</td>\n",
       "      <td>...</td>\n",
       "      <td>...</td>\n",
       "      <td>...</td>\n",
       "      <td>...</td>\n",
       "      <td>...</td>\n",
       "      <td>...</td>\n",
       "      <td>...</td>\n",
       "      <td>...</td>\n",
       "      <td>...</td>\n",
       "      <td>...</td>\n",
       "      <td>...</td>\n",
       "      <td>...</td>\n",
       "    </tr>\n",
       "    <tr>\n",
       "      <th>79671</th>\n",
       "      <td>Kriskross88</td>\n",
       "      <td>started nodding front friend last night kept s...</td>\n",
       "      <td>1.561437e+09</td>\n",
       "      <td>6</td>\n",
       "      <td>38.0</td>\n",
       "      <td>1.00</td>\n",
       "      <td>0.00</td>\n",
       "      <td>10.53</td>\n",
       "      <td>2.63</td>\n",
       "      <td>2.63</td>\n",
       "      <td>5.26</td>\n",
       "      <td>2019-06-25 00:32:36</td>\n",
       "      <td>Summer</td>\n",
       "      <td>June</td>\n",
       "      <td>2019</td>\n",
       "      <td>-0.26</td>\n",
       "    </tr>\n",
       "    <tr>\n",
       "      <th>79672</th>\n",
       "      <td>Jupiterjigs1</td>\n",
       "      <td>best way use oxy 30s</td>\n",
       "      <td>1.561437e+09</td>\n",
       "      <td>3</td>\n",
       "      <td>6.0</td>\n",
       "      <td>99.00</td>\n",
       "      <td>16.67</td>\n",
       "      <td>0.00</td>\n",
       "      <td>0.00</td>\n",
       "      <td>0.00</td>\n",
       "      <td>0.00</td>\n",
       "      <td>2019-06-25 00:32:34</td>\n",
       "      <td>Summer</td>\n",
       "      <td>June</td>\n",
       "      <td>2019</td>\n",
       "      <td>1.00</td>\n",
       "    </tr>\n",
       "    <tr>\n",
       "      <th>79673</th>\n",
       "      <td>FBIintern</td>\n",
       "      <td>not many homosexual use opiates</td>\n",
       "      <td>1.561437e+09</td>\n",
       "      <td>0</td>\n",
       "      <td>9.0</td>\n",
       "      <td>25.77</td>\n",
       "      <td>0.00</td>\n",
       "      <td>0.00</td>\n",
       "      <td>0.00</td>\n",
       "      <td>0.00</td>\n",
       "      <td>0.00</td>\n",
       "      <td>2019-06-25 00:23:52</td>\n",
       "      <td>Summer</td>\n",
       "      <td>June</td>\n",
       "      <td>2019</td>\n",
       "      <td>-0.25</td>\n",
       "    </tr>\n",
       "    <tr>\n",
       "      <th>79674</th>\n",
       "      <td>AutomaticBrick3</td>\n",
       "      <td>stamp bags review</td>\n",
       "      <td>1.561436e+09</td>\n",
       "      <td>0</td>\n",
       "      <td>3.0</td>\n",
       "      <td>25.77</td>\n",
       "      <td>0.00</td>\n",
       "      <td>0.00</td>\n",
       "      <td>0.00</td>\n",
       "      <td>0.00</td>\n",
       "      <td>0.00</td>\n",
       "      <td>2019-06-25 00:17:35</td>\n",
       "      <td>Summer</td>\n",
       "      <td>June</td>\n",
       "      <td>2019</td>\n",
       "      <td>0.00</td>\n",
       "    </tr>\n",
       "    <tr>\n",
       "      <th>79675</th>\n",
       "      <td>Bartard666</td>\n",
       "      <td>hows everyone</td>\n",
       "      <td>1.561436e+09</td>\n",
       "      <td>3</td>\n",
       "      <td>3.0</td>\n",
       "      <td>25.77</td>\n",
       "      <td>0.00</td>\n",
       "      <td>0.00</td>\n",
       "      <td>0.00</td>\n",
       "      <td>0.00</td>\n",
       "      <td>0.00</td>\n",
       "      <td>2019-06-25 00:13:22</td>\n",
       "      <td>Summer</td>\n",
       "      <td>June</td>\n",
       "      <td>2019</td>\n",
       "      <td>0.00</td>\n",
       "    </tr>\n",
       "  </tbody>\n",
       "</table>\n",
       "<p>79674 rows × 16 columns</p>\n",
       "</div>"
      ],
      "text/plain": [
       "                   author                                              title  \\\n",
       "0          Odd-Pizza-1079           much tylenol much asking friend actually   \n",
       "1        Global_Face_4708               gabapentinlyricaclonidine telehealth   \n",
       "2          Bluebeamtwinfn             opiates prolonging finishenhancing sex   \n",
       "3            iLoveLuckiii                  boost oxy high amp save money use   \n",
       "4      Downtown_Syrup4635                               iop detox working 95   \n",
       "...                   ...                                                ...   \n",
       "79671         Kriskross88  started nodding front friend last night kept s...   \n",
       "79672        Jupiterjigs1                               best way use oxy 30s   \n",
       "79673           FBIintern                    not many homosexual use opiates   \n",
       "79674     AutomaticBrick3                                  stamp bags review   \n",
       "79675          Bartard666                                      hows everyone   \n",
       "\n",
       "        created_utc score    WC   Tone  posemo  negemo  anger   anx   sad  \\\n",
       "0      1.659067e+09     1  12.0  25.77    0.00    0.00   0.00  0.00  0.00   \n",
       "1      1.659065e+09     1   5.0  25.77    0.00    0.00   0.00  0.00  0.00   \n",
       "2      1.659064e+09     1   5.0  25.77    0.00    0.00   0.00  0.00  0.00   \n",
       "3      1.659063e+09     1  13.0  99.00    7.69    0.00   0.00  0.00  0.00   \n",
       "4      1.659061e+09     1   6.0  25.77    0.00    0.00   0.00  0.00  0.00   \n",
       "...             ...   ...   ...    ...     ...     ...    ...   ...   ...   \n",
       "79671  1.561437e+09     6  38.0   1.00    0.00   10.53   2.63  2.63  5.26   \n",
       "79672  1.561437e+09     3   6.0  99.00   16.67    0.00   0.00  0.00  0.00   \n",
       "79673  1.561437e+09     0   9.0  25.77    0.00    0.00   0.00  0.00  0.00   \n",
       "79674  1.561436e+09     0   3.0  25.77    0.00    0.00   0.00  0.00  0.00   \n",
       "79675  1.561436e+09     3   3.0  25.77    0.00    0.00   0.00  0.00  0.00   \n",
       "\n",
       "                 Datetime  season Month  Year  title_polarity  \n",
       "0     2022-07-28 23:50:15  Summer  July  2022            0.13  \n",
       "1     2022-07-28 23:22:43  Summer  July  2022            0.00  \n",
       "2     2022-07-28 23:06:11  Summer  July  2022            0.00  \n",
       "3     2022-07-28 22:49:43  Summer  July  2022            0.16  \n",
       "4     2022-07-28 22:21:57  Summer  July  2022            0.00  \n",
       "...                   ...     ...   ...   ...             ...  \n",
       "79671 2019-06-25 00:32:36  Summer  June  2019           -0.26  \n",
       "79672 2019-06-25 00:32:34  Summer  June  2019            1.00  \n",
       "79673 2019-06-25 00:23:52  Summer  June  2019           -0.25  \n",
       "79674 2019-06-25 00:17:35  Summer  June  2019            0.00  \n",
       "79675 2019-06-25 00:13:22  Summer  June  2019            0.00  \n",
       "\n",
       "[79674 rows x 16 columns]"
      ]
     },
     "execution_count": 106,
     "metadata": {},
     "output_type": "execute_result"
    }
   ],
   "source": [
    "nlp = spacy.load('en_core_web_sm')\n",
    "nlp.add_pipe('spacytextblob')\n",
    "\n",
    "df_submissions['title_polarity'] = df_submissions['title'].apply(lambda x: round((nlp(x))._.blob.polarity, 2))\n",
    "df_submissions"
   ]
  },
  {
   "cell_type": "code",
   "execution_count": 107,
   "metadata": {},
   "outputs": [
    {
     "name": "stdout",
     "output_type": "stream",
     "text": [
      "Median Score: 1.0\n",
      "Accuracy: 0.9196109193598996\n"
     ]
    }
   ],
   "source": [
    "#Main Task #1: Random Forest Calssifier to predict scores based off of positive and negative emotion\n",
    "\n",
    "#Submissions\n",
    "\n",
    "# Convert 'score' column to numeric, setting errors='coerce' to convert non-numeric values to NaN\n",
    "# Then drop rows with NaN in 'score'\n",
    "df_submissions['score'] = pd.to_numeric(df_submissions['score'], errors='coerce')\n",
    "df_submissions.dropna(subset=['score'], inplace=True)\n",
    "\n",
    "#Scores above the median as 'higher'\n",
    "median_score = df_submissions['score'].median()\n",
    "df_submissions['higher_score'] = (df_submissions['score'] > median_score).astype(int)\n",
    "print('Median Score:', median_score)\n",
    "\n",
    "\n",
    "# Splitting the data\n",
    "X = df_submissions[['posemo', 'negemo','title_polarity','anger','anx','sad']]\n",
    "y = df_submissions['higher_score']\n",
    "X_train, X_test, y_train, y_test = train_test_split(X, y, test_size=0.2, random_state=42)\n",
    "\n",
    "\n",
    "clf = RandomForestClassifier(random_state=42)\n",
    "clf.fit(X_train, y_train)\n",
    "\n",
    "y_pred = clf.predict(X_test)\n",
    "\n",
    "#Accruacy Score \n",
    "accuracy = accuracy_score(y_test, y_pred)\n",
    "print('Accuracy:', accuracy)"
   ]
  },
  {
   "cell_type": "code",
   "execution_count": 108,
   "metadata": {},
   "outputs": [
    {
     "name": "stdout",
     "output_type": "stream",
     "text": [
      "Feature Importances:\n",
      "posemo: 0.1881\n",
      "negemo: 0.1710\n",
      "title_polarity: 0.4782\n",
      "anger: 0.0692\n",
      "anx: 0.0405\n",
      "sad: 0.0530\n"
     ]
    }
   ],
   "source": [
    "#Feature Importance\n",
    "features = ['posemo', 'negemo','title_polarity','anger','anx','sad']\n",
    "feature_importances = clf.feature_importances_\n",
    "\n",
    "# Mapping feature importances\n",
    "feature_importance_dict = dict(zip(features, feature_importances))\n",
    "\n",
    "print('Feature Importances:')\n",
    "for feature, importance in feature_importance_dict.items():\n",
    "    print(f'{feature}: {importance:.4f}')"
   ]
  },
  {
   "cell_type": "code",
   "execution_count": 109,
   "metadata": {},
   "outputs": [
    {
     "name": "stdout",
     "output_type": "stream",
     "text": [
      "Median Score: 1.0\n",
      "Accuracy: 0.8219045741324921\n"
     ]
    }
   ],
   "source": [
    "#Main Task #1: Random Forest Calssifier to predict scores based off of positive and negative emotion\n",
    "\n",
    "#Comments\n",
    "\n",
    "# Convert 'score' column to numeric, setting errors='coerce' to convert non-numeric values to null\n",
    "# Then drop rows with NaN in 'score'\n",
    "df_comments['score'] = pd.to_numeric(df_comments['score'], errors='coerce')\n",
    "df_comments.dropna(subset=['score'], inplace=True)\n",
    "\n",
    "#Scores above the median as 'higher'\n",
    "median_score = df_comments['score'].median()\n",
    "df_comments['higher_score'] = (df_comments['score'] > median_score).astype(int)\n",
    "print('Median Score:', median_score)\n",
    "\n",
    "\n",
    "# Splitting the data\n",
    "X = df_comments[['posemo', 'negemo','anger','anx','sad']]\n",
    "y = df_comments['higher_score']\n",
    "X_train, X_test, y_train, y_test = train_test_split(X, y, test_size=0.2, random_state=42)\n",
    "\n",
    "\n",
    "clf = RandomForestClassifier(random_state=42)\n",
    "clf.fit(X_train, y_train)\n",
    "\n",
    "y_pred = clf.predict(X_test)\n",
    "\n",
    "#Accruacy Score \n",
    "accuracy = accuracy_score(y_test, y_pred)\n",
    "print('Accuracy:', accuracy)"
   ]
  },
  {
   "cell_type": "code",
   "execution_count": 110,
   "metadata": {},
   "outputs": [
    {
     "name": "stdout",
     "output_type": "stream",
     "text": [
      "Feature Importances:\n",
      "posemo: 0.3102\n",
      "negemo: 0.2944\n",
      "anger: 0.1541\n",
      "anx: 0.1181\n",
      "sad: 0.1233\n"
     ]
    }
   ],
   "source": [
    "#Feature Importance\n",
    "features = ['posemo', 'negemo','anger','anx','sad']\n",
    "feature_importances = clf.feature_importances_\n",
    "\n",
    "# Mapping feature importances\n",
    "feature_importance_dict = dict(zip(features, feature_importances))\n",
    "\n",
    "print('Feature Importances:')\n",
    "for feature, importance in feature_importance_dict.items():\n",
    "    print(f'{feature}: {importance:.4f}')"
   ]
  },
  {
   "cell_type": "code",
   "execution_count": 25,
   "metadata": {},
   "outputs": [],
   "source": [
    "#df_submissions.to_csv('df_submissions.csv', index=False)"
   ]
  },
  {
   "cell_type": "code",
   "execution_count": null,
   "metadata": {},
   "outputs": [],
   "source": []
  },
  {
   "cell_type": "code",
   "execution_count": null,
   "metadata": {},
   "outputs": [],
   "source": []
  },
  {
   "cell_type": "code",
   "execution_count": null,
   "metadata": {},
   "outputs": [],
   "source": []
  },
  {
   "cell_type": "code",
   "execution_count": null,
   "metadata": {},
   "outputs": [],
   "source": []
  },
  {
   "cell_type": "code",
   "execution_count": null,
   "metadata": {},
   "outputs": [],
   "source": []
  },
  {
   "cell_type": "code",
   "execution_count": null,
   "metadata": {},
   "outputs": [],
   "source": []
  },
  {
   "cell_type": "code",
   "execution_count": null,
   "metadata": {},
   "outputs": [],
   "source": []
  },
  {
   "cell_type": "code",
   "execution_count": 26,
   "metadata": {},
   "outputs": [],
   "source": [
    "#Ignore "
   ]
  },
  {
   "cell_type": "code",
   "execution_count": 32,
   "metadata": {},
   "outputs": [
    {
     "data": {
      "text/html": [
       "<div>\n",
       "<style scoped>\n",
       "    .dataframe tbody tr th:only-of-type {\n",
       "        vertical-align: middle;\n",
       "    }\n",
       "\n",
       "    .dataframe tbody tr th {\n",
       "        vertical-align: top;\n",
       "    }\n",
       "\n",
       "    .dataframe thead th {\n",
       "        text-align: right;\n",
       "    }\n",
       "</style>\n",
       "<table border=\"1\" class=\"dataframe\">\n",
       "  <thead>\n",
       "    <tr style=\"text-align: right;\">\n",
       "      <th></th>\n",
       "      <th>score</th>\n",
       "      <th>posemo</th>\n",
       "      <th>negemo</th>\n",
       "      <th>title_polarity</th>\n",
       "      <th>season_Fall</th>\n",
       "      <th>season_Spring</th>\n",
       "      <th>season_Summer</th>\n",
       "      <th>season_Winter</th>\n",
       "    </tr>\n",
       "  </thead>\n",
       "  <tbody>\n",
       "    <tr>\n",
       "      <th>0</th>\n",
       "      <td>1.0</td>\n",
       "      <td>0.00</td>\n",
       "      <td>0.0</td>\n",
       "      <td>0.13</td>\n",
       "      <td>0.0</td>\n",
       "      <td>0.0</td>\n",
       "      <td>1.0</td>\n",
       "      <td>0.0</td>\n",
       "    </tr>\n",
       "    <tr>\n",
       "      <th>1</th>\n",
       "      <td>1.0</td>\n",
       "      <td>0.00</td>\n",
       "      <td>0.0</td>\n",
       "      <td>0.00</td>\n",
       "      <td>0.0</td>\n",
       "      <td>0.0</td>\n",
       "      <td>1.0</td>\n",
       "      <td>0.0</td>\n",
       "    </tr>\n",
       "    <tr>\n",
       "      <th>2</th>\n",
       "      <td>1.0</td>\n",
       "      <td>0.00</td>\n",
       "      <td>0.0</td>\n",
       "      <td>0.00</td>\n",
       "      <td>0.0</td>\n",
       "      <td>0.0</td>\n",
       "      <td>1.0</td>\n",
       "      <td>0.0</td>\n",
       "    </tr>\n",
       "    <tr>\n",
       "      <th>3</th>\n",
       "      <td>1.0</td>\n",
       "      <td>7.69</td>\n",
       "      <td>0.0</td>\n",
       "      <td>0.16</td>\n",
       "      <td>0.0</td>\n",
       "      <td>0.0</td>\n",
       "      <td>1.0</td>\n",
       "      <td>0.0</td>\n",
       "    </tr>\n",
       "    <tr>\n",
       "      <th>4</th>\n",
       "      <td>1.0</td>\n",
       "      <td>0.00</td>\n",
       "      <td>0.0</td>\n",
       "      <td>0.00</td>\n",
       "      <td>0.0</td>\n",
       "      <td>0.0</td>\n",
       "      <td>1.0</td>\n",
       "      <td>0.0</td>\n",
       "    </tr>\n",
       "  </tbody>\n",
       "</table>\n",
       "</div>"
      ],
      "text/plain": [
       "   score  posemo  negemo  title_polarity  season_Fall  season_Spring  \\\n",
       "0    1.0    0.00     0.0            0.13          0.0            0.0   \n",
       "1    1.0    0.00     0.0            0.00          0.0            0.0   \n",
       "2    1.0    0.00     0.0            0.00          0.0            0.0   \n",
       "3    1.0    7.69     0.0            0.16          0.0            0.0   \n",
       "4    1.0    0.00     0.0            0.00          0.0            0.0   \n",
       "\n",
       "   season_Summer  season_Winter  \n",
       "0            1.0            0.0  \n",
       "1            1.0            0.0  \n",
       "2            1.0            0.0  \n",
       "3            1.0            0.0  \n",
       "4            1.0            0.0  "
      ]
     },
     "execution_count": 32,
     "metadata": {},
     "output_type": "execute_result"
    }
   ],
   "source": [
    "\n",
    "# Normalizing the numeric columns\n",
    "scaler = MinMaxScaler()\n",
    "df_submissions[['score_normalized', 'posemo_normalized', 'negemo_normalized', 'title_polarity_normalized']] = scaler.fit_transform(df_submissions[['score', 'posemo', 'negemo', 'title_polarity']])\n",
    "\n",
    "# Encoding the season column\n",
    "encoder = OneHotEncoder()\n",
    "season_encoded = encoder.fit_transform(df_submissions[['season']]).toarray()\n",
    "season_encoded_df = pd.DataFrame(season_encoded, columns=encoder.get_feature_names_out(['season']))\n",
    "\n",
    "# Combining the normalized and encoded features\n",
    "features_df_sub = pd.concat([df_submissions[['score', 'posemo', 'negemo', 'title_polarity']], season_encoded_df], axis=1)\n",
    "features_df_sub.head()"
   ]
  },
  {
   "cell_type": "code",
   "execution_count": 37,
   "metadata": {},
   "outputs": [],
   "source": [
    "features_df_sub = features_df_sub.dropna()"
   ]
  },
  {
   "cell_type": "code",
   "execution_count": 35,
   "metadata": {},
   "outputs": [],
   "source": [
    "df_submissions = df_submissions.dropna()"
   ]
  },
  {
   "cell_type": "code",
   "execution_count": 39,
   "metadata": {},
   "outputs": [
    {
     "data": {
      "text/html": [
       "<div>\n",
       "<style scoped>\n",
       "    .dataframe tbody tr th:only-of-type {\n",
       "        vertical-align: middle;\n",
       "    }\n",
       "\n",
       "    .dataframe tbody tr th {\n",
       "        vertical-align: top;\n",
       "    }\n",
       "\n",
       "    .dataframe thead th {\n",
       "        text-align: right;\n",
       "    }\n",
       "</style>\n",
       "<table border=\"1\" class=\"dataframe\">\n",
       "  <thead>\n",
       "    <tr style=\"text-align: right;\">\n",
       "      <th></th>\n",
       "      <th>author</th>\n",
       "      <th>title</th>\n",
       "      <th>Datetime</th>\n",
       "      <th>season</th>\n",
       "      <th>score</th>\n",
       "      <th>WC</th>\n",
       "      <th>Tone</th>\n",
       "      <th>posemo</th>\n",
       "      <th>negemo</th>\n",
       "      <th>title_polarity</th>\n",
       "      <th>higher_score</th>\n",
       "      <th>score_normalized</th>\n",
       "      <th>posemo_normalized</th>\n",
       "      <th>negemo_normalized</th>\n",
       "      <th>title_polarity_normalized</th>\n",
       "    </tr>\n",
       "  </thead>\n",
       "  <tbody>\n",
       "    <tr>\n",
       "      <th>0</th>\n",
       "      <td>Odd-Pizza-1079</td>\n",
       "      <td>much tylenol much asking friend actually</td>\n",
       "      <td>2022-07-28 23:50:15</td>\n",
       "      <td>Summer</td>\n",
       "      <td>1</td>\n",
       "      <td>12.0</td>\n",
       "      <td>25.77</td>\n",
       "      <td>0.00</td>\n",
       "      <td>0.0</td>\n",
       "      <td>0.13</td>\n",
       "      <td>0</td>\n",
       "      <td>0.001953</td>\n",
       "      <td>0.0000</td>\n",
       "      <td>0.0</td>\n",
       "      <td>0.565</td>\n",
       "    </tr>\n",
       "    <tr>\n",
       "      <th>1</th>\n",
       "      <td>Global_Face_4708</td>\n",
       "      <td>gabapentinlyricaclonidine telehealth</td>\n",
       "      <td>2022-07-28 23:22:43</td>\n",
       "      <td>Summer</td>\n",
       "      <td>1</td>\n",
       "      <td>5.0</td>\n",
       "      <td>25.77</td>\n",
       "      <td>0.00</td>\n",
       "      <td>0.0</td>\n",
       "      <td>0.00</td>\n",
       "      <td>0</td>\n",
       "      <td>0.001953</td>\n",
       "      <td>0.0000</td>\n",
       "      <td>0.0</td>\n",
       "      <td>0.500</td>\n",
       "    </tr>\n",
       "    <tr>\n",
       "      <th>2</th>\n",
       "      <td>Bluebeamtwinfn</td>\n",
       "      <td>opiates prolonging finishenhancing sex</td>\n",
       "      <td>2022-07-28 23:06:11</td>\n",
       "      <td>Summer</td>\n",
       "      <td>1</td>\n",
       "      <td>5.0</td>\n",
       "      <td>25.77</td>\n",
       "      <td>0.00</td>\n",
       "      <td>0.0</td>\n",
       "      <td>0.00</td>\n",
       "      <td>0</td>\n",
       "      <td>0.001953</td>\n",
       "      <td>0.0000</td>\n",
       "      <td>0.0</td>\n",
       "      <td>0.500</td>\n",
       "    </tr>\n",
       "    <tr>\n",
       "      <th>3</th>\n",
       "      <td>iLoveLuckiii</td>\n",
       "      <td>boost oxy high amp save money use</td>\n",
       "      <td>2022-07-28 22:49:43</td>\n",
       "      <td>Summer</td>\n",
       "      <td>1</td>\n",
       "      <td>13.0</td>\n",
       "      <td>99.00</td>\n",
       "      <td>7.69</td>\n",
       "      <td>0.0</td>\n",
       "      <td>0.16</td>\n",
       "      <td>0</td>\n",
       "      <td>0.001953</td>\n",
       "      <td>0.0769</td>\n",
       "      <td>0.0</td>\n",
       "      <td>0.580</td>\n",
       "    </tr>\n",
       "    <tr>\n",
       "      <th>4</th>\n",
       "      <td>Downtown_Syrup4635</td>\n",
       "      <td>iop detox working 95</td>\n",
       "      <td>2022-07-28 22:21:57</td>\n",
       "      <td>Summer</td>\n",
       "      <td>1</td>\n",
       "      <td>6.0</td>\n",
       "      <td>25.77</td>\n",
       "      <td>0.00</td>\n",
       "      <td>0.0</td>\n",
       "      <td>0.00</td>\n",
       "      <td>0</td>\n",
       "      <td>0.001953</td>\n",
       "      <td>0.0000</td>\n",
       "      <td>0.0</td>\n",
       "      <td>0.500</td>\n",
       "    </tr>\n",
       "  </tbody>\n",
       "</table>\n",
       "</div>"
      ],
      "text/plain": [
       "               author                                     title  \\\n",
       "0      Odd-Pizza-1079  much tylenol much asking friend actually   \n",
       "1    Global_Face_4708      gabapentinlyricaclonidine telehealth   \n",
       "2      Bluebeamtwinfn    opiates prolonging finishenhancing sex   \n",
       "3        iLoveLuckiii         boost oxy high amp save money use   \n",
       "4  Downtown_Syrup4635                      iop detox working 95   \n",
       "\n",
       "             Datetime  season  score    WC   Tone  posemo  negemo  \\\n",
       "0 2022-07-28 23:50:15  Summer      1  12.0  25.77    0.00     0.0   \n",
       "1 2022-07-28 23:22:43  Summer      1   5.0  25.77    0.00     0.0   \n",
       "2 2022-07-28 23:06:11  Summer      1   5.0  25.77    0.00     0.0   \n",
       "3 2022-07-28 22:49:43  Summer      1  13.0  99.00    7.69     0.0   \n",
       "4 2022-07-28 22:21:57  Summer      1   6.0  25.77    0.00     0.0   \n",
       "\n",
       "   title_polarity  higher_score  score_normalized  posemo_normalized  \\\n",
       "0            0.13             0          0.001953             0.0000   \n",
       "1            0.00             0          0.001953             0.0000   \n",
       "2            0.00             0          0.001953             0.0000   \n",
       "3            0.16             0          0.001953             0.0769   \n",
       "4            0.00             0          0.001953             0.0000   \n",
       "\n",
       "   negemo_normalized  title_polarity_normalized  \n",
       "0                0.0                      0.565  \n",
       "1                0.0                      0.500  \n",
       "2                0.0                      0.500  \n",
       "3                0.0                      0.580  \n",
       "4                0.0                      0.500  "
      ]
     },
     "execution_count": 39,
     "metadata": {},
     "output_type": "execute_result"
    }
   ],
   "source": [
    "df_submissions.head()"
   ]
  },
  {
   "cell_type": "code",
   "execution_count": null,
   "metadata": {},
   "outputs": [],
   "source": []
  },
  {
   "cell_type": "code",
   "execution_count": null,
   "metadata": {},
   "outputs": [],
   "source": []
  },
  {
   "cell_type": "code",
   "execution_count": null,
   "metadata": {},
   "outputs": [],
   "source": []
  },
  {
   "cell_type": "code",
   "execution_count": 30,
   "metadata": {},
   "outputs": [
    {
     "data": {
      "text/plain": [
       "\"\\nfrom sklearn.cluster import KMeans\\nimport matplotlib.pyplot as plt\\n\\n# Applying K-Means Clustering\\nkmeans = KMeans(n_clusters=4, random_state=0)\\nclusters = kmeans.fit_predict(features_df_sub)\\n\\n# Adding cluster labels to the dataframe\\ndf_submissions['Cluster'] = clusters\\n\\n\\n# Plotting the clusters\\nplt.figure(figsize=(10, 6), facecolor='white')\\nplt.scatter(features_df_sub['Datetime'], df_submissions['score'], c=features_df_sub['Cluster'], cmap='viridis', alpha=0.5)\\nplt.title('Cluster Distribution Over Time')\\nplt.xlabel('Date')\\nplt.ylabel('Score')\\nplt.colorbar(label='Cluster')\\nplt.show()\\nprint('Clustering complete. Clusters are visualized based on the score over time.')\\n\""
      ]
     },
     "execution_count": 30,
     "metadata": {},
     "output_type": "execute_result"
    }
   ],
   "source": [
    "'''\n",
    "from sklearn.cluster import KMeans\n",
    "import matplotlib.pyplot as plt\n",
    "\n",
    "# Applying K-Means Clustering\n",
    "kmeans = KMeans(n_clusters=4, random_state=0)\n",
    "clusters = kmeans.fit_predict(features_df_sub)\n",
    "\n",
    "# Adding cluster labels to the dataframe\n",
    "df_submissions['Cluster'] = clusters\n",
    "\n",
    "\n",
    "# Plotting the clusters\n",
    "plt.figure(figsize=(10, 6), facecolor='white')\n",
    "plt.scatter(features_df_sub['Datetime'], df_submissions['score'], c=features_df_sub['Cluster'], cmap='viridis', alpha=0.5)\n",
    "plt.title('Cluster Distribution Over Time')\n",
    "plt.xlabel('Date')\n",
    "plt.ylabel('Score')\n",
    "plt.colorbar(label='Cluster')\n",
    "plt.show()\n",
    "print('Clustering complete. Clusters are visualized based on the score over time.')\n",
    "'''\n"
   ]
  },
  {
   "cell_type": "code",
   "execution_count": 31,
   "metadata": {},
   "outputs": [
    {
     "ename": "KeyError",
     "evalue": "'Cluster'",
     "output_type": "error",
     "traceback": [
      "\u001b[0;31m---------------------------------------------------------------------------\u001b[0m",
      "\u001b[0;31mKeyError\u001b[0m                                  Traceback (most recent call last)",
      "File \u001b[0;32m~/anaconda3/lib/python3.11/site-packages/pandas/core/indexes/base.py:3653\u001b[0m, in \u001b[0;36mIndex.get_loc\u001b[0;34m(self, key)\u001b[0m\n\u001b[1;32m   3652\u001b[0m \u001b[38;5;28;01mtry\u001b[39;00m:\n\u001b[0;32m-> 3653\u001b[0m     \u001b[38;5;28;01mreturn\u001b[39;00m \u001b[38;5;28mself\u001b[39m\u001b[38;5;241m.\u001b[39m_engine\u001b[38;5;241m.\u001b[39mget_loc(casted_key)\n\u001b[1;32m   3654\u001b[0m \u001b[38;5;28;01mexcept\u001b[39;00m \u001b[38;5;167;01mKeyError\u001b[39;00m \u001b[38;5;28;01mas\u001b[39;00m err:\n",
      "File \u001b[0;32m~/anaconda3/lib/python3.11/site-packages/pandas/_libs/index.pyx:147\u001b[0m, in \u001b[0;36mpandas._libs.index.IndexEngine.get_loc\u001b[0;34m()\u001b[0m\n",
      "File \u001b[0;32m~/anaconda3/lib/python3.11/site-packages/pandas/_libs/index.pyx:176\u001b[0m, in \u001b[0;36mpandas._libs.index.IndexEngine.get_loc\u001b[0;34m()\u001b[0m\n",
      "File \u001b[0;32mpandas/_libs/hashtable_class_helper.pxi:7080\u001b[0m, in \u001b[0;36mpandas._libs.hashtable.PyObjectHashTable.get_item\u001b[0;34m()\u001b[0m\n",
      "File \u001b[0;32mpandas/_libs/hashtable_class_helper.pxi:7088\u001b[0m, in \u001b[0;36mpandas._libs.hashtable.PyObjectHashTable.get_item\u001b[0;34m()\u001b[0m\n",
      "\u001b[0;31mKeyError\u001b[0m: 'Cluster'",
      "\nThe above exception was the direct cause of the following exception:\n",
      "\u001b[0;31mKeyError\u001b[0m                                  Traceback (most recent call last)",
      "Cell \u001b[0;32mIn[31], line 6\u001b[0m\n\u001b[1;32m      4\u001b[0m season_color_values \u001b[38;5;241m=\u001b[39m df_submissions[\u001b[38;5;124m'\u001b[39m\u001b[38;5;124mseason\u001b[39m\u001b[38;5;124m'\u001b[39m]\u001b[38;5;241m.\u001b[39mmap(season_colors)\n\u001b[1;32m      5\u001b[0m plt\u001b[38;5;241m.\u001b[39mfigure(figsize\u001b[38;5;241m=\u001b[39m(\u001b[38;5;241m10\u001b[39m, \u001b[38;5;241m6\u001b[39m), facecolor\u001b[38;5;241m=\u001b[39m\u001b[38;5;124m'\u001b[39m\u001b[38;5;124mwhite\u001b[39m\u001b[38;5;124m'\u001b[39m)\n\u001b[0;32m----> 6\u001b[0m plt\u001b[38;5;241m.\u001b[39mscatter(df_submissions[\u001b[38;5;124m'\u001b[39m\u001b[38;5;124mposemo\u001b[39m\u001b[38;5;124m'\u001b[39m], df_submissions[\u001b[38;5;124m'\u001b[39m\u001b[38;5;124mnegemo\u001b[39m\u001b[38;5;124m'\u001b[39m], c\u001b[38;5;241m=\u001b[39mdf_submissions[\u001b[38;5;124m'\u001b[39m\u001b[38;5;124mCluster\u001b[39m\u001b[38;5;124m'\u001b[39m], cmap\u001b[38;5;241m=\u001b[39m\u001b[38;5;124m'\u001b[39m\u001b[38;5;124mviridis\u001b[39m\u001b[38;5;124m'\u001b[39m, alpha\u001b[38;5;241m=\u001b[39m\u001b[38;5;241m0.5\u001b[39m)\n\u001b[1;32m      7\u001b[0m plt\u001b[38;5;241m.\u001b[39mtitle(\u001b[38;5;124m'\u001b[39m\u001b[38;5;124mClusters of Posts Based on Normalized Emotional Scores\u001b[39m\u001b[38;5;124m'\u001b[39m)\n\u001b[1;32m      8\u001b[0m plt\u001b[38;5;241m.\u001b[39mxlabel(\u001b[38;5;124m'\u001b[39m\u001b[38;5;124mNormalized Positive Emotion Score\u001b[39m\u001b[38;5;124m'\u001b[39m)\n",
      "File \u001b[0;32m~/anaconda3/lib/python3.11/site-packages/pandas/core/frame.py:3761\u001b[0m, in \u001b[0;36mDataFrame.__getitem__\u001b[0;34m(self, key)\u001b[0m\n\u001b[1;32m   3759\u001b[0m \u001b[38;5;28;01mif\u001b[39;00m \u001b[38;5;28mself\u001b[39m\u001b[38;5;241m.\u001b[39mcolumns\u001b[38;5;241m.\u001b[39mnlevels \u001b[38;5;241m>\u001b[39m \u001b[38;5;241m1\u001b[39m:\n\u001b[1;32m   3760\u001b[0m     \u001b[38;5;28;01mreturn\u001b[39;00m \u001b[38;5;28mself\u001b[39m\u001b[38;5;241m.\u001b[39m_getitem_multilevel(key)\n\u001b[0;32m-> 3761\u001b[0m indexer \u001b[38;5;241m=\u001b[39m \u001b[38;5;28mself\u001b[39m\u001b[38;5;241m.\u001b[39mcolumns\u001b[38;5;241m.\u001b[39mget_loc(key)\n\u001b[1;32m   3762\u001b[0m \u001b[38;5;28;01mif\u001b[39;00m is_integer(indexer):\n\u001b[1;32m   3763\u001b[0m     indexer \u001b[38;5;241m=\u001b[39m [indexer]\n",
      "File \u001b[0;32m~/anaconda3/lib/python3.11/site-packages/pandas/core/indexes/base.py:3655\u001b[0m, in \u001b[0;36mIndex.get_loc\u001b[0;34m(self, key)\u001b[0m\n\u001b[1;32m   3653\u001b[0m     \u001b[38;5;28;01mreturn\u001b[39;00m \u001b[38;5;28mself\u001b[39m\u001b[38;5;241m.\u001b[39m_engine\u001b[38;5;241m.\u001b[39mget_loc(casted_key)\n\u001b[1;32m   3654\u001b[0m \u001b[38;5;28;01mexcept\u001b[39;00m \u001b[38;5;167;01mKeyError\u001b[39;00m \u001b[38;5;28;01mas\u001b[39;00m err:\n\u001b[0;32m-> 3655\u001b[0m     \u001b[38;5;28;01mraise\u001b[39;00m \u001b[38;5;167;01mKeyError\u001b[39;00m(key) \u001b[38;5;28;01mfrom\u001b[39;00m \u001b[38;5;21;01merr\u001b[39;00m\n\u001b[1;32m   3656\u001b[0m \u001b[38;5;28;01mexcept\u001b[39;00m \u001b[38;5;167;01mTypeError\u001b[39;00m:\n\u001b[1;32m   3657\u001b[0m     \u001b[38;5;66;03m# If we have a listlike key, _check_indexing_error will raise\u001b[39;00m\n\u001b[1;32m   3658\u001b[0m     \u001b[38;5;66;03m#  InvalidIndexError. Otherwise we fall through and re-raise\u001b[39;00m\n\u001b[1;32m   3659\u001b[0m     \u001b[38;5;66;03m#  the TypeError.\u001b[39;00m\n\u001b[1;32m   3660\u001b[0m     \u001b[38;5;28mself\u001b[39m\u001b[38;5;241m.\u001b[39m_check_indexing_error(key)\n",
      "\u001b[0;31mKeyError\u001b[0m: 'Cluster'"
     ]
    },
    {
     "data": {
      "text/plain": [
       "<Figure size 1000x600 with 0 Axes>"
      ]
     },
     "metadata": {},
     "output_type": "display_data"
    }
   ],
   "source": [
    "\n",
    "# Visualizing the clusters using a scatter plot\n",
    "\n",
    "season_colors = {'Winter': 'blue', 'Spring': 'green', 'Summer': 'yellow', 'Fall': 'red'}\n",
    "season_color_values = df_submissions['season'].map(season_colors)\n",
    "plt.figure(figsize=(10, 6), facecolor='white')\n",
    "plt.scatter(df_submissions['posemo'], df_submissions['negemo'], c=df_submissions['Cluster'], cmap='viridis', alpha=0.5)\n",
    "plt.title('Clusters of Posts Based on Normalized Emotional Scores')\n",
    "plt.xlabel('Normalized Positive Emotion Score')\n",
    "plt.ylabel('Normalized Negative Emotion Score')\n",
    "plt.colorbar(label='Cluster')\n",
    "plt.show()\n",
    "print('Scatter plot of clusters based on normalized emotional scores displayed.')\n"
   ]
  }
 ],
 "metadata": {
  "kernelspec": {
   "display_name": "Python 3.10(capstone)",
   "language": "python",
   "name": "acv"
  },
  "language_info": {
   "codemirror_mode": {
    "name": "ipython",
    "version": 3
   },
   "file_extension": ".py",
   "mimetype": "text/x-python",
   "name": "python",
   "nbconvert_exporter": "python",
   "pygments_lexer": "ipython3",
   "version": "3.11.5"
  }
 },
 "nbformat": 4,
 "nbformat_minor": 2
}
