{
 "cells": [
  {
   "cell_type": "code",
   "execution_count": null,
   "metadata": {},
   "outputs": [],
   "source": [
    "# # Run these in your terminal in order\n",
    "\n",
    "# !pip install bertopic\n",
    "\n",
    "# pip install -r requirements.txt install bertopic\n",
    "\n",
    "# pip uninstall transformers bertopic\n",
    "# pip install transformers bertopic\n",
    "\n",
    "# !pip install spacytextblob\n",
    "# python -m spacy download en_core_web_sm"
   ]
  },
  {
   "cell_type": "code",
   "execution_count": 2,
   "metadata": {},
   "outputs": [],
   "source": [
    "import pandas as pd\n",
    "\n",
    "#Correlation Matrix\n",
    "import seaborn as sns\n",
    "import matplotlib.pyplot as plt\n",
    "import datetime\n",
    "\n",
    "import nltk\n",
    "from nltk.corpus import stopwords\n",
    "from nltk import ngrams\n",
    "\n",
    "import re\n",
    "\n",
    "from sklearn.model_selection import train_test_split\n",
    "from sklearn.ensemble import RandomForestClassifier\n",
    "from sklearn.metrics import accuracy_score\n",
    "\n",
    "#from bertopic import BERTopic\n",
    "\n",
    "#import spacy\n",
    "#from spacytextblob.spacytextblob import SpacyTextBlob\n",
    "\n",
    "from sklearn.preprocessing import MinMaxScaler, OneHotEncoder\n",
    "\n",
    "from sklearn.cluster import KMeans\n"
   ]
  },
  {
   "cell_type": "code",
   "execution_count": 4,
   "metadata": {},
   "outputs": [],
   "source": [
    "#Amado's csv to df \n",
    "\n",
    "df_comments = pd.read_csv('/Users/amadouyehara/Desktop/Spring 2024/Applied Analytics & Predictive Modeling/Project 1/opiates_comments6_LIWC.csv')\n",
    "df_submissions = pd.read_csv('/Users/amadouyehara/Desktop/Spring 2024/Applied Analytics & Predictive Modeling/Project 1/opiates_submissions6_LIWC.csv', low_memory=False)\n"
   ]
  },
  {
   "cell_type": "code",
   "execution_count": 4,
   "metadata": {},
   "outputs": [],
   "source": [
    "#Kaily's csv to df\n",
    "\n",
    "# df_comments = pd.read_csv(\"C:/Users/Kaily Mejia/Dropbox/Graduate Courses/Applied and Predictive Modeling/Final Project/opiates_comments6_LIWC.csv\" )\n",
    "# df_submissions = pd.read_csv('C:/Users/Kaily Mejia/Dropbox/Graduate Courses/Applied and Predictive Modeling/Final Project/opiates_submissions6_LIWC.csv', low_memory = False)\n"
   ]
  },
  {
   "cell_type": "code",
   "execution_count": 5,
   "metadata": {},
   "outputs": [
    {
     "data": {
      "text/html": [
       "<div>\n",
       "<style scoped>\n",
       "    .dataframe tbody tr th:only-of-type {\n",
       "        vertical-align: middle;\n",
       "    }\n",
       "\n",
       "    .dataframe tbody tr th {\n",
       "        vertical-align: top;\n",
       "    }\n",
       "\n",
       "    .dataframe thead th {\n",
       "        text-align: right;\n",
       "    }\n",
       "</style>\n",
       "<table border=\"1\" class=\"dataframe\">\n",
       "  <thead>\n",
       "    <tr style=\"text-align: right;\">\n",
       "      <th></th>\n",
       "      <th>author</th>\n",
       "      <th>created_utc</th>\n",
       "      <th>score</th>\n",
       "      <th>subreddit</th>\n",
       "      <th>WC</th>\n",
       "      <th>Analytic</th>\n",
       "      <th>Clout</th>\n",
       "      <th>Authentic</th>\n",
       "      <th>Tone</th>\n",
       "      <th>WPS</th>\n",
       "      <th>...</th>\n",
       "      <th>Comma</th>\n",
       "      <th>Colon</th>\n",
       "      <th>SemiC</th>\n",
       "      <th>QMark</th>\n",
       "      <th>Exclam</th>\n",
       "      <th>Dash</th>\n",
       "      <th>Quote</th>\n",
       "      <th>Apostro</th>\n",
       "      <th>Parenth</th>\n",
       "      <th>OtherP</th>\n",
       "    </tr>\n",
       "  </thead>\n",
       "  <tbody>\n",
       "    <tr>\n",
       "      <th>0</th>\n",
       "      <td>BoofDontShoot</td>\n",
       "      <td>1659067065</td>\n",
       "      <td>1</td>\n",
       "      <td>opiates</td>\n",
       "      <td>5</td>\n",
       "      <td>8.69</td>\n",
       "      <td>50.00</td>\n",
       "      <td>1.00</td>\n",
       "      <td>25.77</td>\n",
       "      <td>2.50</td>\n",
       "      <td>...</td>\n",
       "      <td>0.0</td>\n",
       "      <td>0.0</td>\n",
       "      <td>0.0</td>\n",
       "      <td>0.0</td>\n",
       "      <td>0.0</td>\n",
       "      <td>0.00</td>\n",
       "      <td>0.00</td>\n",
       "      <td>0.00</td>\n",
       "      <td>0.00</td>\n",
       "      <td>0.0</td>\n",
       "    </tr>\n",
       "    <tr>\n",
       "      <th>1</th>\n",
       "      <td>Busy_Background_195</td>\n",
       "      <td>1659067044</td>\n",
       "      <td>1</td>\n",
       "      <td>opiates</td>\n",
       "      <td>55</td>\n",
       "      <td>32.58</td>\n",
       "      <td>13.76</td>\n",
       "      <td>14.10</td>\n",
       "      <td>1.00</td>\n",
       "      <td>13.75</td>\n",
       "      <td>...</td>\n",
       "      <td>0.0</td>\n",
       "      <td>0.0</td>\n",
       "      <td>0.0</td>\n",
       "      <td>0.0</td>\n",
       "      <td>0.0</td>\n",
       "      <td>0.00</td>\n",
       "      <td>0.00</td>\n",
       "      <td>5.45</td>\n",
       "      <td>3.64</td>\n",
       "      <td>0.0</td>\n",
       "    </tr>\n",
       "    <tr>\n",
       "      <th>2</th>\n",
       "      <td>Wolf_Double</td>\n",
       "      <td>1659066949</td>\n",
       "      <td>1</td>\n",
       "      <td>opiates</td>\n",
       "      <td>6</td>\n",
       "      <td>1.00</td>\n",
       "      <td>95.20</td>\n",
       "      <td>23.51</td>\n",
       "      <td>99.00</td>\n",
       "      <td>6.00</td>\n",
       "      <td>...</td>\n",
       "      <td>0.0</td>\n",
       "      <td>0.0</td>\n",
       "      <td>0.0</td>\n",
       "      <td>0.0</td>\n",
       "      <td>0.0</td>\n",
       "      <td>0.00</td>\n",
       "      <td>0.00</td>\n",
       "      <td>0.00</td>\n",
       "      <td>0.00</td>\n",
       "      <td>0.0</td>\n",
       "    </tr>\n",
       "    <tr>\n",
       "      <th>3</th>\n",
       "      <td>Knowagoraaa</td>\n",
       "      <td>1659066905</td>\n",
       "      <td>1</td>\n",
       "      <td>opiates</td>\n",
       "      <td>39</td>\n",
       "      <td>71.92</td>\n",
       "      <td>60.13</td>\n",
       "      <td>99.00</td>\n",
       "      <td>73.64</td>\n",
       "      <td>13.00</td>\n",
       "      <td>...</td>\n",
       "      <td>0.0</td>\n",
       "      <td>0.0</td>\n",
       "      <td>0.0</td>\n",
       "      <td>0.0</td>\n",
       "      <td>0.0</td>\n",
       "      <td>2.56</td>\n",
       "      <td>0.00</td>\n",
       "      <td>5.13</td>\n",
       "      <td>0.00</td>\n",
       "      <td>0.0</td>\n",
       "    </tr>\n",
       "    <tr>\n",
       "      <th>4</th>\n",
       "      <td>Busy_Background_195</td>\n",
       "      <td>1659066875</td>\n",
       "      <td>1</td>\n",
       "      <td>opiates</td>\n",
       "      <td>75</td>\n",
       "      <td>24.37</td>\n",
       "      <td>29.68</td>\n",
       "      <td>14.56</td>\n",
       "      <td>2.41</td>\n",
       "      <td>25.00</td>\n",
       "      <td>...</td>\n",
       "      <td>0.0</td>\n",
       "      <td>0.0</td>\n",
       "      <td>0.0</td>\n",
       "      <td>0.0</td>\n",
       "      <td>0.0</td>\n",
       "      <td>0.00</td>\n",
       "      <td>2.67</td>\n",
       "      <td>4.00</td>\n",
       "      <td>0.00</td>\n",
       "      <td>0.0</td>\n",
       "    </tr>\n",
       "  </tbody>\n",
       "</table>\n",
       "<p>5 rows × 96 columns</p>\n",
       "</div>"
      ],
      "text/plain": [
       "                author  created_utc  score subreddit  WC  Analytic  Clout  \\\n",
       "0        BoofDontShoot   1659067065      1   opiates   5      8.69  50.00   \n",
       "1  Busy_Background_195   1659067044      1   opiates  55     32.58  13.76   \n",
       "2          Wolf_Double   1659066949      1   opiates   6      1.00  95.20   \n",
       "3          Knowagoraaa   1659066905      1   opiates  39     71.92  60.13   \n",
       "4  Busy_Background_195   1659066875      1   opiates  75     24.37  29.68   \n",
       "\n",
       "   Authentic   Tone    WPS  ...  Comma  Colon  SemiC  QMark  Exclam  Dash  \\\n",
       "0       1.00  25.77   2.50  ...    0.0    0.0    0.0    0.0     0.0  0.00   \n",
       "1      14.10   1.00  13.75  ...    0.0    0.0    0.0    0.0     0.0  0.00   \n",
       "2      23.51  99.00   6.00  ...    0.0    0.0    0.0    0.0     0.0  0.00   \n",
       "3      99.00  73.64  13.00  ...    0.0    0.0    0.0    0.0     0.0  2.56   \n",
       "4      14.56   2.41  25.00  ...    0.0    0.0    0.0    0.0     0.0  0.00   \n",
       "\n",
       "   Quote  Apostro  Parenth  OtherP  \n",
       "0   0.00     0.00     0.00     0.0  \n",
       "1   0.00     5.45     3.64     0.0  \n",
       "2   0.00     0.00     0.00     0.0  \n",
       "3   0.00     5.13     0.00     0.0  \n",
       "4   2.67     4.00     0.00     0.0  \n",
       "\n",
       "[5 rows x 96 columns]"
      ]
     },
     "execution_count": 5,
     "metadata": {},
     "output_type": "execute_result"
    }
   ],
   "source": [
    "#Structure of Comments dataset\n",
    "df_comments.head()"
   ]
  },
  {
   "cell_type": "code",
   "execution_count": 6,
   "metadata": {},
   "outputs": [
    {
     "data": {
      "text/html": [
       "<div>\n",
       "<style scoped>\n",
       "    .dataframe tbody tr th:only-of-type {\n",
       "        vertical-align: middle;\n",
       "    }\n",
       "\n",
       "    .dataframe tbody tr th {\n",
       "        vertical-align: top;\n",
       "    }\n",
       "\n",
       "    .dataframe thead th {\n",
       "        text-align: right;\n",
       "    }\n",
       "</style>\n",
       "<table border=\"1\" class=\"dataframe\">\n",
       "  <thead>\n",
       "    <tr style=\"text-align: right;\">\n",
       "      <th></th>\n",
       "      <th>author</th>\n",
       "      <th>title</th>\n",
       "      <th>created_utc</th>\n",
       "      <th>score</th>\n",
       "      <th>subreddit</th>\n",
       "      <th>WC</th>\n",
       "      <th>Analytic</th>\n",
       "      <th>Clout</th>\n",
       "      <th>Authentic</th>\n",
       "      <th>Tone</th>\n",
       "      <th>...</th>\n",
       "      <th>Comma</th>\n",
       "      <th>Colon</th>\n",
       "      <th>SemiC</th>\n",
       "      <th>QMark</th>\n",
       "      <th>Exclam</th>\n",
       "      <th>Dash</th>\n",
       "      <th>Quote</th>\n",
       "      <th>Apostro</th>\n",
       "      <th>Parenth</th>\n",
       "      <th>OtherP</th>\n",
       "    </tr>\n",
       "  </thead>\n",
       "  <tbody>\n",
       "    <tr>\n",
       "      <th>0</th>\n",
       "      <td>Odd-Pizza-1079</td>\n",
       "      <td>How much tylenol is too much? Asking for a fri...</td>\n",
       "      <td>1.659067e+09</td>\n",
       "      <td>1</td>\n",
       "      <td>opiates</td>\n",
       "      <td>12.0</td>\n",
       "      <td>18.82</td>\n",
       "      <td>79.76</td>\n",
       "      <td>1.79</td>\n",
       "      <td>25.77</td>\n",
       "      <td>...</td>\n",
       "      <td>0.0</td>\n",
       "      <td>0.0</td>\n",
       "      <td>0.00</td>\n",
       "      <td>8.33</td>\n",
       "      <td>0.00</td>\n",
       "      <td>0.00</td>\n",
       "      <td>0.0</td>\n",
       "      <td>0.0</td>\n",
       "      <td>16.67</td>\n",
       "      <td>0.00</td>\n",
       "    </tr>\n",
       "    <tr>\n",
       "      <th>1</th>\n",
       "      <td>Global_Face_4708</td>\n",
       "      <td>Gabapentin/Lyrica/Clonidine Through Telehealth?</td>\n",
       "      <td>1.659065e+09</td>\n",
       "      <td>1</td>\n",
       "      <td>opiates</td>\n",
       "      <td>5.0</td>\n",
       "      <td>99.00</td>\n",
       "      <td>50.00</td>\n",
       "      <td>1.00</td>\n",
       "      <td>25.77</td>\n",
       "      <td>...</td>\n",
       "      <td>0.0</td>\n",
       "      <td>0.0</td>\n",
       "      <td>0.00</td>\n",
       "      <td>20.00</td>\n",
       "      <td>0.00</td>\n",
       "      <td>0.00</td>\n",
       "      <td>0.0</td>\n",
       "      <td>0.0</td>\n",
       "      <td>0.00</td>\n",
       "      <td>40.00</td>\n",
       "    </tr>\n",
       "    <tr>\n",
       "      <th>2</th>\n",
       "      <td>Bluebeamtwinfn</td>\n",
       "      <td>Opiates prolonging finish/enhancing sex</td>\n",
       "      <td>1.659064e+09</td>\n",
       "      <td>1</td>\n",
       "      <td>opiates</td>\n",
       "      <td>5.0</td>\n",
       "      <td>93.26</td>\n",
       "      <td>50.00</td>\n",
       "      <td>43.37</td>\n",
       "      <td>25.77</td>\n",
       "      <td>...</td>\n",
       "      <td>0.0</td>\n",
       "      <td>0.0</td>\n",
       "      <td>0.00</td>\n",
       "      <td>0.00</td>\n",
       "      <td>0.00</td>\n",
       "      <td>0.00</td>\n",
       "      <td>0.0</td>\n",
       "      <td>0.0</td>\n",
       "      <td>0.00</td>\n",
       "      <td>20.00</td>\n",
       "    </tr>\n",
       "    <tr>\n",
       "      <th>3</th>\n",
       "      <td>iLoveLuckiii</td>\n",
       "      <td>Boost your oxy high! &amp;amp; Save money! (USE ON...</td>\n",
       "      <td>1.659063e+09</td>\n",
       "      <td>1</td>\n",
       "      <td>opiates</td>\n",
       "      <td>13.0</td>\n",
       "      <td>82.82</td>\n",
       "      <td>93.79</td>\n",
       "      <td>94.81</td>\n",
       "      <td>99.00</td>\n",
       "      <td>...</td>\n",
       "      <td>0.0</td>\n",
       "      <td>0.0</td>\n",
       "      <td>7.69</td>\n",
       "      <td>0.00</td>\n",
       "      <td>15.38</td>\n",
       "      <td>0.00</td>\n",
       "      <td>0.0</td>\n",
       "      <td>0.0</td>\n",
       "      <td>15.38</td>\n",
       "      <td>7.69</td>\n",
       "    </tr>\n",
       "    <tr>\n",
       "      <th>4</th>\n",
       "      <td>Downtown_Syrup4635</td>\n",
       "      <td>IOP Detox while working 9-5??</td>\n",
       "      <td>1.659061e+09</td>\n",
       "      <td>1</td>\n",
       "      <td>opiates</td>\n",
       "      <td>6.0</td>\n",
       "      <td>62.04</td>\n",
       "      <td>50.00</td>\n",
       "      <td>23.51</td>\n",
       "      <td>25.77</td>\n",
       "      <td>...</td>\n",
       "      <td>0.0</td>\n",
       "      <td>0.0</td>\n",
       "      <td>0.00</td>\n",
       "      <td>33.33</td>\n",
       "      <td>0.00</td>\n",
       "      <td>16.67</td>\n",
       "      <td>0.0</td>\n",
       "      <td>0.0</td>\n",
       "      <td>0.00</td>\n",
       "      <td>0.00</td>\n",
       "    </tr>\n",
       "  </tbody>\n",
       "</table>\n",
       "<p>5 rows × 98 columns</p>\n",
       "</div>"
      ],
      "text/plain": [
       "               author                                              title  \\\n",
       "0      Odd-Pizza-1079  How much tylenol is too much? Asking for a fri...   \n",
       "1    Global_Face_4708    Gabapentin/Lyrica/Clonidine Through Telehealth?   \n",
       "2      Bluebeamtwinfn            Opiates prolonging finish/enhancing sex   \n",
       "3        iLoveLuckiii  Boost your oxy high! &amp; Save money! (USE ON...   \n",
       "4  Downtown_Syrup4635                      IOP Detox while working 9-5??   \n",
       "\n",
       "    created_utc score subreddit    WC  Analytic  Clout  Authentic   Tone  ...  \\\n",
       "0  1.659067e+09     1   opiates  12.0     18.82  79.76       1.79  25.77  ...   \n",
       "1  1.659065e+09     1   opiates   5.0     99.00  50.00       1.00  25.77  ...   \n",
       "2  1.659064e+09     1   opiates   5.0     93.26  50.00      43.37  25.77  ...   \n",
       "3  1.659063e+09     1   opiates  13.0     82.82  93.79      94.81  99.00  ...   \n",
       "4  1.659061e+09     1   opiates   6.0     62.04  50.00      23.51  25.77  ...   \n",
       "\n",
       "   Comma  Colon  SemiC  QMark  Exclam   Dash  Quote  Apostro  Parenth  OtherP  \n",
       "0    0.0    0.0   0.00   8.33    0.00   0.00    0.0      0.0    16.67    0.00  \n",
       "1    0.0    0.0   0.00  20.00    0.00   0.00    0.0      0.0     0.00   40.00  \n",
       "2    0.0    0.0   0.00   0.00    0.00   0.00    0.0      0.0     0.00   20.00  \n",
       "3    0.0    0.0   7.69   0.00   15.38   0.00    0.0      0.0    15.38    7.69  \n",
       "4    0.0    0.0   0.00  33.33    0.00  16.67    0.0      0.0     0.00    0.00  \n",
       "\n",
       "[5 rows x 98 columns]"
      ]
     },
     "execution_count": 6,
     "metadata": {},
     "output_type": "execute_result"
    }
   ],
   "source": [
    "#Structure of Submissions dataset\n",
    "df_submissions.head()"
   ]
  },
  {
   "cell_type": "code",
   "execution_count": 7,
   "metadata": {},
   "outputs": [
    {
     "name": "stdout",
     "output_type": "stream",
     "text": [
      "1014397\n",
      "1014397\n",
      "79676\n",
      "79674\n"
     ]
    }
   ],
   "source": [
    "#Removing null values\n",
    "print(len(df_comments))\n",
    "df_comments = df_comments.dropna()\n",
    "print(len(df_comments))\n",
    "\n",
    "print(len(df_submissions))\n",
    "df_submissions = df_submissions.dropna()\n",
    "print(len(df_submissions))"
   ]
  },
  {
   "cell_type": "code",
   "execution_count": null,
   "metadata": {},
   "outputs": [],
   "source": [
    "dtypes = pd.DataFrame(df_submissions.dtypes,columns=[\"Data Type\"])\n",
    "dtypes[\"Unique Values\"]=df_submissions.nunique().sort_values(ascending=True)\n",
    "dtypes[\"Null Values\"]=df_submissions.isnull().sum()\n",
    "dtypes[\"% null Values\"]=df_submissions.isnull().sum()/len(df_submissions)\n",
    "dtypes.sort_values(by=\"Null Values\" , ascending=False).style.background_gradient(cmap='YlOrRd',axis=0)"
   ]
  },
  {
   "cell_type": "code",
   "execution_count": null,
   "metadata": {},
   "outputs": [],
   "source": [
    "dtypes = pd.DataFrame(df_comments.dtypes,columns=[\"Data Type\"])\n",
    "dtypes[\"Unique Values\"]=df_comments.nunique().sort_values(ascending=True)\n",
    "dtypes[\"Null Values\"]=df_comments.isnull().sum()\n",
    "dtypes[\"% null Values\"]=df_comments.isnull().sum()/len(df_submissions)\n",
    "dtypes.sort_values(by=\"Null Values\" , ascending=False).style.background_gradient(cmap='YlOrRd',axis=0)\n",
    "\n",
    "#df_comments has no null values"
   ]
  },
  {
   "cell_type": "code",
   "execution_count": 8,
   "metadata": {},
   "outputs": [
    {
     "data": {
      "text/plain": [
       "'\\ndf_comments = df_comments.select_dtypes(include=[\\'float64\\', \\'int64\\'])\\n\\ncorrelation_matrix = df_comments.corr()\\n\\nplt.figure(figsize=(100, 80))\\nsns.heatmap(correlation_matrix, annot=True, cmap=\\'coolwarm\\', fmt=\".2f\")\\nplt.title(\\'Correlation Matrix Heatmap\\')\\nplt.show()\\n'"
      ]
     },
     "execution_count": 8,
     "metadata": {},
     "output_type": "execute_result"
    }
   ],
   "source": [
    "#only using numerical values for heatmap \n",
    "'''\n",
    "df_comments = df_comments.select_dtypes(include=['float64', 'int64'])\n",
    "\n",
    "correlation_matrix = df_comments.corr()\n",
    "\n",
    "plt.figure(figsize=(100, 80))\n",
    "sns.heatmap(correlation_matrix, annot=True, cmap='coolwarm', fmt=\".2f\")\n",
    "plt.title('Correlation Matrix Heatmap')\n",
    "plt.show()\n",
    "'''"
   ]
  },
  {
   "cell_type": "code",
   "execution_count": 9,
   "metadata": {},
   "outputs": [],
   "source": [
    "df_comments = df_comments[['author', 'created_utc','score', 'WC', 'Tone','posemo', 'negemo']]\n",
    "df_submissions = df_submissions[['author', 'title', 'created_utc','score', 'WC', 'Tone', 'posemo', 'negemo']]"
   ]
  },
  {
   "cell_type": "code",
   "execution_count": 10,
   "metadata": {},
   "outputs": [
    {
     "name": "stdout",
     "output_type": "stream",
     "text": [
      "created_utc, -- Min: 1561436002.0, -- Max: 1659066615.0, -- Unique Values: 79580\n",
      "WC, -- Min: 0.0, -- Max: 69.0, -- Unique Values: 70\n",
      "Tone, -- Min: 0.0, -- Max: 99.0, -- Unique Values: 120\n",
      "posemo, -- Min: 0.0, -- Max: 100.0, -- Unique Values: 198\n",
      "negemo, -- Min: 0.0, -- Max: 100.0, -- Unique Values: 196\n"
     ]
    }
   ],
   "source": [
    "#Checking for outliers, using min, max, and unique values for comments dataframe\n",
    "\n",
    "numerical_df_s = df_submissions.select_dtypes(include=['int', 'float'])\n",
    "\n",
    "# Iterate through each numerical column\n",
    "for column in numerical_df_s.columns:\n",
    "    # Calculate min and max range of unique values\n",
    "    min_val = numerical_df_s[column].min()\n",
    "    max_val = numerical_df_s[column].max()\n",
    "    unique_values = numerical_df_s[column].nunique()\n",
    "    \n",
    "    # Print the results\n",
    "    print(f\"{column}, -- Min: {min_val}, -- Max: {max_val}, -- Unique Values: {unique_values}\")\n"
   ]
  },
  {
   "cell_type": "code",
   "execution_count": 11,
   "metadata": {},
   "outputs": [
    {
     "name": "stdout",
     "output_type": "stream",
     "text": [
      "created_utc, -- Min: 1561435211, -- Max: 1659067065, -- Unique Values: 1005848\n",
      "score, -- Min: -105, -- Max: 217, -- Unique Values: 188\n",
      "WC, -- Min: 0, -- Max: 1935, -- Unique Values: 1049\n",
      "Tone, -- Min: 0.0, -- Max: 99.0, -- Unique Values: 4364\n",
      "posemo, -- Min: 0.0, -- Max: 100.0, -- Unique Values: 1264\n",
      "negemo, -- Min: 0.0, -- Max: 100.0, -- Unique Values: 1267\n"
     ]
    }
   ],
   "source": [
    "#Checking for outliers, using min, max, and unique values for comments dataframe\n",
    "\n",
    "numerical_df_c = df_comments.select_dtypes(include=['int', 'float'])\n",
    "\n",
    "# Iterate through each numerical column\n",
    "for column in numerical_df_c.columns:\n",
    "    # Calculate min and max range of unique values\n",
    "    min_val = numerical_df_c[column].min()\n",
    "    max_val = numerical_df_c[column].max()\n",
    "    unique_values = numerical_df_c[column].nunique()\n",
    "    \n",
    "    # Print the results\n",
    "    print(f\"{column}, -- Min: {min_val}, -- Max: {max_val}, -- Unique Values: {unique_values}\")"
   ]
  },
  {
   "cell_type": "code",
   "execution_count": 12,
   "metadata": {},
   "outputs": [
    {
     "data": {
      "text/plain": [
       "'\\nnumerical_df_submissions = df_submissions.select_dtypes(include=[\\'float64\\', \\'int64\\'])\\n\\n\\ncorrelation_matrix = numerical_df_submissions.corr()\\n\\nplt.figure(figsize=(100, 80))\\nsns.heatmap(correlation_matrix, annot=True, cmap=\\'coolwarm\\', fmt=\".2f\")\\nplt.title(\\'Correlation Matrix Heatmap\\')\\nplt.show()\\n'"
      ]
     },
     "execution_count": 12,
     "metadata": {},
     "output_type": "execute_result"
    }
   ],
   "source": [
    "#only using numerical values for heatmap \n",
    "'''\n",
    "numerical_df_submissions = df_submissions.select_dtypes(include=['float64', 'int64'])\n",
    "\n",
    "\n",
    "correlation_matrix = numerical_df_submissions.corr()\n",
    "\n",
    "plt.figure(figsize=(100, 80))\n",
    "sns.heatmap(correlation_matrix, annot=True, cmap='coolwarm', fmt=\".2f\")\n",
    "plt.title('Correlation Matrix Heatmap')\n",
    "plt.show()\n",
    "'''\n"
   ]
  },
  {
   "cell_type": "code",
   "execution_count": 13,
   "metadata": {},
   "outputs": [
    {
     "data": {
      "text/plain": [
       "'\\ndf_emo = df_submissions[[\\'Tone\\',\\'posemo\\',\\'negemo\\']]\\n\\ncorrelation_matrix = df_emo.corr()\\n\\nplt.figure(figsize=(10, 8))\\nsns.heatmap(correlation_matrix, annot=True, cmap=\\'coolwarm\\', fmt=\".2f\")\\nplt.title(\\'Correlation Matrix Heatmap\\')\\nplt.show()\\n'"
      ]
     },
     "execution_count": 13,
     "metadata": {},
     "output_type": "execute_result"
    }
   ],
   "source": [
    "'''\n",
    "df_emo = df_submissions[['Tone','posemo','negemo']]\n",
    "\n",
    "correlation_matrix = df_emo.corr()\n",
    "\n",
    "plt.figure(figsize=(10, 8))\n",
    "sns.heatmap(correlation_matrix, annot=True, cmap='coolwarm', fmt=\".2f\")\n",
    "plt.title('Correlation Matrix Heatmap')\n",
    "plt.show()\n",
    "'''"
   ]
  },
  {
   "cell_type": "code",
   "execution_count": 14,
   "metadata": {},
   "outputs": [],
   "source": [
    "#Converting created_utc to date time and year columns \n",
    "def extract_datetime(row):\n",
    "    timestamp = row['created_utc']\n",
    "    dt_object = datetime.datetime.fromtimestamp(timestamp)\n",
    "    return dt_object\n",
    "    \n",
    "\n",
    "# Applying the function to each row in the DataFrame and creating a new column\n",
    "df_submissions['Datetime'] = df_submissions.apply(extract_datetime, axis=1)\n",
    "df_comments['Datetime'] = df_submissions.apply(extract_datetime, axis=1)\n",
    "\n",
    "# Dropping the 'created_utc' column\n",
    "df_submissions.drop('created_utc', axis=1, inplace=True)\n",
    "df_comments.drop('created_utc', axis=1, inplace=True)\n",
    "\n",
    "# Inserting the 'Datetime' column\n",
    "datetime_column_submission = df_submissions.pop('Datetime')\n",
    "datetime_column_comment = df_comments.pop('Datetime')\n",
    "\n",
    "df_submissions.insert(2, 'Datetime', datetime_column_submission)\n",
    "df_comments.insert(1, 'Datetime', datetime_column_comment)\n",
    "\n",
    "# Define the bins for the seasons based on days of the year\n",
    "seasons_bins = [0, 80, 172, 264, 355, 366]\n",
    "seasons_labels = ['Winter', 'Spring', 'Summer', 'Fall', 'Winter']\n",
    "\n",
    "#Addind the values to the season column\n",
    "df_submissions['season'] = pd.cut(df_submissions['Datetime'].dt.dayofyear, bins=seasons_bins, labels=seasons_labels, ordered=False)\n",
    "df_comments['season'] = pd.cut(df_comments['Datetime'].dt.dayofyear, bins=seasons_bins, labels=seasons_labels, ordered=False)\n",
    "\n",
    "df_submissions.insert(3, 'season', df_submissions.pop('season'))\n",
    "df_comments.insert(2, 'season', df_comments.pop('season'))\n",
    "\n",
    "# df_submissions.dropna()\n",
    "# df_comments.dropna()"
   ]
  },
  {
   "cell_type": "code",
   "execution_count": 15,
   "metadata": {},
   "outputs": [
    {
     "data": {
      "text/html": [
       "<div>\n",
       "<style scoped>\n",
       "    .dataframe tbody tr th:only-of-type {\n",
       "        vertical-align: middle;\n",
       "    }\n",
       "\n",
       "    .dataframe tbody tr th {\n",
       "        vertical-align: top;\n",
       "    }\n",
       "\n",
       "    .dataframe thead th {\n",
       "        text-align: right;\n",
       "    }\n",
       "</style>\n",
       "<table border=\"1\" class=\"dataframe\">\n",
       "  <thead>\n",
       "    <tr style=\"text-align: right;\">\n",
       "      <th></th>\n",
       "      <th>author</th>\n",
       "      <th>Datetime</th>\n",
       "      <th>season</th>\n",
       "      <th>score</th>\n",
       "      <th>WC</th>\n",
       "      <th>Tone</th>\n",
       "      <th>posemo</th>\n",
       "      <th>negemo</th>\n",
       "    </tr>\n",
       "  </thead>\n",
       "  <tbody>\n",
       "    <tr>\n",
       "      <th>0</th>\n",
       "      <td>BoofDontShoot</td>\n",
       "      <td>2022-07-28 23:50:15</td>\n",
       "      <td>Summer</td>\n",
       "      <td>1</td>\n",
       "      <td>5</td>\n",
       "      <td>25.77</td>\n",
       "      <td>0.00</td>\n",
       "      <td>0.00</td>\n",
       "    </tr>\n",
       "    <tr>\n",
       "      <th>1</th>\n",
       "      <td>Busy_Background_195</td>\n",
       "      <td>2022-07-28 23:22:43</td>\n",
       "      <td>Summer</td>\n",
       "      <td>1</td>\n",
       "      <td>55</td>\n",
       "      <td>1.00</td>\n",
       "      <td>1.82</td>\n",
       "      <td>5.45</td>\n",
       "    </tr>\n",
       "    <tr>\n",
       "      <th>2</th>\n",
       "      <td>Wolf_Double</td>\n",
       "      <td>2022-07-28 23:06:11</td>\n",
       "      <td>Summer</td>\n",
       "      <td>1</td>\n",
       "      <td>6</td>\n",
       "      <td>99.00</td>\n",
       "      <td>33.33</td>\n",
       "      <td>0.00</td>\n",
       "    </tr>\n",
       "    <tr>\n",
       "      <th>3</th>\n",
       "      <td>Knowagoraaa</td>\n",
       "      <td>2022-07-28 22:49:43</td>\n",
       "      <td>Summer</td>\n",
       "      <td>1</td>\n",
       "      <td>39</td>\n",
       "      <td>73.64</td>\n",
       "      <td>2.56</td>\n",
       "      <td>0.00</td>\n",
       "    </tr>\n",
       "    <tr>\n",
       "      <th>4</th>\n",
       "      <td>Busy_Background_195</td>\n",
       "      <td>2022-07-28 22:21:57</td>\n",
       "      <td>Summer</td>\n",
       "      <td>1</td>\n",
       "      <td>75</td>\n",
       "      <td>2.41</td>\n",
       "      <td>2.67</td>\n",
       "      <td>5.33</td>\n",
       "    </tr>\n",
       "    <tr>\n",
       "      <th>...</th>\n",
       "      <td>...</td>\n",
       "      <td>...</td>\n",
       "      <td>...</td>\n",
       "      <td>...</td>\n",
       "      <td>...</td>\n",
       "      <td>...</td>\n",
       "      <td>...</td>\n",
       "      <td>...</td>\n",
       "    </tr>\n",
       "    <tr>\n",
       "      <th>1014392</th>\n",
       "      <td>Virgowitch</td>\n",
       "      <td>NaT</td>\n",
       "      <td>NaN</td>\n",
       "      <td>2</td>\n",
       "      <td>5</td>\n",
       "      <td>99.00</td>\n",
       "      <td>20.00</td>\n",
       "      <td>0.00</td>\n",
       "    </tr>\n",
       "    <tr>\n",
       "      <th>1014393</th>\n",
       "      <td>DrewSkii1010</td>\n",
       "      <td>NaT</td>\n",
       "      <td>NaN</td>\n",
       "      <td>1</td>\n",
       "      <td>9</td>\n",
       "      <td>99.00</td>\n",
       "      <td>11.11</td>\n",
       "      <td>0.00</td>\n",
       "    </tr>\n",
       "    <tr>\n",
       "      <th>1014394</th>\n",
       "      <td>erischilde</td>\n",
       "      <td>NaT</td>\n",
       "      <td>NaN</td>\n",
       "      <td>1</td>\n",
       "      <td>104</td>\n",
       "      <td>43.27</td>\n",
       "      <td>1.92</td>\n",
       "      <td>0.96</td>\n",
       "    </tr>\n",
       "    <tr>\n",
       "      <th>1014395</th>\n",
       "      <td>dingobaybees</td>\n",
       "      <td>NaT</td>\n",
       "      <td>NaN</td>\n",
       "      <td>3</td>\n",
       "      <td>44</td>\n",
       "      <td>25.77</td>\n",
       "      <td>2.27</td>\n",
       "      <td>2.27</td>\n",
       "    </tr>\n",
       "    <tr>\n",
       "      <th>1014396</th>\n",
       "      <td>wonderwoman2381</td>\n",
       "      <td>NaT</td>\n",
       "      <td>NaN</td>\n",
       "      <td>2</td>\n",
       "      <td>69</td>\n",
       "      <td>1.00</td>\n",
       "      <td>1.45</td>\n",
       "      <td>5.80</td>\n",
       "    </tr>\n",
       "  </tbody>\n",
       "</table>\n",
       "<p>1014397 rows × 8 columns</p>\n",
       "</div>"
      ],
      "text/plain": [
       "                      author            Datetime  season  score   WC   Tone  \\\n",
       "0              BoofDontShoot 2022-07-28 23:50:15  Summer      1    5  25.77   \n",
       "1        Busy_Background_195 2022-07-28 23:22:43  Summer      1   55   1.00   \n",
       "2                Wolf_Double 2022-07-28 23:06:11  Summer      1    6  99.00   \n",
       "3                Knowagoraaa 2022-07-28 22:49:43  Summer      1   39  73.64   \n",
       "4        Busy_Background_195 2022-07-28 22:21:57  Summer      1   75   2.41   \n",
       "...                      ...                 ...     ...    ...  ...    ...   \n",
       "1014392           Virgowitch                 NaT     NaN      2    5  99.00   \n",
       "1014393         DrewSkii1010                 NaT     NaN      1    9  99.00   \n",
       "1014394           erischilde                 NaT     NaN      1  104  43.27   \n",
       "1014395         dingobaybees                 NaT     NaN      3   44  25.77   \n",
       "1014396      wonderwoman2381                 NaT     NaN      2   69   1.00   \n",
       "\n",
       "         posemo  negemo  \n",
       "0          0.00    0.00  \n",
       "1          1.82    5.45  \n",
       "2         33.33    0.00  \n",
       "3          2.56    0.00  \n",
       "4          2.67    5.33  \n",
       "...         ...     ...  \n",
       "1014392   20.00    0.00  \n",
       "1014393   11.11    0.00  \n",
       "1014394    1.92    0.96  \n",
       "1014395    2.27    2.27  \n",
       "1014396    1.45    5.80  \n",
       "\n",
       "[1014397 rows x 8 columns]"
      ]
     },
     "execution_count": 15,
     "metadata": {},
     "output_type": "execute_result"
    }
   ],
   "source": [
    "df_comments"
   ]
  },
  {
   "cell_type": "code",
   "execution_count": 16,
   "metadata": {},
   "outputs": [
    {
     "data": {
      "text/html": [
       "<div>\n",
       "<style scoped>\n",
       "    .dataframe tbody tr th:only-of-type {\n",
       "        vertical-align: middle;\n",
       "    }\n",
       "\n",
       "    .dataframe tbody tr th {\n",
       "        vertical-align: top;\n",
       "    }\n",
       "\n",
       "    .dataframe thead th {\n",
       "        text-align: right;\n",
       "    }\n",
       "</style>\n",
       "<table border=\"1\" class=\"dataframe\">\n",
       "  <thead>\n",
       "    <tr style=\"text-align: right;\">\n",
       "      <th></th>\n",
       "      <th>author</th>\n",
       "      <th>title</th>\n",
       "      <th>Datetime</th>\n",
       "      <th>season</th>\n",
       "      <th>score</th>\n",
       "      <th>WC</th>\n",
       "      <th>Tone</th>\n",
       "      <th>posemo</th>\n",
       "      <th>negemo</th>\n",
       "    </tr>\n",
       "  </thead>\n",
       "  <tbody>\n",
       "    <tr>\n",
       "      <th>0</th>\n",
       "      <td>Odd-Pizza-1079</td>\n",
       "      <td>How much tylenol is too much? Asking for a fri...</td>\n",
       "      <td>2022-07-28 23:50:15</td>\n",
       "      <td>Summer</td>\n",
       "      <td>1</td>\n",
       "      <td>12.0</td>\n",
       "      <td>25.77</td>\n",
       "      <td>0.00</td>\n",
       "      <td>0.0</td>\n",
       "    </tr>\n",
       "    <tr>\n",
       "      <th>1</th>\n",
       "      <td>Global_Face_4708</td>\n",
       "      <td>Gabapentin/Lyrica/Clonidine Through Telehealth?</td>\n",
       "      <td>2022-07-28 23:22:43</td>\n",
       "      <td>Summer</td>\n",
       "      <td>1</td>\n",
       "      <td>5.0</td>\n",
       "      <td>25.77</td>\n",
       "      <td>0.00</td>\n",
       "      <td>0.0</td>\n",
       "    </tr>\n",
       "    <tr>\n",
       "      <th>2</th>\n",
       "      <td>Bluebeamtwinfn</td>\n",
       "      <td>Opiates prolonging finish/enhancing sex</td>\n",
       "      <td>2022-07-28 23:06:11</td>\n",
       "      <td>Summer</td>\n",
       "      <td>1</td>\n",
       "      <td>5.0</td>\n",
       "      <td>25.77</td>\n",
       "      <td>0.00</td>\n",
       "      <td>0.0</td>\n",
       "    </tr>\n",
       "    <tr>\n",
       "      <th>3</th>\n",
       "      <td>iLoveLuckiii</td>\n",
       "      <td>Boost your oxy high! &amp;amp; Save money! (USE ON...</td>\n",
       "      <td>2022-07-28 22:49:43</td>\n",
       "      <td>Summer</td>\n",
       "      <td>1</td>\n",
       "      <td>13.0</td>\n",
       "      <td>99.00</td>\n",
       "      <td>7.69</td>\n",
       "      <td>0.0</td>\n",
       "    </tr>\n",
       "    <tr>\n",
       "      <th>4</th>\n",
       "      <td>Downtown_Syrup4635</td>\n",
       "      <td>IOP Detox while working 9-5??</td>\n",
       "      <td>2022-07-28 22:21:57</td>\n",
       "      <td>Summer</td>\n",
       "      <td>1</td>\n",
       "      <td>6.0</td>\n",
       "      <td>25.77</td>\n",
       "      <td>0.00</td>\n",
       "      <td>0.0</td>\n",
       "    </tr>\n",
       "  </tbody>\n",
       "</table>\n",
       "</div>"
      ],
      "text/plain": [
       "               author                                              title  \\\n",
       "0      Odd-Pizza-1079  How much tylenol is too much? Asking for a fri...   \n",
       "1    Global_Face_4708    Gabapentin/Lyrica/Clonidine Through Telehealth?   \n",
       "2      Bluebeamtwinfn            Opiates prolonging finish/enhancing sex   \n",
       "3        iLoveLuckiii  Boost your oxy high! &amp; Save money! (USE ON...   \n",
       "4  Downtown_Syrup4635                      IOP Detox while working 9-5??   \n",
       "\n",
       "             Datetime  season score    WC   Tone  posemo  negemo  \n",
       "0 2022-07-28 23:50:15  Summer     1  12.0  25.77    0.00     0.0  \n",
       "1 2022-07-28 23:22:43  Summer     1   5.0  25.77    0.00     0.0  \n",
       "2 2022-07-28 23:06:11  Summer     1   5.0  25.77    0.00     0.0  \n",
       "3 2022-07-28 22:49:43  Summer     1  13.0  99.00    7.69     0.0  \n",
       "4 2022-07-28 22:21:57  Summer     1   6.0  25.77    0.00     0.0  "
      ]
     },
     "execution_count": 16,
     "metadata": {},
     "output_type": "execute_result"
    }
   ],
   "source": [
    "df_submissions.head()"
   ]
  },
  {
   "cell_type": "code",
   "execution_count": 17,
   "metadata": {},
   "outputs": [
    {
     "name": "stderr",
     "output_type": "stream",
     "text": [
      "[nltk_data] Downloading package stopwords to\n",
      "[nltk_data]     /Users/amadouyehara/nltk_data...\n",
      "[nltk_data]   Package stopwords is already up-to-date!\n"
     ]
    },
    {
     "data": {
      "text/plain": [
       "0    much tylenol much asking friend actually\n",
       "1        gabapentinlyricaclonidine telehealth\n",
       "2      opiates prolonging finishenhancing sex\n",
       "3           boost oxy high amp save money use\n",
       "4                        iop detox working 95\n",
       "Name: title, dtype: object"
      ]
     },
     "execution_count": 17,
     "metadata": {},
     "output_type": "execute_result"
    }
   ],
   "source": [
    "#Natural Language Processing for Title columns \n",
    "\n",
    "nltk.download('stopwords')\n",
    "swords = stopwords.words('english')\n",
    "#Removing the word 'not' to avoid consfusion from negative to positive sentiment\n",
    "swords.remove('not')\n",
    "\n",
    "df_submissions['title'] = df_submissions['title'].apply(lambda x: re.sub(r'[^a-zA-Z\\d\\s.]', '', x.lower()))\n",
    "df_submissions['title'] = df_submissions['title'].apply(lambda x: x.replace('.', ' '))\n",
    "df_submissions['title'] = df_submissions['title'].apply(lambda x: ' '.join([t for t in x.split(' ') if (t not in swords) and len(t) > 1]))\n",
    "df_submissions['title'].head()"
   ]
  },
  {
   "cell_type": "code",
   "execution_count": 18,
   "metadata": {},
   "outputs": [
    {
     "name": "stderr",
     "output_type": "stream",
     "text": [
      "huggingface/tokenizers: The current process just got forked, after parallelism has already been used. Disabling parallelism to avoid deadlocks...\n",
      "To disable this warning, you can either:\n",
      "\t- Avoid using `tokenizers` before the fork if possible\n",
      "\t- Explicitly set the environment variable TOKENIZERS_PARALLELISM=(true | false)\n",
      "huggingface/tokenizers: The current process just got forked, after parallelism has already been used. Disabling parallelism to avoid deadlocks...\n",
      "To disable this warning, you can either:\n",
      "\t- Avoid using `tokenizers` before the fork if possible\n",
      "\t- Explicitly set the environment variable TOKENIZERS_PARALLELISM=(true | false)\n",
      "huggingface/tokenizers: The current process just got forked, after parallelism has already been used. Disabling parallelism to avoid deadlocks...\n",
      "To disable this warning, you can either:\n",
      "\t- Avoid using `tokenizers` before the fork if possible\n",
      "\t- Explicitly set the environment variable TOKENIZERS_PARALLELISM=(true | false)\n",
      "huggingface/tokenizers: The current process just got forked, after parallelism has already been used. Disabling parallelism to avoid deadlocks...\n",
      "To disable this warning, you can either:\n",
      "\t- Avoid using `tokenizers` before the fork if possible\n",
      "\t- Explicitly set the environment variable TOKENIZERS_PARALLELISM=(true | false)\n",
      "huggingface/tokenizers: The current process just got forked, after parallelism has already been used. Disabling parallelism to avoid deadlocks...\n",
      "To disable this warning, you can either:\n",
      "\t- Avoid using `tokenizers` before the fork if possible\n",
      "\t- Explicitly set the environment variable TOKENIZERS_PARALLELISM=(true | false)\n"
     ]
    },
    {
     "name": "stdout",
     "output_type": "stream",
     "text": [
      "      Topic  Count                                               Name  \\\n",
      "0        -1  25347                             -1_ago_took_hours_take   \n",
      "1         0    644                0_addiction_addict_addicts_addicted   \n",
      "2         1    488                      1_plug_plugs_plugging_finding   \n",
      "3         2    305               2_opioids_opioid_opiods_opioidopiate   \n",
      "4         3    293                    3_sober_sobriety_living_staying   \n",
      "...     ...    ...                                                ...   \n",
      "1400   1399     10      1399_abdominal_paralysing_paindiscomfort_knee   \n",
      "1401   1400     10                    1400_ignore_testing_post_delete   \n",
      "1402   1401     10  1401_discussions_opiatesgoneprivate_joining_di...   \n",
      "1403   1402     10                     1402_gear_shizzz_spill_longtec   \n",
      "1404   1403     10              1403_buzz_aftet_desperado_unmotivated   \n",
      "\n",
      "                                         Representation  \\\n",
      "0     [ago, took, hours, take, ive, opiates, safe, d...   \n",
      "1     [addiction, addict, addicts, addicted, recover...   \n",
      "2     [plug, plugs, plugging, finding, find, new, ou...   \n",
      "3     [opioids, opioid, opiods, opioidopiate, lesser...   \n",
      "4     [sober, sobriety, living, staying, drunk, mont...   \n",
      "...                                                 ...   \n",
      "1400  [abdominal, paralysing, paindiscomfort, knee, ...   \n",
      "1401  [ignore, testing, post, delete, test, question...   \n",
      "1402  [discussions, opiatesgoneprivate, joining, dif...   \n",
      "1403  [gear, shizzz, spill, longtec, grinds, gears, ...   \n",
      "1404  [buzz, aftet, desperado, unmotivated, paracodi...   \n",
      "\n",
      "                                    Representative_Docs  \n",
      "0     [long wait take oxycodone kratom last, many ho...  \n",
      "1                     [addiction, addiction, addiction]  \n",
      "2                                    [plug, plug, plug]  \n",
      "3                           [opioids, opioids, opioids]  \n",
      "4                                 [sober, sober, sober]  \n",
      "...                                                 ...  \n",
      "1400  [first real paralysing back pain awake withdra...  \n",
      "1401           [test post, test post, test post ignore]  \n",
      "1402  [opiatesgoneprivate im thinking joining theres...  \n",
      "1403  [terrible gear uk, explain please im uk gear, ...  \n",
      "1404  [even really work many take little buzz never ...  \n",
      "\n",
      "[1405 rows x 5 columns]\n"
     ]
    }
   ],
   "source": [
    "docs = df_submissions['title'].tolist()\n",
    "\n",
    "topic_model = BERTopic()\n",
    "topics, probs = topic_model.fit_transform(docs)\n",
    "\n",
    "print(topic_model.get_topic_info())"
   ]
  },
  {
   "cell_type": "code",
   "execution_count": 19,
   "metadata": {},
   "outputs": [
    {
     "name": "stderr",
     "output_type": "stream",
     "text": [
      "huggingface/tokenizers: The current process just got forked, after parallelism has already been used. Disabling parallelism to avoid deadlocks...\n",
      "To disable this warning, you can either:\n",
      "\t- Avoid using `tokenizers` before the fork if possible\n",
      "\t- Explicitly set the environment variable TOKENIZERS_PARALLELISM=(true | false)\n"
     ]
    },
    {
     "data": {
      "application/vnd.plotly.v1+json": {
       "config": {
        "plotlyServerURL": "https://plot.ly"
       },
       "data": [
        {
         "marker": {
          "color": "#D55E00"
         },
         "orientation": "h",
         "type": "bar",
         "x": [
          0.005276398009824752,
          0.0053755088648711835,
          0.005398760172834488,
          0.0056312737653738286,
          0.006223184030030477,
          0.008539950819162022,
          0.015402101356098763,
          0.016286495196531785,
          0.02506307033695229,
          0.02594485958792431
         ],
         "xaxis": "x",
         "y": [
          "physically  ",
          "functional  ",
          "overcome  ",
          "addictions  ",
          "psychological  ",
          "recovering  ",
          "addicted  ",
          "addicts  ",
          "addict  ",
          "addiction  "
         ],
         "yaxis": "y"
        },
        {
         "marker": {
          "color": "#0072B2"
         },
         "orientation": "h",
         "type": "bar",
         "x": [
          0.00469191000564827,
          0.004944965352664695,
          0.0057496342499328175,
          0.005981137638559332,
          0.006068776450862951,
          0.008072256270031993,
          0.009887037779397465,
          0.01004672074312917,
          0.04268021673678417,
          0.06127812138934608
         ],
         "xaxis": "x2",
         "y": [
          "ghosted  ",
          "plugg  ",
          "pluggingboofing  ",
          "outlet  ",
          "new  ",
          "find  ",
          "finding  ",
          "plugging  ",
          "plugs  ",
          "plug  "
         ],
         "yaxis": "y2"
        },
        {
         "marker": {
          "color": "#CC79A7"
         },
         "orientation": "h",
         "type": "bar",
         "x": [
          0.005089685409207279,
          0.005424840333440814,
          0.005513047164958838,
          0.005954820687073417,
          0.006107532138641431,
          0.006540332100732494,
          0.00872044280097666,
          0.01098138536198144,
          0.020060599741797837,
          0.04077578279230977
         ],
         "xaxis": "x3",
         "y": [
          "future  ",
          "synthetic  ",
          "strict  ",
          "opiod  ",
          "field  ",
          "lesser  ",
          "opioidopiate  ",
          "opiods  ",
          "opioid  ",
          "opioids  "
         ],
         "yaxis": "y3"
        },
        {
         "marker": {
          "color": "#E69F00"
         },
         "orientation": "h",
         "type": "bar",
         "x": [
          0.005193092895319653,
          0.005193092895319653,
          0.005202244214398646,
          0.006372484653135424,
          0.006765803363663321,
          0.007302399764260561,
          0.009144909945255597,
          0.012033121108200543,
          0.037345897238121,
          0.06827446715465291
         ],
         "xaxis": "x4",
         "y": [
          "soberish  ",
          "sobers  ",
          "journey  ",
          "49  ",
          "months  ",
          "drunk  ",
          "staying  ",
          "living  ",
          "sobriety  ",
          "sober  "
         ],
         "yaxis": "y4"
        },
        {
         "marker": {
          "color": "#56B4E9"
         },
         "orientation": "h",
         "type": "bar",
         "x": [
          0.00001,
          0.00001,
          0.04433146355522838,
          0.047956357145087745,
          0.0770194717450705,
          0.1955435002388396,
          0.20183158792190273,
          0.29101013249318436,
          0.4603148021372679,
          1.2908180704010228
         ],
         "xaxis": "x5",
         "y": [
          "  ",
          "  ",
          "finally  ",
          "cause  ",
          "youve  ",
          "son  ",
          "supposed  ",
          "sh  ",
          "weve  ",
          "caved  "
         ],
         "yaxis": "y5"
        },
        {
         "marker": {
          "color": "#009E73"
         },
         "orientation": "h",
         "type": "bar",
         "x": [
          0.00500354023741922,
          0.005529468641817152,
          0.0062105930864946165,
          0.006630011155255623,
          0.0073011869810521626,
          0.007898119654034422,
          0.00810443626787884,
          0.00810443626787884,
          0.01119604482642196,
          0.024725792590448586
         ],
         "xaxis": "x6",
         "y": [
          "shopping  ",
          "happiness  ",
          "get  ",
          "damnit  ",
          "getting  ",
          "asf  ",
          "folbee  ",
          "postrehab  ",
          "anymore  ",
          "high  "
         ],
         "yaxis": "y6"
        },
        {
         "marker": {
          "color": "#F0E442"
         },
         "orientation": "h",
         "type": "bar",
         "x": [
          0.0010363123227892102,
          0.002383427611445337,
          0.003533704538291023,
          0.006213805872475893,
          0.0063608065801747495,
          0.00755261038226321,
          0.008366787782468195,
          0.008697839654846152,
          0.029205317956305238,
          0.06516771146508547
         ],
         "xaxis": "x7",
         "y": [
          "cant  ",
          "worth  ",
          "hell  ",
          "couldnt  ",
          "yes  ",
          "late  ",
          "cheese  ",
          "smh  ",
          "helppp  ",
          "help  "
         ],
         "yaxis": "y7"
        },
        {
         "marker": {
          "color": "#D55E00"
         },
         "orientation": "h",
         "type": "bar",
         "x": [
          0.012886093006773907,
          0.012886093006773907,
          0.012886093006773907,
          0.012886093006773907,
          0.012886093006773907,
          0.012886093006773907,
          0.012886093006773907,
          0.012886093006773907,
          0.015026760008444684,
          0.0715497290332741
         ],
         "xaxis": "x8",
         "y": [
          "escultando  ",
          "dexamethasone  ",
          "si  ",
          "ch1leno  ",
          "celexa  ",
          "tramadoloxylean  ",
          "tramadolparacetamol  ",
          "esto  ",
          "se  ",
          "tramadol  "
         ],
         "yaxis": "y8"
        },
        {
         "marker": {
          "color": "#0072B2"
         },
         "orientation": "h",
         "type": "bar",
         "x": [
          0.01282003263431936,
          0.01288813358491869,
          0.013715931521130941,
          0.014923596538112018,
          0.02076879458967223,
          0.02076879458967223,
          0.02076879458967223,
          0.02076879458967223,
          0.03602497359437996,
          0.0692919321331811
         ],
         "xaxis": "x9",
         "y": [
          "wonderful  ",
          "another  ",
          "chapter  ",
          "importance  ",
          "creatives  ",
          "questionnn  ",
          "wiser  ",
          "utmost  ",
          "important  ",
          "question  "
         ],
         "yaxis": "y9"
        }
       ],
       "layout": {
        "annotations": [
         {
          "font": {
           "size": 16
          },
          "showarrow": false,
          "text": "Topic 0",
          "x": 0.0875,
          "xanchor": "center",
          "xref": "paper",
          "y": 1,
          "yanchor": "bottom",
          "yref": "paper"
         },
         {
          "font": {
           "size": 16
          },
          "showarrow": false,
          "text": "Topic 1",
          "x": 0.36250000000000004,
          "xanchor": "center",
          "xref": "paper",
          "y": 1,
          "yanchor": "bottom",
          "yref": "paper"
         },
         {
          "font": {
           "size": 16
          },
          "showarrow": false,
          "text": "Topic 2",
          "x": 0.6375000000000001,
          "xanchor": "center",
          "xref": "paper",
          "y": 1,
          "yanchor": "bottom",
          "yref": "paper"
         },
         {
          "font": {
           "size": 16
          },
          "showarrow": false,
          "text": "Topic 3",
          "x": 0.9125,
          "xanchor": "center",
          "xref": "paper",
          "y": 1,
          "yanchor": "bottom",
          "yref": "paper"
         },
         {
          "font": {
           "size": 16
          },
          "showarrow": false,
          "text": "Topic 4",
          "x": 0.0875,
          "xanchor": "center",
          "xref": "paper",
          "y": 0.6222222222222222,
          "yanchor": "bottom",
          "yref": "paper"
         },
         {
          "font": {
           "size": 16
          },
          "showarrow": false,
          "text": "Topic 5",
          "x": 0.36250000000000004,
          "xanchor": "center",
          "xref": "paper",
          "y": 0.6222222222222222,
          "yanchor": "bottom",
          "yref": "paper"
         },
         {
          "font": {
           "size": 16
          },
          "showarrow": false,
          "text": "Topic 6",
          "x": 0.6375000000000001,
          "xanchor": "center",
          "xref": "paper",
          "y": 0.6222222222222222,
          "yanchor": "bottom",
          "yref": "paper"
         },
         {
          "font": {
           "size": 16
          },
          "showarrow": false,
          "text": "Topic 7",
          "x": 0.9125,
          "xanchor": "center",
          "xref": "paper",
          "y": 0.6222222222222222,
          "yanchor": "bottom",
          "yref": "paper"
         },
         {
          "font": {
           "size": 16
          },
          "showarrow": false,
          "text": "Topic 8",
          "x": 0.0875,
          "xanchor": "center",
          "xref": "paper",
          "y": 0.24444444444444446,
          "yanchor": "bottom",
          "yref": "paper"
         }
        ],
        "height": 1950,
        "hoverlabel": {
         "bgcolor": "white",
         "font": {
          "family": "Rockwell",
          "size": 16
         }
        },
        "showlegend": false,
        "template": {
         "data": {
          "bar": [
           {
            "error_x": {
             "color": "#2a3f5f"
            },
            "error_y": {
             "color": "#2a3f5f"
            },
            "marker": {
             "line": {
              "color": "white",
              "width": 0.5
             },
             "pattern": {
              "fillmode": "overlay",
              "size": 10,
              "solidity": 0.2
             }
            },
            "type": "bar"
           }
          ],
          "barpolar": [
           {
            "marker": {
             "line": {
              "color": "white",
              "width": 0.5
             },
             "pattern": {
              "fillmode": "overlay",
              "size": 10,
              "solidity": 0.2
             }
            },
            "type": "barpolar"
           }
          ],
          "carpet": [
           {
            "aaxis": {
             "endlinecolor": "#2a3f5f",
             "gridcolor": "#C8D4E3",
             "linecolor": "#C8D4E3",
             "minorgridcolor": "#C8D4E3",
             "startlinecolor": "#2a3f5f"
            },
            "baxis": {
             "endlinecolor": "#2a3f5f",
             "gridcolor": "#C8D4E3",
             "linecolor": "#C8D4E3",
             "minorgridcolor": "#C8D4E3",
             "startlinecolor": "#2a3f5f"
            },
            "type": "carpet"
           }
          ],
          "choropleth": [
           {
            "colorbar": {
             "outlinewidth": 0,
             "ticks": ""
            },
            "type": "choropleth"
           }
          ],
          "contour": [
           {
            "colorbar": {
             "outlinewidth": 0,
             "ticks": ""
            },
            "colorscale": [
             [
              0,
              "#0d0887"
             ],
             [
              0.1111111111111111,
              "#46039f"
             ],
             [
              0.2222222222222222,
              "#7201a8"
             ],
             [
              0.3333333333333333,
              "#9c179e"
             ],
             [
              0.4444444444444444,
              "#bd3786"
             ],
             [
              0.5555555555555556,
              "#d8576b"
             ],
             [
              0.6666666666666666,
              "#ed7953"
             ],
             [
              0.7777777777777778,
              "#fb9f3a"
             ],
             [
              0.8888888888888888,
              "#fdca26"
             ],
             [
              1,
              "#f0f921"
             ]
            ],
            "type": "contour"
           }
          ],
          "contourcarpet": [
           {
            "colorbar": {
             "outlinewidth": 0,
             "ticks": ""
            },
            "type": "contourcarpet"
           }
          ],
          "heatmap": [
           {
            "colorbar": {
             "outlinewidth": 0,
             "ticks": ""
            },
            "colorscale": [
             [
              0,
              "#0d0887"
             ],
             [
              0.1111111111111111,
              "#46039f"
             ],
             [
              0.2222222222222222,
              "#7201a8"
             ],
             [
              0.3333333333333333,
              "#9c179e"
             ],
             [
              0.4444444444444444,
              "#bd3786"
             ],
             [
              0.5555555555555556,
              "#d8576b"
             ],
             [
              0.6666666666666666,
              "#ed7953"
             ],
             [
              0.7777777777777778,
              "#fb9f3a"
             ],
             [
              0.8888888888888888,
              "#fdca26"
             ],
             [
              1,
              "#f0f921"
             ]
            ],
            "type": "heatmap"
           }
          ],
          "heatmapgl": [
           {
            "colorbar": {
             "outlinewidth": 0,
             "ticks": ""
            },
            "colorscale": [
             [
              0,
              "#0d0887"
             ],
             [
              0.1111111111111111,
              "#46039f"
             ],
             [
              0.2222222222222222,
              "#7201a8"
             ],
             [
              0.3333333333333333,
              "#9c179e"
             ],
             [
              0.4444444444444444,
              "#bd3786"
             ],
             [
              0.5555555555555556,
              "#d8576b"
             ],
             [
              0.6666666666666666,
              "#ed7953"
             ],
             [
              0.7777777777777778,
              "#fb9f3a"
             ],
             [
              0.8888888888888888,
              "#fdca26"
             ],
             [
              1,
              "#f0f921"
             ]
            ],
            "type": "heatmapgl"
           }
          ],
          "histogram": [
           {
            "marker": {
             "pattern": {
              "fillmode": "overlay",
              "size": 10,
              "solidity": 0.2
             }
            },
            "type": "histogram"
           }
          ],
          "histogram2d": [
           {
            "colorbar": {
             "outlinewidth": 0,
             "ticks": ""
            },
            "colorscale": [
             [
              0,
              "#0d0887"
             ],
             [
              0.1111111111111111,
              "#46039f"
             ],
             [
              0.2222222222222222,
              "#7201a8"
             ],
             [
              0.3333333333333333,
              "#9c179e"
             ],
             [
              0.4444444444444444,
              "#bd3786"
             ],
             [
              0.5555555555555556,
              "#d8576b"
             ],
             [
              0.6666666666666666,
              "#ed7953"
             ],
             [
              0.7777777777777778,
              "#fb9f3a"
             ],
             [
              0.8888888888888888,
              "#fdca26"
             ],
             [
              1,
              "#f0f921"
             ]
            ],
            "type": "histogram2d"
           }
          ],
          "histogram2dcontour": [
           {
            "colorbar": {
             "outlinewidth": 0,
             "ticks": ""
            },
            "colorscale": [
             [
              0,
              "#0d0887"
             ],
             [
              0.1111111111111111,
              "#46039f"
             ],
             [
              0.2222222222222222,
              "#7201a8"
             ],
             [
              0.3333333333333333,
              "#9c179e"
             ],
             [
              0.4444444444444444,
              "#bd3786"
             ],
             [
              0.5555555555555556,
              "#d8576b"
             ],
             [
              0.6666666666666666,
              "#ed7953"
             ],
             [
              0.7777777777777778,
              "#fb9f3a"
             ],
             [
              0.8888888888888888,
              "#fdca26"
             ],
             [
              1,
              "#f0f921"
             ]
            ],
            "type": "histogram2dcontour"
           }
          ],
          "mesh3d": [
           {
            "colorbar": {
             "outlinewidth": 0,
             "ticks": ""
            },
            "type": "mesh3d"
           }
          ],
          "parcoords": [
           {
            "line": {
             "colorbar": {
              "outlinewidth": 0,
              "ticks": ""
             }
            },
            "type": "parcoords"
           }
          ],
          "pie": [
           {
            "automargin": true,
            "type": "pie"
           }
          ],
          "scatter": [
           {
            "fillpattern": {
             "fillmode": "overlay",
             "size": 10,
             "solidity": 0.2
            },
            "type": "scatter"
           }
          ],
          "scatter3d": [
           {
            "line": {
             "colorbar": {
              "outlinewidth": 0,
              "ticks": ""
             }
            },
            "marker": {
             "colorbar": {
              "outlinewidth": 0,
              "ticks": ""
             }
            },
            "type": "scatter3d"
           }
          ],
          "scattercarpet": [
           {
            "marker": {
             "colorbar": {
              "outlinewidth": 0,
              "ticks": ""
             }
            },
            "type": "scattercarpet"
           }
          ],
          "scattergeo": [
           {
            "marker": {
             "colorbar": {
              "outlinewidth": 0,
              "ticks": ""
             }
            },
            "type": "scattergeo"
           }
          ],
          "scattergl": [
           {
            "marker": {
             "colorbar": {
              "outlinewidth": 0,
              "ticks": ""
             }
            },
            "type": "scattergl"
           }
          ],
          "scattermapbox": [
           {
            "marker": {
             "colorbar": {
              "outlinewidth": 0,
              "ticks": ""
             }
            },
            "type": "scattermapbox"
           }
          ],
          "scatterpolar": [
           {
            "marker": {
             "colorbar": {
              "outlinewidth": 0,
              "ticks": ""
             }
            },
            "type": "scatterpolar"
           }
          ],
          "scatterpolargl": [
           {
            "marker": {
             "colorbar": {
              "outlinewidth": 0,
              "ticks": ""
             }
            },
            "type": "scatterpolargl"
           }
          ],
          "scatterternary": [
           {
            "marker": {
             "colorbar": {
              "outlinewidth": 0,
              "ticks": ""
             }
            },
            "type": "scatterternary"
           }
          ],
          "surface": [
           {
            "colorbar": {
             "outlinewidth": 0,
             "ticks": ""
            },
            "colorscale": [
             [
              0,
              "#0d0887"
             ],
             [
              0.1111111111111111,
              "#46039f"
             ],
             [
              0.2222222222222222,
              "#7201a8"
             ],
             [
              0.3333333333333333,
              "#9c179e"
             ],
             [
              0.4444444444444444,
              "#bd3786"
             ],
             [
              0.5555555555555556,
              "#d8576b"
             ],
             [
              0.6666666666666666,
              "#ed7953"
             ],
             [
              0.7777777777777778,
              "#fb9f3a"
             ],
             [
              0.8888888888888888,
              "#fdca26"
             ],
             [
              1,
              "#f0f921"
             ]
            ],
            "type": "surface"
           }
          ],
          "table": [
           {
            "cells": {
             "fill": {
              "color": "#EBF0F8"
             },
             "line": {
              "color": "white"
             }
            },
            "header": {
             "fill": {
              "color": "#C8D4E3"
             },
             "line": {
              "color": "white"
             }
            },
            "type": "table"
           }
          ]
         },
         "layout": {
          "annotationdefaults": {
           "arrowcolor": "#2a3f5f",
           "arrowhead": 0,
           "arrowwidth": 1
          },
          "autotypenumbers": "strict",
          "coloraxis": {
           "colorbar": {
            "outlinewidth": 0,
            "ticks": ""
           }
          },
          "colorscale": {
           "diverging": [
            [
             0,
             "#8e0152"
            ],
            [
             0.1,
             "#c51b7d"
            ],
            [
             0.2,
             "#de77ae"
            ],
            [
             0.3,
             "#f1b6da"
            ],
            [
             0.4,
             "#fde0ef"
            ],
            [
             0.5,
             "#f7f7f7"
            ],
            [
             0.6,
             "#e6f5d0"
            ],
            [
             0.7,
             "#b8e186"
            ],
            [
             0.8,
             "#7fbc41"
            ],
            [
             0.9,
             "#4d9221"
            ],
            [
             1,
             "#276419"
            ]
           ],
           "sequential": [
            [
             0,
             "#0d0887"
            ],
            [
             0.1111111111111111,
             "#46039f"
            ],
            [
             0.2222222222222222,
             "#7201a8"
            ],
            [
             0.3333333333333333,
             "#9c179e"
            ],
            [
             0.4444444444444444,
             "#bd3786"
            ],
            [
             0.5555555555555556,
             "#d8576b"
            ],
            [
             0.6666666666666666,
             "#ed7953"
            ],
            [
             0.7777777777777778,
             "#fb9f3a"
            ],
            [
             0.8888888888888888,
             "#fdca26"
            ],
            [
             1,
             "#f0f921"
            ]
           ],
           "sequentialminus": [
            [
             0,
             "#0d0887"
            ],
            [
             0.1111111111111111,
             "#46039f"
            ],
            [
             0.2222222222222222,
             "#7201a8"
            ],
            [
             0.3333333333333333,
             "#9c179e"
            ],
            [
             0.4444444444444444,
             "#bd3786"
            ],
            [
             0.5555555555555556,
             "#d8576b"
            ],
            [
             0.6666666666666666,
             "#ed7953"
            ],
            [
             0.7777777777777778,
             "#fb9f3a"
            ],
            [
             0.8888888888888888,
             "#fdca26"
            ],
            [
             1,
             "#f0f921"
            ]
           ]
          },
          "colorway": [
           "#636efa",
           "#EF553B",
           "#00cc96",
           "#ab63fa",
           "#FFA15A",
           "#19d3f3",
           "#FF6692",
           "#B6E880",
           "#FF97FF",
           "#FECB52"
          ],
          "font": {
           "color": "#2a3f5f"
          },
          "geo": {
           "bgcolor": "white",
           "lakecolor": "white",
           "landcolor": "white",
           "showlakes": true,
           "showland": true,
           "subunitcolor": "#C8D4E3"
          },
          "hoverlabel": {
           "align": "left"
          },
          "hovermode": "closest",
          "mapbox": {
           "style": "light"
          },
          "paper_bgcolor": "white",
          "plot_bgcolor": "white",
          "polar": {
           "angularaxis": {
            "gridcolor": "#EBF0F8",
            "linecolor": "#EBF0F8",
            "ticks": ""
           },
           "bgcolor": "white",
           "radialaxis": {
            "gridcolor": "#EBF0F8",
            "linecolor": "#EBF0F8",
            "ticks": ""
           }
          },
          "scene": {
           "xaxis": {
            "backgroundcolor": "white",
            "gridcolor": "#DFE8F3",
            "gridwidth": 2,
            "linecolor": "#EBF0F8",
            "showbackground": true,
            "ticks": "",
            "zerolinecolor": "#EBF0F8"
           },
           "yaxis": {
            "backgroundcolor": "white",
            "gridcolor": "#DFE8F3",
            "gridwidth": 2,
            "linecolor": "#EBF0F8",
            "showbackground": true,
            "ticks": "",
            "zerolinecolor": "#EBF0F8"
           },
           "zaxis": {
            "backgroundcolor": "white",
            "gridcolor": "#DFE8F3",
            "gridwidth": 2,
            "linecolor": "#EBF0F8",
            "showbackground": true,
            "ticks": "",
            "zerolinecolor": "#EBF0F8"
           }
          },
          "shapedefaults": {
           "line": {
            "color": "#2a3f5f"
           }
          },
          "ternary": {
           "aaxis": {
            "gridcolor": "#DFE8F3",
            "linecolor": "#A2B1C6",
            "ticks": ""
           },
           "baxis": {
            "gridcolor": "#DFE8F3",
            "linecolor": "#A2B1C6",
            "ticks": ""
           },
           "bgcolor": "white",
           "caxis": {
            "gridcolor": "#DFE8F3",
            "linecolor": "#A2B1C6",
            "ticks": ""
           }
          },
          "title": {
           "x": 0.05
          },
          "xaxis": {
           "automargin": true,
           "gridcolor": "#EBF0F8",
           "linecolor": "#EBF0F8",
           "ticks": "",
           "title": {
            "standoff": 15
           },
           "zerolinecolor": "#EBF0F8",
           "zerolinewidth": 2
          },
          "yaxis": {
           "automargin": true,
           "gridcolor": "#EBF0F8",
           "linecolor": "#EBF0F8",
           "ticks": "",
           "title": {
            "standoff": 15
           },
           "zerolinecolor": "#EBF0F8",
           "zerolinewidth": 2
          }
         }
        },
        "title": {
         "font": {
          "color": "Black",
          "size": 22
         },
         "text": "Topic Word Scores",
         "x": 0.5,
         "xanchor": "center",
         "yanchor": "top"
        },
        "width": 2600,
        "xaxis": {
         "anchor": "y",
         "domain": [
          0,
          0.175
         ],
         "showgrid": true
        },
        "xaxis10": {
         "anchor": "y10",
         "domain": [
          0.275,
          0.45
         ],
         "showgrid": true
        },
        "xaxis11": {
         "anchor": "y11",
         "domain": [
          0.55,
          0.7250000000000001
         ],
         "showgrid": true
        },
        "xaxis12": {
         "anchor": "y12",
         "domain": [
          0.825,
          1
         ],
         "showgrid": true
        },
        "xaxis2": {
         "anchor": "y2",
         "domain": [
          0.275,
          0.45
         ],
         "showgrid": true
        },
        "xaxis3": {
         "anchor": "y3",
         "domain": [
          0.55,
          0.7250000000000001
         ],
         "showgrid": true
        },
        "xaxis4": {
         "anchor": "y4",
         "domain": [
          0.825,
          1
         ],
         "showgrid": true
        },
        "xaxis5": {
         "anchor": "y5",
         "domain": [
          0,
          0.175
         ],
         "showgrid": true
        },
        "xaxis6": {
         "anchor": "y6",
         "domain": [
          0.275,
          0.45
         ],
         "showgrid": true
        },
        "xaxis7": {
         "anchor": "y7",
         "domain": [
          0.55,
          0.7250000000000001
         ],
         "showgrid": true
        },
        "xaxis8": {
         "anchor": "y8",
         "domain": [
          0.825,
          1
         ],
         "showgrid": true
        },
        "xaxis9": {
         "anchor": "y9",
         "domain": [
          0,
          0.175
         ],
         "showgrid": true
        },
        "yaxis": {
         "anchor": "x",
         "domain": [
          0.7555555555555555,
          1
         ],
         "showgrid": true
        },
        "yaxis10": {
         "anchor": "x10",
         "domain": [
          0,
          0.24444444444444446
         ],
         "showgrid": true
        },
        "yaxis11": {
         "anchor": "x11",
         "domain": [
          0,
          0.24444444444444446
         ],
         "showgrid": true
        },
        "yaxis12": {
         "anchor": "x12",
         "domain": [
          0,
          0.24444444444444446
         ],
         "showgrid": true
        },
        "yaxis2": {
         "anchor": "x2",
         "domain": [
          0.7555555555555555,
          1
         ],
         "showgrid": true
        },
        "yaxis3": {
         "anchor": "x3",
         "domain": [
          0.7555555555555555,
          1
         ],
         "showgrid": true
        },
        "yaxis4": {
         "anchor": "x4",
         "domain": [
          0.7555555555555555,
          1
         ],
         "showgrid": true
        },
        "yaxis5": {
         "anchor": "x5",
         "domain": [
          0.37777777777777777,
          0.6222222222222222
         ],
         "showgrid": true
        },
        "yaxis6": {
         "anchor": "x6",
         "domain": [
          0.37777777777777777,
          0.6222222222222222
         ],
         "showgrid": true
        },
        "yaxis7": {
         "anchor": "x7",
         "domain": [
          0.37777777777777777,
          0.6222222222222222
         ],
         "showgrid": true
        },
        "yaxis8": {
         "anchor": "x8",
         "domain": [
          0.37777777777777777,
          0.6222222222222222
         ],
         "showgrid": true
        },
        "yaxis9": {
         "anchor": "x9",
         "domain": [
          0,
          0.24444444444444446
         ],
         "showgrid": true
        }
       }
      }
     },
     "metadata": {},
     "output_type": "display_data"
    }
   ],
   "source": [
    "topic_model.visualize_barchart(top_n_topics=9, n_words=10, width=650, height=650)"
   ]
  },
  {
   "cell_type": "code",
   "execution_count": 20,
   "metadata": {},
   "outputs": [
    {
     "data": {
      "text/html": [
       "<div>\n",
       "<style scoped>\n",
       "    .dataframe tbody tr th:only-of-type {\n",
       "        vertical-align: middle;\n",
       "    }\n",
       "\n",
       "    .dataframe tbody tr th {\n",
       "        vertical-align: top;\n",
       "    }\n",
       "\n",
       "    .dataframe thead th {\n",
       "        text-align: right;\n",
       "    }\n",
       "</style>\n",
       "<table border=\"1\" class=\"dataframe\">\n",
       "  <thead>\n",
       "    <tr style=\"text-align: right;\">\n",
       "      <th></th>\n",
       "      <th>author</th>\n",
       "      <th>title</th>\n",
       "      <th>Datetime</th>\n",
       "      <th>season</th>\n",
       "      <th>score</th>\n",
       "      <th>WC</th>\n",
       "      <th>Tone</th>\n",
       "      <th>posemo</th>\n",
       "      <th>negemo</th>\n",
       "      <th>title_polarity</th>\n",
       "    </tr>\n",
       "  </thead>\n",
       "  <tbody>\n",
       "    <tr>\n",
       "      <th>0</th>\n",
       "      <td>Odd-Pizza-1079</td>\n",
       "      <td>much tylenol much asking friend actually</td>\n",
       "      <td>2022-07-28 23:50:15</td>\n",
       "      <td>Summer</td>\n",
       "      <td>1</td>\n",
       "      <td>12.0</td>\n",
       "      <td>25.77</td>\n",
       "      <td>0.00</td>\n",
       "      <td>0.00</td>\n",
       "      <td>0.13</td>\n",
       "    </tr>\n",
       "    <tr>\n",
       "      <th>1</th>\n",
       "      <td>Global_Face_4708</td>\n",
       "      <td>gabapentinlyricaclonidine telehealth</td>\n",
       "      <td>2022-07-28 23:22:43</td>\n",
       "      <td>Summer</td>\n",
       "      <td>1</td>\n",
       "      <td>5.0</td>\n",
       "      <td>25.77</td>\n",
       "      <td>0.00</td>\n",
       "      <td>0.00</td>\n",
       "      <td>0.00</td>\n",
       "    </tr>\n",
       "    <tr>\n",
       "      <th>2</th>\n",
       "      <td>Bluebeamtwinfn</td>\n",
       "      <td>opiates prolonging finishenhancing sex</td>\n",
       "      <td>2022-07-28 23:06:11</td>\n",
       "      <td>Summer</td>\n",
       "      <td>1</td>\n",
       "      <td>5.0</td>\n",
       "      <td>25.77</td>\n",
       "      <td>0.00</td>\n",
       "      <td>0.00</td>\n",
       "      <td>0.00</td>\n",
       "    </tr>\n",
       "    <tr>\n",
       "      <th>3</th>\n",
       "      <td>iLoveLuckiii</td>\n",
       "      <td>boost oxy high amp save money use</td>\n",
       "      <td>2022-07-28 22:49:43</td>\n",
       "      <td>Summer</td>\n",
       "      <td>1</td>\n",
       "      <td>13.0</td>\n",
       "      <td>99.00</td>\n",
       "      <td>7.69</td>\n",
       "      <td>0.00</td>\n",
       "      <td>0.16</td>\n",
       "    </tr>\n",
       "    <tr>\n",
       "      <th>4</th>\n",
       "      <td>Downtown_Syrup4635</td>\n",
       "      <td>iop detox working 95</td>\n",
       "      <td>2022-07-28 22:21:57</td>\n",
       "      <td>Summer</td>\n",
       "      <td>1</td>\n",
       "      <td>6.0</td>\n",
       "      <td>25.77</td>\n",
       "      <td>0.00</td>\n",
       "      <td>0.00</td>\n",
       "      <td>0.00</td>\n",
       "    </tr>\n",
       "    <tr>\n",
       "      <th>...</th>\n",
       "      <td>...</td>\n",
       "      <td>...</td>\n",
       "      <td>...</td>\n",
       "      <td>...</td>\n",
       "      <td>...</td>\n",
       "      <td>...</td>\n",
       "      <td>...</td>\n",
       "      <td>...</td>\n",
       "      <td>...</td>\n",
       "      <td>...</td>\n",
       "    </tr>\n",
       "    <tr>\n",
       "      <th>79671</th>\n",
       "      <td>Kriskross88</td>\n",
       "      <td>started nodding front friend last night kept s...</td>\n",
       "      <td>2019-06-25 00:32:36</td>\n",
       "      <td>Summer</td>\n",
       "      <td>6</td>\n",
       "      <td>38.0</td>\n",
       "      <td>1.00</td>\n",
       "      <td>0.00</td>\n",
       "      <td>10.53</td>\n",
       "      <td>-0.26</td>\n",
       "    </tr>\n",
       "    <tr>\n",
       "      <th>79672</th>\n",
       "      <td>Jupiterjigs1</td>\n",
       "      <td>best way use oxy 30s</td>\n",
       "      <td>2019-06-25 00:32:34</td>\n",
       "      <td>Summer</td>\n",
       "      <td>3</td>\n",
       "      <td>6.0</td>\n",
       "      <td>99.00</td>\n",
       "      <td>16.67</td>\n",
       "      <td>0.00</td>\n",
       "      <td>1.00</td>\n",
       "    </tr>\n",
       "    <tr>\n",
       "      <th>79673</th>\n",
       "      <td>FBIintern</td>\n",
       "      <td>not many homosexual use opiates</td>\n",
       "      <td>2019-06-25 00:23:52</td>\n",
       "      <td>Summer</td>\n",
       "      <td>0</td>\n",
       "      <td>9.0</td>\n",
       "      <td>25.77</td>\n",
       "      <td>0.00</td>\n",
       "      <td>0.00</td>\n",
       "      <td>-0.25</td>\n",
       "    </tr>\n",
       "    <tr>\n",
       "      <th>79674</th>\n",
       "      <td>AutomaticBrick3</td>\n",
       "      <td>stamp bags review</td>\n",
       "      <td>2019-06-25 00:17:35</td>\n",
       "      <td>Summer</td>\n",
       "      <td>0</td>\n",
       "      <td>3.0</td>\n",
       "      <td>25.77</td>\n",
       "      <td>0.00</td>\n",
       "      <td>0.00</td>\n",
       "      <td>0.00</td>\n",
       "    </tr>\n",
       "    <tr>\n",
       "      <th>79675</th>\n",
       "      <td>Bartard666</td>\n",
       "      <td>hows everyone</td>\n",
       "      <td>2019-06-25 00:13:22</td>\n",
       "      <td>Summer</td>\n",
       "      <td>3</td>\n",
       "      <td>3.0</td>\n",
       "      <td>25.77</td>\n",
       "      <td>0.00</td>\n",
       "      <td>0.00</td>\n",
       "      <td>0.00</td>\n",
       "    </tr>\n",
       "  </tbody>\n",
       "</table>\n",
       "<p>79674 rows × 10 columns</p>\n",
       "</div>"
      ],
      "text/plain": [
       "                   author                                              title  \\\n",
       "0          Odd-Pizza-1079           much tylenol much asking friend actually   \n",
       "1        Global_Face_4708               gabapentinlyricaclonidine telehealth   \n",
       "2          Bluebeamtwinfn             opiates prolonging finishenhancing sex   \n",
       "3            iLoveLuckiii                  boost oxy high amp save money use   \n",
       "4      Downtown_Syrup4635                               iop detox working 95   \n",
       "...                   ...                                                ...   \n",
       "79671         Kriskross88  started nodding front friend last night kept s...   \n",
       "79672        Jupiterjigs1                               best way use oxy 30s   \n",
       "79673           FBIintern                    not many homosexual use opiates   \n",
       "79674     AutomaticBrick3                                  stamp bags review   \n",
       "79675          Bartard666                                      hows everyone   \n",
       "\n",
       "                 Datetime  season score    WC   Tone  posemo  negemo  \\\n",
       "0     2022-07-28 23:50:15  Summer     1  12.0  25.77    0.00    0.00   \n",
       "1     2022-07-28 23:22:43  Summer     1   5.0  25.77    0.00    0.00   \n",
       "2     2022-07-28 23:06:11  Summer     1   5.0  25.77    0.00    0.00   \n",
       "3     2022-07-28 22:49:43  Summer     1  13.0  99.00    7.69    0.00   \n",
       "4     2022-07-28 22:21:57  Summer     1   6.0  25.77    0.00    0.00   \n",
       "...                   ...     ...   ...   ...    ...     ...     ...   \n",
       "79671 2019-06-25 00:32:36  Summer     6  38.0   1.00    0.00   10.53   \n",
       "79672 2019-06-25 00:32:34  Summer     3   6.0  99.00   16.67    0.00   \n",
       "79673 2019-06-25 00:23:52  Summer     0   9.0  25.77    0.00    0.00   \n",
       "79674 2019-06-25 00:17:35  Summer     0   3.0  25.77    0.00    0.00   \n",
       "79675 2019-06-25 00:13:22  Summer     3   3.0  25.77    0.00    0.00   \n",
       "\n",
       "       title_polarity  \n",
       "0                0.13  \n",
       "1                0.00  \n",
       "2                0.00  \n",
       "3                0.16  \n",
       "4                0.00  \n",
       "...               ...  \n",
       "79671           -0.26  \n",
       "79672            1.00  \n",
       "79673           -0.25  \n",
       "79674            0.00  \n",
       "79675            0.00  \n",
       "\n",
       "[79674 rows x 10 columns]"
      ]
     },
     "execution_count": 20,
     "metadata": {},
     "output_type": "execute_result"
    }
   ],
   "source": [
    "nlp = spacy.load('en_core_web_sm')\n",
    "nlp.add_pipe('spacytextblob')\n",
    "\n",
    "df_submissions['title_polarity'] = df_submissions['title'].apply(lambda x: round((nlp(x))._.blob.polarity, 2))\n",
    "df_submissions"
   ]
  },
  {
   "cell_type": "code",
   "execution_count": 21,
   "metadata": {},
   "outputs": [
    {
     "name": "stdout",
     "output_type": "stream",
     "text": [
      "Median Score: 1.0\n",
      "Accuracy: 0.9189206149984311\n"
     ]
    }
   ],
   "source": [
    "#Main Task #1: Random Forest Calssifier to predict scores based off of positive and negative emotion\n",
    "\n",
    "#Submissions\n",
    "\n",
    "# Convert 'score' column to numeric, setting errors='coerce' to convert non-numeric values to NaN\n",
    "# Then drop rows with NaN in 'score'\n",
    "df_submissions['score'] = pd.to_numeric(df_submissions['score'], errors='coerce')\n",
    "df_submissions.dropna(subset=['score'], inplace=True)\n",
    "\n",
    "#Scores above the median as 'higher'\n",
    "median_score = df_submissions['score'].median()\n",
    "df_submissions['higher_score'] = (df_submissions['score'] > median_score).astype(int)\n",
    "print('Median Score:', median_score)\n",
    "\n",
    "\n",
    "# Splitting the data\n",
    "X = df_submissions[['posemo', 'negemo','title_polarity']]\n",
    "y = df_submissions['higher_score']\n",
    "X_train, X_test, y_train, y_test = train_test_split(X, y, test_size=0.2, random_state=42)\n",
    "\n",
    "\n",
    "clf = RandomForestClassifier(random_state=42)\n",
    "clf.fit(X_train, y_train)\n",
    "\n",
    "y_pred = clf.predict(X_test)\n",
    "\n",
    "#Accruacy Score \n",
    "accuracy = accuracy_score(y_test, y_pred)\n",
    "print('Accuracy:', accuracy)"
   ]
  },
  {
   "cell_type": "code",
   "execution_count": 22,
   "metadata": {},
   "outputs": [
    {
     "name": "stdout",
     "output_type": "stream",
     "text": [
      "Feature Importances:\n",
      "posemo: 0.2200\n",
      "negemo: 0.2491\n",
      "title_polarity: 0.5309\n"
     ]
    }
   ],
   "source": [
    "#Feature Importance\n",
    "features = ['posemo', 'negemo','title_polarity']\n",
    "feature_importances = clf.feature_importances_\n",
    "\n",
    "# Mapping feature importances\n",
    "feature_importance_dict = dict(zip(features, feature_importances))\n",
    "\n",
    "print('Feature Importances:')\n",
    "for feature, importance in feature_importance_dict.items():\n",
    "    print(f'{feature}: {importance:.4f}')"
   ]
  },
  {
   "cell_type": "code",
   "execution_count": 23,
   "metadata": {},
   "outputs": [
    {
     "name": "stdout",
     "output_type": "stream",
     "text": [
      "Median Score: 1.0\n",
      "Accuracy: 0.8260203075709779\n"
     ]
    }
   ],
   "source": [
    "#Main Task #1: Random Forest Calssifier to predict scores based off of positive and negative emotion\n",
    "\n",
    "#Comments\n",
    "\n",
    "# Convert 'score' column to numeric, setting errors='coerce' to convert non-numeric values to null\n",
    "# Then drop rows with NaN in 'score'\n",
    "df_comments['score'] = pd.to_numeric(df_comments['score'], errors='coerce')\n",
    "df_comments.dropna(subset=['score'], inplace=True)\n",
    "\n",
    "#Scores above the median as 'higher'\n",
    "median_score = df_comments['score'].median()\n",
    "df_comments['higher_score'] = (df_comments['score'] > median_score).astype(int)\n",
    "print('Median Score:', median_score)\n",
    "\n",
    "\n",
    "# Splitting the data\n",
    "X = df_comments[['posemo', 'negemo']]\n",
    "y = df_comments['higher_score']\n",
    "X_train, X_test, y_train, y_test = train_test_split(X, y, test_size=0.2, random_state=42)\n",
    "\n",
    "\n",
    "clf = RandomForestClassifier(random_state=42)\n",
    "clf.fit(X_train, y_train)\n",
    "\n",
    "y_pred = clf.predict(X_test)\n",
    "\n",
    "#Accruacy Score \n",
    "accuracy = accuracy_score(y_test, y_pred)\n",
    "print('Accuracy:', accuracy)"
   ]
  },
  {
   "cell_type": "code",
   "execution_count": 24,
   "metadata": {},
   "outputs": [
    {
     "name": "stdout",
     "output_type": "stream",
     "text": [
      "Feature Importances:\n",
      "posemo: 0.5003\n",
      "negemo: 0.4997\n"
     ]
    }
   ],
   "source": [
    "#Feature Importance\n",
    "features = ['posemo', 'negemo']\n",
    "feature_importances = clf.feature_importances_\n",
    "\n",
    "# Mapping feature importances\n",
    "feature_importance_dict = dict(zip(features, feature_importances))\n",
    "\n",
    "print('Feature Importances:')\n",
    "for feature, importance in feature_importance_dict.items():\n",
    "    print(f'{feature}: {importance:.4f}')"
   ]
  },
  {
   "cell_type": "code",
   "execution_count": 25,
   "metadata": {},
   "outputs": [],
   "source": [
    "#df_submissions.to_csv('df_submissions.csv', index=False)"
   ]
  },
  {
   "cell_type": "code",
   "execution_count": null,
   "metadata": {},
   "outputs": [],
   "source": []
  },
  {
   "cell_type": "code",
   "execution_count": null,
   "metadata": {},
   "outputs": [],
   "source": []
  },
  {
   "cell_type": "code",
   "execution_count": null,
   "metadata": {},
   "outputs": [],
   "source": []
  },
  {
   "cell_type": "code",
   "execution_count": null,
   "metadata": {},
   "outputs": [],
   "source": []
  },
  {
   "cell_type": "code",
   "execution_count": null,
   "metadata": {},
   "outputs": [],
   "source": []
  },
  {
   "cell_type": "code",
   "execution_count": null,
   "metadata": {},
   "outputs": [],
   "source": []
  },
  {
   "cell_type": "code",
   "execution_count": null,
   "metadata": {},
   "outputs": [],
   "source": []
  },
  {
   "cell_type": "code",
   "execution_count": 26,
   "metadata": {},
   "outputs": [],
   "source": [
    "#Ignore "
   ]
  },
  {
   "cell_type": "code",
   "execution_count": 32,
   "metadata": {},
   "outputs": [
    {
     "data": {
      "text/html": [
       "<div>\n",
       "<style scoped>\n",
       "    .dataframe tbody tr th:only-of-type {\n",
       "        vertical-align: middle;\n",
       "    }\n",
       "\n",
       "    .dataframe tbody tr th {\n",
       "        vertical-align: top;\n",
       "    }\n",
       "\n",
       "    .dataframe thead th {\n",
       "        text-align: right;\n",
       "    }\n",
       "</style>\n",
       "<table border=\"1\" class=\"dataframe\">\n",
       "  <thead>\n",
       "    <tr style=\"text-align: right;\">\n",
       "      <th></th>\n",
       "      <th>score</th>\n",
       "      <th>posemo</th>\n",
       "      <th>negemo</th>\n",
       "      <th>title_polarity</th>\n",
       "      <th>season_Fall</th>\n",
       "      <th>season_Spring</th>\n",
       "      <th>season_Summer</th>\n",
       "      <th>season_Winter</th>\n",
       "    </tr>\n",
       "  </thead>\n",
       "  <tbody>\n",
       "    <tr>\n",
       "      <th>0</th>\n",
       "      <td>1.0</td>\n",
       "      <td>0.00</td>\n",
       "      <td>0.0</td>\n",
       "      <td>0.13</td>\n",
       "      <td>0.0</td>\n",
       "      <td>0.0</td>\n",
       "      <td>1.0</td>\n",
       "      <td>0.0</td>\n",
       "    </tr>\n",
       "    <tr>\n",
       "      <th>1</th>\n",
       "      <td>1.0</td>\n",
       "      <td>0.00</td>\n",
       "      <td>0.0</td>\n",
       "      <td>0.00</td>\n",
       "      <td>0.0</td>\n",
       "      <td>0.0</td>\n",
       "      <td>1.0</td>\n",
       "      <td>0.0</td>\n",
       "    </tr>\n",
       "    <tr>\n",
       "      <th>2</th>\n",
       "      <td>1.0</td>\n",
       "      <td>0.00</td>\n",
       "      <td>0.0</td>\n",
       "      <td>0.00</td>\n",
       "      <td>0.0</td>\n",
       "      <td>0.0</td>\n",
       "      <td>1.0</td>\n",
       "      <td>0.0</td>\n",
       "    </tr>\n",
       "    <tr>\n",
       "      <th>3</th>\n",
       "      <td>1.0</td>\n",
       "      <td>7.69</td>\n",
       "      <td>0.0</td>\n",
       "      <td>0.16</td>\n",
       "      <td>0.0</td>\n",
       "      <td>0.0</td>\n",
       "      <td>1.0</td>\n",
       "      <td>0.0</td>\n",
       "    </tr>\n",
       "    <tr>\n",
       "      <th>4</th>\n",
       "      <td>1.0</td>\n",
       "      <td>0.00</td>\n",
       "      <td>0.0</td>\n",
       "      <td>0.00</td>\n",
       "      <td>0.0</td>\n",
       "      <td>0.0</td>\n",
       "      <td>1.0</td>\n",
       "      <td>0.0</td>\n",
       "    </tr>\n",
       "  </tbody>\n",
       "</table>\n",
       "</div>"
      ],
      "text/plain": [
       "   score  posemo  negemo  title_polarity  season_Fall  season_Spring  \\\n",
       "0    1.0    0.00     0.0            0.13          0.0            0.0   \n",
       "1    1.0    0.00     0.0            0.00          0.0            0.0   \n",
       "2    1.0    0.00     0.0            0.00          0.0            0.0   \n",
       "3    1.0    7.69     0.0            0.16          0.0            0.0   \n",
       "4    1.0    0.00     0.0            0.00          0.0            0.0   \n",
       "\n",
       "   season_Summer  season_Winter  \n",
       "0            1.0            0.0  \n",
       "1            1.0            0.0  \n",
       "2            1.0            0.0  \n",
       "3            1.0            0.0  \n",
       "4            1.0            0.0  "
      ]
     },
     "execution_count": 32,
     "metadata": {},
     "output_type": "execute_result"
    }
   ],
   "source": [
    "\n",
    "# Normalizing the numeric columns\n",
    "scaler = MinMaxScaler()\n",
    "df_submissions[['score_normalized', 'posemo_normalized', 'negemo_normalized', 'title_polarity_normalized']] = scaler.fit_transform(df_submissions[['score', 'posemo', 'negemo', 'title_polarity']])\n",
    "\n",
    "# Encoding the season column\n",
    "encoder = OneHotEncoder()\n",
    "season_encoded = encoder.fit_transform(df_submissions[['season']]).toarray()\n",
    "season_encoded_df = pd.DataFrame(season_encoded, columns=encoder.get_feature_names_out(['season']))\n",
    "\n",
    "# Combining the normalized and encoded features\n",
    "features_df_sub = pd.concat([df_submissions[['score', 'posemo', 'negemo', 'title_polarity']], season_encoded_df], axis=1)\n",
    "features_df_sub.head()"
   ]
  },
  {
   "cell_type": "code",
   "execution_count": 37,
   "metadata": {},
   "outputs": [],
   "source": [
    "features_df_sub = features_df_sub.dropna()"
   ]
  },
  {
   "cell_type": "code",
   "execution_count": 35,
   "metadata": {},
   "outputs": [],
   "source": [
    "df_submissions = df_submissions.dropna()"
   ]
  },
  {
   "cell_type": "code",
   "execution_count": 39,
   "metadata": {},
   "outputs": [
    {
     "data": {
      "text/html": [
       "<div>\n",
       "<style scoped>\n",
       "    .dataframe tbody tr th:only-of-type {\n",
       "        vertical-align: middle;\n",
       "    }\n",
       "\n",
       "    .dataframe tbody tr th {\n",
       "        vertical-align: top;\n",
       "    }\n",
       "\n",
       "    .dataframe thead th {\n",
       "        text-align: right;\n",
       "    }\n",
       "</style>\n",
       "<table border=\"1\" class=\"dataframe\">\n",
       "  <thead>\n",
       "    <tr style=\"text-align: right;\">\n",
       "      <th></th>\n",
       "      <th>author</th>\n",
       "      <th>title</th>\n",
       "      <th>Datetime</th>\n",
       "      <th>season</th>\n",
       "      <th>score</th>\n",
       "      <th>WC</th>\n",
       "      <th>Tone</th>\n",
       "      <th>posemo</th>\n",
       "      <th>negemo</th>\n",
       "      <th>title_polarity</th>\n",
       "      <th>higher_score</th>\n",
       "      <th>score_normalized</th>\n",
       "      <th>posemo_normalized</th>\n",
       "      <th>negemo_normalized</th>\n",
       "      <th>title_polarity_normalized</th>\n",
       "    </tr>\n",
       "  </thead>\n",
       "  <tbody>\n",
       "    <tr>\n",
       "      <th>0</th>\n",
       "      <td>Odd-Pizza-1079</td>\n",
       "      <td>much tylenol much asking friend actually</td>\n",
       "      <td>2022-07-28 23:50:15</td>\n",
       "      <td>Summer</td>\n",
       "      <td>1</td>\n",
       "      <td>12.0</td>\n",
       "      <td>25.77</td>\n",
       "      <td>0.00</td>\n",
       "      <td>0.0</td>\n",
       "      <td>0.13</td>\n",
       "      <td>0</td>\n",
       "      <td>0.001953</td>\n",
       "      <td>0.0000</td>\n",
       "      <td>0.0</td>\n",
       "      <td>0.565</td>\n",
       "    </tr>\n",
       "    <tr>\n",
       "      <th>1</th>\n",
       "      <td>Global_Face_4708</td>\n",
       "      <td>gabapentinlyricaclonidine telehealth</td>\n",
       "      <td>2022-07-28 23:22:43</td>\n",
       "      <td>Summer</td>\n",
       "      <td>1</td>\n",
       "      <td>5.0</td>\n",
       "      <td>25.77</td>\n",
       "      <td>0.00</td>\n",
       "      <td>0.0</td>\n",
       "      <td>0.00</td>\n",
       "      <td>0</td>\n",
       "      <td>0.001953</td>\n",
       "      <td>0.0000</td>\n",
       "      <td>0.0</td>\n",
       "      <td>0.500</td>\n",
       "    </tr>\n",
       "    <tr>\n",
       "      <th>2</th>\n",
       "      <td>Bluebeamtwinfn</td>\n",
       "      <td>opiates prolonging finishenhancing sex</td>\n",
       "      <td>2022-07-28 23:06:11</td>\n",
       "      <td>Summer</td>\n",
       "      <td>1</td>\n",
       "      <td>5.0</td>\n",
       "      <td>25.77</td>\n",
       "      <td>0.00</td>\n",
       "      <td>0.0</td>\n",
       "      <td>0.00</td>\n",
       "      <td>0</td>\n",
       "      <td>0.001953</td>\n",
       "      <td>0.0000</td>\n",
       "      <td>0.0</td>\n",
       "      <td>0.500</td>\n",
       "    </tr>\n",
       "    <tr>\n",
       "      <th>3</th>\n",
       "      <td>iLoveLuckiii</td>\n",
       "      <td>boost oxy high amp save money use</td>\n",
       "      <td>2022-07-28 22:49:43</td>\n",
       "      <td>Summer</td>\n",
       "      <td>1</td>\n",
       "      <td>13.0</td>\n",
       "      <td>99.00</td>\n",
       "      <td>7.69</td>\n",
       "      <td>0.0</td>\n",
       "      <td>0.16</td>\n",
       "      <td>0</td>\n",
       "      <td>0.001953</td>\n",
       "      <td>0.0769</td>\n",
       "      <td>0.0</td>\n",
       "      <td>0.580</td>\n",
       "    </tr>\n",
       "    <tr>\n",
       "      <th>4</th>\n",
       "      <td>Downtown_Syrup4635</td>\n",
       "      <td>iop detox working 95</td>\n",
       "      <td>2022-07-28 22:21:57</td>\n",
       "      <td>Summer</td>\n",
       "      <td>1</td>\n",
       "      <td>6.0</td>\n",
       "      <td>25.77</td>\n",
       "      <td>0.00</td>\n",
       "      <td>0.0</td>\n",
       "      <td>0.00</td>\n",
       "      <td>0</td>\n",
       "      <td>0.001953</td>\n",
       "      <td>0.0000</td>\n",
       "      <td>0.0</td>\n",
       "      <td>0.500</td>\n",
       "    </tr>\n",
       "  </tbody>\n",
       "</table>\n",
       "</div>"
      ],
      "text/plain": [
       "               author                                     title  \\\n",
       "0      Odd-Pizza-1079  much tylenol much asking friend actually   \n",
       "1    Global_Face_4708      gabapentinlyricaclonidine telehealth   \n",
       "2      Bluebeamtwinfn    opiates prolonging finishenhancing sex   \n",
       "3        iLoveLuckiii         boost oxy high amp save money use   \n",
       "4  Downtown_Syrup4635                      iop detox working 95   \n",
       "\n",
       "             Datetime  season  score    WC   Tone  posemo  negemo  \\\n",
       "0 2022-07-28 23:50:15  Summer      1  12.0  25.77    0.00     0.0   \n",
       "1 2022-07-28 23:22:43  Summer      1   5.0  25.77    0.00     0.0   \n",
       "2 2022-07-28 23:06:11  Summer      1   5.0  25.77    0.00     0.0   \n",
       "3 2022-07-28 22:49:43  Summer      1  13.0  99.00    7.69     0.0   \n",
       "4 2022-07-28 22:21:57  Summer      1   6.0  25.77    0.00     0.0   \n",
       "\n",
       "   title_polarity  higher_score  score_normalized  posemo_normalized  \\\n",
       "0            0.13             0          0.001953             0.0000   \n",
       "1            0.00             0          0.001953             0.0000   \n",
       "2            0.00             0          0.001953             0.0000   \n",
       "3            0.16             0          0.001953             0.0769   \n",
       "4            0.00             0          0.001953             0.0000   \n",
       "\n",
       "   negemo_normalized  title_polarity_normalized  \n",
       "0                0.0                      0.565  \n",
       "1                0.0                      0.500  \n",
       "2                0.0                      0.500  \n",
       "3                0.0                      0.580  \n",
       "4                0.0                      0.500  "
      ]
     },
     "execution_count": 39,
     "metadata": {},
     "output_type": "execute_result"
    }
   ],
   "source": [
    "df_submissions.head()"
   ]
  },
  {
   "cell_type": "code",
   "execution_count": null,
   "metadata": {},
   "outputs": [],
   "source": []
  },
  {
   "cell_type": "code",
   "execution_count": null,
   "metadata": {},
   "outputs": [],
   "source": []
  },
  {
   "cell_type": "code",
   "execution_count": null,
   "metadata": {},
   "outputs": [],
   "source": []
  },
  {
   "cell_type": "code",
   "execution_count": 30,
   "metadata": {},
   "outputs": [
    {
     "data": {
      "text/plain": [
       "\"\\nfrom sklearn.cluster import KMeans\\nimport matplotlib.pyplot as plt\\n\\n# Applying K-Means Clustering\\nkmeans = KMeans(n_clusters=4, random_state=0)\\nclusters = kmeans.fit_predict(features_df_sub)\\n\\n# Adding cluster labels to the dataframe\\ndf_submissions['Cluster'] = clusters\\n\\n\\n# Plotting the clusters\\nplt.figure(figsize=(10, 6), facecolor='white')\\nplt.scatter(features_df_sub['Datetime'], df_submissions['score'], c=features_df_sub['Cluster'], cmap='viridis', alpha=0.5)\\nplt.title('Cluster Distribution Over Time')\\nplt.xlabel('Date')\\nplt.ylabel('Score')\\nplt.colorbar(label='Cluster')\\nplt.show()\\nprint('Clustering complete. Clusters are visualized based on the score over time.')\\n\""
      ]
     },
     "execution_count": 30,
     "metadata": {},
     "output_type": "execute_result"
    }
   ],
   "source": [
    "'''\n",
    "from sklearn.cluster import KMeans\n",
    "import matplotlib.pyplot as plt\n",
    "\n",
    "# Applying K-Means Clustering\n",
    "kmeans = KMeans(n_clusters=4, random_state=0)\n",
    "clusters = kmeans.fit_predict(features_df_sub)\n",
    "\n",
    "# Adding cluster labels to the dataframe\n",
    "df_submissions['Cluster'] = clusters\n",
    "\n",
    "\n",
    "# Plotting the clusters\n",
    "plt.figure(figsize=(10, 6), facecolor='white')\n",
    "plt.scatter(features_df_sub['Datetime'], df_submissions['score'], c=features_df_sub['Cluster'], cmap='viridis', alpha=0.5)\n",
    "plt.title('Cluster Distribution Over Time')\n",
    "plt.xlabel('Date')\n",
    "plt.ylabel('Score')\n",
    "plt.colorbar(label='Cluster')\n",
    "plt.show()\n",
    "print('Clustering complete. Clusters are visualized based on the score over time.')\n",
    "'''\n"
   ]
  },
  {
   "cell_type": "code",
   "execution_count": 31,
   "metadata": {},
   "outputs": [
    {
     "ename": "KeyError",
     "evalue": "'Cluster'",
     "output_type": "error",
     "traceback": [
      "\u001b[0;31m---------------------------------------------------------------------------\u001b[0m",
      "\u001b[0;31mKeyError\u001b[0m                                  Traceback (most recent call last)",
      "File \u001b[0;32m~/anaconda3/lib/python3.11/site-packages/pandas/core/indexes/base.py:3653\u001b[0m, in \u001b[0;36mIndex.get_loc\u001b[0;34m(self, key)\u001b[0m\n\u001b[1;32m   3652\u001b[0m \u001b[38;5;28;01mtry\u001b[39;00m:\n\u001b[0;32m-> 3653\u001b[0m     \u001b[38;5;28;01mreturn\u001b[39;00m \u001b[38;5;28mself\u001b[39m\u001b[38;5;241m.\u001b[39m_engine\u001b[38;5;241m.\u001b[39mget_loc(casted_key)\n\u001b[1;32m   3654\u001b[0m \u001b[38;5;28;01mexcept\u001b[39;00m \u001b[38;5;167;01mKeyError\u001b[39;00m \u001b[38;5;28;01mas\u001b[39;00m err:\n",
      "File \u001b[0;32m~/anaconda3/lib/python3.11/site-packages/pandas/_libs/index.pyx:147\u001b[0m, in \u001b[0;36mpandas._libs.index.IndexEngine.get_loc\u001b[0;34m()\u001b[0m\n",
      "File \u001b[0;32m~/anaconda3/lib/python3.11/site-packages/pandas/_libs/index.pyx:176\u001b[0m, in \u001b[0;36mpandas._libs.index.IndexEngine.get_loc\u001b[0;34m()\u001b[0m\n",
      "File \u001b[0;32mpandas/_libs/hashtable_class_helper.pxi:7080\u001b[0m, in \u001b[0;36mpandas._libs.hashtable.PyObjectHashTable.get_item\u001b[0;34m()\u001b[0m\n",
      "File \u001b[0;32mpandas/_libs/hashtable_class_helper.pxi:7088\u001b[0m, in \u001b[0;36mpandas._libs.hashtable.PyObjectHashTable.get_item\u001b[0;34m()\u001b[0m\n",
      "\u001b[0;31mKeyError\u001b[0m: 'Cluster'",
      "\nThe above exception was the direct cause of the following exception:\n",
      "\u001b[0;31mKeyError\u001b[0m                                  Traceback (most recent call last)",
      "Cell \u001b[0;32mIn[31], line 6\u001b[0m\n\u001b[1;32m      4\u001b[0m season_color_values \u001b[38;5;241m=\u001b[39m df_submissions[\u001b[38;5;124m'\u001b[39m\u001b[38;5;124mseason\u001b[39m\u001b[38;5;124m'\u001b[39m]\u001b[38;5;241m.\u001b[39mmap(season_colors)\n\u001b[1;32m      5\u001b[0m plt\u001b[38;5;241m.\u001b[39mfigure(figsize\u001b[38;5;241m=\u001b[39m(\u001b[38;5;241m10\u001b[39m, \u001b[38;5;241m6\u001b[39m), facecolor\u001b[38;5;241m=\u001b[39m\u001b[38;5;124m'\u001b[39m\u001b[38;5;124mwhite\u001b[39m\u001b[38;5;124m'\u001b[39m)\n\u001b[0;32m----> 6\u001b[0m plt\u001b[38;5;241m.\u001b[39mscatter(df_submissions[\u001b[38;5;124m'\u001b[39m\u001b[38;5;124mposemo\u001b[39m\u001b[38;5;124m'\u001b[39m], df_submissions[\u001b[38;5;124m'\u001b[39m\u001b[38;5;124mnegemo\u001b[39m\u001b[38;5;124m'\u001b[39m], c\u001b[38;5;241m=\u001b[39mdf_submissions[\u001b[38;5;124m'\u001b[39m\u001b[38;5;124mCluster\u001b[39m\u001b[38;5;124m'\u001b[39m], cmap\u001b[38;5;241m=\u001b[39m\u001b[38;5;124m'\u001b[39m\u001b[38;5;124mviridis\u001b[39m\u001b[38;5;124m'\u001b[39m, alpha\u001b[38;5;241m=\u001b[39m\u001b[38;5;241m0.5\u001b[39m)\n\u001b[1;32m      7\u001b[0m plt\u001b[38;5;241m.\u001b[39mtitle(\u001b[38;5;124m'\u001b[39m\u001b[38;5;124mClusters of Posts Based on Normalized Emotional Scores\u001b[39m\u001b[38;5;124m'\u001b[39m)\n\u001b[1;32m      8\u001b[0m plt\u001b[38;5;241m.\u001b[39mxlabel(\u001b[38;5;124m'\u001b[39m\u001b[38;5;124mNormalized Positive Emotion Score\u001b[39m\u001b[38;5;124m'\u001b[39m)\n",
      "File \u001b[0;32m~/anaconda3/lib/python3.11/site-packages/pandas/core/frame.py:3761\u001b[0m, in \u001b[0;36mDataFrame.__getitem__\u001b[0;34m(self, key)\u001b[0m\n\u001b[1;32m   3759\u001b[0m \u001b[38;5;28;01mif\u001b[39;00m \u001b[38;5;28mself\u001b[39m\u001b[38;5;241m.\u001b[39mcolumns\u001b[38;5;241m.\u001b[39mnlevels \u001b[38;5;241m>\u001b[39m \u001b[38;5;241m1\u001b[39m:\n\u001b[1;32m   3760\u001b[0m     \u001b[38;5;28;01mreturn\u001b[39;00m \u001b[38;5;28mself\u001b[39m\u001b[38;5;241m.\u001b[39m_getitem_multilevel(key)\n\u001b[0;32m-> 3761\u001b[0m indexer \u001b[38;5;241m=\u001b[39m \u001b[38;5;28mself\u001b[39m\u001b[38;5;241m.\u001b[39mcolumns\u001b[38;5;241m.\u001b[39mget_loc(key)\n\u001b[1;32m   3762\u001b[0m \u001b[38;5;28;01mif\u001b[39;00m is_integer(indexer):\n\u001b[1;32m   3763\u001b[0m     indexer \u001b[38;5;241m=\u001b[39m [indexer]\n",
      "File \u001b[0;32m~/anaconda3/lib/python3.11/site-packages/pandas/core/indexes/base.py:3655\u001b[0m, in \u001b[0;36mIndex.get_loc\u001b[0;34m(self, key)\u001b[0m\n\u001b[1;32m   3653\u001b[0m     \u001b[38;5;28;01mreturn\u001b[39;00m \u001b[38;5;28mself\u001b[39m\u001b[38;5;241m.\u001b[39m_engine\u001b[38;5;241m.\u001b[39mget_loc(casted_key)\n\u001b[1;32m   3654\u001b[0m \u001b[38;5;28;01mexcept\u001b[39;00m \u001b[38;5;167;01mKeyError\u001b[39;00m \u001b[38;5;28;01mas\u001b[39;00m err:\n\u001b[0;32m-> 3655\u001b[0m     \u001b[38;5;28;01mraise\u001b[39;00m \u001b[38;5;167;01mKeyError\u001b[39;00m(key) \u001b[38;5;28;01mfrom\u001b[39;00m \u001b[38;5;21;01merr\u001b[39;00m\n\u001b[1;32m   3656\u001b[0m \u001b[38;5;28;01mexcept\u001b[39;00m \u001b[38;5;167;01mTypeError\u001b[39;00m:\n\u001b[1;32m   3657\u001b[0m     \u001b[38;5;66;03m# If we have a listlike key, _check_indexing_error will raise\u001b[39;00m\n\u001b[1;32m   3658\u001b[0m     \u001b[38;5;66;03m#  InvalidIndexError. Otherwise we fall through and re-raise\u001b[39;00m\n\u001b[1;32m   3659\u001b[0m     \u001b[38;5;66;03m#  the TypeError.\u001b[39;00m\n\u001b[1;32m   3660\u001b[0m     \u001b[38;5;28mself\u001b[39m\u001b[38;5;241m.\u001b[39m_check_indexing_error(key)\n",
      "\u001b[0;31mKeyError\u001b[0m: 'Cluster'"
     ]
    },
    {
     "data": {
      "text/plain": [
       "<Figure size 1000x600 with 0 Axes>"
      ]
     },
     "metadata": {},
     "output_type": "display_data"
    }
   ],
   "source": [
    "\n",
    "# Visualizing the clusters using a scatter plot\n",
    "\n",
    "season_colors = {'Winter': 'blue', 'Spring': 'green', 'Summer': 'yellow', 'Fall': 'red'}\n",
    "season_color_values = df_submissions['season'].map(season_colors)\n",
    "plt.figure(figsize=(10, 6), facecolor='white')\n",
    "plt.scatter(df_submissions['posemo'], df_submissions['negemo'], c=df_submissions['Cluster'], cmap='viridis', alpha=0.5)\n",
    "plt.title('Clusters of Posts Based on Normalized Emotional Scores')\n",
    "plt.xlabel('Normalized Positive Emotion Score')\n",
    "plt.ylabel('Normalized Negative Emotion Score')\n",
    "plt.colorbar(label='Cluster')\n",
    "plt.show()\n",
    "print('Scatter plot of clusters based on normalized emotional scores displayed.')\n"
   ]
  }
 ],
 "metadata": {
  "kernelspec": {
   "display_name": "Python 3.10(capstone)",
   "language": "python",
   "name": "acv"
  },
  "language_info": {
   "codemirror_mode": {
    "name": "ipython",
    "version": 3
   },
   "file_extension": ".py",
   "mimetype": "text/x-python",
   "name": "python",
   "nbconvert_exporter": "python",
   "pygments_lexer": "ipython3",
   "version": "3.11.5"
  }
 },
 "nbformat": 4,
 "nbformat_minor": 2
}
