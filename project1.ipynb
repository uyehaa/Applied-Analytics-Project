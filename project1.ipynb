{
 "cells": [
  {
   "cell_type": "code",
   "execution_count": 8,
   "metadata": {},
   "outputs": [
    {
     "name": "stdout",
     "output_type": "stream",
     "text": [
      "Requirement already satisfied: bertopic in /Users/amadouyehara/anaconda3/lib/python3.11/site-packages (0.16.1)\n",
      "Requirement already satisfied: numpy>=1.20.0 in /Users/amadouyehara/anaconda3/lib/python3.11/site-packages (from bertopic) (1.24.3)\n",
      "Requirement already satisfied: hdbscan>=0.8.29 in /Users/amadouyehara/anaconda3/lib/python3.11/site-packages (from bertopic) (0.8.33)\n",
      "Requirement already satisfied: umap-learn>=0.5.0 in /Users/amadouyehara/anaconda3/lib/python3.11/site-packages (from bertopic) (0.5.5)\n",
      "Requirement already satisfied: pandas>=1.1.5 in /Users/amadouyehara/anaconda3/lib/python3.11/site-packages (from bertopic) (2.0.3)\n",
      "Requirement already satisfied: scikit-learn>=0.22.2.post1 in /Users/amadouyehara/anaconda3/lib/python3.11/site-packages (from bertopic) (1.3.0)\n",
      "Requirement already satisfied: tqdm>=4.41.1 in /Users/amadouyehara/anaconda3/lib/python3.11/site-packages (from bertopic) (4.65.0)\n",
      "Requirement already satisfied: sentence-transformers>=0.4.1 in /Users/amadouyehara/anaconda3/lib/python3.11/site-packages (from bertopic) (2.6.1)\n",
      "Requirement already satisfied: plotly>=4.7.0 in /Users/amadouyehara/anaconda3/lib/python3.11/site-packages (from bertopic) (5.9.0)\n",
      "Requirement already satisfied: cython<3,>=0.27 in /Users/amadouyehara/anaconda3/lib/python3.11/site-packages (from hdbscan>=0.8.29->bertopic) (0.29.37)\n",
      "Requirement already satisfied: scipy>=1.0 in /Users/amadouyehara/anaconda3/lib/python3.11/site-packages (from hdbscan>=0.8.29->bertopic) (1.11.1)\n",
      "Requirement already satisfied: joblib>=1.0 in /Users/amadouyehara/anaconda3/lib/python3.11/site-packages (from hdbscan>=0.8.29->bertopic) (1.2.0)\n",
      "Requirement already satisfied: python-dateutil>=2.8.2 in /Users/amadouyehara/anaconda3/lib/python3.11/site-packages (from pandas>=1.1.5->bertopic) (2.8.2)\n",
      "Requirement already satisfied: pytz>=2020.1 in /Users/amadouyehara/anaconda3/lib/python3.11/site-packages (from pandas>=1.1.5->bertopic) (2023.3.post1)\n",
      "Requirement already satisfied: tzdata>=2022.1 in /Users/amadouyehara/anaconda3/lib/python3.11/site-packages (from pandas>=1.1.5->bertopic) (2023.3)\n",
      "Requirement already satisfied: tenacity>=6.2.0 in /Users/amadouyehara/anaconda3/lib/python3.11/site-packages (from plotly>=4.7.0->bertopic) (8.2.2)\n",
      "Requirement already satisfied: threadpoolctl>=2.0.0 in /Users/amadouyehara/anaconda3/lib/python3.11/site-packages (from scikit-learn>=0.22.2.post1->bertopic) (2.2.0)\n",
      "Requirement already satisfied: transformers<5.0.0,>=4.32.0 in /Users/amadouyehara/anaconda3/lib/python3.11/site-packages (from sentence-transformers>=0.4.1->bertopic) (4.40.0)\n",
      "Requirement already satisfied: torch>=1.11.0 in /Users/amadouyehara/anaconda3/lib/python3.11/site-packages (from sentence-transformers>=0.4.1->bertopic) (2.1.2)\n",
      "Requirement already satisfied: huggingface-hub>=0.15.1 in /Users/amadouyehara/anaconda3/lib/python3.11/site-packages (from sentence-transformers>=0.4.1->bertopic) (0.22.2)\n",
      "Requirement already satisfied: Pillow in /Users/amadouyehara/anaconda3/lib/python3.11/site-packages (from sentence-transformers>=0.4.1->bertopic) (9.4.0)\n",
      "Requirement already satisfied: numba>=0.51.2 in /Users/amadouyehara/anaconda3/lib/python3.11/site-packages (from umap-learn>=0.5.0->bertopic) (0.57.1)\n",
      "Requirement already satisfied: pynndescent>=0.5 in /Users/amadouyehara/anaconda3/lib/python3.11/site-packages (from umap-learn>=0.5.0->bertopic) (0.5.12)\n",
      "Requirement already satisfied: filelock in /Users/amadouyehara/anaconda3/lib/python3.11/site-packages (from huggingface-hub>=0.15.1->sentence-transformers>=0.4.1->bertopic) (3.9.0)\n",
      "Requirement already satisfied: fsspec>=2023.5.0 in /Users/amadouyehara/anaconda3/lib/python3.11/site-packages (from huggingface-hub>=0.15.1->sentence-transformers>=0.4.1->bertopic) (2024.3.1)\n",
      "Requirement already satisfied: packaging>=20.9 in /Users/amadouyehara/anaconda3/lib/python3.11/site-packages (from huggingface-hub>=0.15.1->sentence-transformers>=0.4.1->bertopic) (23.2)\n",
      "Requirement already satisfied: pyyaml>=5.1 in /Users/amadouyehara/anaconda3/lib/python3.11/site-packages (from huggingface-hub>=0.15.1->sentence-transformers>=0.4.1->bertopic) (6.0)\n",
      "Requirement already satisfied: requests in /Users/amadouyehara/anaconda3/lib/python3.11/site-packages (from huggingface-hub>=0.15.1->sentence-transformers>=0.4.1->bertopic) (2.31.0)\n",
      "Requirement already satisfied: typing-extensions>=3.7.4.3 in /Users/amadouyehara/anaconda3/lib/python3.11/site-packages (from huggingface-hub>=0.15.1->sentence-transformers>=0.4.1->bertopic) (4.7.1)\n",
      "Requirement already satisfied: llvmlite<0.41,>=0.40.0dev0 in /Users/amadouyehara/anaconda3/lib/python3.11/site-packages (from numba>=0.51.2->umap-learn>=0.5.0->bertopic) (0.40.0)\n",
      "Requirement already satisfied: six>=1.5 in /Users/amadouyehara/anaconda3/lib/python3.11/site-packages (from python-dateutil>=2.8.2->pandas>=1.1.5->bertopic) (1.16.0)\n",
      "Requirement already satisfied: sympy in /Users/amadouyehara/anaconda3/lib/python3.11/site-packages (from torch>=1.11.0->sentence-transformers>=0.4.1->bertopic) (1.11.1)\n",
      "Requirement already satisfied: networkx in /Users/amadouyehara/anaconda3/lib/python3.11/site-packages (from torch>=1.11.0->sentence-transformers>=0.4.1->bertopic) (3.1)\n",
      "Requirement already satisfied: jinja2 in /Users/amadouyehara/anaconda3/lib/python3.11/site-packages (from torch>=1.11.0->sentence-transformers>=0.4.1->bertopic) (3.1.2)\n",
      "Requirement already satisfied: regex!=2019.12.17 in /Users/amadouyehara/anaconda3/lib/python3.11/site-packages (from transformers<5.0.0,>=4.32.0->sentence-transformers>=0.4.1->bertopic) (2022.7.9)\n",
      "Requirement already satisfied: tokenizers<0.20,>=0.19 in /Users/amadouyehara/anaconda3/lib/python3.11/site-packages (from transformers<5.0.0,>=4.32.0->sentence-transformers>=0.4.1->bertopic) (0.19.1)\n",
      "Requirement already satisfied: safetensors>=0.4.1 in /Users/amadouyehara/anaconda3/lib/python3.11/site-packages (from transformers<5.0.0,>=4.32.0->sentence-transformers>=0.4.1->bertopic) (0.4.2)\n",
      "Requirement already satisfied: MarkupSafe>=2.0 in /Users/amadouyehara/anaconda3/lib/python3.11/site-packages (from jinja2->torch>=1.11.0->sentence-transformers>=0.4.1->bertopic) (2.1.1)\n",
      "Requirement already satisfied: charset-normalizer<4,>=2 in /Users/amadouyehara/anaconda3/lib/python3.11/site-packages (from requests->huggingface-hub>=0.15.1->sentence-transformers>=0.4.1->bertopic) (2.0.4)\n",
      "Requirement already satisfied: idna<4,>=2.5 in /Users/amadouyehara/anaconda3/lib/python3.11/site-packages (from requests->huggingface-hub>=0.15.1->sentence-transformers>=0.4.1->bertopic) (3.4)\n",
      "Requirement already satisfied: urllib3<3,>=1.21.1 in /Users/amadouyehara/anaconda3/lib/python3.11/site-packages (from requests->huggingface-hub>=0.15.1->sentence-transformers>=0.4.1->bertopic) (1.26.16)\n",
      "Requirement already satisfied: certifi>=2017.4.17 in /Users/amadouyehara/anaconda3/lib/python3.11/site-packages (from requests->huggingface-hub>=0.15.1->sentence-transformers>=0.4.1->bertopic) (2023.11.17)\n",
      "Requirement already satisfied: mpmath>=0.19 in /Users/amadouyehara/anaconda3/lib/python3.11/site-packages (from sympy->torch>=1.11.0->sentence-transformers>=0.4.1->bertopic) (1.3.0)\n",
      "Requirement already satisfied: spacytextblob in /Users/amadouyehara/anaconda3/lib/python3.11/site-packages (4.0.0)\n",
      "Requirement already satisfied: spacy<4.0,>=3.0 in /Users/amadouyehara/anaconda3/lib/python3.11/site-packages (from spacytextblob) (3.7.4)\n",
      "Requirement already satisfied: textblob<0.16.0,>=0.15.3 in /Users/amadouyehara/anaconda3/lib/python3.11/site-packages (from spacytextblob) (0.15.3)\n",
      "Requirement already satisfied: spacy-legacy<3.1.0,>=3.0.11 in /Users/amadouyehara/anaconda3/lib/python3.11/site-packages (from spacy<4.0,>=3.0->spacytextblob) (3.0.12)\n",
      "Requirement already satisfied: spacy-loggers<2.0.0,>=1.0.0 in /Users/amadouyehara/anaconda3/lib/python3.11/site-packages (from spacy<4.0,>=3.0->spacytextblob) (1.0.5)\n",
      "Requirement already satisfied: murmurhash<1.1.0,>=0.28.0 in /Users/amadouyehara/anaconda3/lib/python3.11/site-packages (from spacy<4.0,>=3.0->spacytextblob) (1.0.10)\n",
      "Requirement already satisfied: cymem<2.1.0,>=2.0.2 in /Users/amadouyehara/anaconda3/lib/python3.11/site-packages (from spacy<4.0,>=3.0->spacytextblob) (2.0.8)\n",
      "Requirement already satisfied: preshed<3.1.0,>=3.0.2 in /Users/amadouyehara/anaconda3/lib/python3.11/site-packages (from spacy<4.0,>=3.0->spacytextblob) (3.0.9)\n",
      "Requirement already satisfied: thinc<8.3.0,>=8.2.2 in /Users/amadouyehara/anaconda3/lib/python3.11/site-packages (from spacy<4.0,>=3.0->spacytextblob) (8.2.3)\n",
      "Requirement already satisfied: wasabi<1.2.0,>=0.9.1 in /Users/amadouyehara/anaconda3/lib/python3.11/site-packages (from spacy<4.0,>=3.0->spacytextblob) (1.1.2)\n",
      "Requirement already satisfied: srsly<3.0.0,>=2.4.3 in /Users/amadouyehara/anaconda3/lib/python3.11/site-packages (from spacy<4.0,>=3.0->spacytextblob) (2.4.8)\n",
      "Requirement already satisfied: catalogue<2.1.0,>=2.0.6 in /Users/amadouyehara/anaconda3/lib/python3.11/site-packages (from spacy<4.0,>=3.0->spacytextblob) (2.0.10)\n",
      "Requirement already satisfied: weasel<0.4.0,>=0.1.0 in /Users/amadouyehara/anaconda3/lib/python3.11/site-packages (from spacy<4.0,>=3.0->spacytextblob) (0.3.4)\n",
      "Requirement already satisfied: typer<0.10.0,>=0.3.0 in /Users/amadouyehara/anaconda3/lib/python3.11/site-packages (from spacy<4.0,>=3.0->spacytextblob) (0.9.4)\n",
      "Requirement already satisfied: smart-open<7.0.0,>=5.2.1 in /Users/amadouyehara/anaconda3/lib/python3.11/site-packages (from spacy<4.0,>=3.0->spacytextblob) (5.2.1)\n",
      "Requirement already satisfied: tqdm<5.0.0,>=4.38.0 in /Users/amadouyehara/anaconda3/lib/python3.11/site-packages (from spacy<4.0,>=3.0->spacytextblob) (4.65.0)\n",
      "Requirement already satisfied: requests<3.0.0,>=2.13.0 in /Users/amadouyehara/anaconda3/lib/python3.11/site-packages (from spacy<4.0,>=3.0->spacytextblob) (2.31.0)\n",
      "Requirement already satisfied: pydantic!=1.8,!=1.8.1,<3.0.0,>=1.7.4 in /Users/amadouyehara/anaconda3/lib/python3.11/site-packages (from spacy<4.0,>=3.0->spacytextblob) (1.10.8)\n",
      "Requirement already satisfied: jinja2 in /Users/amadouyehara/anaconda3/lib/python3.11/site-packages (from spacy<4.0,>=3.0->spacytextblob) (3.1.2)\n",
      "Requirement already satisfied: setuptools in /Users/amadouyehara/anaconda3/lib/python3.11/site-packages (from spacy<4.0,>=3.0->spacytextblob) (69.5.1)\n",
      "Requirement already satisfied: packaging>=20.0 in /Users/amadouyehara/anaconda3/lib/python3.11/site-packages (from spacy<4.0,>=3.0->spacytextblob) (23.2)\n",
      "Requirement already satisfied: langcodes<4.0.0,>=3.2.0 in /Users/amadouyehara/anaconda3/lib/python3.11/site-packages (from spacy<4.0,>=3.0->spacytextblob) (3.3.0)\n",
      "Requirement already satisfied: numpy>=1.19.0 in /Users/amadouyehara/anaconda3/lib/python3.11/site-packages (from spacy<4.0,>=3.0->spacytextblob) (1.24.3)\n",
      "Requirement already satisfied: nltk>=3.1 in /Users/amadouyehara/anaconda3/lib/python3.11/site-packages (from textblob<0.16.0,>=0.15.3->spacytextblob) (3.8.1)\n",
      "Requirement already satisfied: click in /Users/amadouyehara/anaconda3/lib/python3.11/site-packages (from nltk>=3.1->textblob<0.16.0,>=0.15.3->spacytextblob) (8.0.4)\n",
      "Requirement already satisfied: joblib in /Users/amadouyehara/anaconda3/lib/python3.11/site-packages (from nltk>=3.1->textblob<0.16.0,>=0.15.3->spacytextblob) (1.2.0)\n",
      "Requirement already satisfied: regex>=2021.8.3 in /Users/amadouyehara/anaconda3/lib/python3.11/site-packages (from nltk>=3.1->textblob<0.16.0,>=0.15.3->spacytextblob) (2022.7.9)\n",
      "Requirement already satisfied: typing-extensions>=4.2.0 in /Users/amadouyehara/anaconda3/lib/python3.11/site-packages (from pydantic!=1.8,!=1.8.1,<3.0.0,>=1.7.4->spacy<4.0,>=3.0->spacytextblob) (4.7.1)\n",
      "Requirement already satisfied: charset-normalizer<4,>=2 in /Users/amadouyehara/anaconda3/lib/python3.11/site-packages (from requests<3.0.0,>=2.13.0->spacy<4.0,>=3.0->spacytextblob) (2.0.4)\n",
      "Requirement already satisfied: idna<4,>=2.5 in /Users/amadouyehara/anaconda3/lib/python3.11/site-packages (from requests<3.0.0,>=2.13.0->spacy<4.0,>=3.0->spacytextblob) (3.4)\n",
      "Requirement already satisfied: urllib3<3,>=1.21.1 in /Users/amadouyehara/anaconda3/lib/python3.11/site-packages (from requests<3.0.0,>=2.13.0->spacy<4.0,>=3.0->spacytextblob) (1.26.16)\n",
      "Requirement already satisfied: certifi>=2017.4.17 in /Users/amadouyehara/anaconda3/lib/python3.11/site-packages (from requests<3.0.0,>=2.13.0->spacy<4.0,>=3.0->spacytextblob) (2023.11.17)\n",
      "Requirement already satisfied: blis<0.8.0,>=0.7.8 in /Users/amadouyehara/anaconda3/lib/python3.11/site-packages (from thinc<8.3.0,>=8.2.2->spacy<4.0,>=3.0->spacytextblob) (0.7.11)\n",
      "Requirement already satisfied: confection<1.0.0,>=0.0.1 in /Users/amadouyehara/anaconda3/lib/python3.11/site-packages (from thinc<8.3.0,>=8.2.2->spacy<4.0,>=3.0->spacytextblob) (0.1.4)\n",
      "Requirement already satisfied: cloudpathlib<0.17.0,>=0.7.0 in /Users/amadouyehara/anaconda3/lib/python3.11/site-packages (from weasel<0.4.0,>=0.1.0->spacy<4.0,>=3.0->spacytextblob) (0.16.0)\n",
      "Requirement already satisfied: MarkupSafe>=2.0 in /Users/amadouyehara/anaconda3/lib/python3.11/site-packages (from jinja2->spacy<4.0,>=3.0->spacytextblob) (2.1.1)\n"
     ]
    }
   ],
   "source": [
    "# Run these in your terminal in order\n",
    "\n",
    "# !pip install bertopic\n",
    "\n",
    "# pip install -r requirements.txt install bertopic\n",
    "\n",
    "# pip uninstall transformers bertopic\n",
    "# pip install transformers bertopic\n",
    "\n",
    "# !pip install spacytextblob\n",
    "# python -m spacy download en_core_web_sm"
   ]
  },
  {
   "cell_type": "code",
   "execution_count": 9,
   "metadata": {},
   "outputs": [],
   "source": [
    "import pandas as pd\n",
    "\n",
    "#Correlation Matrix\n",
    "import seaborn as sns\n",
    "import matplotlib.pyplot as plt\n",
    "import datetime\n",
    "import statistics\n",
    "\n",
    "import nltk\n",
    "from nltk.corpus import stopwords\n",
    "from nltk import ngrams\n",
    "\n",
    "import re\n",
    "\n",
    "from sklearn.model_selection import train_test_split\n",
    "from sklearn.ensemble import RandomForestClassifier\n",
    "from sklearn.linear_model import LogisticRegression\n",
    "from sklearn.tree import DecisionTreeClassifier\n",
    "from sklearn.ensemble import GradientBoostingClassifier\n",
    "from sklearn.metrics import accuracy_score\n",
    "\n",
    "from bertopic import BERTopic\n",
    "\n",
    "import spacy\n",
    "from spacytextblob.spacytextblob import SpacyTextBlob\n",
    "\n",
    "from sklearn.preprocessing import MinMaxScaler, OneHotEncoder\n",
    "\n",
    "from sklearn.cluster import KMeans\n"
   ]
  },
  {
   "cell_type": "code",
   "execution_count": 10,
   "metadata": {},
   "outputs": [],
   "source": [
    "#Amado's csv to df \n",
    "\n",
    "df_comments = pd.read_csv('/Users/amadouyehara/Desktop/Spring 2024/Applied Analytics & Predictive Modeling/Project 1/opiates_comments6_LIWC.csv')\n",
    "df_submissions = pd.read_csv('/Users/amadouyehara/Desktop/Spring 2024/Applied Analytics & Predictive Modeling/Project 1/opiates_submissions6_LIWC.csv', low_memory=False)\n"
   ]
  },
  {
   "cell_type": "code",
   "execution_count": 11,
   "metadata": {},
   "outputs": [],
   "source": [
    "#Kaily's csv to df\n",
    "\n",
    "# df_comments = pd.read_csv(\"C:/Users/Kaily Mejia/Dropbox/Graduate Courses/Applied and Predictive Modeling/Final Project/opiates_comments6_LIWC.csv\" )\n",
    "# df_submissions = pd.read_csv('C:/Users/Kaily Mejia/Dropbox/Graduate Courses/Applied and Predictive Modeling/Final Project/opiates_submissions6_LIWC.csv', low_memory = False)\n"
   ]
  },
  {
   "cell_type": "code",
   "execution_count": 12,
   "metadata": {},
   "outputs": [
    {
     "data": {
      "text/html": [
       "<div>\n",
       "<style scoped>\n",
       "    .dataframe tbody tr th:only-of-type {\n",
       "        vertical-align: middle;\n",
       "    }\n",
       "\n",
       "    .dataframe tbody tr th {\n",
       "        vertical-align: top;\n",
       "    }\n",
       "\n",
       "    .dataframe thead th {\n",
       "        text-align: right;\n",
       "    }\n",
       "</style>\n",
       "<table border=\"1\" class=\"dataframe\">\n",
       "  <thead>\n",
       "    <tr style=\"text-align: right;\">\n",
       "      <th></th>\n",
       "      <th>author</th>\n",
       "      <th>created_utc</th>\n",
       "      <th>score</th>\n",
       "      <th>subreddit</th>\n",
       "      <th>WC</th>\n",
       "      <th>Analytic</th>\n",
       "      <th>Clout</th>\n",
       "      <th>Authentic</th>\n",
       "      <th>Tone</th>\n",
       "      <th>WPS</th>\n",
       "      <th>...</th>\n",
       "      <th>Comma</th>\n",
       "      <th>Colon</th>\n",
       "      <th>SemiC</th>\n",
       "      <th>QMark</th>\n",
       "      <th>Exclam</th>\n",
       "      <th>Dash</th>\n",
       "      <th>Quote</th>\n",
       "      <th>Apostro</th>\n",
       "      <th>Parenth</th>\n",
       "      <th>OtherP</th>\n",
       "    </tr>\n",
       "  </thead>\n",
       "  <tbody>\n",
       "    <tr>\n",
       "      <th>0</th>\n",
       "      <td>BoofDontShoot</td>\n",
       "      <td>1659067065</td>\n",
       "      <td>1</td>\n",
       "      <td>opiates</td>\n",
       "      <td>5</td>\n",
       "      <td>8.69</td>\n",
       "      <td>50.00</td>\n",
       "      <td>1.00</td>\n",
       "      <td>25.77</td>\n",
       "      <td>2.50</td>\n",
       "      <td>...</td>\n",
       "      <td>0.0</td>\n",
       "      <td>0.0</td>\n",
       "      <td>0.0</td>\n",
       "      <td>0.0</td>\n",
       "      <td>0.0</td>\n",
       "      <td>0.00</td>\n",
       "      <td>0.00</td>\n",
       "      <td>0.00</td>\n",
       "      <td>0.00</td>\n",
       "      <td>0.0</td>\n",
       "    </tr>\n",
       "    <tr>\n",
       "      <th>1</th>\n",
       "      <td>Busy_Background_195</td>\n",
       "      <td>1659067044</td>\n",
       "      <td>1</td>\n",
       "      <td>opiates</td>\n",
       "      <td>55</td>\n",
       "      <td>32.58</td>\n",
       "      <td>13.76</td>\n",
       "      <td>14.10</td>\n",
       "      <td>1.00</td>\n",
       "      <td>13.75</td>\n",
       "      <td>...</td>\n",
       "      <td>0.0</td>\n",
       "      <td>0.0</td>\n",
       "      <td>0.0</td>\n",
       "      <td>0.0</td>\n",
       "      <td>0.0</td>\n",
       "      <td>0.00</td>\n",
       "      <td>0.00</td>\n",
       "      <td>5.45</td>\n",
       "      <td>3.64</td>\n",
       "      <td>0.0</td>\n",
       "    </tr>\n",
       "    <tr>\n",
       "      <th>2</th>\n",
       "      <td>Wolf_Double</td>\n",
       "      <td>1659066949</td>\n",
       "      <td>1</td>\n",
       "      <td>opiates</td>\n",
       "      <td>6</td>\n",
       "      <td>1.00</td>\n",
       "      <td>95.20</td>\n",
       "      <td>23.51</td>\n",
       "      <td>99.00</td>\n",
       "      <td>6.00</td>\n",
       "      <td>...</td>\n",
       "      <td>0.0</td>\n",
       "      <td>0.0</td>\n",
       "      <td>0.0</td>\n",
       "      <td>0.0</td>\n",
       "      <td>0.0</td>\n",
       "      <td>0.00</td>\n",
       "      <td>0.00</td>\n",
       "      <td>0.00</td>\n",
       "      <td>0.00</td>\n",
       "      <td>0.0</td>\n",
       "    </tr>\n",
       "    <tr>\n",
       "      <th>3</th>\n",
       "      <td>Knowagoraaa</td>\n",
       "      <td>1659066905</td>\n",
       "      <td>1</td>\n",
       "      <td>opiates</td>\n",
       "      <td>39</td>\n",
       "      <td>71.92</td>\n",
       "      <td>60.13</td>\n",
       "      <td>99.00</td>\n",
       "      <td>73.64</td>\n",
       "      <td>13.00</td>\n",
       "      <td>...</td>\n",
       "      <td>0.0</td>\n",
       "      <td>0.0</td>\n",
       "      <td>0.0</td>\n",
       "      <td>0.0</td>\n",
       "      <td>0.0</td>\n",
       "      <td>2.56</td>\n",
       "      <td>0.00</td>\n",
       "      <td>5.13</td>\n",
       "      <td>0.00</td>\n",
       "      <td>0.0</td>\n",
       "    </tr>\n",
       "    <tr>\n",
       "      <th>4</th>\n",
       "      <td>Busy_Background_195</td>\n",
       "      <td>1659066875</td>\n",
       "      <td>1</td>\n",
       "      <td>opiates</td>\n",
       "      <td>75</td>\n",
       "      <td>24.37</td>\n",
       "      <td>29.68</td>\n",
       "      <td>14.56</td>\n",
       "      <td>2.41</td>\n",
       "      <td>25.00</td>\n",
       "      <td>...</td>\n",
       "      <td>0.0</td>\n",
       "      <td>0.0</td>\n",
       "      <td>0.0</td>\n",
       "      <td>0.0</td>\n",
       "      <td>0.0</td>\n",
       "      <td>0.00</td>\n",
       "      <td>2.67</td>\n",
       "      <td>4.00</td>\n",
       "      <td>0.00</td>\n",
       "      <td>0.0</td>\n",
       "    </tr>\n",
       "  </tbody>\n",
       "</table>\n",
       "<p>5 rows × 96 columns</p>\n",
       "</div>"
      ],
      "text/plain": [
       "                author  created_utc  score subreddit  WC  Analytic  Clout  \\\n",
       "0        BoofDontShoot   1659067065      1   opiates   5      8.69  50.00   \n",
       "1  Busy_Background_195   1659067044      1   opiates  55     32.58  13.76   \n",
       "2          Wolf_Double   1659066949      1   opiates   6      1.00  95.20   \n",
       "3          Knowagoraaa   1659066905      1   opiates  39     71.92  60.13   \n",
       "4  Busy_Background_195   1659066875      1   opiates  75     24.37  29.68   \n",
       "\n",
       "   Authentic   Tone    WPS  ...  Comma  Colon  SemiC  QMark  Exclam  Dash  \\\n",
       "0       1.00  25.77   2.50  ...    0.0    0.0    0.0    0.0     0.0  0.00   \n",
       "1      14.10   1.00  13.75  ...    0.0    0.0    0.0    0.0     0.0  0.00   \n",
       "2      23.51  99.00   6.00  ...    0.0    0.0    0.0    0.0     0.0  0.00   \n",
       "3      99.00  73.64  13.00  ...    0.0    0.0    0.0    0.0     0.0  2.56   \n",
       "4      14.56   2.41  25.00  ...    0.0    0.0    0.0    0.0     0.0  0.00   \n",
       "\n",
       "   Quote  Apostro  Parenth  OtherP  \n",
       "0   0.00     0.00     0.00     0.0  \n",
       "1   0.00     5.45     3.64     0.0  \n",
       "2   0.00     0.00     0.00     0.0  \n",
       "3   0.00     5.13     0.00     0.0  \n",
       "4   2.67     4.00     0.00     0.0  \n",
       "\n",
       "[5 rows x 96 columns]"
      ]
     },
     "execution_count": 12,
     "metadata": {},
     "output_type": "execute_result"
    }
   ],
   "source": [
    "#Structure of Comments dataset\n",
    "df_comments.head()"
   ]
  },
  {
   "cell_type": "code",
   "execution_count": 13,
   "metadata": {},
   "outputs": [
    {
     "data": {
      "text/html": [
       "<div>\n",
       "<style scoped>\n",
       "    .dataframe tbody tr th:only-of-type {\n",
       "        vertical-align: middle;\n",
       "    }\n",
       "\n",
       "    .dataframe tbody tr th {\n",
       "        vertical-align: top;\n",
       "    }\n",
       "\n",
       "    .dataframe thead th {\n",
       "        text-align: right;\n",
       "    }\n",
       "</style>\n",
       "<table border=\"1\" class=\"dataframe\">\n",
       "  <thead>\n",
       "    <tr style=\"text-align: right;\">\n",
       "      <th></th>\n",
       "      <th>author</th>\n",
       "      <th>title</th>\n",
       "      <th>created_utc</th>\n",
       "      <th>score</th>\n",
       "      <th>subreddit</th>\n",
       "      <th>WC</th>\n",
       "      <th>Analytic</th>\n",
       "      <th>Clout</th>\n",
       "      <th>Authentic</th>\n",
       "      <th>Tone</th>\n",
       "      <th>...</th>\n",
       "      <th>Comma</th>\n",
       "      <th>Colon</th>\n",
       "      <th>SemiC</th>\n",
       "      <th>QMark</th>\n",
       "      <th>Exclam</th>\n",
       "      <th>Dash</th>\n",
       "      <th>Quote</th>\n",
       "      <th>Apostro</th>\n",
       "      <th>Parenth</th>\n",
       "      <th>OtherP</th>\n",
       "    </tr>\n",
       "  </thead>\n",
       "  <tbody>\n",
       "    <tr>\n",
       "      <th>0</th>\n",
       "      <td>Odd-Pizza-1079</td>\n",
       "      <td>How much tylenol is too much? Asking for a fri...</td>\n",
       "      <td>1.659067e+09</td>\n",
       "      <td>1</td>\n",
       "      <td>opiates</td>\n",
       "      <td>12.0</td>\n",
       "      <td>18.82</td>\n",
       "      <td>79.76</td>\n",
       "      <td>1.79</td>\n",
       "      <td>25.77</td>\n",
       "      <td>...</td>\n",
       "      <td>0.0</td>\n",
       "      <td>0.0</td>\n",
       "      <td>0.00</td>\n",
       "      <td>8.33</td>\n",
       "      <td>0.00</td>\n",
       "      <td>0.00</td>\n",
       "      <td>0.0</td>\n",
       "      <td>0.0</td>\n",
       "      <td>16.67</td>\n",
       "      <td>0.00</td>\n",
       "    </tr>\n",
       "    <tr>\n",
       "      <th>1</th>\n",
       "      <td>Global_Face_4708</td>\n",
       "      <td>Gabapentin/Lyrica/Clonidine Through Telehealth?</td>\n",
       "      <td>1.659065e+09</td>\n",
       "      <td>1</td>\n",
       "      <td>opiates</td>\n",
       "      <td>5.0</td>\n",
       "      <td>99.00</td>\n",
       "      <td>50.00</td>\n",
       "      <td>1.00</td>\n",
       "      <td>25.77</td>\n",
       "      <td>...</td>\n",
       "      <td>0.0</td>\n",
       "      <td>0.0</td>\n",
       "      <td>0.00</td>\n",
       "      <td>20.00</td>\n",
       "      <td>0.00</td>\n",
       "      <td>0.00</td>\n",
       "      <td>0.0</td>\n",
       "      <td>0.0</td>\n",
       "      <td>0.00</td>\n",
       "      <td>40.00</td>\n",
       "    </tr>\n",
       "    <tr>\n",
       "      <th>2</th>\n",
       "      <td>Bluebeamtwinfn</td>\n",
       "      <td>Opiates prolonging finish/enhancing sex</td>\n",
       "      <td>1.659064e+09</td>\n",
       "      <td>1</td>\n",
       "      <td>opiates</td>\n",
       "      <td>5.0</td>\n",
       "      <td>93.26</td>\n",
       "      <td>50.00</td>\n",
       "      <td>43.37</td>\n",
       "      <td>25.77</td>\n",
       "      <td>...</td>\n",
       "      <td>0.0</td>\n",
       "      <td>0.0</td>\n",
       "      <td>0.00</td>\n",
       "      <td>0.00</td>\n",
       "      <td>0.00</td>\n",
       "      <td>0.00</td>\n",
       "      <td>0.0</td>\n",
       "      <td>0.0</td>\n",
       "      <td>0.00</td>\n",
       "      <td>20.00</td>\n",
       "    </tr>\n",
       "    <tr>\n",
       "      <th>3</th>\n",
       "      <td>iLoveLuckiii</td>\n",
       "      <td>Boost your oxy high! &amp;amp; Save money! (USE ON...</td>\n",
       "      <td>1.659063e+09</td>\n",
       "      <td>1</td>\n",
       "      <td>opiates</td>\n",
       "      <td>13.0</td>\n",
       "      <td>82.82</td>\n",
       "      <td>93.79</td>\n",
       "      <td>94.81</td>\n",
       "      <td>99.00</td>\n",
       "      <td>...</td>\n",
       "      <td>0.0</td>\n",
       "      <td>0.0</td>\n",
       "      <td>7.69</td>\n",
       "      <td>0.00</td>\n",
       "      <td>15.38</td>\n",
       "      <td>0.00</td>\n",
       "      <td>0.0</td>\n",
       "      <td>0.0</td>\n",
       "      <td>15.38</td>\n",
       "      <td>7.69</td>\n",
       "    </tr>\n",
       "    <tr>\n",
       "      <th>4</th>\n",
       "      <td>Downtown_Syrup4635</td>\n",
       "      <td>IOP Detox while working 9-5??</td>\n",
       "      <td>1.659061e+09</td>\n",
       "      <td>1</td>\n",
       "      <td>opiates</td>\n",
       "      <td>6.0</td>\n",
       "      <td>62.04</td>\n",
       "      <td>50.00</td>\n",
       "      <td>23.51</td>\n",
       "      <td>25.77</td>\n",
       "      <td>...</td>\n",
       "      <td>0.0</td>\n",
       "      <td>0.0</td>\n",
       "      <td>0.00</td>\n",
       "      <td>33.33</td>\n",
       "      <td>0.00</td>\n",
       "      <td>16.67</td>\n",
       "      <td>0.0</td>\n",
       "      <td>0.0</td>\n",
       "      <td>0.00</td>\n",
       "      <td>0.00</td>\n",
       "    </tr>\n",
       "  </tbody>\n",
       "</table>\n",
       "<p>5 rows × 98 columns</p>\n",
       "</div>"
      ],
      "text/plain": [
       "               author                                              title  \\\n",
       "0      Odd-Pizza-1079  How much tylenol is too much? Asking for a fri...   \n",
       "1    Global_Face_4708    Gabapentin/Lyrica/Clonidine Through Telehealth?   \n",
       "2      Bluebeamtwinfn            Opiates prolonging finish/enhancing sex   \n",
       "3        iLoveLuckiii  Boost your oxy high! &amp; Save money! (USE ON...   \n",
       "4  Downtown_Syrup4635                      IOP Detox while working 9-5??   \n",
       "\n",
       "    created_utc score subreddit    WC  Analytic  Clout  Authentic   Tone  ...  \\\n",
       "0  1.659067e+09     1   opiates  12.0     18.82  79.76       1.79  25.77  ...   \n",
       "1  1.659065e+09     1   opiates   5.0     99.00  50.00       1.00  25.77  ...   \n",
       "2  1.659064e+09     1   opiates   5.0     93.26  50.00      43.37  25.77  ...   \n",
       "3  1.659063e+09     1   opiates  13.0     82.82  93.79      94.81  99.00  ...   \n",
       "4  1.659061e+09     1   opiates   6.0     62.04  50.00      23.51  25.77  ...   \n",
       "\n",
       "   Comma  Colon  SemiC  QMark  Exclam   Dash  Quote  Apostro  Parenth  OtherP  \n",
       "0    0.0    0.0   0.00   8.33    0.00   0.00    0.0      0.0    16.67    0.00  \n",
       "1    0.0    0.0   0.00  20.00    0.00   0.00    0.0      0.0     0.00   40.00  \n",
       "2    0.0    0.0   0.00   0.00    0.00   0.00    0.0      0.0     0.00   20.00  \n",
       "3    0.0    0.0   7.69   0.00   15.38   0.00    0.0      0.0    15.38    7.69  \n",
       "4    0.0    0.0   0.00  33.33    0.00  16.67    0.0      0.0     0.00    0.00  \n",
       "\n",
       "[5 rows x 98 columns]"
      ]
     },
     "execution_count": 13,
     "metadata": {},
     "output_type": "execute_result"
    }
   ],
   "source": [
    "#Structure of Submissions dataset\n",
    "df_submissions.head()"
   ]
  },
  {
   "cell_type": "code",
   "execution_count": 14,
   "metadata": {},
   "outputs": [],
   "source": [
    "# import pandas as pd\n",
    "\n",
    "# # Assuming df_submissions is your DataFrame\n",
    "# # Load your DataFrame or create it\n",
    "# # Example:\n",
    "# # df_submissions = pd.read_csv('your_file.csv')\n",
    "\n",
    "# # Sort the DataFrame based on the 'score' column in descending order\n",
    "# df_sorted = df_submissions.sort_values(by='score', ascending=True)\n",
    "\n",
    "# # Select the top 10 highest scores\n",
    "# top_10_highest_scores = df_sorted.head(10)\n",
    "\n",
    "# # Display the selected columns\n",
    "# selected_columns = ['author', 'title', 'score', 'season']\n",
    "# top_10_highest_scores[selected_columns]\n"
   ]
  },
  {
   "cell_type": "code",
   "execution_count": 15,
   "metadata": {},
   "outputs": [],
   "source": [
    "# num_columns = df_comments.shape[1]\n",
    "\n",
    "# print(\"Number of columns in the DataFrame:\", num_columns)"
   ]
  },
  {
   "cell_type": "code",
   "execution_count": 16,
   "metadata": {},
   "outputs": [
    {
     "name": "stdout",
     "output_type": "stream",
     "text": [
      "1014397\n",
      "1014397\n",
      "79676\n",
      "79674\n"
     ]
    }
   ],
   "source": [
    "#Removing null values\n",
    "print(len(df_comments))\n",
    "df_comments = df_comments.dropna()\n",
    "print(len(df_comments))\n",
    "\n",
    "print(len(df_submissions))\n",
    "df_submissions = df_submissions.dropna()\n",
    "print(len(df_submissions))"
   ]
  },
  {
   "cell_type": "code",
   "execution_count": 17,
   "metadata": {},
   "outputs": [
    {
     "name": "stdout",
     "output_type": "stream",
     "text": [
      "Top 10 columns most correlated with 'score':\n",
      "created_utc    0.104814\n",
      "ppron          0.035615\n",
      "pronoun        0.031869\n",
      "Dic            0.030363\n",
      "anger          0.029796\n",
      "i              0.026832\n",
      "Authentic      0.025632\n",
      "function       0.025611\n",
      "we             0.025185\n",
      "swear          0.024707\n",
      "Name: score, dtype: float64\n"
     ]
    }
   ],
   "source": [
    "#only using numerical values for heatmap \n",
    "\n",
    "df_submissions['score'] = pd.to_numeric(df_submissions['score'], errors='coerce')\n",
    "df_numeric = df_submissions.select_dtypes(include=['float64', 'int64'])\n",
    "\n",
    "# plt.figure(figsize=(100, 80))\n",
    "# sns.heatmap(correlation_matrix, annot=True, cmap='coolwarm', fmt=\".2f\")\n",
    "# plt.title('Correlation Matrix Heatmap')\n",
    "# plt.show()\n",
    "\n",
    "# Calculate correlation matrix\n",
    "correlation_matrix = df_numeric.corr()\n",
    "score_correlation = correlation_matrix['score'].abs().sort_values(ascending=False)\n",
    "\n",
    "# Get the top 10 most correlated columns (excluding 'score' itself)\n",
    "top_10_correlated = score_correlation[1:11]  # Exclude the 'score' column itself\n",
    "\n",
    "# Print the top 10 correlated columns and their correlation values\n",
    "print(\"Top 10 columns most correlated with 'score':\")\n",
    "print(top_10_correlated)"
   ]
  },
  {
   "cell_type": "code",
   "execution_count": 18,
   "metadata": {},
   "outputs": [],
   "source": [
    "df_comments = df_comments[['author', 'created_utc','score', 'WC', 'Tone','posemo', 'negemo','anger', 'anx', 'sad', 'affect']]\n",
    "df_submissions = df_submissions[['author', 'title', 'created_utc','score', 'WC', 'Tone', 'posemo', 'negemo','anger', 'anx', 'sad', 'affect']]"
   ]
  },
  {
   "cell_type": "code",
   "execution_count": 19,
   "metadata": {},
   "outputs": [
    {
     "data": {
      "text/html": [
       "<style type=\"text/css\">\n",
       "#T_44a70_row0_col1 {\n",
       "  background-color: #fea245;\n",
       "  color: #000000;\n",
       "}\n",
       "#T_44a70_row0_col2, #T_44a70_row0_col3, #T_44a70_row1_col2, #T_44a70_row1_col3, #T_44a70_row2_col2, #T_44a70_row2_col3, #T_44a70_row3_col1, #T_44a70_row3_col2, #T_44a70_row3_col3, #T_44a70_row4_col1, #T_44a70_row4_col2, #T_44a70_row4_col3, #T_44a70_row5_col1, #T_44a70_row5_col2, #T_44a70_row5_col3, #T_44a70_row6_col1, #T_44a70_row6_col2, #T_44a70_row6_col3, #T_44a70_row7_col1, #T_44a70_row7_col2, #T_44a70_row7_col3, #T_44a70_row8_col1, #T_44a70_row8_col2, #T_44a70_row8_col3, #T_44a70_row9_col1, #T_44a70_row9_col2, #T_44a70_row9_col3, #T_44a70_row10_col1, #T_44a70_row10_col2, #T_44a70_row10_col3, #T_44a70_row11_col1, #T_44a70_row11_col2, #T_44a70_row11_col3 {\n",
       "  background-color: #ffffcc;\n",
       "  color: #000000;\n",
       "}\n",
       "#T_44a70_row1_col1 {\n",
       "  background-color: #9d0026;\n",
       "  color: #f1f1f1;\n",
       "}\n",
       "#T_44a70_row2_col1 {\n",
       "  background-color: #800026;\n",
       "  color: #f1f1f1;\n",
       "}\n",
       "</style>\n",
       "<table id=\"T_44a70\">\n",
       "  <thead>\n",
       "    <tr>\n",
       "      <th class=\"blank level0\" >&nbsp;</th>\n",
       "      <th id=\"T_44a70_level0_col0\" class=\"col_heading level0 col0\" >Data Type</th>\n",
       "      <th id=\"T_44a70_level0_col1\" class=\"col_heading level0 col1\" >Unique Values</th>\n",
       "      <th id=\"T_44a70_level0_col2\" class=\"col_heading level0 col2\" >Null Values</th>\n",
       "      <th id=\"T_44a70_level0_col3\" class=\"col_heading level0 col3\" >% null Values</th>\n",
       "    </tr>\n",
       "  </thead>\n",
       "  <tbody>\n",
       "    <tr>\n",
       "      <th id=\"T_44a70_level0_row0\" class=\"row_heading level0 row0\" >author</th>\n",
       "      <td id=\"T_44a70_row0_col0\" class=\"data row0 col0\" >object</td>\n",
       "      <td id=\"T_44a70_row0_col1\" class=\"data row0 col1\" >34175</td>\n",
       "      <td id=\"T_44a70_row0_col2\" class=\"data row0 col2\" >0</td>\n",
       "      <td id=\"T_44a70_row0_col3\" class=\"data row0 col3\" >0.000000</td>\n",
       "    </tr>\n",
       "    <tr>\n",
       "      <th id=\"T_44a70_level0_row1\" class=\"row_heading level0 row1\" >title</th>\n",
       "      <td id=\"T_44a70_row1_col0\" class=\"data row1 col0\" >object</td>\n",
       "      <td id=\"T_44a70_row1_col1\" class=\"data row1 col1\" >74710</td>\n",
       "      <td id=\"T_44a70_row1_col2\" class=\"data row1 col2\" >0</td>\n",
       "      <td id=\"T_44a70_row1_col3\" class=\"data row1 col3\" >0.000000</td>\n",
       "    </tr>\n",
       "    <tr>\n",
       "      <th id=\"T_44a70_level0_row2\" class=\"row_heading level0 row2\" >created_utc</th>\n",
       "      <td id=\"T_44a70_row2_col0\" class=\"data row2 col0\" >float64</td>\n",
       "      <td id=\"T_44a70_row2_col1\" class=\"data row2 col1\" >79580</td>\n",
       "      <td id=\"T_44a70_row2_col2\" class=\"data row2 col2\" >0</td>\n",
       "      <td id=\"T_44a70_row2_col3\" class=\"data row2 col3\" >0.000000</td>\n",
       "    </tr>\n",
       "    <tr>\n",
       "      <th id=\"T_44a70_level0_row3\" class=\"row_heading level0 row3\" >score</th>\n",
       "      <td id=\"T_44a70_row3_col0\" class=\"data row3 col0\" >int64</td>\n",
       "      <td id=\"T_44a70_row3_col1\" class=\"data row3 col1\" >200</td>\n",
       "      <td id=\"T_44a70_row3_col2\" class=\"data row3 col2\" >0</td>\n",
       "      <td id=\"T_44a70_row3_col3\" class=\"data row3 col3\" >0.000000</td>\n",
       "    </tr>\n",
       "    <tr>\n",
       "      <th id=\"T_44a70_level0_row4\" class=\"row_heading level0 row4\" >WC</th>\n",
       "      <td id=\"T_44a70_row4_col0\" class=\"data row4 col0\" >float64</td>\n",
       "      <td id=\"T_44a70_row4_col1\" class=\"data row4 col1\" >70</td>\n",
       "      <td id=\"T_44a70_row4_col2\" class=\"data row4 col2\" >0</td>\n",
       "      <td id=\"T_44a70_row4_col3\" class=\"data row4 col3\" >0.000000</td>\n",
       "    </tr>\n",
       "    <tr>\n",
       "      <th id=\"T_44a70_level0_row5\" class=\"row_heading level0 row5\" >Tone</th>\n",
       "      <td id=\"T_44a70_row5_col0\" class=\"data row5 col0\" >float64</td>\n",
       "      <td id=\"T_44a70_row5_col1\" class=\"data row5 col1\" >120</td>\n",
       "      <td id=\"T_44a70_row5_col2\" class=\"data row5 col2\" >0</td>\n",
       "      <td id=\"T_44a70_row5_col3\" class=\"data row5 col3\" >0.000000</td>\n",
       "    </tr>\n",
       "    <tr>\n",
       "      <th id=\"T_44a70_level0_row6\" class=\"row_heading level0 row6\" >posemo</th>\n",
       "      <td id=\"T_44a70_row6_col0\" class=\"data row6 col0\" >float64</td>\n",
       "      <td id=\"T_44a70_row6_col1\" class=\"data row6 col1\" >198</td>\n",
       "      <td id=\"T_44a70_row6_col2\" class=\"data row6 col2\" >0</td>\n",
       "      <td id=\"T_44a70_row6_col3\" class=\"data row6 col3\" >0.000000</td>\n",
       "    </tr>\n",
       "    <tr>\n",
       "      <th id=\"T_44a70_level0_row7\" class=\"row_heading level0 row7\" >negemo</th>\n",
       "      <td id=\"T_44a70_row7_col0\" class=\"data row7 col0\" >float64</td>\n",
       "      <td id=\"T_44a70_row7_col1\" class=\"data row7 col1\" >196</td>\n",
       "      <td id=\"T_44a70_row7_col2\" class=\"data row7 col2\" >0</td>\n",
       "      <td id=\"T_44a70_row7_col3\" class=\"data row7 col3\" >0.000000</td>\n",
       "    </tr>\n",
       "    <tr>\n",
       "      <th id=\"T_44a70_level0_row8\" class=\"row_heading level0 row8\" >anger</th>\n",
       "      <td id=\"T_44a70_row8_col0\" class=\"data row8 col0\" >float64</td>\n",
       "      <td id=\"T_44a70_row8_col1\" class=\"data row8 col1\" >126</td>\n",
       "      <td id=\"T_44a70_row8_col2\" class=\"data row8 col2\" >0</td>\n",
       "      <td id=\"T_44a70_row8_col3\" class=\"data row8 col3\" >0.000000</td>\n",
       "    </tr>\n",
       "    <tr>\n",
       "      <th id=\"T_44a70_level0_row9\" class=\"row_heading level0 row9\" >anx</th>\n",
       "      <td id=\"T_44a70_row9_col0\" class=\"data row9 col0\" >float64</td>\n",
       "      <td id=\"T_44a70_row9_col1\" class=\"data row9 col1\" >106</td>\n",
       "      <td id=\"T_44a70_row9_col2\" class=\"data row9 col2\" >0</td>\n",
       "      <td id=\"T_44a70_row9_col3\" class=\"data row9 col3\" >0.000000</td>\n",
       "    </tr>\n",
       "    <tr>\n",
       "      <th id=\"T_44a70_level0_row10\" class=\"row_heading level0 row10\" >sad</th>\n",
       "      <td id=\"T_44a70_row10_col0\" class=\"data row10 col0\" >float64</td>\n",
       "      <td id=\"T_44a70_row10_col1\" class=\"data row10 col1\" >106</td>\n",
       "      <td id=\"T_44a70_row10_col2\" class=\"data row10 col2\" >0</td>\n",
       "      <td id=\"T_44a70_row10_col3\" class=\"data row10 col3\" >0.000000</td>\n",
       "    </tr>\n",
       "    <tr>\n",
       "      <th id=\"T_44a70_level0_row11\" class=\"row_heading level0 row11\" >affect</th>\n",
       "      <td id=\"T_44a70_row11_col0\" class=\"data row11 col0\" >float64</td>\n",
       "      <td id=\"T_44a70_row11_col1\" class=\"data row11 col1\" >255</td>\n",
       "      <td id=\"T_44a70_row11_col2\" class=\"data row11 col2\" >0</td>\n",
       "      <td id=\"T_44a70_row11_col3\" class=\"data row11 col3\" >0.000000</td>\n",
       "    </tr>\n",
       "  </tbody>\n",
       "</table>\n"
      ],
      "text/plain": [
       "<pandas.io.formats.style.Styler at 0x1580fc110>"
      ]
     },
     "execution_count": 19,
     "metadata": {},
     "output_type": "execute_result"
    }
   ],
   "source": [
    "dtypes = pd.DataFrame(df_submissions.dtypes,columns=[\"Data Type\"])\n",
    "dtypes[\"Unique Values\"]=df_submissions.nunique().sort_values(ascending=True)\n",
    "dtypes[\"Null Values\"]=df_submissions.isnull().sum()\n",
    "dtypes[\"% null Values\"]=df_submissions.isnull().sum()/len(df_submissions)\n",
    "dtypes.sort_values(by=\"Null Values\" , ascending=False).style.background_gradient(cmap='YlOrRd',axis=0)"
   ]
  },
  {
   "cell_type": "code",
   "execution_count": 20,
   "metadata": {},
   "outputs": [
    {
     "data": {
      "text/html": [
       "<style type=\"text/css\">\n",
       "#T_9b7d2_row0_col1 {\n",
       "  background-color: #fff7b9;\n",
       "  color: #000000;\n",
       "}\n",
       "#T_9b7d2_row0_col2, #T_9b7d2_row0_col3, #T_9b7d2_row1_col2, #T_9b7d2_row1_col3, #T_9b7d2_row2_col1, #T_9b7d2_row2_col2, #T_9b7d2_row2_col3, #T_9b7d2_row3_col1, #T_9b7d2_row3_col2, #T_9b7d2_row3_col3, #T_9b7d2_row4_col2, #T_9b7d2_row4_col3, #T_9b7d2_row5_col1, #T_9b7d2_row5_col2, #T_9b7d2_row5_col3, #T_9b7d2_row6_col1, #T_9b7d2_row6_col2, #T_9b7d2_row6_col3, #T_9b7d2_row7_col1, #T_9b7d2_row7_col2, #T_9b7d2_row7_col3, #T_9b7d2_row8_col1, #T_9b7d2_row8_col2, #T_9b7d2_row8_col3, #T_9b7d2_row9_col1, #T_9b7d2_row9_col2, #T_9b7d2_row9_col3, #T_9b7d2_row10_col1, #T_9b7d2_row10_col2, #T_9b7d2_row10_col3 {\n",
       "  background-color: #ffffcc;\n",
       "  color: #000000;\n",
       "}\n",
       "#T_9b7d2_row1_col1 {\n",
       "  background-color: #800026;\n",
       "  color: #f1f1f1;\n",
       "}\n",
       "#T_9b7d2_row4_col1 {\n",
       "  background-color: #fffecb;\n",
       "  color: #000000;\n",
       "}\n",
       "</style>\n",
       "<table id=\"T_9b7d2\">\n",
       "  <thead>\n",
       "    <tr>\n",
       "      <th class=\"blank level0\" >&nbsp;</th>\n",
       "      <th id=\"T_9b7d2_level0_col0\" class=\"col_heading level0 col0\" >Data Type</th>\n",
       "      <th id=\"T_9b7d2_level0_col1\" class=\"col_heading level0 col1\" >Unique Values</th>\n",
       "      <th id=\"T_9b7d2_level0_col2\" class=\"col_heading level0 col2\" >Null Values</th>\n",
       "      <th id=\"T_9b7d2_level0_col3\" class=\"col_heading level0 col3\" >% null Values</th>\n",
       "    </tr>\n",
       "  </thead>\n",
       "  <tbody>\n",
       "    <tr>\n",
       "      <th id=\"T_9b7d2_level0_row0\" class=\"row_heading level0 row0\" >author</th>\n",
       "      <td id=\"T_9b7d2_row0_col0\" class=\"data row0 col0\" >object</td>\n",
       "      <td id=\"T_9b7d2_row0_col1\" class=\"data row0 col1\" >58868</td>\n",
       "      <td id=\"T_9b7d2_row0_col2\" class=\"data row0 col2\" >0</td>\n",
       "      <td id=\"T_9b7d2_row0_col3\" class=\"data row0 col3\" >0.000000</td>\n",
       "    </tr>\n",
       "    <tr>\n",
       "      <th id=\"T_9b7d2_level0_row1\" class=\"row_heading level0 row1\" >created_utc</th>\n",
       "      <td id=\"T_9b7d2_row1_col0\" class=\"data row1 col0\" >int64</td>\n",
       "      <td id=\"T_9b7d2_row1_col1\" class=\"data row1 col1\" >1005848</td>\n",
       "      <td id=\"T_9b7d2_row1_col2\" class=\"data row1 col2\" >0</td>\n",
       "      <td id=\"T_9b7d2_row1_col3\" class=\"data row1 col3\" >0.000000</td>\n",
       "    </tr>\n",
       "    <tr>\n",
       "      <th id=\"T_9b7d2_level0_row2\" class=\"row_heading level0 row2\" >score</th>\n",
       "      <td id=\"T_9b7d2_row2_col0\" class=\"data row2 col0\" >int64</td>\n",
       "      <td id=\"T_9b7d2_row2_col1\" class=\"data row2 col1\" >188</td>\n",
       "      <td id=\"T_9b7d2_row2_col2\" class=\"data row2 col2\" >0</td>\n",
       "      <td id=\"T_9b7d2_row2_col3\" class=\"data row2 col3\" >0.000000</td>\n",
       "    </tr>\n",
       "    <tr>\n",
       "      <th id=\"T_9b7d2_level0_row3\" class=\"row_heading level0 row3\" >WC</th>\n",
       "      <td id=\"T_9b7d2_row3_col0\" class=\"data row3 col0\" >int64</td>\n",
       "      <td id=\"T_9b7d2_row3_col1\" class=\"data row3 col1\" >1049</td>\n",
       "      <td id=\"T_9b7d2_row3_col2\" class=\"data row3 col2\" >0</td>\n",
       "      <td id=\"T_9b7d2_row3_col3\" class=\"data row3 col3\" >0.000000</td>\n",
       "    </tr>\n",
       "    <tr>\n",
       "      <th id=\"T_9b7d2_level0_row4\" class=\"row_heading level0 row4\" >Tone</th>\n",
       "      <td id=\"T_9b7d2_row4_col0\" class=\"data row4 col0\" >float64</td>\n",
       "      <td id=\"T_9b7d2_row4_col1\" class=\"data row4 col1\" >4364</td>\n",
       "      <td id=\"T_9b7d2_row4_col2\" class=\"data row4 col2\" >0</td>\n",
       "      <td id=\"T_9b7d2_row4_col3\" class=\"data row4 col3\" >0.000000</td>\n",
       "    </tr>\n",
       "    <tr>\n",
       "      <th id=\"T_9b7d2_level0_row5\" class=\"row_heading level0 row5\" >posemo</th>\n",
       "      <td id=\"T_9b7d2_row5_col0\" class=\"data row5 col0\" >float64</td>\n",
       "      <td id=\"T_9b7d2_row5_col1\" class=\"data row5 col1\" >1264</td>\n",
       "      <td id=\"T_9b7d2_row5_col2\" class=\"data row5 col2\" >0</td>\n",
       "      <td id=\"T_9b7d2_row5_col3\" class=\"data row5 col3\" >0.000000</td>\n",
       "    </tr>\n",
       "    <tr>\n",
       "      <th id=\"T_9b7d2_level0_row6\" class=\"row_heading level0 row6\" >negemo</th>\n",
       "      <td id=\"T_9b7d2_row6_col0\" class=\"data row6 col0\" >float64</td>\n",
       "      <td id=\"T_9b7d2_row6_col1\" class=\"data row6 col1\" >1267</td>\n",
       "      <td id=\"T_9b7d2_row6_col2\" class=\"data row6 col2\" >0</td>\n",
       "      <td id=\"T_9b7d2_row6_col3\" class=\"data row6 col3\" >0.000000</td>\n",
       "    </tr>\n",
       "    <tr>\n",
       "      <th id=\"T_9b7d2_level0_row7\" class=\"row_heading level0 row7\" >anger</th>\n",
       "      <td id=\"T_9b7d2_row7_col0\" class=\"data row7 col0\" >float64</td>\n",
       "      <td id=\"T_9b7d2_row7_col1\" class=\"data row7 col1\" >886</td>\n",
       "      <td id=\"T_9b7d2_row7_col2\" class=\"data row7 col2\" >0</td>\n",
       "      <td id=\"T_9b7d2_row7_col3\" class=\"data row7 col3\" >0.000000</td>\n",
       "    </tr>\n",
       "    <tr>\n",
       "      <th id=\"T_9b7d2_level0_row8\" class=\"row_heading level0 row8\" >anx</th>\n",
       "      <td id=\"T_9b7d2_row8_col0\" class=\"data row8 col0\" >float64</td>\n",
       "      <td id=\"T_9b7d2_row8_col1\" class=\"data row8 col1\" >596</td>\n",
       "      <td id=\"T_9b7d2_row8_col2\" class=\"data row8 col2\" >0</td>\n",
       "      <td id=\"T_9b7d2_row8_col3\" class=\"data row8 col3\" >0.000000</td>\n",
       "    </tr>\n",
       "    <tr>\n",
       "      <th id=\"T_9b7d2_level0_row9\" class=\"row_heading level0 row9\" >sad</th>\n",
       "      <td id=\"T_9b7d2_row9_col0\" class=\"data row9 col0\" >float64</td>\n",
       "      <td id=\"T_9b7d2_row9_col1\" class=\"data row9 col1\" >618</td>\n",
       "      <td id=\"T_9b7d2_row9_col2\" class=\"data row9 col2\" >0</td>\n",
       "      <td id=\"T_9b7d2_row9_col3\" class=\"data row9 col3\" >0.000000</td>\n",
       "    </tr>\n",
       "    <tr>\n",
       "      <th id=\"T_9b7d2_level0_row10\" class=\"row_heading level0 row10\" >affect</th>\n",
       "      <td id=\"T_9b7d2_row10_col0\" class=\"data row10 col0\" >float64</td>\n",
       "      <td id=\"T_9b7d2_row10_col1\" class=\"data row10 col1\" >1709</td>\n",
       "      <td id=\"T_9b7d2_row10_col2\" class=\"data row10 col2\" >0</td>\n",
       "      <td id=\"T_9b7d2_row10_col3\" class=\"data row10 col3\" >0.000000</td>\n",
       "    </tr>\n",
       "  </tbody>\n",
       "</table>\n"
      ],
      "text/plain": [
       "<pandas.io.formats.style.Styler at 0x373929990>"
      ]
     },
     "execution_count": 20,
     "metadata": {},
     "output_type": "execute_result"
    }
   ],
   "source": [
    "dtypes = pd.DataFrame(df_comments.dtypes,columns=[\"Data Type\"])\n",
    "dtypes[\"Unique Values\"]=df_comments.nunique().sort_values(ascending=True)\n",
    "dtypes[\"Null Values\"]=df_comments.isnull().sum()\n",
    "dtypes[\"% null Values\"]=df_comments.isnull().sum()/len(df_submissions)\n",
    "dtypes.sort_values(by=\"Null Values\" , ascending=False).style.background_gradient(cmap='YlOrRd',axis=0)\n",
    "\n",
    "#df_comments has no null values"
   ]
  },
  {
   "cell_type": "code",
   "execution_count": 21,
   "metadata": {},
   "outputs": [
    {
     "data": {
      "image/png": "[encoded data removed]",
      "text/plain": [
       "<Figure size 1000x800 with 2 Axes>"
      ]
     },
     "metadata": {},
     "output_type": "display_data"
    }
   ],
   "source": [
    "#only using numerical values for heatmap \n",
    "\n",
    "df_submissions1 = df_submissions.select_dtypes(include=['float64', 'int64'])\n",
    "\n",
    "correlation_matrix = df_submissions1.corr()\n",
    "\n",
    "plt.figure(figsize=(10, 8))\n",
    "sns.heatmap(correlation_matrix, annot=True, cmap='coolwarm', fmt=\".2f\")\n",
    "plt.title('Correlation Matrix Heatmap')\n",
    "plt.show()\n"
   ]
  },
  {
   "cell_type": "code",
   "execution_count": 22,
   "metadata": {},
   "outputs": [
    {
     "data": {
      "image/png": "[encoded data removed]",
      "text/plain": [
       "<Figure size 1000x800 with 2 Axes>"
      ]
     },
     "metadata": {},
     "output_type": "display_data"
    }
   ],
   "source": [
    "#only using numerical values for heatmap \n",
    "\n",
    "df_comments1 = df_comments.select_dtypes(include=['float64', 'int64'])\n",
    "\n",
    "correlation_matrix = df_comments1.corr()\n",
    "\n",
    "plt.figure(figsize=(10, 8))\n",
    "sns.heatmap(correlation_matrix, annot=True, cmap='coolwarm', fmt=\".2f\")\n",
    "plt.title('Correlation Matrix Heatmap')\n",
    "plt.show()\n"
   ]
  },
  {
   "cell_type": "code",
   "execution_count": 23,
   "metadata": {},
   "outputs": [
    {
     "name": "stdout",
     "output_type": "stream",
     "text": [
      "created_utc, -- Min: 1561436002.0, -- Max: 1659066615.0, -- Median: 1610932350.0, -- Mean Values: 1611151381.68346, -- Unique Values: 79580\n",
      "score, -- Min: 0, -- Max: 512, -- Median: 1.0, -- Mean Values: 1.7921153701332933, -- Unique Values: 200\n",
      "WC, -- Min: 0.0, -- Max: 69.0, -- Median: 6.0, -- Mean Values: 8.599505484850766, -- Unique Values: 70\n",
      "Tone, -- Min: 0.0, -- Max: 99.0, -- Median: 25.77, -- Mean Values: 33.70403469136732, -- Unique Values: 120\n",
      "posemo, -- Min: 0.0, -- Max: 100.0, -- Median: 0.0, -- Mean Values: 2.9266209804955188, -- Unique Values: 198\n",
      "negemo, -- Min: 0.0, -- Max: 100.0, -- Median: 0.0, -- Mean Values: 2.9436866480909702, -- Unique Values: 196\n",
      "anger, -- Min: 0.0, -- Max: 100.0, -- Median: 0.0, -- Mean Values: 0.8442611140397117, -- Unique Values: 126\n",
      "anx, -- Min: 0.0, -- Max: 100.0, -- Median: 0.0, -- Mean Values: 0.38604864824158447, -- Unique Values: 106\n",
      "sad, -- Min: 0.0, -- Max: 100.0, -- Median: 0.0, -- Mean Values: 0.4738239576273314, -- Unique Values: 106\n",
      "affect, -- Min: 0.0, -- Max: 100.0, -- Median: 0.0, -- Mean Values: 5.916785274995607, -- Unique Values: 255\n"
     ]
    }
   ],
   "source": [
    "#Checking for outliers, using min, max, and unique values for comments dataframe\n",
    "\n",
    "numerical_df_s = df_submissions.select_dtypes(include=['int', 'float'])\n",
    "\n",
    "# Iterate through each numerical column\n",
    "for column in numerical_df_s.columns:\n",
    "    # Calculate min and max range of unique values\n",
    "    min_val = numerical_df_s[column].min()\n",
    "    max_val = numerical_df_s[column].max()\n",
    "    med_val = numerical_df_s[column].median()\n",
    "    avg_val = numerical_df_s[column].mean()\n",
    "    unique_values = numerical_df_s[column].nunique()\n",
    "    \n",
    "    # Print the results\n",
    "    print(f\"{column}, -- Min: {min_val}, -- Max: {max_val}, -- Median: {med_val}, -- Mean Values: {avg_val}, -- Unique Values: {unique_values}\")\n"
   ]
  },
  {
   "cell_type": "code",
   "execution_count": 24,
   "metadata": {},
   "outputs": [],
   "source": [
    "# unique_posemo_values = df_submissions['posemo'].unique()\n",
    "\n",
    "# # Sort the unique values in ascending order\n",
    "# unique_posemo_values_sorted = sorted(unique_posemo_values)\n",
    "\n",
    "# # Print the sorted list of unique values\n",
    "# print(\"Unique values in posemo column (in ascending order):\", unique_posemo_values_sorted)\n",
    "\n",
    "# # Getting the median of the posemo score \n",
    "\n",
    "# posemo_median = statistics.median(unique_posemo_values_sorted)\n",
    "# print(\"Median of posemo values:\", posemo_median)\n"
   ]
  },
  {
   "cell_type": "code",
   "execution_count": 25,
   "metadata": {},
   "outputs": [
    {
     "name": "stdout",
     "output_type": "stream",
     "text": [
      "created_utc, -- Min: 1561435211, -- Max: 1659067065, -- Unique Values: 1005848\n",
      "score, -- Min: -105, -- Max: 217, -- Unique Values: 188\n",
      "WC, -- Min: 0, -- Max: 1935, -- Unique Values: 1049\n",
      "Tone, -- Min: 0.0, -- Max: 99.0, -- Unique Values: 4364\n",
      "posemo, -- Min: 0.0, -- Max: 100.0, -- Unique Values: 1264\n",
      "negemo, -- Min: 0.0, -- Max: 100.0, -- Unique Values: 1267\n",
      "anger, -- Min: 0.0, -- Max: 100.0, -- Unique Values: 886\n",
      "anx, -- Min: 0.0, -- Max: 100.0, -- Unique Values: 596\n",
      "sad, -- Min: 0.0, -- Max: 100.0, -- Unique Values: 618\n",
      "affect, -- Min: 0.0, -- Max: 100.0, -- Unique Values: 1709\n"
     ]
    }
   ],
   "source": [
    "#Checking for outliers, using min, max, and unique values for comments dataframe\n",
    "\n",
    "numerical_df_c = df_comments.select_dtypes(include=['int', 'float'])\n",
    "\n",
    "# Iterate through each numerical column\n",
    "for column in numerical_df_c.columns:\n",
    "    # Calculate min and max range of unique values\n",
    "    min_val = numerical_df_c[column].min()\n",
    "    max_val = numerical_df_c[column].max()\n",
    "    unique_values = numerical_df_c[column].nunique()\n",
    "    \n",
    "    # Print the results\n",
    "    print(f\"{column}, -- Min: {min_val}, -- Max: {max_val}, -- Unique Values: {unique_values}\")"
   ]
  },
  {
   "cell_type": "code",
   "execution_count": 26,
   "metadata": {},
   "outputs": [],
   "source": [
    "# unique_posemo_values = df_comments['posemo'].unique()\n",
    "\n",
    "# # Sort the unique values in ascending order\n",
    "# unique_posemo_values_sorted = sorted(unique_posemo_values)\n",
    "\n",
    "# # Print the sorted list of unique values\n",
    "# print(\"Unique values in posemo column (in ascending order):\", unique_posemo_values_sorted)\n",
    "\n",
    "# # Getting the median of the posemo score \n",
    "\n",
    "# posemo_median = statistics.median(unique_posemo_values_sorted)\n",
    "# print(\"Median of posemo values:\", posemo_median)\n"
   ]
  },
  {
   "cell_type": "code",
   "execution_count": 27,
   "metadata": {},
   "outputs": [],
   "source": [
    "# # Assuming df_submissions is your DataFrame\n",
    "# df_submissions['posemo_threshold'] = (df_submissions['posemo'] >= 10).astype(int)\n",
    "# df_comments['posemo_threshold'] = (df_submissions['posemo'] >= 6.575).astype(int)"
   ]
  },
  {
   "cell_type": "code",
   "execution_count": 28,
   "metadata": {},
   "outputs": [],
   "source": [
    "import datetime\n",
    "import pandas as pd\n",
    "\n",
    "# Define the extract_datetime function\n",
    "def extract_datetime(row):\n",
    "    timestamp = row['created_utc']\n",
    "    dt_object = datetime.datetime.fromtimestamp(timestamp)\n",
    "    return dt_object\n",
    "\n",
    "# Assuming df_submissions and df_comments are your DataFrames\n",
    "# Apply the function to each row in df_submissions and create a new column 'Datetime'\n",
    "df_submissions['Datetime'] = df_submissions.apply(extract_datetime, axis=1)\n",
    "\n",
    "# Apply the function to each row in df_comments and create a new column 'Datetime'\n",
    "df_comments['Datetime'] = df_comments.apply(extract_datetime, axis=1)\n",
    "\n",
    "# Define the bins for the seasons based on days of the year\n",
    "seasons_bins = [0, 80, 172, 264, 355, 366]\n",
    "seasons_labels = ['Winter', 'Spring', 'Summer', 'Fall', 'Winter']\n",
    "\n",
    "# Add the values to the season column for df_submissions\n",
    "df_submissions['season'] = pd.cut(df_submissions['Datetime'].dt.dayofyear, bins=seasons_bins, labels=seasons_labels, ordered=False)\n",
    "\n",
    "# Add the values to the season column for df_comments\n",
    "df_comments['season'] = pd.cut(df_comments['Datetime'].dt.dayofyear, bins=seasons_bins, labels=seasons_labels, ordered=False)\n",
    "\n",
    "# Drop the 'created_utc' column from both DataFrames if needed\n",
    "# df_submissions.drop('created_utc', axis=1, inplace=True)\n",
    "# df_comments.drop('created_utc', axis=1, inplace=True)\n"
   ]
  },
  {
   "cell_type": "code",
   "execution_count": 29,
   "metadata": {},
   "outputs": [],
   "source": [
    "#DateTime to get month name and year \n",
    "df_submissions['Datetime'] = pd.to_datetime(df_submissions['Datetime'])\n",
    "\n",
    "# Extract month name and year into separate columns\n",
    "df_submissions['Month'] = df_submissions['Datetime'].dt.strftime('%B') \n",
    "df_submissions['Year'] = df_submissions['Datetime'].dt.strftime('%Y')  \n",
    "\n",
    "df_comments['Datetime'] = pd.to_datetime(df_comments['Datetime'])\n",
    "\n",
    "df_comments['Month'] = df_comments['Datetime'].dt.strftime('%B') \n",
    "df_comments['Year'] = df_comments['Datetime'].dt.strftime('%Y')  \n",
    "\n",
    "df_submissions = df_submissions.dropna()\n",
    "df_comments = df_comments.dropna()\n"
   ]
  },
  {
   "cell_type": "code",
   "execution_count": 30,
   "metadata": {},
   "outputs": [
    {
     "data": {
      "text/html": [
       "<div>\n",
       "<style scoped>\n",
       "    .dataframe tbody tr th:only-of-type {\n",
       "        vertical-align: middle;\n",
       "    }\n",
       "\n",
       "    .dataframe tbody tr th {\n",
       "        vertical-align: top;\n",
       "    }\n",
       "\n",
       "    .dataframe thead th {\n",
       "        text-align: right;\n",
       "    }\n",
       "</style>\n",
       "<table border=\"1\" class=\"dataframe\">\n",
       "  <thead>\n",
       "    <tr style=\"text-align: right;\">\n",
       "      <th></th>\n",
       "      <th>author</th>\n",
       "      <th>created_utc</th>\n",
       "      <th>score</th>\n",
       "      <th>WC</th>\n",
       "      <th>Tone</th>\n",
       "      <th>posemo</th>\n",
       "      <th>negemo</th>\n",
       "      <th>anger</th>\n",
       "      <th>anx</th>\n",
       "      <th>sad</th>\n",
       "      <th>affect</th>\n",
       "      <th>Datetime</th>\n",
       "      <th>season</th>\n",
       "      <th>Month</th>\n",
       "      <th>Year</th>\n",
       "    </tr>\n",
       "  </thead>\n",
       "  <tbody>\n",
       "    <tr>\n",
       "      <th>0</th>\n",
       "      <td>BoofDontShoot</td>\n",
       "      <td>1659067065</td>\n",
       "      <td>1</td>\n",
       "      <td>5</td>\n",
       "      <td>25.77</td>\n",
       "      <td>0.00</td>\n",
       "      <td>0.00</td>\n",
       "      <td>0.00</td>\n",
       "      <td>0.0</td>\n",
       "      <td>0.00</td>\n",
       "      <td>0.00</td>\n",
       "      <td>2022-07-28 23:57:45</td>\n",
       "      <td>Summer</td>\n",
       "      <td>July</td>\n",
       "      <td>2022</td>\n",
       "    </tr>\n",
       "    <tr>\n",
       "      <th>1</th>\n",
       "      <td>Busy_Background_195</td>\n",
       "      <td>1659067044</td>\n",
       "      <td>1</td>\n",
       "      <td>55</td>\n",
       "      <td>1.00</td>\n",
       "      <td>1.82</td>\n",
       "      <td>5.45</td>\n",
       "      <td>3.64</td>\n",
       "      <td>0.0</td>\n",
       "      <td>1.82</td>\n",
       "      <td>7.27</td>\n",
       "      <td>2022-07-28 23:57:24</td>\n",
       "      <td>Summer</td>\n",
       "      <td>July</td>\n",
       "      <td>2022</td>\n",
       "    </tr>\n",
       "    <tr>\n",
       "      <th>2</th>\n",
       "      <td>Wolf_Double</td>\n",
       "      <td>1659066949</td>\n",
       "      <td>1</td>\n",
       "      <td>6</td>\n",
       "      <td>99.00</td>\n",
       "      <td>33.33</td>\n",
       "      <td>0.00</td>\n",
       "      <td>0.00</td>\n",
       "      <td>0.0</td>\n",
       "      <td>0.00</td>\n",
       "      <td>33.33</td>\n",
       "      <td>2022-07-28 23:55:49</td>\n",
       "      <td>Summer</td>\n",
       "      <td>July</td>\n",
       "      <td>2022</td>\n",
       "    </tr>\n",
       "    <tr>\n",
       "      <th>3</th>\n",
       "      <td>Knowagoraaa</td>\n",
       "      <td>1659066905</td>\n",
       "      <td>1</td>\n",
       "      <td>39</td>\n",
       "      <td>73.64</td>\n",
       "      <td>2.56</td>\n",
       "      <td>0.00</td>\n",
       "      <td>0.00</td>\n",
       "      <td>0.0</td>\n",
       "      <td>0.00</td>\n",
       "      <td>2.56</td>\n",
       "      <td>2022-07-28 23:55:05</td>\n",
       "      <td>Summer</td>\n",
       "      <td>July</td>\n",
       "      <td>2022</td>\n",
       "    </tr>\n",
       "    <tr>\n",
       "      <th>4</th>\n",
       "      <td>Busy_Background_195</td>\n",
       "      <td>1659066875</td>\n",
       "      <td>1</td>\n",
       "      <td>75</td>\n",
       "      <td>2.41</td>\n",
       "      <td>2.67</td>\n",
       "      <td>5.33</td>\n",
       "      <td>0.00</td>\n",
       "      <td>0.0</td>\n",
       "      <td>2.67</td>\n",
       "      <td>8.00</td>\n",
       "      <td>2022-07-28 23:54:35</td>\n",
       "      <td>Summer</td>\n",
       "      <td>July</td>\n",
       "      <td>2022</td>\n",
       "    </tr>\n",
       "    <tr>\n",
       "      <th>...</th>\n",
       "      <td>...</td>\n",
       "      <td>...</td>\n",
       "      <td>...</td>\n",
       "      <td>...</td>\n",
       "      <td>...</td>\n",
       "      <td>...</td>\n",
       "      <td>...</td>\n",
       "      <td>...</td>\n",
       "      <td>...</td>\n",
       "      <td>...</td>\n",
       "      <td>...</td>\n",
       "      <td>...</td>\n",
       "      <td>...</td>\n",
       "      <td>...</td>\n",
       "      <td>...</td>\n",
       "    </tr>\n",
       "    <tr>\n",
       "      <th>1014392</th>\n",
       "      <td>Virgowitch</td>\n",
       "      <td>1561435458</td>\n",
       "      <td>2</td>\n",
       "      <td>5</td>\n",
       "      <td>99.00</td>\n",
       "      <td>20.00</td>\n",
       "      <td>0.00</td>\n",
       "      <td>0.00</td>\n",
       "      <td>0.0</td>\n",
       "      <td>0.00</td>\n",
       "      <td>20.00</td>\n",
       "      <td>2019-06-25 00:04:18</td>\n",
       "      <td>Summer</td>\n",
       "      <td>June</td>\n",
       "      <td>2019</td>\n",
       "    </tr>\n",
       "    <tr>\n",
       "      <th>1014393</th>\n",
       "      <td>DrewSkii1010</td>\n",
       "      <td>1561435416</td>\n",
       "      <td>1</td>\n",
       "      <td>9</td>\n",
       "      <td>99.00</td>\n",
       "      <td>11.11</td>\n",
       "      <td>0.00</td>\n",
       "      <td>0.00</td>\n",
       "      <td>0.0</td>\n",
       "      <td>0.00</td>\n",
       "      <td>11.11</td>\n",
       "      <td>2019-06-25 00:03:36</td>\n",
       "      <td>Summer</td>\n",
       "      <td>June</td>\n",
       "      <td>2019</td>\n",
       "    </tr>\n",
       "    <tr>\n",
       "      <th>1014394</th>\n",
       "      <td>erischilde</td>\n",
       "      <td>1561435383</td>\n",
       "      <td>1</td>\n",
       "      <td>104</td>\n",
       "      <td>43.27</td>\n",
       "      <td>1.92</td>\n",
       "      <td>0.96</td>\n",
       "      <td>0.96</td>\n",
       "      <td>0.0</td>\n",
       "      <td>0.00</td>\n",
       "      <td>2.88</td>\n",
       "      <td>2019-06-25 00:03:03</td>\n",
       "      <td>Summer</td>\n",
       "      <td>June</td>\n",
       "      <td>2019</td>\n",
       "    </tr>\n",
       "    <tr>\n",
       "      <th>1014395</th>\n",
       "      <td>dingobaybees</td>\n",
       "      <td>1561435314</td>\n",
       "      <td>3</td>\n",
       "      <td>44</td>\n",
       "      <td>25.77</td>\n",
       "      <td>2.27</td>\n",
       "      <td>2.27</td>\n",
       "      <td>0.00</td>\n",
       "      <td>0.0</td>\n",
       "      <td>0.00</td>\n",
       "      <td>6.82</td>\n",
       "      <td>2019-06-25 00:01:54</td>\n",
       "      <td>Summer</td>\n",
       "      <td>June</td>\n",
       "      <td>2019</td>\n",
       "    </tr>\n",
       "    <tr>\n",
       "      <th>1014396</th>\n",
       "      <td>wonderwoman2381</td>\n",
       "      <td>1561435211</td>\n",
       "      <td>2</td>\n",
       "      <td>69</td>\n",
       "      <td>1.00</td>\n",
       "      <td>1.45</td>\n",
       "      <td>5.80</td>\n",
       "      <td>4.35</td>\n",
       "      <td>0.0</td>\n",
       "      <td>0.00</td>\n",
       "      <td>7.25</td>\n",
       "      <td>2019-06-25 00:00:11</td>\n",
       "      <td>Summer</td>\n",
       "      <td>June</td>\n",
       "      <td>2019</td>\n",
       "    </tr>\n",
       "  </tbody>\n",
       "</table>\n",
       "<p>1014397 rows × 15 columns</p>\n",
       "</div>"
      ],
      "text/plain": [
       "                      author  created_utc  score   WC   Tone  posemo  negemo  \\\n",
       "0              BoofDontShoot   1659067065      1    5  25.77    0.00    0.00   \n",
       "1        Busy_Background_195   1659067044      1   55   1.00    1.82    5.45   \n",
       "2                Wolf_Double   1659066949      1    6  99.00   33.33    0.00   \n",
       "3                Knowagoraaa   1659066905      1   39  73.64    2.56    0.00   \n",
       "4        Busy_Background_195   1659066875      1   75   2.41    2.67    5.33   \n",
       "...                      ...          ...    ...  ...    ...     ...     ...   \n",
       "1014392           Virgowitch   1561435458      2    5  99.00   20.00    0.00   \n",
       "1014393         DrewSkii1010   1561435416      1    9  99.00   11.11    0.00   \n",
       "1014394           erischilde   1561435383      1  104  43.27    1.92    0.96   \n",
       "1014395         dingobaybees   1561435314      3   44  25.77    2.27    2.27   \n",
       "1014396      wonderwoman2381   1561435211      2   69   1.00    1.45    5.80   \n",
       "\n",
       "         anger  anx   sad  affect            Datetime  season Month  Year  \n",
       "0         0.00  0.0  0.00    0.00 2022-07-28 23:57:45  Summer  July  2022  \n",
       "1         3.64  0.0  1.82    7.27 2022-07-28 23:57:24  Summer  July  2022  \n",
       "2         0.00  0.0  0.00   33.33 2022-07-28 23:55:49  Summer  July  2022  \n",
       "3         0.00  0.0  0.00    2.56 2022-07-28 23:55:05  Summer  July  2022  \n",
       "4         0.00  0.0  2.67    8.00 2022-07-28 23:54:35  Summer  July  2022  \n",
       "...        ...  ...   ...     ...                 ...     ...   ...   ...  \n",
       "1014392   0.00  0.0  0.00   20.00 2019-06-25 00:04:18  Summer  June  2019  \n",
       "1014393   0.00  0.0  0.00   11.11 2019-06-25 00:03:36  Summer  June  2019  \n",
       "1014394   0.96  0.0  0.00    2.88 2019-06-25 00:03:03  Summer  June  2019  \n",
       "1014395   0.00  0.0  0.00    6.82 2019-06-25 00:01:54  Summer  June  2019  \n",
       "1014396   4.35  0.0  0.00    7.25 2019-06-25 00:00:11  Summer  June  2019  \n",
       "\n",
       "[1014397 rows x 15 columns]"
      ]
     },
     "execution_count": 30,
     "metadata": {},
     "output_type": "execute_result"
    }
   ],
   "source": [
    "df_comments"
   ]
  },
  {
   "cell_type": "code",
   "execution_count": 31,
   "metadata": {},
   "outputs": [
    {
     "data": {
      "text/html": [
       "<div>\n",
       "<style scoped>\n",
       "    .dataframe tbody tr th:only-of-type {\n",
       "        vertical-align: middle;\n",
       "    }\n",
       "\n",
       "    .dataframe tbody tr th {\n",
       "        vertical-align: top;\n",
       "    }\n",
       "\n",
       "    .dataframe thead th {\n",
       "        text-align: right;\n",
       "    }\n",
       "</style>\n",
       "<table border=\"1\" class=\"dataframe\">\n",
       "  <thead>\n",
       "    <tr style=\"text-align: right;\">\n",
       "      <th></th>\n",
       "      <th>author</th>\n",
       "      <th>title</th>\n",
       "      <th>created_utc</th>\n",
       "      <th>score</th>\n",
       "      <th>WC</th>\n",
       "      <th>Tone</th>\n",
       "      <th>posemo</th>\n",
       "      <th>negemo</th>\n",
       "      <th>anger</th>\n",
       "      <th>anx</th>\n",
       "      <th>sad</th>\n",
       "      <th>affect</th>\n",
       "      <th>Datetime</th>\n",
       "      <th>season</th>\n",
       "      <th>Month</th>\n",
       "      <th>Year</th>\n",
       "    </tr>\n",
       "  </thead>\n",
       "  <tbody>\n",
       "    <tr>\n",
       "      <th>0</th>\n",
       "      <td>Odd-Pizza-1079</td>\n",
       "      <td>How much tylenol is too much? Asking for a fri...</td>\n",
       "      <td>1.659067e+09</td>\n",
       "      <td>1</td>\n",
       "      <td>12.0</td>\n",
       "      <td>25.77</td>\n",
       "      <td>0.00</td>\n",
       "      <td>0.00</td>\n",
       "      <td>0.00</td>\n",
       "      <td>0.00</td>\n",
       "      <td>0.00</td>\n",
       "      <td>0.00</td>\n",
       "      <td>2022-07-28 23:50:15</td>\n",
       "      <td>Summer</td>\n",
       "      <td>July</td>\n",
       "      <td>2022</td>\n",
       "    </tr>\n",
       "    <tr>\n",
       "      <th>1</th>\n",
       "      <td>Global_Face_4708</td>\n",
       "      <td>Gabapentin/Lyrica/Clonidine Through Telehealth?</td>\n",
       "      <td>1.659065e+09</td>\n",
       "      <td>1</td>\n",
       "      <td>5.0</td>\n",
       "      <td>25.77</td>\n",
       "      <td>0.00</td>\n",
       "      <td>0.00</td>\n",
       "      <td>0.00</td>\n",
       "      <td>0.00</td>\n",
       "      <td>0.00</td>\n",
       "      <td>0.00</td>\n",
       "      <td>2022-07-28 23:22:43</td>\n",
       "      <td>Summer</td>\n",
       "      <td>July</td>\n",
       "      <td>2022</td>\n",
       "    </tr>\n",
       "    <tr>\n",
       "      <th>2</th>\n",
       "      <td>Bluebeamtwinfn</td>\n",
       "      <td>Opiates prolonging finish/enhancing sex</td>\n",
       "      <td>1.659064e+09</td>\n",
       "      <td>1</td>\n",
       "      <td>5.0</td>\n",
       "      <td>25.77</td>\n",
       "      <td>0.00</td>\n",
       "      <td>0.00</td>\n",
       "      <td>0.00</td>\n",
       "      <td>0.00</td>\n",
       "      <td>0.00</td>\n",
       "      <td>0.00</td>\n",
       "      <td>2022-07-28 23:06:11</td>\n",
       "      <td>Summer</td>\n",
       "      <td>July</td>\n",
       "      <td>2022</td>\n",
       "    </tr>\n",
       "    <tr>\n",
       "      <th>3</th>\n",
       "      <td>iLoveLuckiii</td>\n",
       "      <td>Boost your oxy high! &amp;amp; Save money! (USE ON...</td>\n",
       "      <td>1.659063e+09</td>\n",
       "      <td>1</td>\n",
       "      <td>13.0</td>\n",
       "      <td>99.00</td>\n",
       "      <td>7.69</td>\n",
       "      <td>0.00</td>\n",
       "      <td>0.00</td>\n",
       "      <td>0.00</td>\n",
       "      <td>0.00</td>\n",
       "      <td>7.69</td>\n",
       "      <td>2022-07-28 22:49:43</td>\n",
       "      <td>Summer</td>\n",
       "      <td>July</td>\n",
       "      <td>2022</td>\n",
       "    </tr>\n",
       "    <tr>\n",
       "      <th>4</th>\n",
       "      <td>Downtown_Syrup4635</td>\n",
       "      <td>IOP Detox while working 9-5??</td>\n",
       "      <td>1.659061e+09</td>\n",
       "      <td>1</td>\n",
       "      <td>6.0</td>\n",
       "      <td>25.77</td>\n",
       "      <td>0.00</td>\n",
       "      <td>0.00</td>\n",
       "      <td>0.00</td>\n",
       "      <td>0.00</td>\n",
       "      <td>0.00</td>\n",
       "      <td>0.00</td>\n",
       "      <td>2022-07-28 22:21:57</td>\n",
       "      <td>Summer</td>\n",
       "      <td>July</td>\n",
       "      <td>2022</td>\n",
       "    </tr>\n",
       "    <tr>\n",
       "      <th>...</th>\n",
       "      <td>...</td>\n",
       "      <td>...</td>\n",
       "      <td>...</td>\n",
       "      <td>...</td>\n",
       "      <td>...</td>\n",
       "      <td>...</td>\n",
       "      <td>...</td>\n",
       "      <td>...</td>\n",
       "      <td>...</td>\n",
       "      <td>...</td>\n",
       "      <td>...</td>\n",
       "      <td>...</td>\n",
       "      <td>...</td>\n",
       "      <td>...</td>\n",
       "      <td>...</td>\n",
       "      <td>...</td>\n",
       "    </tr>\n",
       "    <tr>\n",
       "      <th>79671</th>\n",
       "      <td>Kriskross88</td>\n",
       "      <td>I started nodding in front of my friend last n...</td>\n",
       "      <td>1.561437e+09</td>\n",
       "      <td>6</td>\n",
       "      <td>38.0</td>\n",
       "      <td>1.00</td>\n",
       "      <td>0.00</td>\n",
       "      <td>10.53</td>\n",
       "      <td>2.63</td>\n",
       "      <td>2.63</td>\n",
       "      <td>5.26</td>\n",
       "      <td>10.53</td>\n",
       "      <td>2019-06-25 00:32:36</td>\n",
       "      <td>Summer</td>\n",
       "      <td>June</td>\n",
       "      <td>2019</td>\n",
       "    </tr>\n",
       "    <tr>\n",
       "      <th>79672</th>\n",
       "      <td>Jupiterjigs1</td>\n",
       "      <td>Best way to use oxy 30s?</td>\n",
       "      <td>1.561437e+09</td>\n",
       "      <td>3</td>\n",
       "      <td>6.0</td>\n",
       "      <td>99.00</td>\n",
       "      <td>16.67</td>\n",
       "      <td>0.00</td>\n",
       "      <td>0.00</td>\n",
       "      <td>0.00</td>\n",
       "      <td>0.00</td>\n",
       "      <td>16.67</td>\n",
       "      <td>2019-06-25 00:32:34</td>\n",
       "      <td>Summer</td>\n",
       "      <td>June</td>\n",
       "      <td>2019</td>\n",
       "    </tr>\n",
       "    <tr>\n",
       "      <th>79673</th>\n",
       "      <td>FBIintern</td>\n",
       "      <td>Is it me or not many homosexual use Opiates?</td>\n",
       "      <td>1.561437e+09</td>\n",
       "      <td>0</td>\n",
       "      <td>9.0</td>\n",
       "      <td>25.77</td>\n",
       "      <td>0.00</td>\n",
       "      <td>0.00</td>\n",
       "      <td>0.00</td>\n",
       "      <td>0.00</td>\n",
       "      <td>0.00</td>\n",
       "      <td>0.00</td>\n",
       "      <td>2019-06-25 00:23:52</td>\n",
       "      <td>Summer</td>\n",
       "      <td>June</td>\n",
       "      <td>2019</td>\n",
       "    </tr>\n",
       "    <tr>\n",
       "      <th>79674</th>\n",
       "      <td>AutomaticBrick3</td>\n",
       "      <td>Stamp bags review</td>\n",
       "      <td>1.561436e+09</td>\n",
       "      <td>0</td>\n",
       "      <td>3.0</td>\n",
       "      <td>25.77</td>\n",
       "      <td>0.00</td>\n",
       "      <td>0.00</td>\n",
       "      <td>0.00</td>\n",
       "      <td>0.00</td>\n",
       "      <td>0.00</td>\n",
       "      <td>0.00</td>\n",
       "      <td>2019-06-25 00:17:35</td>\n",
       "      <td>Summer</td>\n",
       "      <td>June</td>\n",
       "      <td>2019</td>\n",
       "    </tr>\n",
       "    <tr>\n",
       "      <th>79675</th>\n",
       "      <td>Bartard666</td>\n",
       "      <td>How's everyone doing?</td>\n",
       "      <td>1.561436e+09</td>\n",
       "      <td>3</td>\n",
       "      <td>3.0</td>\n",
       "      <td>25.77</td>\n",
       "      <td>0.00</td>\n",
       "      <td>0.00</td>\n",
       "      <td>0.00</td>\n",
       "      <td>0.00</td>\n",
       "      <td>0.00</td>\n",
       "      <td>0.00</td>\n",
       "      <td>2019-06-25 00:13:22</td>\n",
       "      <td>Summer</td>\n",
       "      <td>June</td>\n",
       "      <td>2019</td>\n",
       "    </tr>\n",
       "  </tbody>\n",
       "</table>\n",
       "<p>79674 rows × 16 columns</p>\n",
       "</div>"
      ],
      "text/plain": [
       "                   author                                              title  \\\n",
       "0          Odd-Pizza-1079  How much tylenol is too much? Asking for a fri...   \n",
       "1        Global_Face_4708    Gabapentin/Lyrica/Clonidine Through Telehealth?   \n",
       "2          Bluebeamtwinfn            Opiates prolonging finish/enhancing sex   \n",
       "3            iLoveLuckiii  Boost your oxy high! &amp; Save money! (USE ON...   \n",
       "4      Downtown_Syrup4635                      IOP Detox while working 9-5??   \n",
       "...                   ...                                                ...   \n",
       "79671         Kriskross88  I started nodding in front of my friend last n...   \n",
       "79672        Jupiterjigs1                           Best way to use oxy 30s?   \n",
       "79673           FBIintern       Is it me or not many homosexual use Opiates?   \n",
       "79674     AutomaticBrick3                                  Stamp bags review   \n",
       "79675          Bartard666                              How's everyone doing?   \n",
       "\n",
       "        created_utc  score    WC   Tone  posemo  negemo  anger   anx   sad  \\\n",
       "0      1.659067e+09      1  12.0  25.77    0.00    0.00   0.00  0.00  0.00   \n",
       "1      1.659065e+09      1   5.0  25.77    0.00    0.00   0.00  0.00  0.00   \n",
       "2      1.659064e+09      1   5.0  25.77    0.00    0.00   0.00  0.00  0.00   \n",
       "3      1.659063e+09      1  13.0  99.00    7.69    0.00   0.00  0.00  0.00   \n",
       "4      1.659061e+09      1   6.0  25.77    0.00    0.00   0.00  0.00  0.00   \n",
       "...             ...    ...   ...    ...     ...     ...    ...   ...   ...   \n",
       "79671  1.561437e+09      6  38.0   1.00    0.00   10.53   2.63  2.63  5.26   \n",
       "79672  1.561437e+09      3   6.0  99.00   16.67    0.00   0.00  0.00  0.00   \n",
       "79673  1.561437e+09      0   9.0  25.77    0.00    0.00   0.00  0.00  0.00   \n",
       "79674  1.561436e+09      0   3.0  25.77    0.00    0.00   0.00  0.00  0.00   \n",
       "79675  1.561436e+09      3   3.0  25.77    0.00    0.00   0.00  0.00  0.00   \n",
       "\n",
       "       affect            Datetime  season Month  Year  \n",
       "0        0.00 2022-07-28 23:50:15  Summer  July  2022  \n",
       "1        0.00 2022-07-28 23:22:43  Summer  July  2022  \n",
       "2        0.00 2022-07-28 23:06:11  Summer  July  2022  \n",
       "3        7.69 2022-07-28 22:49:43  Summer  July  2022  \n",
       "4        0.00 2022-07-28 22:21:57  Summer  July  2022  \n",
       "...       ...                 ...     ...   ...   ...  \n",
       "79671   10.53 2019-06-25 00:32:36  Summer  June  2019  \n",
       "79672   16.67 2019-06-25 00:32:34  Summer  June  2019  \n",
       "79673    0.00 2019-06-25 00:23:52  Summer  June  2019  \n",
       "79674    0.00 2019-06-25 00:17:35  Summer  June  2019  \n",
       "79675    0.00 2019-06-25 00:13:22  Summer  June  2019  \n",
       "\n",
       "[79674 rows x 16 columns]"
      ]
     },
     "execution_count": 31,
     "metadata": {},
     "output_type": "execute_result"
    }
   ],
   "source": [
    "df_submissions"
   ]
  },
  {
   "cell_type": "code",
   "execution_count": 32,
   "metadata": {},
   "outputs": [
    {
     "data": {
      "text/html": [
       "<div>\n",
       "<style scoped>\n",
       "    .dataframe tbody tr th:only-of-type {\n",
       "        vertical-align: middle;\n",
       "    }\n",
       "\n",
       "    .dataframe tbody tr th {\n",
       "        vertical-align: top;\n",
       "    }\n",
       "\n",
       "    .dataframe thead th {\n",
       "        text-align: right;\n",
       "    }\n",
       "</style>\n",
       "<table border=\"1\" class=\"dataframe\">\n",
       "  <thead>\n",
       "    <tr style=\"text-align: right;\">\n",
       "      <th></th>\n",
       "      <th>author</th>\n",
       "      <th>title</th>\n",
       "      <th>score</th>\n",
       "      <th>season</th>\n",
       "    </tr>\n",
       "  </thead>\n",
       "  <tbody>\n",
       "    <tr>\n",
       "      <th>73791</th>\n",
       "      <td>Ghibliholic</td>\n",
       "      <td>Hey guys i hate to ask but please can i get a ...</td>\n",
       "      <td>512</td>\n",
       "      <td>Summer</td>\n",
       "    </tr>\n",
       "    <tr>\n",
       "      <th>54691</th>\n",
       "      <td>videoverse</td>\n",
       "      <td>Ah the nostalgia.</td>\n",
       "      <td>493</td>\n",
       "      <td>Spring</td>\n",
       "    </tr>\n",
       "    <tr>\n",
       "      <th>72450</th>\n",
       "      <td>cam32596</td>\n",
       "      <td>Firefighter/EMT here</td>\n",
       "      <td>481</td>\n",
       "      <td>Fall</td>\n",
       "    </tr>\n",
       "    <tr>\n",
       "      <th>54800</th>\n",
       "      <td>PlsnoticeMefelix</td>\n",
       "      <td>Got My 90, 1st one I've gotten in 10 years of ...</td>\n",
       "      <td>399</td>\n",
       "      <td>Spring</td>\n",
       "    </tr>\n",
       "    <tr>\n",
       "      <th>71227</th>\n",
       "      <td>lockedupa_broad</td>\n",
       "      <td>I hooked up with a girl in a vinyl bunny suit ...</td>\n",
       "      <td>365</td>\n",
       "      <td>Fall</td>\n",
       "    </tr>\n",
       "    <tr>\n",
       "      <th>77838</th>\n",
       "      <td>FreeIfUboofIT</td>\n",
       "      <td>What have I become?</td>\n",
       "      <td>345</td>\n",
       "      <td>Summer</td>\n",
       "    </tr>\n",
       "    <tr>\n",
       "      <th>52076</th>\n",
       "      <td>Dopelesshopefiend201</td>\n",
       "      <td>Any Bojack Horseman fans?</td>\n",
       "      <td>299</td>\n",
       "      <td>Summer</td>\n",
       "    </tr>\n",
       "    <tr>\n",
       "      <th>76033</th>\n",
       "      <td>spinderella69</td>\n",
       "      <td>Reminder, DO NOT use Google anymore as your se...</td>\n",
       "      <td>297</td>\n",
       "      <td>Summer</td>\n",
       "    </tr>\n",
       "    <tr>\n",
       "      <th>77209</th>\n",
       "      <td>CokecanDan87</td>\n",
       "      <td>Time to give it up....</td>\n",
       "      <td>295</td>\n",
       "      <td>Summer</td>\n",
       "    </tr>\n",
       "    <tr>\n",
       "      <th>71958</th>\n",
       "      <td>mdadam621</td>\n",
       "      <td>This is inspiring. A formerly incarcerated opi...</td>\n",
       "      <td>288</td>\n",
       "      <td>Fall</td>\n",
       "    </tr>\n",
       "  </tbody>\n",
       "</table>\n",
       "</div>"
      ],
      "text/plain": [
       "                     author  \\\n",
       "73791           Ghibliholic   \n",
       "54691            videoverse   \n",
       "72450              cam32596   \n",
       "54800      PlsnoticeMefelix   \n",
       "71227       lockedupa_broad   \n",
       "77838         FreeIfUboofIT   \n",
       "52076  Dopelesshopefiend201   \n",
       "76033         spinderella69   \n",
       "77209          CokecanDan87   \n",
       "71958             mdadam621   \n",
       "\n",
       "                                                   title  score  season  \n",
       "73791  Hey guys i hate to ask but please can i get a ...    512  Summer  \n",
       "54691                                  Ah the nostalgia.    493  Spring  \n",
       "72450                               Firefighter/EMT here    481    Fall  \n",
       "54800  Got My 90, 1st one I've gotten in 10 years of ...    399  Spring  \n",
       "71227  I hooked up with a girl in a vinyl bunny suit ...    365    Fall  \n",
       "77838                                What have I become?    345  Summer  \n",
       "52076                          Any Bojack Horseman fans?    299  Summer  \n",
       "76033  Reminder, DO NOT use Google anymore as your se...    297  Summer  \n",
       "77209                             Time to give it up....    295  Summer  \n",
       "71958  This is inspiring. A formerly incarcerated opi...    288    Fall  "
      ]
     },
     "execution_count": 32,
     "metadata": {},
     "output_type": "execute_result"
    }
   ],
   "source": [
    "import pandas as pd\n",
    "\n",
    "# Assuming df_submissions is your DataFrame\n",
    "# Load your DataFrame or create it\n",
    "# Example:\n",
    "# df_submissions = pd.read_csv('your_file.csv')\n",
    "\n",
    "# Sort the DataFrame based on the 'score' column in descending order\n",
    "df_sorted = df_submissions.sort_values(by='score', ascending=False)\n",
    "\n",
    "# Select the top 10 highest scores\n",
    "top_10_highest_scores = df_sorted.head(10)\n",
    "\n",
    "# Display the selected columns\n",
    "selected_columns = ['author', 'title', 'score', 'season']\n",
    "top_10_highest_scores[selected_columns]\n"
   ]
  },
  {
   "cell_type": "code",
   "execution_count": 33,
   "metadata": {},
   "outputs": [
    {
     "name": "stderr",
     "output_type": "stream",
     "text": [
      "[nltk_data] Downloading package stopwords to\n",
      "[nltk_data]     /Users/amadouyehara/nltk_data...\n",
      "[nltk_data]   Package stopwords is already up-to-date!\n"
     ]
    },
    {
     "data": {
      "text/plain": [
       "0    much tylenol much asking friend actually\n",
       "1        gabapentinlyricaclonidine telehealth\n",
       "2      opiates prolonging finishenhancing sex\n",
       "3           boost oxy high amp save money use\n",
       "4                        iop detox working 95\n",
       "Name: title, dtype: object"
      ]
     },
     "execution_count": 33,
     "metadata": {},
     "output_type": "execute_result"
    }
   ],
   "source": [
    "#Natural Language Processing for Title columns \n",
    "\n",
    "nltk.download('stopwords')\n",
    "swords = stopwords.words('english')\n",
    "#Removing the word 'not' to avoid consfusion from negative to positive sentiment\n",
    "swords.remove('not')\n",
    "\n",
    "df_submissions['title'] = df_submissions['title'].apply(lambda x: re.sub(r'[^a-zA-Z\\d\\s.]', '', x.lower()))\n",
    "df_submissions['title'] = df_submissions['title'].apply(lambda x: x.replace('.', ' '))\n",
    "df_submissions['title'] = df_submissions['title'].apply(lambda x: ' '.join([t for t in x.split(' ') if (t not in swords) and len(t) > 1]))\n",
    "df_submissions['title'].head()"
   ]
  },
  {
   "cell_type": "code",
   "execution_count": 34,
   "metadata": {},
   "outputs": [
    {
     "name": "stderr",
     "output_type": "stream",
     "text": [
      "huggingface/tokenizers: The current process just got forked, after parallelism has already been used. Disabling parallelism to avoid deadlocks...\n",
      "To disable this warning, you can either:\n",
      "\t- Avoid using `tokenizers` before the fork if possible\n",
      "\t- Explicitly set the environment variable TOKENIZERS_PARALLELISM=(true | false)\n",
      "huggingface/tokenizers: The current process just got forked, after parallelism has already been used. Disabling parallelism to avoid deadlocks...\n",
      "To disable this warning, you can either:\n",
      "\t- Avoid using `tokenizers` before the fork if possible\n",
      "\t- Explicitly set the environment variable TOKENIZERS_PARALLELISM=(true | false)\n",
      "huggingface/tokenizers: The current process just got forked, after parallelism has already been used. Disabling parallelism to avoid deadlocks...\n",
      "To disable this warning, you can either:\n",
      "\t- Avoid using `tokenizers` before the fork if possible\n",
      "\t- Explicitly set the environment variable TOKENIZERS_PARALLELISM=(true | false)\n",
      "huggingface/tokenizers: The current process just got forked, after parallelism has already been used. Disabling parallelism to avoid deadlocks...\n",
      "To disable this warning, you can either:\n",
      "\t- Avoid using `tokenizers` before the fork if possible\n",
      "\t- Explicitly set the environment variable TOKENIZERS_PARALLELISM=(true | false)\n",
      "huggingface/tokenizers: The current process just got forked, after parallelism has already been used. Disabling parallelism to avoid deadlocks...\n",
      "To disable this warning, you can either:\n",
      "\t- Avoid using `tokenizers` before the fork if possible\n",
      "\t- Explicitly set the environment variable TOKENIZERS_PARALLELISM=(true | false)\n"
     ]
    },
    {
     "name": "stdout",
     "output_type": "stream",
     "text": [
      "      Topic  Count                                         Name  \\\n",
      "0        -1  24932                         -1_took_ive_ago_take   \n",
      "1         0    638          0_addiction_addict_addicts_addicted   \n",
      "2         1    377              1_opiates_opiate_seasoned_spicy   \n",
      "3         2    335         2_opioids_opioid_opioidopiate_opiods   \n",
      "4         3    270                          3_weve_xx_sh_notice   \n",
      "...     ...    ...                                          ...   \n",
      "1401   1400     10           1400_bruddas_quick_checkup_answers   \n",
      "1402   1401     10           1401_detoxify_foundry_strategy_icu   \n",
      "1403   1402     10      1402_pins_needles_pinsneedles_sensation   \n",
      "1404   1403     10   1403_succesful_temporarily_necessary_taper   \n",
      "1405   1404     10  1404_acidshrooms_periodd_acidity_huntington   \n",
      "\n",
      "                                         Representation  \\\n",
      "0     [took, ive, ago, take, hours, last, im, mg, li...   \n",
      "1     [addiction, addict, addicts, addicted, recover...   \n",
      "2     [opiates, opiate, seasoned, spicy, win, hack, ...   \n",
      "3     [opioids, opioid, opioidopiate, opiods, opiate...   \n",
      "4               [weve, xx, sh, notice, youve, , , , , ]   \n",
      "...                                                 ...   \n",
      "1401  [bruddas, quick, checkup, answers, replies, an...   \n",
      "1402  [detoxify, foundry, strategy, icu, detox, vita...   \n",
      "1403  [pins, needles, pinsneedles, sensation, overwh...   \n",
      "1404  [succesful, temporarily, necessary, taper, cor...   \n",
      "1405  [acidshrooms, periodd, acidity, huntington, su...   \n",
      "\n",
      "                                    Representative_Docs  \n",
      "0     [dont know ok place ask ill give shot since ri...  \n",
      "1                     [addiction, addiction, addiction]  \n",
      "2     [get opiates, life hack use opiates win spicy ...  \n",
      "3                           [opioids, opioids, opioids]  \n",
      "4                                        [sh, xx, weve]  \n",
      "...                                                 ...  \n",
      "1401  [need quick answer, need quick answer, quick c...  \n",
      "1402  [thoughts foundry colorado opioid detox treatm...  \n",
      "1403  [pins needles update, pins amp needles, pins n...  \n",
      "1404  [tapered correctly avoid withdrawal, long temp...  \n",
      "1405  [use acidshrooms opiates, anyway remove acidit...  \n",
      "\n",
      "[1406 rows x 5 columns]\n"
     ]
    }
   ],
   "source": [
    "docs = df_submissions['title'].tolist()\n",
    "\n",
    "topic_model = BERTopic()\n",
    "topics, probs = topic_model.fit_transform(docs)\n",
    "\n",
    "print(topic_model.get_topic_info())"
   ]
  },
  {
   "cell_type": "code",
   "execution_count": 35,
   "metadata": {},
   "outputs": [
    {
     "name": "stderr",
     "output_type": "stream",
     "text": [
      "huggingface/tokenizers: The current process just got forked, after parallelism has already been used. Disabling parallelism to avoid deadlocks...\n",
      "To disable this warning, you can either:\n",
      "\t- Avoid using `tokenizers` before the fork if possible\n",
      "\t- Explicitly set the environment variable TOKENIZERS_PARALLELISM=(true | false)\n"
     ]
    },
    {
     "data": {
      "application/vnd.plotly.v1+json": {
       "config": {
        "plotlyServerURL": "https://plot.ly"
       },
       "data": [
        {
         "marker": {
          "color": "#D55E00"
         },
         "orientation": "h",
         "type": "bar",
         "x": [
          0.004970655568955821,
          0.005270881650169943,
          0.005393115886192738,
          0.005625386390815152,
          0.006216677826130812,
          0.007962287653453939,
          0.01538599879325914,
          0.015518569495158462,
          0.02406140507280854,
          0.026086579977915067
         ],
         "xaxis": "x",
         "y": [
          "physical  ",
          "physically  ",
          "overcome  ",
          "addictions  ",
          "psychological  ",
          "recovering  ",
          "addicted  ",
          "addicts  ",
          "addict  ",
          "addiction  "
         ],
         "yaxis": "y"
        },
        {
         "marker": {
          "color": "#0072B2"
         },
         "orientation": "h",
         "type": "bar",
         "x": [
          0.004800169722035226,
          0.004800169722035226,
          0.004800169722035226,
          0.00497647826737934,
          0.005225480381382454,
          0.005467905522295966,
          0.00563163742714954,
          0.00563163742714954,
          0.006416329559237234,
          0.012680561515247987
         ],
         "xaxis": "x2",
         "y": [
          "jammer  ",
          "fisherman  ",
          "contests  ",
          "life  ",
          "hack  ",
          "win  ",
          "spicy  ",
          "seasoned  ",
          "opiate  ",
          "opiates  "
         ],
         "yaxis": "y2"
        },
        {
         "marker": {
          "color": "#CC79A7"
         },
         "orientation": "h",
         "type": "bar",
         "x": [
          0.005672893688311401,
          0.00584527709696191,
          0.00584527709696191,
          0.005881685748845014,
          0.006456297663948437,
          0.006784910229803203,
          0.01058326001891534,
          0.01323675193939327,
          0.019530590124206503,
          0.0355528984393681
         ],
         "xaxis": "x3",
         "y": [
          "lesser  ",
          "epigenetics  ",
          "withdralws  ",
          "synthetic  ",
          "opiod  ",
          "opiatesopioids  ",
          "opiods  ",
          "opioidopiate  ",
          "opioid  ",
          "opioids  "
         ],
         "yaxis": "y3"
        },
        {
         "marker": {
          "color": "#E69F00"
         },
         "orientation": "h",
         "type": "bar",
         "x": [
          0.00001,
          0.00001,
          0.00001,
          0.00001,
          0.00001,
          0.1797121007384978,
          0.32782725970885757,
          0.6790236424840967,
          0.8300293477685912,
          1.0740678716536252
         ],
         "xaxis": "x4",
         "y": [
          "  ",
          "  ",
          "  ",
          "  ",
          "  ",
          "youve  ",
          "notice  ",
          "sh  ",
          "xx  ",
          "weve  "
         ],
         "yaxis": "y4"
        },
        {
         "marker": {
          "color": "#56B4E9"
         },
         "orientation": "h",
         "type": "bar",
         "x": [
          0.00001,
          0.0005066708763317981,
          0.001051385956575235,
          0.0035851038770298013,
          0.00630418850334827,
          0.006453327403159109,
          0.0076624665332779476,
          0.00882435368618937,
          0.029630122581124223,
          0.0656222054093603
         ],
         "xaxis": "x5",
         "y": [
          "  ",
          "long  ",
          "cant  ",
          "hell  ",
          "couldnt  ",
          "yes  ",
          "late  ",
          "smh  ",
          "helppp  ",
          "help  "
         ],
         "yaxis": "y5"
        },
        {
         "marker": {
          "color": "#009E73"
         },
         "orientation": "h",
         "type": "bar",
         "x": [
          0.012770002078784953,
          0.012770002078784953,
          0.012770002078784953,
          0.012770002078784953,
          0.012770002078784953,
          0.012770002078784953,
          0.012770002078784953,
          0.01489138379215239,
          0.020622259070271043,
          0.06975687555383216
         ],
         "xaxis": "x6",
         "y": [
          "tantihistamines  ",
          "escultando  ",
          "pitando  ",
          "pssd  ",
          "keta  ",
          "algn  ",
          "ch1leno  ",
          "se  ",
          "trapentadol  ",
          "tramadol  "
         ],
         "yaxis": "y6"
        },
        {
         "marker": {
          "color": "#F0E442"
         },
         "orientation": "h",
         "type": "bar",
         "x": [
          0.008179577114771849,
          0.00940712699271395,
          0.012631444165043273,
          0.013079778693988112,
          0.013919885893192367,
          0.021077624248998214,
          0.021077624248998214,
          0.021077624248998214,
          0.03656066093407334,
          0.07002928587195892
         ],
         "xaxis": "x7",
         "y": [
          "along  ",
          "response  ",
          "unrelated  ",
          "another  ",
          "chapter  ",
          "questionnn  ",
          "ukers  ",
          "wiser  ",
          "important  ",
          "question  "
         ],
         "yaxis": "y7"
        },
        {
         "marker": {
          "color": "#D55E00"
         },
         "orientation": "h",
         "type": "bar",
         "x": [
          0.006412530496663978,
          0.006559094103157448,
          0.006951037247688268,
          0.007505917236792083,
          0.007660718125578583,
          0.008170965931702029,
          0.008170965931702029,
          0.008465220735347582,
          0.009210569378081193,
          0.0720292905417022
         ],
         "xaxis": "x8",
         "y": [
          "roas  ",
          "16mg  ",
          "18mg  ",
          "m4s  ",
          "4mg  ",
          "palladone  ",
          "hydromorphones  ",
          "hydromorphonedilaudid  ",
          "hydromophone  ",
          "hydromorphone  "
         ],
         "yaxis": "y8"
        },
        {
         "marker": {
          "color": "#0072B2"
         },
         "orientation": "h",
         "type": "bar",
         "x": [
          0.010228034975266776,
          0.010269184481760186,
          0.010517766681928173,
          0.01247440861881378,
          0.012859285642997619,
          0.01828554892547179,
          0.018726715446154174,
          0.019288928464496428,
          0.07615939892887612,
          0.08025774216402277
         ],
         "xaxis": "x9",
         "y": [
          "missing  ",
          "hit  ",
          "finder  ",
          "collapsed  ",
          "visible  ",
          "blood  ",
          "femoral  ",
          "tourniquet  ",
          "veins  ",
          "vein  "
         ],
         "yaxis": "y9"
        }
       ],
       "layout": {
        "annotations": [
         {
          "font": {
           "size": 16
          },
          "showarrow": false,
          "text": "Topic 0",
          "x": 0.0875,
          "xanchor": "center",
          "xref": "paper",
          "y": 1,
          "yanchor": "bottom",
          "yref": "paper"
         },
         {
          "font": {
           "size": 16
          },
          "showarrow": false,
          "text": "Topic 1",
          "x": 0.36250000000000004,
          "xanchor": "center",
          "xref": "paper",
          "y": 1,
          "yanchor": "bottom",
          "yref": "paper"
         },
         {
          "font": {
           "size": 16
          },
          "showarrow": false,
          "text": "Topic 2",
          "x": 0.6375000000000001,
          "xanchor": "center",
          "xref": "paper",
          "y": 1,
          "yanchor": "bottom",
          "yref": "paper"
         },
         {
          "font": {
           "size": 16
          },
          "showarrow": false,
          "text": "Topic 3",
          "x": 0.9125,
          "xanchor": "center",
          "xref": "paper",
          "y": 1,
          "yanchor": "bottom",
          "yref": "paper"
         },
         {
          "font": {
           "size": 16
          },
          "showarrow": false,
          "text": "Topic 4",
          "x": 0.0875,
          "xanchor": "center",
          "xref": "paper",
          "y": 0.6222222222222222,
          "yanchor": "bottom",
          "yref": "paper"
         },
         {
          "font": {
           "size": 16
          },
          "showarrow": false,
          "text": "Topic 5",
          "x": 0.36250000000000004,
          "xanchor": "center",
          "xref": "paper",
          "y": 0.6222222222222222,
          "yanchor": "bottom",
          "yref": "paper"
         },
         {
          "font": {
           "size": 16
          },
          "showarrow": false,
          "text": "Topic 6",
          "x": 0.6375000000000001,
          "xanchor": "center",
          "xref": "paper",
          "y": 0.6222222222222222,
          "yanchor": "bottom",
          "yref": "paper"
         },
         {
          "font": {
           "size": 16
          },
          "showarrow": false,
          "text": "Topic 7",
          "x": 0.9125,
          "xanchor": "center",
          "xref": "paper",
          "y": 0.6222222222222222,
          "yanchor": "bottom",
          "yref": "paper"
         },
         {
          "font": {
           "size": 16
          },
          "showarrow": false,
          "text": "Topic 8",
          "x": 0.0875,
          "xanchor": "center",
          "xref": "paper",
          "y": 0.24444444444444446,
          "yanchor": "bottom",
          "yref": "paper"
         }
        ],
        "height": 1950,
        "hoverlabel": {
         "bgcolor": "white",
         "font": {
          "family": "Rockwell",
          "size": 16
         }
        },
        "showlegend": false,
        "template": {
         "data": {
          "bar": [
           {
            "error_x": {
             "color": "#2a3f5f"
            },
            "error_y": {
             "color": "#2a3f5f"
            },
            "marker": {
             "line": {
              "color": "white",
              "width": 0.5
             },
             "pattern": {
              "fillmode": "overlay",
              "size": 10,
              "solidity": 0.2
             }
            },
            "type": "bar"
           }
          ],
          "barpolar": [
           {
            "marker": {
             "line": {
              "color": "white",
              "width": 0.5
             },
             "pattern": {
              "fillmode": "overlay",
              "size": 10,
              "solidity": 0.2
             }
            },
            "type": "barpolar"
           }
          ],
          "carpet": [
           {
            "aaxis": {
             "endlinecolor": "#2a3f5f",
             "gridcolor": "#C8D4E3",
             "linecolor": "#C8D4E3",
             "minorgridcolor": "#C8D4E3",
             "startlinecolor": "#2a3f5f"
            },
            "baxis": {
             "endlinecolor": "#2a3f5f",
             "gridcolor": "#C8D4E3",
             "linecolor": "#C8D4E3",
             "minorgridcolor": "#C8D4E3",
             "startlinecolor": "#2a3f5f"
            },
            "type": "carpet"
           }
          ],
          "choropleth": [
           {
            "colorbar": {
             "outlinewidth": 0,
             "ticks": ""
            },
            "type": "choropleth"
           }
          ],
          "contour": [
           {
            "colorbar": {
             "outlinewidth": 0,
             "ticks": ""
            },
            "colorscale": [
             [
              0,
              "#0d0887"
             ],
             [
              0.1111111111111111,
              "#46039f"
             ],
             [
              0.2222222222222222,
              "#7201a8"
             ],
             [
              0.3333333333333333,
              "#9c179e"
             ],
             [
              0.4444444444444444,
              "#bd3786"
             ],
             [
              0.5555555555555556,
              "#d8576b"
             ],
             [
              0.6666666666666666,
              "#ed7953"
             ],
             [
              0.7777777777777778,
              "#fb9f3a"
             ],
             [
              0.8888888888888888,
              "#fdca26"
             ],
             [
              1,
              "#f0f921"
             ]
            ],
            "type": "contour"
           }
          ],
          "contourcarpet": [
           {
            "colorbar": {
             "outlinewidth": 0,
             "ticks": ""
            },
            "type": "contourcarpet"
           }
          ],
          "heatmap": [
           {
            "colorbar": {
             "outlinewidth": 0,
             "ticks": ""
            },
            "colorscale": [
             [
              0,
              "#0d0887"
             ],
             [
              0.1111111111111111,
              "#46039f"
             ],
             [
              0.2222222222222222,
              "#7201a8"
             ],
             [
              0.3333333333333333,
              "#9c179e"
             ],
             [
              0.4444444444444444,
              "#bd3786"
             ],
             [
              0.5555555555555556,
              "#d8576b"
             ],
             [
              0.6666666666666666,
              "#ed7953"
             ],
             [
              0.7777777777777778,
              "#fb9f3a"
             ],
             [
              0.8888888888888888,
              "#fdca26"
             ],
             [
              1,
              "#f0f921"
             ]
            ],
            "type": "heatmap"
           }
          ],
          "heatmapgl": [
           {
            "colorbar": {
             "outlinewidth": 0,
             "ticks": ""
            },
            "colorscale": [
             [
              0,
              "#0d0887"
             ],
             [
              0.1111111111111111,
              "#46039f"
             ],
             [
              0.2222222222222222,
              "#7201a8"
             ],
             [
              0.3333333333333333,
              "#9c179e"
             ],
             [
              0.4444444444444444,
              "#bd3786"
             ],
             [
              0.5555555555555556,
              "#d8576b"
             ],
             [
              0.6666666666666666,
              "#ed7953"
             ],
             [
              0.7777777777777778,
              "#fb9f3a"
             ],
             [
              0.8888888888888888,
              "#fdca26"
             ],
             [
              1,
              "#f0f921"
             ]
            ],
            "type": "heatmapgl"
           }
          ],
          "histogram": [
           {
            "marker": {
             "pattern": {
              "fillmode": "overlay",
              "size": 10,
              "solidity": 0.2
             }
            },
            "type": "histogram"
           }
          ],
          "histogram2d": [
           {
            "colorbar": {
             "outlinewidth": 0,
             "ticks": ""
            },
            "colorscale": [
             [
              0,
              "#0d0887"
             ],
             [
              0.1111111111111111,
              "#46039f"
             ],
             [
              0.2222222222222222,
              "#7201a8"
             ],
             [
              0.3333333333333333,
              "#9c179e"
             ],
             [
              0.4444444444444444,
              "#bd3786"
             ],
             [
              0.5555555555555556,
              "#d8576b"
             ],
             [
              0.6666666666666666,
              "#ed7953"
             ],
             [
              0.7777777777777778,
              "#fb9f3a"
             ],
             [
              0.8888888888888888,
              "#fdca26"
             ],
             [
              1,
              "#f0f921"
             ]
            ],
            "type": "histogram2d"
           }
          ],
          "histogram2dcontour": [
           {
            "colorbar": {
             "outlinewidth": 0,
             "ticks": ""
            },
            "colorscale": [
             [
              0,
              "#0d0887"
             ],
             [
              0.1111111111111111,
              "#46039f"
             ],
             [
              0.2222222222222222,
              "#7201a8"
             ],
             [
              0.3333333333333333,
              "#9c179e"
             ],
             [
              0.4444444444444444,
              "#bd3786"
             ],
             [
              0.5555555555555556,
              "#d8576b"
             ],
             [
              0.6666666666666666,
              "#ed7953"
             ],
             [
              0.7777777777777778,
              "#fb9f3a"
             ],
             [
              0.8888888888888888,
              "#fdca26"
             ],
             [
              1,
              "#f0f921"
             ]
            ],
            "type": "histogram2dcontour"
           }
          ],
          "mesh3d": [
           {
            "colorbar": {
             "outlinewidth": 0,
             "ticks": ""
            },
            "type": "mesh3d"
           }
          ],
          "parcoords": [
           {
            "line": {
             "colorbar": {
              "outlinewidth": 0,
              "ticks": ""
             }
            },
            "type": "parcoords"
           }
          ],
          "pie": [
           {
            "automargin": true,
            "type": "pie"
           }
          ],
          "scatter": [
           {
            "fillpattern": {
             "fillmode": "overlay",
             "size": 10,
             "solidity": 0.2
            },
            "type": "scatter"
           }
          ],
          "scatter3d": [
           {
            "line": {
             "colorbar": {
              "outlinewidth": 0,
              "ticks": ""
             }
            },
            "marker": {
             "colorbar": {
              "outlinewidth": 0,
              "ticks": ""
             }
            },
            "type": "scatter3d"
           }
          ],
          "scattercarpet": [
           {
            "marker": {
             "colorbar": {
              "outlinewidth": 0,
              "ticks": ""
             }
            },
            "type": "scattercarpet"
           }
          ],
          "scattergeo": [
           {
            "marker": {
             "colorbar": {
              "outlinewidth": 0,
              "ticks": ""
             }
            },
            "type": "scattergeo"
           }
          ],
          "scattergl": [
           {
            "marker": {
             "colorbar": {
              "outlinewidth": 0,
              "ticks": ""
             }
            },
            "type": "scattergl"
           }
          ],
          "scattermapbox": [
           {
            "marker": {
             "colorbar": {
              "outlinewidth": 0,
              "ticks": ""
             }
            },
            "type": "scattermapbox"
           }
          ],
          "scatterpolar": [
           {
            "marker": {
             "colorbar": {
              "outlinewidth": 0,
              "ticks": ""
             }
            },
            "type": "scatterpolar"
           }
          ],
          "scatterpolargl": [
           {
            "marker": {
             "colorbar": {
              "outlinewidth": 0,
              "ticks": ""
             }
            },
            "type": "scatterpolargl"
           }
          ],
          "scatterternary": [
           {
            "marker": {
             "colorbar": {
              "outlinewidth": 0,
              "ticks": ""
             }
            },
            "type": "scatterternary"
           }
          ],
          "surface": [
           {
            "colorbar": {
             "outlinewidth": 0,
             "ticks": ""
            },
            "colorscale": [
             [
              0,
              "#0d0887"
             ],
             [
              0.1111111111111111,
              "#46039f"
             ],
             [
              0.2222222222222222,
              "#7201a8"
             ],
             [
              0.3333333333333333,
              "#9c179e"
             ],
             [
              0.4444444444444444,
              "#bd3786"
             ],
             [
              0.5555555555555556,
              "#d8576b"
             ],
             [
              0.6666666666666666,
              "#ed7953"
             ],
             [
              0.7777777777777778,
              "#fb9f3a"
             ],
             [
              0.8888888888888888,
              "#fdca26"
             ],
             [
              1,
              "#f0f921"
             ]
            ],
            "type": "surface"
           }
          ],
          "table": [
           {
            "cells": {
             "fill": {
              "color": "#EBF0F8"
             },
             "line": {
              "color": "white"
             }
            },
            "header": {
             "fill": {
              "color": "#C8D4E3"
             },
             "line": {
              "color": "white"
             }
            },
            "type": "table"
           }
          ]
         },
         "layout": {
          "annotationdefaults": {
           "arrowcolor": "#2a3f5f",
           "arrowhead": 0,
           "arrowwidth": 1
          },
          "autotypenumbers": "strict",
          "coloraxis": {
           "colorbar": {
            "outlinewidth": 0,
            "ticks": ""
           }
          },
          "colorscale": {
           "diverging": [
            [
             0,
             "#8e0152"
            ],
            [
             0.1,
             "#c51b7d"
            ],
            [
             0.2,
             "#de77ae"
            ],
            [
             0.3,
             "#f1b6da"
            ],
            [
             0.4,
             "#fde0ef"
            ],
            [
             0.5,
             "#f7f7f7"
            ],
            [
             0.6,
             "#e6f5d0"
            ],
            [
             0.7,
             "#b8e186"
            ],
            [
             0.8,
             "#7fbc41"
            ],
            [
             0.9,
             "#4d9221"
            ],
            [
             1,
             "#276419"
            ]
           ],
           "sequential": [
            [
             0,
             "#0d0887"
            ],
            [
             0.1111111111111111,
             "#46039f"
            ],
            [
             0.2222222222222222,
             "#7201a8"
            ],
            [
             0.3333333333333333,
             "#9c179e"
            ],
            [
             0.4444444444444444,
             "#bd3786"
            ],
            [
             0.5555555555555556,
             "#d8576b"
            ],
            [
             0.6666666666666666,
             "#ed7953"
            ],
            [
             0.7777777777777778,
             "#fb9f3a"
            ],
            [
             0.8888888888888888,
             "#fdca26"
            ],
            [
             1,
             "#f0f921"
            ]
           ],
           "sequentialminus": [
            [
             0,
             "#0d0887"
            ],
            [
             0.1111111111111111,
             "#46039f"
            ],
            [
             0.2222222222222222,
             "#7201a8"
            ],
            [
             0.3333333333333333,
             "#9c179e"
            ],
            [
             0.4444444444444444,
             "#bd3786"
            ],
            [
             0.5555555555555556,
             "#d8576b"
            ],
            [
             0.6666666666666666,
             "#ed7953"
            ],
            [
             0.7777777777777778,
             "#fb9f3a"
            ],
            [
             0.8888888888888888,
             "#fdca26"
            ],
            [
             1,
             "#f0f921"
            ]
           ]
          },
          "colorway": [
           "#636efa",
           "#EF553B",
           "#00cc96",
           "#ab63fa",
           "#FFA15A",
           "#19d3f3",
           "#FF6692",
           "#B6E880",
           "#FF97FF",
           "#FECB52"
          ],
          "font": {
           "color": "#2a3f5f"
          },
          "geo": {
           "bgcolor": "white",
           "lakecolor": "white",
           "landcolor": "white",
           "showlakes": true,
           "showland": true,
           "subunitcolor": "#C8D4E3"
          },
          "hoverlabel": {
           "align": "left"
          },
          "hovermode": "closest",
          "mapbox": {
           "style": "light"
          },
          "paper_bgcolor": "white",
          "plot_bgcolor": "white",
          "polar": {
           "angularaxis": {
            "gridcolor": "#EBF0F8",
            "linecolor": "#EBF0F8",
            "ticks": ""
           },
           "bgcolor": "white",
           "radialaxis": {
            "gridcolor": "#EBF0F8",
            "linecolor": "#EBF0F8",
            "ticks": ""
           }
          },
          "scene": {
           "xaxis": {
            "backgroundcolor": "white",
            "gridcolor": "#DFE8F3",
            "gridwidth": 2,
            "linecolor": "#EBF0F8",
            "showbackground": true,
            "ticks": "",
            "zerolinecolor": "#EBF0F8"
           },
           "yaxis": {
            "backgroundcolor": "white",
            "gridcolor": "#DFE8F3",
            "gridwidth": 2,
            "linecolor": "#EBF0F8",
            "showbackground": true,
            "ticks": "",
            "zerolinecolor": "#EBF0F8"
           },
           "zaxis": {
            "backgroundcolor": "white",
            "gridcolor": "#DFE8F3",
            "gridwidth": 2,
            "linecolor": "#EBF0F8",
            "showbackground": true,
            "ticks": "",
            "zerolinecolor": "#EBF0F8"
           }
          },
          "shapedefaults": {
           "line": {
            "color": "#2a3f5f"
           }
          },
          "ternary": {
           "aaxis": {
            "gridcolor": "#DFE8F3",
            "linecolor": "#A2B1C6",
            "ticks": ""
           },
           "baxis": {
            "gridcolor": "#DFE8F3",
            "linecolor": "#A2B1C6",
            "ticks": ""
           },
           "bgcolor": "white",
           "caxis": {
            "gridcolor": "#DFE8F3",
            "linecolor": "#A2B1C6",
            "ticks": ""
           }
          },
          "title": {
           "x": 0.05
          },
          "xaxis": {
           "automargin": true,
           "gridcolor": "#EBF0F8",
           "linecolor": "#EBF0F8",
           "ticks": "",
           "title": {
            "standoff": 15
           },
           "zerolinecolor": "#EBF0F8",
           "zerolinewidth": 2
          },
          "yaxis": {
           "automargin": true,
           "gridcolor": "#EBF0F8",
           "linecolor": "#EBF0F8",
           "ticks": "",
           "title": {
            "standoff": 15
           },
           "zerolinecolor": "#EBF0F8",
           "zerolinewidth": 2
          }
         }
        },
        "title": {
         "font": {
          "color": "Black",
          "size": 22
         },
         "text": "Topic Word Scores",
         "x": 0.5,
         "xanchor": "center",
         "yanchor": "top"
        },
        "width": 2600,
        "xaxis": {
         "anchor": "y",
         "domain": [
          0,
          0.175
         ],
         "showgrid": true
        },
        "xaxis10": {
         "anchor": "y10",
         "domain": [
          0.275,
          0.45
         ],
         "showgrid": true
        },
        "xaxis11": {
         "anchor": "y11",
         "domain": [
          0.55,
          0.7250000000000001
         ],
         "showgrid": true
        },
        "xaxis12": {
         "anchor": "y12",
         "domain": [
          0.825,
          1
         ],
         "showgrid": true
        },
        "xaxis2": {
         "anchor": "y2",
         "domain": [
          0.275,
          0.45
         ],
         "showgrid": true
        },
        "xaxis3": {
         "anchor": "y3",
         "domain": [
          0.55,
          0.7250000000000001
         ],
         "showgrid": true
        },
        "xaxis4": {
         "anchor": "y4",
         "domain": [
          0.825,
          1
         ],
         "showgrid": true
        },
        "xaxis5": {
         "anchor": "y5",
         "domain": [
          0,
          0.175
         ],
         "showgrid": true
        },
        "xaxis6": {
         "anchor": "y6",
         "domain": [
          0.275,
          0.45
         ],
         "showgrid": true
        },
        "xaxis7": {
         "anchor": "y7",
         "domain": [
          0.55,
          0.7250000000000001
         ],
         "showgrid": true
        },
        "xaxis8": {
         "anchor": "y8",
         "domain": [
          0.825,
          1
         ],
         "showgrid": true
        },
        "xaxis9": {
         "anchor": "y9",
         "domain": [
          0,
          0.175
         ],
         "showgrid": true
        },
        "yaxis": {
         "anchor": "x",
         "domain": [
          0.7555555555555555,
          1
         ],
         "showgrid": true
        },
        "yaxis10": {
         "anchor": "x10",
         "domain": [
          0,
          0.24444444444444446
         ],
         "showgrid": true
        },
        "yaxis11": {
         "anchor": "x11",
         "domain": [
          0,
          0.24444444444444446
         ],
         "showgrid": true
        },
        "yaxis12": {
         "anchor": "x12",
         "domain": [
          0,
          0.24444444444444446
         ],
         "showgrid": true
        },
        "yaxis2": {
         "anchor": "x2",
         "domain": [
          0.7555555555555555,
          1
         ],
         "showgrid": true
        },
        "yaxis3": {
         "anchor": "x3",
         "domain": [
          0.7555555555555555,
          1
         ],
         "showgrid": true
        },
        "yaxis4": {
         "anchor": "x4",
         "domain": [
          0.7555555555555555,
          1
         ],
         "showgrid": true
        },
        "yaxis5": {
         "anchor": "x5",
         "domain": [
          0.37777777777777777,
          0.6222222222222222
         ],
         "showgrid": true
        },
        "yaxis6": {
         "anchor": "x6",
         "domain": [
          0.37777777777777777,
          0.6222222222222222
         ],
         "showgrid": true
        },
        "yaxis7": {
         "anchor": "x7",
         "domain": [
          0.37777777777777777,
          0.6222222222222222
         ],
         "showgrid": true
        },
        "yaxis8": {
         "anchor": "x8",
         "domain": [
          0.37777777777777777,
          0.6222222222222222
         ],
         "showgrid": true
        },
        "yaxis9": {
         "anchor": "x9",
         "domain": [
          0,
          0.24444444444444446
         ],
         "showgrid": true
        }
       }
      }
     },
     "metadata": {},
     "output_type": "display_data"
    }
   ],
   "source": [
    "topic_model.visualize_barchart(top_n_topics=9, n_words=10, width=650, height=650)"
   ]
  },
  {
   "cell_type": "code",
   "execution_count": 36,
   "metadata": {},
   "outputs": [],
   "source": [
    "nlp = spacy.load('en_core_web_sm')\n",
    "nlp.add_pipe('spacytextblob')\n",
    "\n",
    "df_submissions['title_polarity'] = df_submissions['title'].apply(lambda x: round((nlp(x))._.blob.polarity, 2))"
   ]
  },
  {
   "cell_type": "code",
   "execution_count": 37,
   "metadata": {},
   "outputs": [
    {
     "name": "stderr",
     "output_type": "stream",
     "text": [
      "huggingface/tokenizers: The current process just got forked, after parallelism has already been used. Disabling parallelism to avoid deadlocks...\n",
      "To disable this warning, you can either:\n",
      "\t- Avoid using `tokenizers` before the fork if possible\n",
      "\t- Explicitly set the environment variable TOKENIZERS_PARALLELISM=(true | false)\n"
     ]
    },
    {
     "name": "stdout",
     "output_type": "stream",
     "text": [
      "Requirement already satisfied: wordcloud in /Users/amadouyehara/anaconda3/lib/python3.11/site-packages (1.9.3)\n",
      "Requirement already satisfied: numpy>=1.6.1 in /Users/amadouyehara/anaconda3/lib/python3.11/site-packages (from wordcloud) (1.24.3)\n",
      "Requirement already satisfied: pillow in /Users/amadouyehara/anaconda3/lib/python3.11/site-packages (from wordcloud) (9.4.0)\n",
      "Requirement already satisfied: matplotlib in /Users/amadouyehara/anaconda3/lib/python3.11/site-packages (from wordcloud) (3.7.2)\n",
      "Requirement already satisfied: contourpy>=1.0.1 in /Users/amadouyehara/anaconda3/lib/python3.11/site-packages (from matplotlib->wordcloud) (1.0.5)\n",
      "Requirement already satisfied: cycler>=0.10 in /Users/amadouyehara/anaconda3/lib/python3.11/site-packages (from matplotlib->wordcloud) (0.11.0)\n",
      "Requirement already satisfied: fonttools>=4.22.0 in /Users/amadouyehara/anaconda3/lib/python3.11/site-packages (from matplotlib->wordcloud) (4.25.0)\n",
      "Requirement already satisfied: kiwisolver>=1.0.1 in /Users/amadouyehara/anaconda3/lib/python3.11/site-packages (from matplotlib->wordcloud) (1.4.4)\n",
      "Requirement already satisfied: packaging>=20.0 in /Users/amadouyehara/anaconda3/lib/python3.11/site-packages (from matplotlib->wordcloud) (23.2)\n",
      "Requirement already satisfied: pyparsing<3.1,>=2.3.1 in /Users/amadouyehara/anaconda3/lib/python3.11/site-packages (from matplotlib->wordcloud) (3.0.9)\n",
      "Requirement already satisfied: python-dateutil>=2.7 in /Users/amadouyehara/anaconda3/lib/python3.11/site-packages (from matplotlib->wordcloud) (2.8.2)\n",
      "Requirement already satisfied: six>=1.5 in /Users/amadouyehara/anaconda3/lib/python3.11/site-packages (from python-dateutil>=2.7->matplotlib->wordcloud) (1.16.0)\n"
     ]
    },
    {
     "data": {
      "image/png": "[encoded data removed]",
      "text/plain": [
       "<Figure size 1000x500 with 1 Axes>"
      ]
     },
     "metadata": {},
     "output_type": "display_data"
    }
   ],
   "source": [
    "!pip install wordcloud\n",
    "from wordcloud import WordCloud\n",
    "import matplotlib.pyplot as plt\n",
    "\n",
    "text_data_with_polarity = ' '.join(df_submissions['title'] + ' ' + df_submissions['title_polarity'].astype(str))\n",
    "\n",
    "# Generate the word cloud\n",
    "wordcloud = WordCloud(width=800, height=400, background_color='white').generate(text_data_with_polarity)\n",
    "\n",
    "# Plot the word cloud\n",
    "plt.figure(figsize=(10, 5))\n",
    "plt.imshow(wordcloud, interpolation='bilinear')\n",
    "plt.axis('off')  # Hide axes\n",
    "plt.title('Word Cloud of Titles with Polarity')\n",
    "plt.show()"
   ]
  },
  {
   "cell_type": "code",
   "execution_count": 38,
   "metadata": {},
   "outputs": [
    {
     "data": {
      "image/png": "[encoded data removed]",
      "text/plain": [
       "<Figure size 800x500 with 1 Axes>"
      ]
     },
     "metadata": {},
     "output_type": "display_data"
    }
   ],
   "source": [
    "from wordcloud import WordCloud\n",
    "from textblob import TextBlob\n",
    "import matplotlib.pyplot as plt\n",
    "\n",
    "# Assuming you have already executed the code to extract topics and polarity\n",
    "# docs = df_submissions['title'].tolist()\n",
    "# topic_model = BERTopic()\n",
    "# topics, probs = topic_model.fit_transform(docs)\n",
    "\n",
    "# Combine titles with their polarities into a single string\n",
    "text_data_with_sentiment = ' '.join(df_submissions['title'])\n",
    "\n",
    "# Perform sentiment analysis on the combined text data\n",
    "sentiment_scores = [TextBlob(title).sentiment.polarity for title in df_submissions['title']]\n",
    "df_submissions['title_sentiment'] = sentiment_scores\n",
    "\n",
    "\n",
    "# Plot sentiment distribution\n",
    "plt.figure(figsize=(8, 5))\n",
    "plt.hist(df_submissions['title_sentiment'], bins=20, color='skyblue', edgecolor='black', alpha=0.7)\n",
    "plt.title('Sentiment Distribution of Titles')\n",
    "plt.xlabel('Sentiment Polarity')\n",
    "plt.ylabel('Frequency')\n",
    "plt.show()\n"
   ]
  },
  {
   "cell_type": "code",
   "execution_count": 39,
   "metadata": {},
   "outputs": [
    {
     "data": {
      "image/png": "[encoded data removed]",
      "text/plain": [
       "<Figure size 800x500 with 1 Axes>"
      ]
     },
     "metadata": {},
     "output_type": "display_data"
    }
   ],
   "source": [
    "from textblob import TextBlob\n",
    "import matplotlib.pyplot as plt\n",
    "import seaborn as sns\n",
    "\n",
    "# Calculate sentiment polarity for each title\n",
    "df_submissions['title_sentiment'] = df_submissions['title'].apply(lambda x: TextBlob(x).sentiment.polarity)\n",
    "\n",
    "# Plot the bar chart\n",
    "plt.figure(figsize=(8, 5))\n",
    "sns.histplot(df_submissions['title_sentiment'], bins=20, color='#F0BFFF')\n",
    "plt.title('Sentiment Polarity Distribution of Titles')\n",
    "plt.xlabel('Sentiment Polarity')\n",
    "plt.ylabel('Frequency')\n",
    "plt.show()\n"
   ]
  },
  {
   "cell_type": "code",
   "execution_count": 40,
   "metadata": {},
   "outputs": [
    {
     "name": "stdout",
     "output_type": "stream",
     "text": [
      "RFC Accuracy: 0.8992783181675557\n",
      "LRG Accuracy: 0.902353310323188\n",
      "DTC Accuracy: 0.8958895513021651\n",
      "GBC Accuracy: 0.7258236586131158\n"
     ]
    }
   ],
   "source": [
    "#Main Task #1: Random Forest Calssifier to predict scores based off of positive and negative emotion\n",
    "\n",
    "#Submissions\n",
    "\n",
    "# Convert 'score' column to numeric, setting errors='coerce' to convert non-numeric values to NaN\n",
    "# Then drop rows with NaN in 'score'\n",
    "df_submissions['score'] = pd.to_numeric(df_submissions['score'], errors='coerce')\n",
    "df_submissions.dropna(subset=['score'], inplace=True)\n",
    "\n",
    "# Splitting the data\n",
    "X = df_submissions[['posemo', 'negemo','title_polarity']]\n",
    "y = df_submissions['score']\n",
    "X_train, X_test, y_train, y_test = train_test_split(X, y, test_size=0.2, random_state=42)\n",
    "\n",
    "\n",
    "clf = RandomForestClassifier(random_state=42)\n",
    "clf.fit(X_train, y_train)\n",
    "\n",
    "y_pred_clf = clf.predict(X_test)\n",
    "\n",
    "lrg = LogisticRegression(random_state=42)\n",
    "lrg.fit(X_train,y_train)\n",
    "\n",
    "y_pred_lrg = lrg.predict(X_test)\n",
    "\n",
    "dtc = DecisionTreeClassifier(random_state=42)\n",
    "dtc.fit(X_train, y_train)\n",
    "\n",
    "# Predicting on the test set\n",
    "y_pred_dtc = dtc.predict(X_test)\n",
    "\n",
    "gbc = GradientBoostingClassifier(n_estimators=100, learning_rate=0.1, random_state=42)\n",
    "gbc.fit(X_train, y_train)\n",
    "\n",
    "y_pred_gbc = gbc.predict(X_test)\n",
    "\n",
    "#Creating predictive column\n",
    "df_submissions['predicted_score_clf'] = clf.predict(X)\n",
    "df_submissions['predicted_score_lrg'] = lrg.predict(X)\n",
    "df_submissions['predicted_score_dtc'] = dtc.predict(X)\n",
    "df_submissions['predicted_score_gbc'] = dtc.predict(X)\n",
    "\n",
    "#Accruacy Score \n",
    "accuracy_clf = accuracy_score(y_test, y_pred_clf)\n",
    "print('RFC Accuracy:', accuracy_clf)\n",
    "accuracy_lrg = accuracy_score(y_test, y_pred_lrg)\n",
    "print('LRG Accuracy:', accuracy_lrg)\n",
    "accuracy_dtc = accuracy_score(y_test, y_pred_dtc)\n",
    "print('DTC Accuracy:', accuracy_dtc)\n",
    "accuracy_gbc = accuracy_score(y_test, y_pred_gbc)\n",
    "print('GBC Accuracy:', accuracy_gbc)"
   ]
  },
  {
   "cell_type": "code",
   "execution_count": 41,
   "metadata": {},
   "outputs": [
    {
     "data": {
      "text/html": [
       "<div>\n",
       "<style scoped>\n",
       "    .dataframe tbody tr th:only-of-type {\n",
       "        vertical-align: middle;\n",
       "    }\n",
       "\n",
       "    .dataframe tbody tr th {\n",
       "        vertical-align: top;\n",
       "    }\n",
       "\n",
       "    .dataframe thead th {\n",
       "        text-align: right;\n",
       "    }\n",
       "</style>\n",
       "<table border=\"1\" class=\"dataframe\">\n",
       "  <thead>\n",
       "    <tr style=\"text-align: right;\">\n",
       "      <th></th>\n",
       "      <th>author</th>\n",
       "      <th>title</th>\n",
       "      <th>created_utc</th>\n",
       "      <th>score</th>\n",
       "      <th>WC</th>\n",
       "      <th>Tone</th>\n",
       "      <th>posemo</th>\n",
       "      <th>negemo</th>\n",
       "      <th>anger</th>\n",
       "      <th>anx</th>\n",
       "      <th>...</th>\n",
       "      <th>Datetime</th>\n",
       "      <th>season</th>\n",
       "      <th>Month</th>\n",
       "      <th>Year</th>\n",
       "      <th>title_polarity</th>\n",
       "      <th>title_sentiment</th>\n",
       "      <th>predicted_score_clf</th>\n",
       "      <th>predicted_score_lrg</th>\n",
       "      <th>predicted_score_dtc</th>\n",
       "      <th>predicted_score_gbc</th>\n",
       "    </tr>\n",
       "  </thead>\n",
       "  <tbody>\n",
       "    <tr>\n",
       "      <th>0</th>\n",
       "      <td>Odd-Pizza-1079</td>\n",
       "      <td>much tylenol much asking friend actually</td>\n",
       "      <td>1.659067e+09</td>\n",
       "      <td>1</td>\n",
       "      <td>12.0</td>\n",
       "      <td>25.77</td>\n",
       "      <td>0.00</td>\n",
       "      <td>0.00</td>\n",
       "      <td>0.00</td>\n",
       "      <td>0.00</td>\n",
       "      <td>...</td>\n",
       "      <td>2022-07-28 23:50:15</td>\n",
       "      <td>Summer</td>\n",
       "      <td>July</td>\n",
       "      <td>2022</td>\n",
       "      <td>0.13</td>\n",
       "      <td>0.133333</td>\n",
       "      <td>1</td>\n",
       "      <td>1</td>\n",
       "      <td>1</td>\n",
       "      <td>1</td>\n",
       "    </tr>\n",
       "    <tr>\n",
       "      <th>1</th>\n",
       "      <td>Global_Face_4708</td>\n",
       "      <td>gabapentinlyricaclonidine telehealth</td>\n",
       "      <td>1.659065e+09</td>\n",
       "      <td>1</td>\n",
       "      <td>5.0</td>\n",
       "      <td>25.77</td>\n",
       "      <td>0.00</td>\n",
       "      <td>0.00</td>\n",
       "      <td>0.00</td>\n",
       "      <td>0.00</td>\n",
       "      <td>...</td>\n",
       "      <td>2022-07-28 23:22:43</td>\n",
       "      <td>Summer</td>\n",
       "      <td>July</td>\n",
       "      <td>2022</td>\n",
       "      <td>0.00</td>\n",
       "      <td>0.000000</td>\n",
       "      <td>1</td>\n",
       "      <td>1</td>\n",
       "      <td>1</td>\n",
       "      <td>1</td>\n",
       "    </tr>\n",
       "    <tr>\n",
       "      <th>2</th>\n",
       "      <td>Bluebeamtwinfn</td>\n",
       "      <td>opiates prolonging finishenhancing sex</td>\n",
       "      <td>1.659064e+09</td>\n",
       "      <td>1</td>\n",
       "      <td>5.0</td>\n",
       "      <td>25.77</td>\n",
       "      <td>0.00</td>\n",
       "      <td>0.00</td>\n",
       "      <td>0.00</td>\n",
       "      <td>0.00</td>\n",
       "      <td>...</td>\n",
       "      <td>2022-07-28 23:06:11</td>\n",
       "      <td>Summer</td>\n",
       "      <td>July</td>\n",
       "      <td>2022</td>\n",
       "      <td>0.00</td>\n",
       "      <td>0.000000</td>\n",
       "      <td>1</td>\n",
       "      <td>1</td>\n",
       "      <td>1</td>\n",
       "      <td>1</td>\n",
       "    </tr>\n",
       "    <tr>\n",
       "      <th>3</th>\n",
       "      <td>iLoveLuckiii</td>\n",
       "      <td>boost oxy high amp save money use</td>\n",
       "      <td>1.659063e+09</td>\n",
       "      <td>1</td>\n",
       "      <td>13.0</td>\n",
       "      <td>99.00</td>\n",
       "      <td>7.69</td>\n",
       "      <td>0.00</td>\n",
       "      <td>0.00</td>\n",
       "      <td>0.00</td>\n",
       "      <td>...</td>\n",
       "      <td>2022-07-28 22:49:43</td>\n",
       "      <td>Summer</td>\n",
       "      <td>July</td>\n",
       "      <td>2022</td>\n",
       "      <td>0.16</td>\n",
       "      <td>0.160000</td>\n",
       "      <td>1</td>\n",
       "      <td>1</td>\n",
       "      <td>1</td>\n",
       "      <td>1</td>\n",
       "    </tr>\n",
       "    <tr>\n",
       "      <th>4</th>\n",
       "      <td>Downtown_Syrup4635</td>\n",
       "      <td>iop detox working 95</td>\n",
       "      <td>1.659061e+09</td>\n",
       "      <td>1</td>\n",
       "      <td>6.0</td>\n",
       "      <td>25.77</td>\n",
       "      <td>0.00</td>\n",
       "      <td>0.00</td>\n",
       "      <td>0.00</td>\n",
       "      <td>0.00</td>\n",
       "      <td>...</td>\n",
       "      <td>2022-07-28 22:21:57</td>\n",
       "      <td>Summer</td>\n",
       "      <td>July</td>\n",
       "      <td>2022</td>\n",
       "      <td>0.00</td>\n",
       "      <td>0.000000</td>\n",
       "      <td>1</td>\n",
       "      <td>1</td>\n",
       "      <td>1</td>\n",
       "      <td>1</td>\n",
       "    </tr>\n",
       "    <tr>\n",
       "      <th>...</th>\n",
       "      <td>...</td>\n",
       "      <td>...</td>\n",
       "      <td>...</td>\n",
       "      <td>...</td>\n",
       "      <td>...</td>\n",
       "      <td>...</td>\n",
       "      <td>...</td>\n",
       "      <td>...</td>\n",
       "      <td>...</td>\n",
       "      <td>...</td>\n",
       "      <td>...</td>\n",
       "      <td>...</td>\n",
       "      <td>...</td>\n",
       "      <td>...</td>\n",
       "      <td>...</td>\n",
       "      <td>...</td>\n",
       "      <td>...</td>\n",
       "      <td>...</td>\n",
       "      <td>...</td>\n",
       "      <td>...</td>\n",
       "      <td>...</td>\n",
       "    </tr>\n",
       "    <tr>\n",
       "      <th>79671</th>\n",
       "      <td>Kriskross88</td>\n",
       "      <td>started nodding front friend last night kept s...</td>\n",
       "      <td>1.561437e+09</td>\n",
       "      <td>6</td>\n",
       "      <td>38.0</td>\n",
       "      <td>1.00</td>\n",
       "      <td>0.00</td>\n",
       "      <td>10.53</td>\n",
       "      <td>2.63</td>\n",
       "      <td>2.63</td>\n",
       "      <td>...</td>\n",
       "      <td>2019-06-25 00:32:36</td>\n",
       "      <td>Summer</td>\n",
       "      <td>June</td>\n",
       "      <td>2019</td>\n",
       "      <td>-0.26</td>\n",
       "      <td>-0.263333</td>\n",
       "      <td>6</td>\n",
       "      <td>1</td>\n",
       "      <td>6</td>\n",
       "      <td>6</td>\n",
       "    </tr>\n",
       "    <tr>\n",
       "      <th>79672</th>\n",
       "      <td>Jupiterjigs1</td>\n",
       "      <td>best way use oxy 30s</td>\n",
       "      <td>1.561437e+09</td>\n",
       "      <td>3</td>\n",
       "      <td>6.0</td>\n",
       "      <td>99.00</td>\n",
       "      <td>16.67</td>\n",
       "      <td>0.00</td>\n",
       "      <td>0.00</td>\n",
       "      <td>0.00</td>\n",
       "      <td>...</td>\n",
       "      <td>2019-06-25 00:32:34</td>\n",
       "      <td>Summer</td>\n",
       "      <td>June</td>\n",
       "      <td>2019</td>\n",
       "      <td>1.00</td>\n",
       "      <td>1.000000</td>\n",
       "      <td>1</td>\n",
       "      <td>1</td>\n",
       "      <td>1</td>\n",
       "      <td>1</td>\n",
       "    </tr>\n",
       "    <tr>\n",
       "      <th>79673</th>\n",
       "      <td>FBIintern</td>\n",
       "      <td>not many homosexual use opiates</td>\n",
       "      <td>1.561437e+09</td>\n",
       "      <td>0</td>\n",
       "      <td>9.0</td>\n",
       "      <td>25.77</td>\n",
       "      <td>0.00</td>\n",
       "      <td>0.00</td>\n",
       "      <td>0.00</td>\n",
       "      <td>0.00</td>\n",
       "      <td>...</td>\n",
       "      <td>2019-06-25 00:23:52</td>\n",
       "      <td>Summer</td>\n",
       "      <td>June</td>\n",
       "      <td>2019</td>\n",
       "      <td>-0.25</td>\n",
       "      <td>-0.250000</td>\n",
       "      <td>1</td>\n",
       "      <td>1</td>\n",
       "      <td>1</td>\n",
       "      <td>1</td>\n",
       "    </tr>\n",
       "    <tr>\n",
       "      <th>79674</th>\n",
       "      <td>AutomaticBrick3</td>\n",
       "      <td>stamp bags review</td>\n",
       "      <td>1.561436e+09</td>\n",
       "      <td>0</td>\n",
       "      <td>3.0</td>\n",
       "      <td>25.77</td>\n",
       "      <td>0.00</td>\n",
       "      <td>0.00</td>\n",
       "      <td>0.00</td>\n",
       "      <td>0.00</td>\n",
       "      <td>...</td>\n",
       "      <td>2019-06-25 00:17:35</td>\n",
       "      <td>Summer</td>\n",
       "      <td>June</td>\n",
       "      <td>2019</td>\n",
       "      <td>0.00</td>\n",
       "      <td>0.000000</td>\n",
       "      <td>1</td>\n",
       "      <td>1</td>\n",
       "      <td>1</td>\n",
       "      <td>1</td>\n",
       "    </tr>\n",
       "    <tr>\n",
       "      <th>79675</th>\n",
       "      <td>Bartard666</td>\n",
       "      <td>hows everyone</td>\n",
       "      <td>1.561436e+09</td>\n",
       "      <td>3</td>\n",
       "      <td>3.0</td>\n",
       "      <td>25.77</td>\n",
       "      <td>0.00</td>\n",
       "      <td>0.00</td>\n",
       "      <td>0.00</td>\n",
       "      <td>0.00</td>\n",
       "      <td>...</td>\n",
       "      <td>2019-06-25 00:13:22</td>\n",
       "      <td>Summer</td>\n",
       "      <td>June</td>\n",
       "      <td>2019</td>\n",
       "      <td>0.00</td>\n",
       "      <td>0.000000</td>\n",
       "      <td>1</td>\n",
       "      <td>1</td>\n",
       "      <td>1</td>\n",
       "      <td>1</td>\n",
       "    </tr>\n",
       "  </tbody>\n",
       "</table>\n",
       "<p>79674 rows × 22 columns</p>\n",
       "</div>"
      ],
      "text/plain": [
       "                   author                                              title  \\\n",
       "0          Odd-Pizza-1079           much tylenol much asking friend actually   \n",
       "1        Global_Face_4708               gabapentinlyricaclonidine telehealth   \n",
       "2          Bluebeamtwinfn             opiates prolonging finishenhancing sex   \n",
       "3            iLoveLuckiii                  boost oxy high amp save money use   \n",
       "4      Downtown_Syrup4635                               iop detox working 95   \n",
       "...                   ...                                                ...   \n",
       "79671         Kriskross88  started nodding front friend last night kept s...   \n",
       "79672        Jupiterjigs1                               best way use oxy 30s   \n",
       "79673           FBIintern                    not many homosexual use opiates   \n",
       "79674     AutomaticBrick3                                  stamp bags review   \n",
       "79675          Bartard666                                      hows everyone   \n",
       "\n",
       "        created_utc  score    WC   Tone  posemo  negemo  anger   anx  ...  \\\n",
       "0      1.659067e+09      1  12.0  25.77    0.00    0.00   0.00  0.00  ...   \n",
       "1      1.659065e+09      1   5.0  25.77    0.00    0.00   0.00  0.00  ...   \n",
       "2      1.659064e+09      1   5.0  25.77    0.00    0.00   0.00  0.00  ...   \n",
       "3      1.659063e+09      1  13.0  99.00    7.69    0.00   0.00  0.00  ...   \n",
       "4      1.659061e+09      1   6.0  25.77    0.00    0.00   0.00  0.00  ...   \n",
       "...             ...    ...   ...    ...     ...     ...    ...   ...  ...   \n",
       "79671  1.561437e+09      6  38.0   1.00    0.00   10.53   2.63  2.63  ...   \n",
       "79672  1.561437e+09      3   6.0  99.00   16.67    0.00   0.00  0.00  ...   \n",
       "79673  1.561437e+09      0   9.0  25.77    0.00    0.00   0.00  0.00  ...   \n",
       "79674  1.561436e+09      0   3.0  25.77    0.00    0.00   0.00  0.00  ...   \n",
       "79675  1.561436e+09      3   3.0  25.77    0.00    0.00   0.00  0.00  ...   \n",
       "\n",
       "                 Datetime  season Month  Year title_polarity title_sentiment  \\\n",
       "0     2022-07-28 23:50:15  Summer  July  2022           0.13        0.133333   \n",
       "1     2022-07-28 23:22:43  Summer  July  2022           0.00        0.000000   \n",
       "2     2022-07-28 23:06:11  Summer  July  2022           0.00        0.000000   \n",
       "3     2022-07-28 22:49:43  Summer  July  2022           0.16        0.160000   \n",
       "4     2022-07-28 22:21:57  Summer  July  2022           0.00        0.000000   \n",
       "...                   ...     ...   ...   ...            ...             ...   \n",
       "79671 2019-06-25 00:32:36  Summer  June  2019          -0.26       -0.263333   \n",
       "79672 2019-06-25 00:32:34  Summer  June  2019           1.00        1.000000   \n",
       "79673 2019-06-25 00:23:52  Summer  June  2019          -0.25       -0.250000   \n",
       "79674 2019-06-25 00:17:35  Summer  June  2019           0.00        0.000000   \n",
       "79675 2019-06-25 00:13:22  Summer  June  2019           0.00        0.000000   \n",
       "\n",
       "       predicted_score_clf  predicted_score_lrg  predicted_score_dtc  \\\n",
       "0                        1                    1                    1   \n",
       "1                        1                    1                    1   \n",
       "2                        1                    1                    1   \n",
       "3                        1                    1                    1   \n",
       "4                        1                    1                    1   \n",
       "...                    ...                  ...                  ...   \n",
       "79671                    6                    1                    6   \n",
       "79672                    1                    1                    1   \n",
       "79673                    1                    1                    1   \n",
       "79674                    1                    1                    1   \n",
       "79675                    1                    1                    1   \n",
       "\n",
       "       predicted_score_gbc  \n",
       "0                        1  \n",
       "1                        1  \n",
       "2                        1  \n",
       "3                        1  \n",
       "4                        1  \n",
       "...                    ...  \n",
       "79671                    6  \n",
       "79672                    1  \n",
       "79673                    1  \n",
       "79674                    1  \n",
       "79675                    1  \n",
       "\n",
       "[79674 rows x 22 columns]"
      ]
     },
     "execution_count": 41,
     "metadata": {},
     "output_type": "execute_result"
    }
   ],
   "source": [
    "df_submissions"
   ]
  },
  {
   "cell_type": "code",
   "execution_count": 42,
   "metadata": {},
   "outputs": [
    {
     "name": "stdout",
     "output_type": "stream",
     "text": [
      "RFC Accuracy: 0.8991528082836523\n",
      "LRG Accuracy: 0.9021650454973329\n",
      "DTC Accuracy: 0.8934421085660496\n",
      "GBC Accuracy: 0.7922183871979919\n"
     ]
    }
   ],
   "source": [
    "#Main Task #1: Random Forest Calssifier to predict scores based off of positive and negative emotion\n",
    "\n",
    "#Submissions\n",
    "\n",
    "# Convert 'score' column to numeric, setting errors='coerce' to convert non-numeric values to NaN\n",
    "# Then drop rows with NaN in 'score'\n",
    "df_submissions['score'] = pd.to_numeric(df_submissions['score'], errors='coerce')\n",
    "df_submissions.dropna(subset=['score'], inplace=True)\n",
    "\n",
    "# Splitting the data\n",
    "X = df_submissions[['posemo', 'negemo','title_polarity','affect','anger','sad','anx']]\n",
    "y = df_submissions['score']\n",
    "X_train, X_test, y_train, y_test = train_test_split(X, y, test_size=0.2, random_state=42)\n",
    "\n",
    "\n",
    "clf = RandomForestClassifier(random_state=42)\n",
    "clf.fit(X_train, y_train)\n",
    "\n",
    "y_pred_clf = clf.predict(X_test)\n",
    "\n",
    "lrg = LogisticRegression(random_state=42)\n",
    "lrg.fit(X_train,y_train)\n",
    "\n",
    "y_pred_lrg = lrg.predict(X_test)\n",
    "\n",
    "dtc = DecisionTreeClassifier(random_state=42)\n",
    "dtc.fit(X_train, y_train)\n",
    "\n",
    "# Predicting on the test set\n",
    "y_pred_dtc = dtc.predict(X_test)\n",
    "\n",
    "gbc = GradientBoostingClassifier(n_estimators=100, learning_rate=0.1, random_state=42)\n",
    "gbc.fit(X_train, y_train)\n",
    "\n",
    "y_pred_gbc = gbc.predict(X_test)\n",
    "\n",
    "#Creating predictive column\n",
    "df_submissions['predicted_score_clf'] = clf.predict(X)\n",
    "df_submissions['predicted_score_lrg'] = lrg.predict(X)\n",
    "df_submissions['predicted_score_dtc'] = dtc.predict(X)\n",
    "df_submissions['predicted_score_gbc'] = dtc.predict(X)\n",
    "\n",
    "#Accruacy Score \n",
    "accuracy_clf = accuracy_score(y_test, y_pred_clf)\n",
    "print('RFC Accuracy:', accuracy_clf)\n",
    "accuracy_lrg = accuracy_score(y_test, y_pred_lrg)\n",
    "print('LRG Accuracy:', accuracy_lrg)\n",
    "accuracy_dtc = accuracy_score(y_test, y_pred_dtc)\n",
    "print('DTC Accuracy:', accuracy_dtc)\n",
    "accuracy_gbc = accuracy_score(y_test, y_pred_gbc)\n",
    "print('GBC Accuracy:', accuracy_gbc)"
   ]
  },
  {
   "cell_type": "code",
   "execution_count": 43,
   "metadata": {},
   "outputs": [
    {
     "name": "stdout",
     "output_type": "stream",
     "text": [
      "Feature Importances:\n",
      "posemo: 0.0830\n",
      "negemo: 0.0927\n",
      "title_polarity: 0.5577\n",
      "affect: 0.1311\n",
      "anger: 0.0552\n",
      "sad: 0.0456\n",
      "anx: 0.0346\n"
     ]
    }
   ],
   "source": [
    "#Feature Importance\n",
    "features = ['posemo', 'negemo','title_polarity','affect','anger','sad','anx']\n",
    "feature_importances = clf.feature_importances_\n",
    "\n",
    "# Mapping feature importances\n",
    "feature_importance_dict = dict(zip(features, feature_importances))\n",
    "\n",
    "print('Feature Importances:')\n",
    "for feature, importance in feature_importance_dict.items():\n",
    "    print(f'{feature}: {importance:.4f}')"
   ]
  },
  {
   "cell_type": "code",
   "execution_count": 44,
   "metadata": {},
   "outputs": [
    {
     "name": "stdout",
     "output_type": "stream",
     "text": [
      "RFC Accuracy: 0.8015772870662461\n",
      "LRG Accuracy: 0.8083694794952682\n",
      "DTC Accuracy: 0.7912016955835962\n"
     ]
    }
   ],
   "source": [
    "#Main Task #1: Random Forest Calssifier to predict scores based off of positive and negative emotion\n",
    "\n",
    "#Comments\n",
    "\n",
    "# Convert 'score' column to numeric, setting errors='coerce' to convert non-numeric values to null\n",
    "# Then drop rows with NaN in 'score'\n",
    "df_comments['score'] = pd.to_numeric(df_comments['score'], errors='coerce')\n",
    "df_comments.dropna(subset=['score'], inplace=True)\n",
    "\n",
    "\n",
    "# Splitting the data\n",
    "X = df_comments[['posemo', 'negemo','anger','anx','sad', 'affect','Tone']]\n",
    "y = df_comments['score']\n",
    "X_train, X_test, y_train, y_test = train_test_split(X, y, test_size=0.2, random_state=42)\n",
    "\n",
    "\n",
    "clf = RandomForestClassifier(random_state=42)\n",
    "clf.fit(X_train, y_train)\n",
    "\n",
    "y_pred_clf = clf.predict(X_test)\n",
    "\n",
    "lrg = LogisticRegression(random_state=42)\n",
    "lrg.fit(X_train,y_train)\n",
    "\n",
    "y_pred_lrg = lrg.predict(X_test)\n",
    "\n",
    "dtc = DecisionTreeClassifier(random_state=42)\n",
    "dtc.fit(X_train, y_train)\n",
    "\n",
    "# Predicting on the test set\n",
    "y_pred_dtc = dtc.predict(X_test)\n",
    "\n",
    "#Creating predictive column\n",
    "df_comments['predicted_score_clf'] = clf.predict(X)\n",
    "df_comments['predicted_score_lrg'] = lrg.predict(X)\n",
    "df_comments['predicted_score_dtc'] = dtc.predict(X)\n",
    "\n",
    "#Accruacy Score \n",
    "accuracy_clf = accuracy_score(y_test, y_pred_clf)\n",
    "print('RFC Accuracy:', accuracy_clf)\n",
    "accuracy_lrg = accuracy_score(y_test, y_pred_lrg)\n",
    "print('LRG Accuracy:', accuracy_lrg)\n",
    "accuracy_dtc = accuracy_score(y_test, y_pred_dtc)\n",
    "print('DTC Accuracy:', accuracy_dtc)"
   ]
  },
  {
   "cell_type": "code",
   "execution_count": 45,
   "metadata": {},
   "outputs": [
    {
     "name": "stdout",
     "output_type": "stream",
     "text": [
      "Feature Importances:\n",
      "posemo: 0.1504\n",
      "negemo: 0.1636\n",
      "anger: 0.1371\n",
      "anx: 0.1165\n",
      "sad: 0.1303\n",
      "affect: 0.1902\n",
      "Tone: 0.1118\n"
     ]
    }
   ],
   "source": [
    "#Feature Importance\n",
    "features = ['posemo', 'negemo','anger','anx','sad','affect','Tone']\n",
    "feature_importances = clf.feature_importances_\n",
    "\n",
    "# Mapping feature importances\n",
    "feature_importance_dict = dict(zip(features, feature_importances))\n",
    "\n",
    "print('Feature Importances:')\n",
    "for feature, importance in feature_importance_dict.items():\n",
    "    print(f'{feature}: {importance:.4f}')"
   ]
  },
  {
   "cell_type": "code",
   "execution_count": 46,
   "metadata": {},
   "outputs": [],
   "source": [
    "# df_submissions.to_csv('df_submissions.csv', index=False)"
   ]
  },
  {
   "cell_type": "code",
   "execution_count": 47,
   "metadata": {},
   "outputs": [],
   "source": [
    "df_comments2 = df_comments[['score', 'WC', 'Tone','posemo', 'negemo','anx', 'sad', 'anger', 'season']]\n",
    "df_submissions2 = df_submissions[['score', 'Tone','posemo', 'negemo', 'anx', 'sad', 'anger','season']]"
   ]
  },
  {
   "cell_type": "code",
   "execution_count": null,
   "metadata": {},
   "outputs": [],
   "source": [
    "from sklearn.preprocessing import LabelEncoder\n",
    "\n",
    "le = LabelEncoder()\n",
    "\n",
    "df_submissions2['season'] = le.fit_transform(df_submissions2['season']) #spring = 1, Fall = 0, summer =2, winter = 3"
   ]
  },
  {
   "cell_type": "code",
   "execution_count": null,
   "metadata": {},
   "outputs": [],
   "source": [
    "wintersub = df_submissions2[df_submissions2['season'] == 3]\n",
    "springsub = df_submissions2[df_submissions2['season'] == 1]\n",
    "summersub = df_submissions2[df_submissions2['season'] == 2]\n",
    "fallsub = df_submissions2[df_submissions2['season'] == 0]"
   ]
  },
  {
   "cell_type": "code",
   "execution_count": null,
   "metadata": {},
   "outputs": [],
   "source": [
    "wintersub.dropna()\n",
    "springsub.dropna()\n",
    "summersub.dropna()\n",
    "fallsub.dropna()"
   ]
  },
  {
   "cell_type": "code",
   "execution_count": null,
   "metadata": {},
   "outputs": [],
   "source": [
    "from sklearn.preprocessing import MinMaxScaler\n",
    "\n",
    "scaler = MinMaxScaler()\n",
    "\n",
    "# Standardize the 'col1' column (center and scale)\n",
    "wintersub['score'] = scaler.fit_transform(wintersub[['score']])\n",
    "springsub['score'] = scaler.fit_transform(springsub[['score']])\n",
    "summersub['score'] = scaler.fit_transform(summersub[['score']])\n",
    "fallsub['score'] = scaler.fit_transform(fallsub[['score']])"
   ]
  },
  {
   "cell_type": "code",
   "execution_count": null,
   "metadata": {},
   "outputs": [],
   "source": [
    "features_wintersub = pd.concat([wintersub[['score']], wintersub['posemo']], axis=1)\n",
    "\n",
    "# Define the number of clusters (k)\n",
    "k = 4  # Example: 4 clusters\n",
    "\n",
    "# Create the KMeans model\n",
    "kmeans = KMeans(n_clusters=k, random_state=42)  # Set a random seed for reproducibility\n",
    "\n",
    "# Fit the model to your data\n",
    "kmeans.fit(features_wintersub)\n",
    "\n",
    "# Get cluster labels for each data point\n",
    "cluster_labels = kmeans.labels_\n",
    "\n",
    "# Access the cluster centers (centroids) after fitting (optional)\n",
    "centroids = kmeans.cluster_centers_\n",
    "\n",
    "features_wintersub['cluster'] = cluster_labels\n",
    "\n",
    "print(\"Centroids:\")\n",
    "print(centroids)\n",
    "\n",
    "import seaborn as sns\n",
    "\n",
    "\n",
    "# Create a scatter plot using Seaborn\n",
    "sns.scatterplot(\n",
    "    x=features_wintersub['score'],\n",
    "    y=features_wintersub['posemo'],\n",
    "    hue=kmeans.labels_,  # Color based on cluster labels\n",
    "    palette='deep',  # Choose a color palette (adjust as desired)\n",
    "    #style=kmeans.labels_,  # Marker style can also be based on cluster labels (optional)\n",
    "    s=50,  # Adjust marker size\n",
    "    alpha=0.7  # Adjust marker transparency\n",
    ")\n",
    "plt.scatter(centroids[:, 0], centroids[:, 1], marker='x', s=15, linewidths=5, c='black', label='Centroids')\n",
    "\n",
    "# Add labels and title\n",
    "plt.xlabel('Score')\n",
    "plt.ylabel('Positive Emotion Score')\n",
    "plt.title('Winter Submissions K-Means Clustering Results (k=%d)' % k)\n",
    "\n",
    "# Show the plot\n",
    "plt.show()\n",
    "\n",
    "features_wintersub = pd.concat([wintersub[['score']], wintersub['negemo']], axis=1)\n",
    "\n",
    "# Define the number of clusters (k)\n",
    "k = 4  # Example: 4 clusters\n",
    "\n",
    "# Create the KMeans model\n",
    "kmeans = KMeans(n_clusters=k, random_state=42)  # Set a random seed for reproducibility\n",
    "\n",
    "# Fit the model to your data\n",
    "kmeans.fit(features_wintersub)\n",
    "\n",
    "# Get cluster labels for each data point\n",
    "cluster_labels = kmeans.labels_\n",
    "\n",
    "# Access the cluster centers (centroids) after fitting (optional)\n",
    "centroids = kmeans.cluster_centers_\n",
    "\n",
    "features_wintersub['cluster'] = cluster_labels\n",
    "\n",
    "print(\"Centroids:\")\n",
    "print(centroids)\n",
    "\n",
    "import seaborn as sns\n",
    "\n",
    "\n",
    "# Create a scatter plot using Seaborn\n",
    "sns.scatterplot(\n",
    "    x=features_wintersub['score'],\n",
    "    y=features_wintersub['negemo'],\n",
    "    hue=kmeans.labels_,  # Color based on cluster labels\n",
    "    palette='deep',  # Choose a color palette (adjust as desired)\n",
    "    #style=kmeans.labels_,  # Marker style can also be based on cluster labels (optional)\n",
    "    s=50,  # Adjust marker size\n",
    "    alpha=0.7  # Adjust marker transparency\n",
    ")\n",
    "plt.scatter(centroids[:, 0], centroids[:, 1], marker='x', s=15, linewidths=5, c='black', label='Centroids')\n",
    "# Add labels and title\n",
    "plt.xlabel('Score')\n",
    "plt.ylabel('Negative Emotion Score')\n",
    "plt.title('Winter Submissions K-Means Clustering Results (k=%d)' % k)\n",
    "\n",
    "# Show the plot\n",
    "plt.show()"
   ]
  },
  {
   "cell_type": "code",
   "execution_count": null,
   "metadata": {},
   "outputs": [],
   "source": [
    "features_springsub = pd.concat([springsub[['score']], springsub['posemo']], axis=1)\n",
    "\n",
    "# Define the number of clusters (k)\n",
    "k = 4  # Example: 4 clusters\n",
    "\n",
    "# Create the KMeans model\n",
    "kmeans = KMeans(n_clusters=k, random_state=42)  # Set a random seed for reproducibility\n",
    "\n",
    "# Fit the model to your data\n",
    "kmeans.fit(features_springsub)\n",
    "\n",
    "# Get cluster labels for each data point\n",
    "cluster_labels = kmeans.labels_\n",
    "\n",
    "# Access the cluster centers (centroids) after fitting (optional)\n",
    "centroids = kmeans.cluster_centers_\n",
    "\n",
    "features_springsub['cluster'] = cluster_labels\n",
    "\n",
    "print(\"Centroids:\")\n",
    "print(centroids)\n",
    "\n",
    "import seaborn as sns\n",
    "\n",
    "\n",
    "# Create a scatter plot using Seaborn\n",
    "sns.scatterplot(\n",
    "    x=features_springsub['score'],\n",
    "    y=features_springsub['posemo'],\n",
    "    hue=kmeans.labels_,  # Color based on cluster labels\n",
    "    palette='deep',  # Choose a color palette (adjust as desired)\n",
    "    #style=kmeans.labels_,  # Marker style can also be based on cluster labels (optional)\n",
    "    s=50,  # Adjust marker size\n",
    "    alpha=0.7  # Adjust marker transparency\n",
    ")\n",
    "plt.scatter(centroids[:, 0], centroids[:, 1], marker='x', s=15, linewidths=5, c='black', label='Centroids')\n",
    "# Add labels and title\n",
    "plt.xlabel('Score')\n",
    "plt.ylabel('Positive Emotion Score')\n",
    "plt.title('Spring Submissions K-Means Clustering Results (k=%d)' % k)\n",
    "\n",
    "# Show the plot\n",
    "plt.show()\n",
    "\n",
    "features_springsub = pd.concat([springsub[['score']], springsub['negemo']], axis=1)\n",
    "\n",
    "# Define the number of clusters (k)\n",
    "k = 4  # Example: 4 clusters\n",
    "\n",
    "# Create the KMeans model\n",
    "kmeans = KMeans(n_clusters=k, random_state=42)  # Set a random seed for reproducibility\n",
    "\n",
    "# Fit the model to your data\n",
    "kmeans.fit(features_springsub)\n",
    "\n",
    "# Get cluster labels for each data point\n",
    "cluster_labels = kmeans.labels_\n",
    "\n",
    "# Access the cluster centers (centroids) after fitting (optional)\n",
    "centroids = kmeans.cluster_centers_\n",
    "\n",
    "features_springsub['cluster'] = cluster_labels\n",
    "\n",
    "print(\"Centroids:\")\n",
    "print(centroids)\n",
    "\n",
    "import seaborn as sns\n",
    "\n",
    "\n",
    "# Create a scatter plot using Seaborn\n",
    "sns.scatterplot(\n",
    "    x=features_springsub['score'],\n",
    "    y=features_springsub['negemo'],\n",
    "    hue=kmeans.labels_,  # Color based on cluster labels\n",
    "    palette='deep',  # Choose a color palette (adjust as desired)\n",
    "    #style=kmeans.labels_,  # Marker style can also be based on cluster labels (optional)\n",
    "    s=50,  # Adjust marker size\n",
    "    alpha=0.7  # Adjust marker transparency\n",
    ")\n",
    "plt.scatter(centroids[:, 0], centroids[:, 1], marker='x', s=15, linewidths=5, c='black', label='Centroids')\n",
    "# Add labels and title\n",
    "plt.xlabel('Score')\n",
    "plt.ylabel('Negative Emotion Score')\n",
    "plt.title('Spring Submissions K-Means Clustering Results (k=%d)' % k)\n",
    "\n",
    "# Show the plot\n",
    "plt.show()"
   ]
  },
  {
   "cell_type": "code",
   "execution_count": null,
   "metadata": {},
   "outputs": [],
   "source": [
    "features_fallsub = pd.concat([fallsub[['score']], fallsub['posemo']], axis=1)\n",
    "\n",
    "# Define the number of clusters (k)\n",
    "k = 4  # Example: 4 clusters\n",
    "\n",
    "# Create the KMeans model\n",
    "kmeans = KMeans(n_clusters=k, random_state=42)  # Set a random seed for reproducibility\n",
    "\n",
    "# Fit the model to your data\n",
    "kmeans.fit(features_fallsub)\n",
    "\n",
    "# Get cluster labels for each data point\n",
    "cluster_labels = kmeans.labels_\n",
    "\n",
    "# Access the cluster centers (centroids) after fitting (optional)\n",
    "centroids = kmeans.cluster_centers_\n",
    "\n",
    "features_fallsub['cluster'] = cluster_labels\n",
    "\n",
    "print(\"Centroids:\")\n",
    "print(centroids)\n",
    "\n",
    "import seaborn as sns\n",
    "\n",
    "\n",
    "# Create a scatter plot using Seaborn\n",
    "sns.scatterplot(\n",
    "    x=features_fallsub['score'],\n",
    "    y=features_fallsub['posemo'],\n",
    "    hue=kmeans.labels_,  # Color based on cluster labels\n",
    "    palette='deep',  # Choose a color palette (adjust as desired)\n",
    "    #style=kmeans.labels_,  # Marker style can also be based on cluster labels (optional)\n",
    "    s=50,  # Adjust marker size\n",
    "    alpha=0.7  # Adjust marker transparency\n",
    ")\n",
    "plt.scatter(centroids[:, 0], centroids[:, 1], marker='x', s=15, linewidths=5, c='black', label='Centroids')\n",
    "# Add labels and title\n",
    "plt.xlabel('Score')\n",
    "plt.ylabel('Positive Emotion Score')\n",
    "plt.title('Fall Submissions K-Means Clustering Results (k=%d)' % k)\n",
    "\n",
    "# Show the plot\n",
    "plt.show()\n",
    "\n",
    "features_fallsub = pd.concat([fallsub[['score']], fallsub['negemo']], axis=1)\n",
    "\n",
    "# Define the number of clusters (k)\n",
    "k = 4  # Example: 4 clusters\n",
    "\n",
    "# Create the KMeans model\n",
    "kmeans = KMeans(n_clusters=k, random_state=42)  # Set a random seed for reproducibility\n",
    "\n",
    "# Fit the model to your data\n",
    "kmeans.fit(features_fallsub)\n",
    "\n",
    "# Get cluster labels for each data point\n",
    "cluster_labels = kmeans.labels_\n",
    "\n",
    "# Access the cluster centers (centroids) after fitting (optional)\n",
    "centroids = kmeans.cluster_centers_\n",
    "\n",
    "features_fallsub['cluster'] = cluster_labels\n",
    "\n",
    "print(\"Centroids:\")\n",
    "print(centroids)\n",
    "\n",
    "import seaborn as sns\n",
    "\n",
    "\n",
    "# Create a scatter plot using Seaborn\n",
    "sns.scatterplot(\n",
    "    x=features_fallsub['score'],\n",
    "    y=features_fallsub['negemo'],\n",
    "    hue=kmeans.labels_,  # Color based on cluster labels\n",
    "    palette='deep',  # Choose a color palette (adjust as desired)\n",
    "    #style=kmeans.labels_,  # Marker style can also be based on cluster labels (optional)\n",
    "    s=50,  # Adjust marker size\n",
    "    alpha=0.7  # Adjust marker transparency\n",
    ")\n",
    "plt.scatter(centroids[:, 0], centroids[:, 1], marker='x', s=15, linewidths=5, c='black', label='Centroids')\n",
    "# Add labels and title\n",
    "plt.xlabel('Score')\n",
    "plt.ylabel('Negative Emotion Score')\n",
    "plt.title('Fall Submissions K-Means Clustering Results (k=%d)' % k)\n",
    "\n",
    "# Show the plot\n",
    "plt.show()"
   ]
  },
  {
   "cell_type": "code",
   "execution_count": null,
   "metadata": {},
   "outputs": [],
   "source": [
    "features_summersub = pd.concat([summersub[['score']], summersub['posemo']], axis=1)\n",
    "\n",
    "# Define the number of clusters (k)\n",
    "k = 4  # Example: 4 clusters\n",
    "\n",
    "# Create the KMeans model\n",
    "kmeans = KMeans(n_clusters=k, random_state=42)  # Set a random seed for reproducibility\n",
    "\n",
    "# Fit the model to your data\n",
    "kmeans.fit(features_summersub)\n",
    "\n",
    "# Get cluster labels for each data point\n",
    "cluster_labels = kmeans.labels_\n",
    "\n",
    "# Access the cluster centers (centroids) after fitting (optional)\n",
    "centroids = kmeans.cluster_centers_\n",
    "\n",
    "features_summersub['cluster'] = cluster_labels\n",
    "\n",
    "print(\"Centroids:\")\n",
    "print(centroids)\n",
    "\n",
    "import seaborn as sns\n",
    "\n",
    "\n",
    "# Create a scatter plot using Seaborn\n",
    "sns.scatterplot(\n",
    "    x=features_summersub['score'],\n",
    "    y=features_summersub['posemo'],\n",
    "    hue=kmeans.labels_,  # Color based on cluster labels\n",
    "    palette='deep',  # Choose a color palette (adjust as desired)\n",
    "    #style=kmeans.labels_,  # Marker style can also be based on cluster labels (optional)\n",
    "    s=50,  # Adjust marker size\n",
    "    alpha=0.7  # Adjust marker transparency\n",
    ")\n",
    "plt.scatter(centroids[:, 0], centroids[:, 1], marker='x', s=15, linewidths=5, c='black', label='Centroids')\n",
    "# Add labels and title\n",
    "plt.xlabel('Score')\n",
    "plt.ylabel('Positive Emotion Score')\n",
    "plt.title('Summer Submissions K-Means Clustering Results (k=%d)' % k)\n",
    "\n",
    "# Show the plot\n",
    "plt.show()\n",
    "\n",
    "features_summersub = pd.concat([summersub[['score']], summersub['negemo']], axis=1)\n",
    "\n",
    "# Define the number of clusters (k)\n",
    "k = 4  # Example: 4 clusters\n",
    "\n",
    "# Create the KMeans model\n",
    "kmeans = KMeans(n_clusters=k, random_state=42)  # Set a random seed for reproducibility\n",
    "\n",
    "# Fit the model to your data\n",
    "kmeans.fit(features_summersub)\n",
    "\n",
    "# Get cluster labels for each data point\n",
    "cluster_labels = kmeans.labels_\n",
    "\n",
    "# Access the cluster centers (centroids) after fitting (optional)\n",
    "centroids = kmeans.cluster_centers_\n",
    "\n",
    "features_summersub['cluster'] = cluster_labels\n",
    "\n",
    "print(\"Centroids:\")\n",
    "print(centroids)\n",
    "\n",
    "import seaborn as sns\n",
    "\n",
    "\n",
    "# Create a scatter plot using Seaborn\n",
    "sns.scatterplot(\n",
    "    x=features_summersub['score'],\n",
    "    y=features_summersub['negemo'],\n",
    "    hue=kmeans.labels_,  # Color based on cluster labels\n",
    "    palette='deep',  # Choose a color palette (adjust as desired)\n",
    "    #style=kmeans.labels_,  # Marker style can also be based on cluster labels (optional)\n",
    "    s=50,  # Adjust marker size\n",
    "    alpha=0.7  # Adjust marker transparency\n",
    ")\n",
    "plt.scatter(centroids[:, 0], centroids[:, 1], marker='x', s=15, linewidths=5, c='black', label='Centroids')\n",
    "# Add labels and title\n",
    "plt.xlabel('Score')\n",
    "plt.ylabel('Negative Emotion Score')\n",
    "plt.title('Summer Submissions K-Means Clustering Results (k=%d)' % k)\n",
    "\n",
    "# Show the plot\n",
    "plt.show()"
   ]
  },
  {
   "cell_type": "code",
   "execution_count": null,
   "metadata": {},
   "outputs": [],
   "source": [
    "print(centroids)"
   ]
  },
  {
   "cell_type": "code",
   "execution_count": null,
   "metadata": {},
   "outputs": [],
   "source": [
    "df_comments2"
   ]
  },
  {
   "cell_type": "code",
   "execution_count": null,
   "metadata": {},
   "outputs": [],
   "source": [
    "from sklearn.preprocessing import LabelEncoder\n",
    "\n",
    "le = LabelEncoder()\n",
    "\n",
    "df_comments2['season'] = le.fit_transform(df_comments2['season']) #spring = 1, Fall = 0, summer =2, winter = 3\n",
    "df_comments2.head()"
   ]
  },
  {
   "cell_type": "code",
   "execution_count": null,
   "metadata": {},
   "outputs": [],
   "source": [
    "wintercom = df_comments2[df_comments2['season'] == 3]\n",
    "springcom = df_comments2[df_comments2['season'] == 1]\n",
    "summercom = df_comments2[df_comments2['season'] == 2]\n",
    "fallcom = df_comments2[df_comments2['season'] == 0]"
   ]
  },
  {
   "cell_type": "code",
   "execution_count": null,
   "metadata": {},
   "outputs": [],
   "source": [
    "wintercom.dropna()\n",
    "springcom.dropna()\n",
    "summercom.dropna()\n",
    "fallcom.dropna()"
   ]
  },
  {
   "cell_type": "code",
   "execution_count": null,
   "metadata": {},
   "outputs": [],
   "source": [
    "scaler = MinMaxScaler()\n",
    "\n",
    "\n",
    "# Standardize the 'col1' column (center and scale)\n",
    "wintercom['score'] = scaler.fit_transform(wintercom[['score']])\n",
    "springcom['score'] = scaler.fit_transform(springcom[['score']])\n",
    "summercom['score'] = scaler.fit_transform(summercom[['score']])\n",
    "fallcom['score'] = scaler.fit_transform(fallcom[['score']])"
   ]
  },
  {
   "cell_type": "code",
   "execution_count": null,
   "metadata": {},
   "outputs": [],
   "source": [
    "features_wintercom = pd.concat([wintercom[['score']], wintercom['posemo']], axis=1)\n",
    "\n",
    "# Define the number of clusters (k)\n",
    "k = 4  # Example: 4 clusters\n",
    "\n",
    "# Create the KMeans model\n",
    "kmeans = KMeans(n_clusters=k, random_state=42)  # Set a random seed for reproducibility\n",
    "\n",
    "# Fit the model to your data\n",
    "kmeans.fit(features_wintercom)\n",
    "\n",
    "# Get cluster labels for each data point\n",
    "cluster_labels = kmeans.labels_\n",
    "\n",
    "# Access the cluster centers (centroids) after fitting (optional)\n",
    "centroids = kmeans.cluster_centers_\n",
    "\n",
    "features_wintercom['cluster'] = cluster_labels\n",
    "\n",
    "print(\"Centroids:\")\n",
    "print(centroids)\n",
    "\n",
    "import seaborn as sns\n",
    "\n",
    "\n",
    "# Create a scatter plot using Seaborn\n",
    "sns.scatterplot(\n",
    "    x=features_wintercom['score'],\n",
    "    y=features_wintercom['posemo'],\n",
    "    hue=kmeans.labels_,  # Color based on cluster labels\n",
    "    palette='deep',  # Choose a color palette (adjust as desired)\n",
    "    #style=kmeans.labels_,  # Marker style can also be based on cluster labels (optional)\n",
    "    s=50,  # Adjust marker size\n",
    "    alpha=0.7  # Adjust marker transparency\n",
    ")\n",
    "plt.scatter(centroids[:, 0], centroids[:, 1], marker='x', s=15, linewidths=5, c='black', label='Centroids')\n",
    "# Add labels and title\n",
    "plt.xlabel('Score')\n",
    "plt.ylabel('Positive Emotion Score')\n",
    "plt.title('Winter Comments K-Means Clustering Results (k=%d)' % k)\n",
    "\n",
    "# Show the plot\n",
    "plt.show()\n",
    "\n",
    "features_wintercom = pd.concat([wintercom[['score']], wintercom['negemo']], axis=1)\n",
    "\n",
    "# Define the number of clusters (k)\n",
    "k = 4  # Example: 4 clusters\n",
    "\n",
    "# Create the KMeans model\n",
    "kmeans = KMeans(n_clusters=k, random_state=42)  # Set a random seed for reproducibility\n",
    "\n",
    "# Fit the model to your data\n",
    "kmeans.fit(features_wintercom)\n",
    "\n",
    "# Get cluster labels for each data point\n",
    "cluster_labels = kmeans.labels_\n",
    "\n",
    "# Access the cluster centers (centroids) after fitting (optional)\n",
    "centroids = kmeans.cluster_centers_\n",
    "\n",
    "features_wintercom['cluster'] = cluster_labels\n",
    "\n",
    "print(\"Centroids:\")\n",
    "print(centroids)\n",
    "\n",
    "import seaborn as sns\n",
    "\n",
    "\n",
    "# Create a scatter plot using Seaborn\n",
    "sns.scatterplot(\n",
    "    x=features_wintercom['score'],\n",
    "    y=features_wintercom['negemo'],\n",
    "    hue=kmeans.labels_,  # Color based on cluster labels\n",
    "    palette='deep',  # Choose a color palette (adjust as desired)\n",
    "    #style=kmeans.labels_,  # Marker style can also be based on cluster labels (optional)\n",
    "    s=50,  # Adjust marker size\n",
    "    alpha=0.7  # Adjust marker transparency\n",
    ")\n",
    "plt.scatter(centroids[:, 0], centroids[:, 1], marker='x', s=15, linewidths=5, c='black', label='Centroids')\n",
    "# Add labels and title\n",
    "plt.xlabel('Score')\n",
    "plt.ylabel('Negative Emotion Score')\n",
    "plt.title('Winter Comments K-Means Clustering Results (k=%d)' % k)\n",
    "\n",
    "# Show the plot\n",
    "plt.show()\n",
    "\n",
    "features_springcom = pd.concat([springcom[['score']], springcom['posemo']], axis=1)\n",
    "\n",
    "# Define the number of clusters (k)\n",
    "k = 4  # Example: 4 clusters\n",
    "\n",
    "# Create the KMeans model\n",
    "kmeans = KMeans(n_clusters=k, random_state=42)  # Set a random seed for reproducibility\n",
    "\n",
    "# Fit the model to your data\n",
    "kmeans.fit(features_springcom)\n",
    "\n",
    "# Get cluster labels for each data point\n",
    "cluster_labels = kmeans.labels_\n",
    "\n",
    "# Access the cluster centers (centroids) after fitting (optional)\n",
    "centroids = kmeans.cluster_centers_\n",
    "\n",
    "features_springcom['cluster'] = cluster_labels\n",
    "\n",
    "print(\"Centroids:\")\n",
    "print(centroids)\n",
    "\n",
    "import seaborn as sns\n",
    "\n",
    "\n",
    "# Create a scatter plot using Seaborn\n",
    "sns.scatterplot(\n",
    "    x=features_springcom['score'],\n",
    "    y=features_springcom['posemo'],\n",
    "    hue=kmeans.labels_,  # Color based on cluster labels\n",
    "    palette='deep',  # Choose a color palette (adjust as desired)\n",
    "    #style=kmeans.labels_,  # Marker style can also be based on cluster labels (optional)\n",
    "    s=50,  # Adjust marker size\n",
    "    alpha=0.7  # Adjust marker transparency\n",
    ")\n",
    "plt.scatter(centroids[:, 0], centroids[:, 1], marker='x', s=15, linewidths=5, c='black', label='Centroids')\n",
    "# Add labels and title\n",
    "plt.xlabel('Score')\n",
    "plt.ylabel('Positive Emotion Score')\n",
    "plt.title('Spring Comments K-Means Clustering Results (k=%d)' % k)\n",
    "\n",
    "# Show the plot\n",
    "plt.show()\n",
    "\n",
    "features_springcom = pd.concat([springcom[['score']], springcom['negemo']], axis=1)\n",
    "\n",
    "# Define the number of clusters (k)\n",
    "k = 4  # Example: 4 clusters\n",
    "\n",
    "# Create the KMeans model\n",
    "kmeans = KMeans(n_clusters=k, random_state=42)  # Set a random seed for reproducibility\n",
    "\n",
    "# Fit the model to your data\n",
    "kmeans.fit(features_springcom)\n",
    "\n",
    "# Get cluster labels for each data point\n",
    "cluster_labels = kmeans.labels_\n",
    "\n",
    "# Access the cluster centers (centroids) after fitting (optional)\n",
    "centroids = kmeans.cluster_centers_\n",
    "\n",
    "features_springcom['cluster'] = cluster_labels\n",
    "\n",
    "print(\"Centroids:\")\n",
    "print(centroids)\n",
    "\n",
    "import seaborn as sns\n",
    "\n",
    "\n",
    "# Create a scatter plot using Seaborn\n",
    "sns.scatterplot(\n",
    "    x=features_springcom['score'],\n",
    "    y=features_springcom['negemo'],\n",
    "    hue=kmeans.labels_,  # Color based on cluster labels\n",
    "    palette='deep',  # Choose a color palette (adjust as desired)\n",
    "    #style=kmeans.labels_,  # Marker style can also be based on cluster labels (optional)\n",
    "    s=50,  # Adjust marker size\n",
    "    alpha=0.7  # Adjust marker transparency\n",
    ")\n",
    "plt.scatter(centroids[:, 0], centroids[:, 1], marker='x', s=15, linewidths=5, c='black', label='Centroids')\n",
    "# Add labels and title\n",
    "plt.xlabel('Score')\n",
    "plt.ylabel('Negative Emotion Score')\n",
    "plt.title('Spring Comments K-Means Clustering Results (k=%d)' % k)\n",
    "\n",
    "# Show the plot\n",
    "plt.show()\n",
    "\n",
    "features_fallcom = pd.concat([fallcom[['score']], fallsub['posemo']], axis=1)\n",
    "\n",
    "# Define the number of clusters (k)\n",
    "k = 4  # Example: 4 clusters\n",
    "\n",
    "# Create the KMeans model\n",
    "kmeans = KMeans(n_clusters=k, random_state=42)  # Set a random seed for reproducibility\n",
    "\n",
    "# Fit the model to your data\n",
    "kmeans.fit(features_fallcom)\n",
    "\n",
    "# Get cluster labels for each data point\n",
    "cluster_labels = kmeans.labels_\n",
    "\n",
    "# Access the cluster centers (centroids) after fitting (optional)\n",
    "centroids = kmeans.cluster_centers_\n",
    "\n",
    "features_fallcom['cluster'] = cluster_labels\n",
    "\n",
    "print(\"Centroids:\")\n",
    "print(centroids)\n",
    "\n",
    "import seaborn as sns\n",
    "\n",
    "\n",
    "# Create a scatter plot using Seaborn\n",
    "sns.scatterplot(\n",
    "    x=features_fallcom['score'],\n",
    "    y=features_fallcom['posemo'],\n",
    "    hue=kmeans.labels_,  # Color based on cluster labels\n",
    "    palette='deep',  # Choose a color palette (adjust as desired)\n",
    "    #style=kmeans.labels_,  # Marker style can also be based on cluster labels (optional)\n",
    "    s=50,  # Adjust marker size\n",
    "    alpha=0.7  # Adjust marker transparency\n",
    ")\n",
    "plt.scatter(centroids[:, 0], centroids[:, 1], marker='x', s=15, linewidths=5, c='black', label='Centroids')\n",
    "# Add labels and title\n",
    "plt.xlabel('Score')\n",
    "plt.ylabel('Positive Emotion Score')\n",
    "plt.title('Fall Comments K-Means Clustering Results (k=%d)' % k)\n",
    "\n",
    "# Show the plot\n",
    "plt.show()\n",
    "\n",
    "features_fallcom = pd.concat([fallcom[['score']], fallcom['negemo']], axis=1)\n",
    "\n",
    "# Define the number of clusters (k)\n",
    "k = 4  # Example: 4 clusters\n",
    "\n",
    "# Create the KMeans model\n",
    "kmeans = KMeans(n_clusters=k, random_state=42)  # Set a random seed for reproducibility\n",
    "\n",
    "# Fit the model to your data\n",
    "kmeans.fit(features_fallcom)\n",
    "\n",
    "# Get cluster labels for each data point\n",
    "cluster_labels = kmeans.labels_\n",
    "\n",
    "# Access the cluster centers (centroids) after fitting (optional)\n",
    "centroids = kmeans.cluster_centers_\n",
    "\n",
    "features_fallcom['cluster'] = cluster_labels\n",
    "\n",
    "print(\"Centroids:\")\n",
    "print(centroids)\n",
    "\n",
    "import seaborn as sns\n",
    "\n",
    "\n",
    "# Create a scatter plot using Seaborn\n",
    "sns.scatterplot(\n",
    "    x=features_fallcom['score'],\n",
    "    y=features_fallcom['negemo'],\n",
    "    hue=kmeans.labels_,  # Color based on cluster labels\n",
    "    palette='deep',  # Choose a color palette (adjust as desired)\n",
    "    #style=kmeans.labels_,  # Marker style can also be based on cluster labels (optional)\n",
    "    s=50,  # Adjust marker size\n",
    "    alpha=0.7  # Adjust marker transparency\n",
    ")\n",
    "plt.scatter(centroids[:, 0], centroids[:, 1], marker='x', s=15, linewidths=5, c='black', label='Centroids')\n",
    "# Add labels and title\n",
    "plt.xlabel('Score')\n",
    "plt.ylabel('Negative Emotion Score')\n",
    "plt.title('Fall Comments K-Means Clustering Results (k=%d)' % k)\n",
    "\n",
    "# Show the plot\n",
    "plt.show()\n",
    "\n",
    "features_summercom = pd.concat([summercom[['score']], summercom['posemo']], axis=1)\n",
    "\n",
    "# Define the number of clusters (k)\n",
    "k = 4  # Example: 4 clusters\n",
    "\n",
    "# Create the KMeans model\n",
    "kmeans = KMeans(n_clusters=k, random_state=42)  # Set a random seed for reproducibility\n",
    "\n",
    "# Fit the model to your data\n",
    "kmeans.fit(features_summercom)\n",
    "\n",
    "# Get cluster labels for each data point\n",
    "cluster_labels = kmeans.labels_\n",
    "\n",
    "# Access the cluster centers (centroids) after fitting (optional)\n",
    "centroids = kmeans.cluster_centers_\n",
    "\n",
    "features_summercom['cluster'] = cluster_labels\n",
    "\n",
    "print(\"Centroids:\")\n",
    "print(centroids)\n",
    "\n",
    "import seaborn as sns\n",
    "\n",
    "\n",
    "# Create a scatter plot using Seaborn\n",
    "sns.scatterplot(\n",
    "    x=features_summercom['score'],\n",
    "    y=features_summercom['posemo'],\n",
    "    hue=kmeans.labels_,  # Color based on cluster labels\n",
    "    palette='deep',  # Choose a color palette (adjust as desired)\n",
    "    #style=kmeans.labels_,  # Marker style can also be based on cluster labels (optional)\n",
    "    s=50,  # Adjust marker size\n",
    "    alpha=0.7  # Adjust marker transparency\n",
    ")\n",
    "plt.scatter(centroids[:, 0], centroids[:, 1], marker='x', s=15, linewidths=5, c='black', label='Centroids')\n",
    "# Add labels and title\n",
    "plt.xlabel('Score')\n",
    "plt.ylabel('Positive Emotion Score')\n",
    "plt.title('Summer Comments K-Means Clustering Results (k=%d)' % k)\n",
    "\n",
    "# Show the plot\n",
    "plt.show()\n",
    "\n",
    "features_summercom = pd.concat([summercom[['score']], summercom['negemo']], axis=1)\n",
    "\n",
    "# Define the number of clusters (k)\n",
    "k = 4  # Example: 4 clusters\n",
    "\n",
    "# Create the KMeans model\n",
    "kmeans = KMeans(n_clusters=k, random_state=42)  # Set a random seed for reproducibility\n",
    "\n",
    "# Fit the model to your data\n",
    "kmeans.fit(features_summercom)\n",
    "\n",
    "# Get cluster labels for each data point\n",
    "cluster_labels = kmeans.labels_\n",
    "\n",
    "# Access the cluster centers (centroids) after fitting (optional)\n",
    "centroids = kmeans.cluster_centers_\n",
    "\n",
    "features_summercom['cluster'] = cluster_labels\n",
    "\n",
    "print(\"Centroids:\")\n",
    "print(centroids)\n",
    "\n",
    "import seaborn as sns\n",
    "\n",
    "\n",
    "# Create a scatter plot using Seaborn\n",
    "sns.scatterplot(\n",
    "    x=features_summercom['score'],\n",
    "    y=features_summercom['negemo'],\n",
    "    hue=kmeans.labels_,  # Color based on cluster labels\n",
    "    palette='deep',  # Choose a color palette (adjust as desired)\n",
    "    #style=kmeans.labels_,  # Marker style can also be based on cluster labels (optional)\n",
    "    s=50,  # Adjust marker size\n",
    "    alpha=0.7  # Adjust marker transparency\n",
    ")\n",
    "plt.scatter(centroids[:, 0], centroids[:, 1], marker='x', s=15, linewidths=5, c='black', label='Centroids')\n",
    "# Add labels and title\n",
    "plt.xlabel('Score')\n",
    "plt.ylabel('Negative Emotion Score')\n",
    "plt.title('Summer Comments K-Means Clustering Results (k=%d)' % k)\n",
    "\n",
    "# Show the plot\n",
    "plt.show()"
   ]
  },
  {
   "cell_type": "code",
   "execution_count": null,
   "metadata": {},
   "outputs": [],
   "source": []
  },
  {
   "cell_type": "code",
   "execution_count": null,
   "metadata": {},
   "outputs": [],
   "source": []
  }
 ],
 "metadata": {
  "kernelspec": {
   "display_name": "Python 3.10(capstone)",
   "language": "python",
   "name": "acv"
  },
  "language_info": {
   "codemirror_mode": {
    "name": "ipython",
    "version": 3
   },
   "file_extension": ".py",
   "mimetype": "text/x-python",
   "name": "python",
   "nbconvert_exporter": "python",
   "pygments_lexer": "ipython3",
   "version": "3.11.5"
  }
 },
 "nbformat": 4,
 "nbformat_minor": 2
}
