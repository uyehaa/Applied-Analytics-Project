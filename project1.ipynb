{
 "cells": [
  {
   "cell_type": "code",
   "execution_count": 42,
   "metadata": {},
   "outputs": [],
   "source": [
    "# Run these in your terminal in order\n",
    "\n",
    "#!pip install bertopic\n",
    "\n",
    "#pip install -r requirements.txt install bertopic\n",
    "\n",
    "#pip uninstall transformers bertopic\n",
    "#pip install transformers bertopic\n",
    "\n",
    "#!pip install spacytextblob\n",
    "#python -m spacy download en_core_web_sm"
   ]
  },
  {
   "cell_type": "code",
   "execution_count": 72,
   "metadata": {},
   "outputs": [],
   "source": [
    "import pandas as pd\n",
    "\n",
    "#Correlation Matrix\n",
    "import seaborn as sns\n",
    "import matplotlib.pyplot as plt\n",
    "import datetime\n",
    "\n",
    "import nltk\n",
    "from nltk.corpus import stopwords\n",
    "from nltk import ngrams\n",
    "\n",
    "import re\n",
    "\n",
    "from sklearn.model_selection import train_test_split\n",
    "from sklearn.ensemble import RandomForestClassifier\n",
    "from sklearn.metrics import accuracy_score\n",
    "\n",
    "from bertopic import BERTopic\n",
    "\n",
    "import spacy\n",
    "from spacytextblob.spacytextblob import SpacyTextBlob\n",
    "\n",
    "from sklearn.preprocessing import MinMaxScaler, OneHotEncoder\n",
    "\n",
    "from sklearn.cluster import KMeans\n"
   ]
  },
  {
   "cell_type": "code",
   "execution_count": 44,
   "metadata": {},
   "outputs": [],
   "source": [
    "#Amado's csv to df \n",
    "\n",
    "df_comments = pd.read_csv('/Users/amadouyehara/Desktop/Spring 2024/Applied Analytics & Predictive Modeling/Project 1/opiates_comments6_LIWC.csv')\n",
    "df_submissions = pd.read_csv('/Users/amadouyehara/Desktop/Spring 2024/Applied Analytics & Predictive Modeling/Project 1/opiates_submissions6_LIWC.csv', low_memory=False)\n"
   ]
  },
  {
   "cell_type": "code",
   "execution_count": 45,
   "metadata": {},
   "outputs": [],
   "source": [
    "#Kaily's csv to df\n",
    "\n",
    "#df_comments = pd.read_csv(\"C:/Users/Kaily Mejia/Dropbox/Graduate Courses/Applied and Predictive Modeling/Final Project/opiates_comments6_LIWC.csv\" )\n",
    "#df_submissions = pd.read_csv('C:/Users/Kaily Mejia/Dropbox/Graduate Courses/Applied and Predictive Modeling/Final Project/opiates_submissions6_LIWC.csv', low_memory = False)\n"
   ]
  },
  {
   "cell_type": "code",
   "execution_count": 46,
   "metadata": {},
   "outputs": [
    {
     "data": {
      "text/html": [
       "<div>\n",
       "<style scoped>\n",
       "    .dataframe tbody tr th:only-of-type {\n",
       "        vertical-align: middle;\n",
       "    }\n",
       "\n",
       "    .dataframe tbody tr th {\n",
       "        vertical-align: top;\n",
       "    }\n",
       "\n",
       "    .dataframe thead th {\n",
       "        text-align: right;\n",
       "    }\n",
       "</style>\n",
       "<table border=\"1\" class=\"dataframe\">\n",
       "  <thead>\n",
       "    <tr style=\"text-align: right;\">\n",
       "      <th></th>\n",
       "      <th>author</th>\n",
       "      <th>created_utc</th>\n",
       "      <th>score</th>\n",
       "      <th>subreddit</th>\n",
       "      <th>WC</th>\n",
       "      <th>Analytic</th>\n",
       "      <th>Clout</th>\n",
       "      <th>Authentic</th>\n",
       "      <th>Tone</th>\n",
       "      <th>WPS</th>\n",
       "      <th>...</th>\n",
       "      <th>Comma</th>\n",
       "      <th>Colon</th>\n",
       "      <th>SemiC</th>\n",
       "      <th>QMark</th>\n",
       "      <th>Exclam</th>\n",
       "      <th>Dash</th>\n",
       "      <th>Quote</th>\n",
       "      <th>Apostro</th>\n",
       "      <th>Parenth</th>\n",
       "      <th>OtherP</th>\n",
       "    </tr>\n",
       "  </thead>\n",
       "  <tbody>\n",
       "    <tr>\n",
       "      <th>0</th>\n",
       "      <td>BoofDontShoot</td>\n",
       "      <td>1659067065</td>\n",
       "      <td>1</td>\n",
       "      <td>opiates</td>\n",
       "      <td>5</td>\n",
       "      <td>8.69</td>\n",
       "      <td>50.00</td>\n",
       "      <td>1.00</td>\n",
       "      <td>25.77</td>\n",
       "      <td>2.50</td>\n",
       "      <td>...</td>\n",
       "      <td>0.0</td>\n",
       "      <td>0.0</td>\n",
       "      <td>0.0</td>\n",
       "      <td>0.0</td>\n",
       "      <td>0.0</td>\n",
       "      <td>0.00</td>\n",
       "      <td>0.00</td>\n",
       "      <td>0.00</td>\n",
       "      <td>0.00</td>\n",
       "      <td>0.0</td>\n",
       "    </tr>\n",
       "    <tr>\n",
       "      <th>1</th>\n",
       "      <td>Busy_Background_195</td>\n",
       "      <td>1659067044</td>\n",
       "      <td>1</td>\n",
       "      <td>opiates</td>\n",
       "      <td>55</td>\n",
       "      <td>32.58</td>\n",
       "      <td>13.76</td>\n",
       "      <td>14.10</td>\n",
       "      <td>1.00</td>\n",
       "      <td>13.75</td>\n",
       "      <td>...</td>\n",
       "      <td>0.0</td>\n",
       "      <td>0.0</td>\n",
       "      <td>0.0</td>\n",
       "      <td>0.0</td>\n",
       "      <td>0.0</td>\n",
       "      <td>0.00</td>\n",
       "      <td>0.00</td>\n",
       "      <td>5.45</td>\n",
       "      <td>3.64</td>\n",
       "      <td>0.0</td>\n",
       "    </tr>\n",
       "    <tr>\n",
       "      <th>2</th>\n",
       "      <td>Wolf_Double</td>\n",
       "      <td>1659066949</td>\n",
       "      <td>1</td>\n",
       "      <td>opiates</td>\n",
       "      <td>6</td>\n",
       "      <td>1.00</td>\n",
       "      <td>95.20</td>\n",
       "      <td>23.51</td>\n",
       "      <td>99.00</td>\n",
       "      <td>6.00</td>\n",
       "      <td>...</td>\n",
       "      <td>0.0</td>\n",
       "      <td>0.0</td>\n",
       "      <td>0.0</td>\n",
       "      <td>0.0</td>\n",
       "      <td>0.0</td>\n",
       "      <td>0.00</td>\n",
       "      <td>0.00</td>\n",
       "      <td>0.00</td>\n",
       "      <td>0.00</td>\n",
       "      <td>0.0</td>\n",
       "    </tr>\n",
       "    <tr>\n",
       "      <th>3</th>\n",
       "      <td>Knowagoraaa</td>\n",
       "      <td>1659066905</td>\n",
       "      <td>1</td>\n",
       "      <td>opiates</td>\n",
       "      <td>39</td>\n",
       "      <td>71.92</td>\n",
       "      <td>60.13</td>\n",
       "      <td>99.00</td>\n",
       "      <td>73.64</td>\n",
       "      <td>13.00</td>\n",
       "      <td>...</td>\n",
       "      <td>0.0</td>\n",
       "      <td>0.0</td>\n",
       "      <td>0.0</td>\n",
       "      <td>0.0</td>\n",
       "      <td>0.0</td>\n",
       "      <td>2.56</td>\n",
       "      <td>0.00</td>\n",
       "      <td>5.13</td>\n",
       "      <td>0.00</td>\n",
       "      <td>0.0</td>\n",
       "    </tr>\n",
       "    <tr>\n",
       "      <th>4</th>\n",
       "      <td>Busy_Background_195</td>\n",
       "      <td>1659066875</td>\n",
       "      <td>1</td>\n",
       "      <td>opiates</td>\n",
       "      <td>75</td>\n",
       "      <td>24.37</td>\n",
       "      <td>29.68</td>\n",
       "      <td>14.56</td>\n",
       "      <td>2.41</td>\n",
       "      <td>25.00</td>\n",
       "      <td>...</td>\n",
       "      <td>0.0</td>\n",
       "      <td>0.0</td>\n",
       "      <td>0.0</td>\n",
       "      <td>0.0</td>\n",
       "      <td>0.0</td>\n",
       "      <td>0.00</td>\n",
       "      <td>2.67</td>\n",
       "      <td>4.00</td>\n",
       "      <td>0.00</td>\n",
       "      <td>0.0</td>\n",
       "    </tr>\n",
       "  </tbody>\n",
       "</table>\n",
       "<p>5 rows × 96 columns</p>\n",
       "</div>"
      ],
      "text/plain": [
       "                author  created_utc  score subreddit  WC  Analytic  Clout  \\\n",
       "0        BoofDontShoot   1659067065      1   opiates   5      8.69  50.00   \n",
       "1  Busy_Background_195   1659067044      1   opiates  55     32.58  13.76   \n",
       "2          Wolf_Double   1659066949      1   opiates   6      1.00  95.20   \n",
       "3          Knowagoraaa   1659066905      1   opiates  39     71.92  60.13   \n",
       "4  Busy_Background_195   1659066875      1   opiates  75     24.37  29.68   \n",
       "\n",
       "   Authentic   Tone    WPS  ...  Comma  Colon  SemiC  QMark  Exclam  Dash  \\\n",
       "0       1.00  25.77   2.50  ...    0.0    0.0    0.0    0.0     0.0  0.00   \n",
       "1      14.10   1.00  13.75  ...    0.0    0.0    0.0    0.0     0.0  0.00   \n",
       "2      23.51  99.00   6.00  ...    0.0    0.0    0.0    0.0     0.0  0.00   \n",
       "3      99.00  73.64  13.00  ...    0.0    0.0    0.0    0.0     0.0  2.56   \n",
       "4      14.56   2.41  25.00  ...    0.0    0.0    0.0    0.0     0.0  0.00   \n",
       "\n",
       "   Quote  Apostro  Parenth  OtherP  \n",
       "0   0.00     0.00     0.00     0.0  \n",
       "1   0.00     5.45     3.64     0.0  \n",
       "2   0.00     0.00     0.00     0.0  \n",
       "3   0.00     5.13     0.00     0.0  \n",
       "4   2.67     4.00     0.00     0.0  \n",
       "\n",
       "[5 rows x 96 columns]"
      ]
     },
     "execution_count": 46,
     "metadata": {},
     "output_type": "execute_result"
    }
   ],
   "source": [
    "#Structure of Comments dataset\n",
    "df_comments.head()"
   ]
  },
  {
   "cell_type": "code",
   "execution_count": 47,
   "metadata": {},
   "outputs": [
    {
     "data": {
      "text/html": [
       "<div>\n",
       "<style scoped>\n",
       "    .dataframe tbody tr th:only-of-type {\n",
       "        vertical-align: middle;\n",
       "    }\n",
       "\n",
       "    .dataframe tbody tr th {\n",
       "        vertical-align: top;\n",
       "    }\n",
       "\n",
       "    .dataframe thead th {\n",
       "        text-align: right;\n",
       "    }\n",
       "</style>\n",
       "<table border=\"1\" class=\"dataframe\">\n",
       "  <thead>\n",
       "    <tr style=\"text-align: right;\">\n",
       "      <th></th>\n",
       "      <th>author</th>\n",
       "      <th>title</th>\n",
       "      <th>created_utc</th>\n",
       "      <th>score</th>\n",
       "      <th>subreddit</th>\n",
       "      <th>WC</th>\n",
       "      <th>Analytic</th>\n",
       "      <th>Clout</th>\n",
       "      <th>Authentic</th>\n",
       "      <th>Tone</th>\n",
       "      <th>...</th>\n",
       "      <th>Comma</th>\n",
       "      <th>Colon</th>\n",
       "      <th>SemiC</th>\n",
       "      <th>QMark</th>\n",
       "      <th>Exclam</th>\n",
       "      <th>Dash</th>\n",
       "      <th>Quote</th>\n",
       "      <th>Apostro</th>\n",
       "      <th>Parenth</th>\n",
       "      <th>OtherP</th>\n",
       "    </tr>\n",
       "  </thead>\n",
       "  <tbody>\n",
       "    <tr>\n",
       "      <th>0</th>\n",
       "      <td>Odd-Pizza-1079</td>\n",
       "      <td>How much tylenol is too much? Asking for a fri...</td>\n",
       "      <td>1.659067e+09</td>\n",
       "      <td>1</td>\n",
       "      <td>opiates</td>\n",
       "      <td>12.0</td>\n",
       "      <td>18.82</td>\n",
       "      <td>79.76</td>\n",
       "      <td>1.79</td>\n",
       "      <td>25.77</td>\n",
       "      <td>...</td>\n",
       "      <td>0.0</td>\n",
       "      <td>0.0</td>\n",
       "      <td>0.00</td>\n",
       "      <td>8.33</td>\n",
       "      <td>0.00</td>\n",
       "      <td>0.00</td>\n",
       "      <td>0.0</td>\n",
       "      <td>0.0</td>\n",
       "      <td>16.67</td>\n",
       "      <td>0.00</td>\n",
       "    </tr>\n",
       "    <tr>\n",
       "      <th>1</th>\n",
       "      <td>Global_Face_4708</td>\n",
       "      <td>Gabapentin/Lyrica/Clonidine Through Telehealth?</td>\n",
       "      <td>1.659065e+09</td>\n",
       "      <td>1</td>\n",
       "      <td>opiates</td>\n",
       "      <td>5.0</td>\n",
       "      <td>99.00</td>\n",
       "      <td>50.00</td>\n",
       "      <td>1.00</td>\n",
       "      <td>25.77</td>\n",
       "      <td>...</td>\n",
       "      <td>0.0</td>\n",
       "      <td>0.0</td>\n",
       "      <td>0.00</td>\n",
       "      <td>20.00</td>\n",
       "      <td>0.00</td>\n",
       "      <td>0.00</td>\n",
       "      <td>0.0</td>\n",
       "      <td>0.0</td>\n",
       "      <td>0.00</td>\n",
       "      <td>40.00</td>\n",
       "    </tr>\n",
       "    <tr>\n",
       "      <th>2</th>\n",
       "      <td>Bluebeamtwinfn</td>\n",
       "      <td>Opiates prolonging finish/enhancing sex</td>\n",
       "      <td>1.659064e+09</td>\n",
       "      <td>1</td>\n",
       "      <td>opiates</td>\n",
       "      <td>5.0</td>\n",
       "      <td>93.26</td>\n",
       "      <td>50.00</td>\n",
       "      <td>43.37</td>\n",
       "      <td>25.77</td>\n",
       "      <td>...</td>\n",
       "      <td>0.0</td>\n",
       "      <td>0.0</td>\n",
       "      <td>0.00</td>\n",
       "      <td>0.00</td>\n",
       "      <td>0.00</td>\n",
       "      <td>0.00</td>\n",
       "      <td>0.0</td>\n",
       "      <td>0.0</td>\n",
       "      <td>0.00</td>\n",
       "      <td>20.00</td>\n",
       "    </tr>\n",
       "    <tr>\n",
       "      <th>3</th>\n",
       "      <td>iLoveLuckiii</td>\n",
       "      <td>Boost your oxy high! &amp;amp; Save money! (USE ON...</td>\n",
       "      <td>1.659063e+09</td>\n",
       "      <td>1</td>\n",
       "      <td>opiates</td>\n",
       "      <td>13.0</td>\n",
       "      <td>82.82</td>\n",
       "      <td>93.79</td>\n",
       "      <td>94.81</td>\n",
       "      <td>99.00</td>\n",
       "      <td>...</td>\n",
       "      <td>0.0</td>\n",
       "      <td>0.0</td>\n",
       "      <td>7.69</td>\n",
       "      <td>0.00</td>\n",
       "      <td>15.38</td>\n",
       "      <td>0.00</td>\n",
       "      <td>0.0</td>\n",
       "      <td>0.0</td>\n",
       "      <td>15.38</td>\n",
       "      <td>7.69</td>\n",
       "    </tr>\n",
       "    <tr>\n",
       "      <th>4</th>\n",
       "      <td>Downtown_Syrup4635</td>\n",
       "      <td>IOP Detox while working 9-5??</td>\n",
       "      <td>1.659061e+09</td>\n",
       "      <td>1</td>\n",
       "      <td>opiates</td>\n",
       "      <td>6.0</td>\n",
       "      <td>62.04</td>\n",
       "      <td>50.00</td>\n",
       "      <td>23.51</td>\n",
       "      <td>25.77</td>\n",
       "      <td>...</td>\n",
       "      <td>0.0</td>\n",
       "      <td>0.0</td>\n",
       "      <td>0.00</td>\n",
       "      <td>33.33</td>\n",
       "      <td>0.00</td>\n",
       "      <td>16.67</td>\n",
       "      <td>0.0</td>\n",
       "      <td>0.0</td>\n",
       "      <td>0.00</td>\n",
       "      <td>0.00</td>\n",
       "    </tr>\n",
       "  </tbody>\n",
       "</table>\n",
       "<p>5 rows × 98 columns</p>\n",
       "</div>"
      ],
      "text/plain": [
       "               author                                              title  \\\n",
       "0      Odd-Pizza-1079  How much tylenol is too much? Asking for a fri...   \n",
       "1    Global_Face_4708    Gabapentin/Lyrica/Clonidine Through Telehealth?   \n",
       "2      Bluebeamtwinfn            Opiates prolonging finish/enhancing sex   \n",
       "3        iLoveLuckiii  Boost your oxy high! &amp; Save money! (USE ON...   \n",
       "4  Downtown_Syrup4635                      IOP Detox while working 9-5??   \n",
       "\n",
       "    created_utc score subreddit    WC  Analytic  Clout  Authentic   Tone  ...  \\\n",
       "0  1.659067e+09     1   opiates  12.0     18.82  79.76       1.79  25.77  ...   \n",
       "1  1.659065e+09     1   opiates   5.0     99.00  50.00       1.00  25.77  ...   \n",
       "2  1.659064e+09     1   opiates   5.0     93.26  50.00      43.37  25.77  ...   \n",
       "3  1.659063e+09     1   opiates  13.0     82.82  93.79      94.81  99.00  ...   \n",
       "4  1.659061e+09     1   opiates   6.0     62.04  50.00      23.51  25.77  ...   \n",
       "\n",
       "   Comma  Colon  SemiC  QMark  Exclam   Dash  Quote  Apostro  Parenth  OtherP  \n",
       "0    0.0    0.0   0.00   8.33    0.00   0.00    0.0      0.0    16.67    0.00  \n",
       "1    0.0    0.0   0.00  20.00    0.00   0.00    0.0      0.0     0.00   40.00  \n",
       "2    0.0    0.0   0.00   0.00    0.00   0.00    0.0      0.0     0.00   20.00  \n",
       "3    0.0    0.0   7.69   0.00   15.38   0.00    0.0      0.0    15.38    7.69  \n",
       "4    0.0    0.0   0.00  33.33    0.00  16.67    0.0      0.0     0.00    0.00  \n",
       "\n",
       "[5 rows x 98 columns]"
      ]
     },
     "execution_count": 47,
     "metadata": {},
     "output_type": "execute_result"
    }
   ],
   "source": [
    "#Structure of Submissions dataset\n",
    "df_submissions.head()"
   ]
  },
  {
   "cell_type": "code",
   "execution_count": 48,
   "metadata": {},
   "outputs": [
    {
     "name": "stdout",
     "output_type": "stream",
     "text": [
      "1014397\n",
      "1014397\n",
      "79676\n",
      "79674\n"
     ]
    }
   ],
   "source": [
    "#Removing null values\n",
    "print(len(df_comments))\n",
    "df_comments = df_comments.dropna()\n",
    "print(len(df_comments))\n",
    "\n",
    "print(len(df_submissions))\n",
    "df_submissions = df_submissions.dropna()\n",
    "print(len(df_submissions))"
   ]
  },
  {
   "cell_type": "code",
   "execution_count": 49,
   "metadata": {},
   "outputs": [
    {
     "data": {
      "text/plain": [
       "'\\ndf_comments = df_comments.select_dtypes(include=[\\'float64\\', \\'int64\\'])\\n\\ncorrelation_matrix = df_comments.corr()\\n\\nplt.figure(figsize=(100, 80))\\nsns.heatmap(correlation_matrix, annot=True, cmap=\\'coolwarm\\', fmt=\".2f\")\\nplt.title(\\'Correlation Matrix Heatmap\\')\\nplt.show()\\n'"
      ]
     },
     "execution_count": 49,
     "metadata": {},
     "output_type": "execute_result"
    }
   ],
   "source": [
    "#only using numerical values for heatmap \n",
    "'''\n",
    "df_comments = df_comments.select_dtypes(include=['float64', 'int64'])\n",
    "\n",
    "correlation_matrix = df_comments.corr()\n",
    "\n",
    "plt.figure(figsize=(100, 80))\n",
    "sns.heatmap(correlation_matrix, annot=True, cmap='coolwarm', fmt=\".2f\")\n",
    "plt.title('Correlation Matrix Heatmap')\n",
    "plt.show()\n",
    "'''"
   ]
  },
  {
   "cell_type": "code",
   "execution_count": 50,
   "metadata": {},
   "outputs": [],
   "source": [
    "df_comments = df_comments[['author', 'created_utc','score', 'WC', 'Analytic', 'Clout', 'Authentic', 'Tone', 'WPS', 'Sixltr', 'Dic', 'pronoun', 'ppron', 'ipron', 'adverb', 'negate', 'verb', 'adj', 'compare', 'number', 'affect', 'posemo', 'negemo', 'anx', 'anger', 'sad', 'percept', 'feel', 'bio', 'health', 'sexual', 'ingest', 'risk', 'work', 'leisure', 'home', 'money', 'relig', 'death', 'informal', 'swear', 'netspeak', 'assent', 'nonflu', 'filler']]\n",
    "df_submissions = df_submissions[['author', 'title', 'created_utc','score', 'WC', 'Analytic', 'Clout', 'Authentic', 'Tone', 'pronoun', 'article', 'auxverb', 'adverb', 'conj', 'verb', 'adj', 'posemo', 'negemo', 'anx', 'anger', 'sad', 'percept','feel','cogproc', 'focuspast', 'focuspresent', 'focusfuture', 'work','informal','QMark']]"
   ]
  },
  {
   "cell_type": "code",
   "execution_count": 51,
   "metadata": {},
   "outputs": [
    {
     "name": "stdout",
     "output_type": "stream",
     "text": [
      "created_utc, -- Min: 1561436002.0, -- Max: 1659066615.0, -- Unique Values: 79580\n",
      "WC, -- Min: 0.0, -- Max: 69.0, -- Unique Values: 70\n",
      "Analytic, -- Min: 0.0, -- Max: 99.0, -- Unique Values: 659\n",
      "Clout, -- Min: 0.0, -- Max: 99.0, -- Unique Values: 491\n",
      "Authentic, -- Min: 0.0, -- Max: 99.0, -- Unique Values: 334\n",
      "Tone, -- Min: 0.0, -- Max: 99.0, -- Unique Values: 120\n",
      "pronoun, -- Min: 0.0, -- Max: 100.0, -- Unique Values: 384\n",
      "article, -- Min: 0.0, -- Max: 50.0, -- Unique Values: 219\n",
      "auxverb, -- Min: 0.0, -- Max: 100.0, -- Unique Values: 306\n",
      "adverb, -- Min: 0.0, -- Max: 100.0, -- Unique Values: 255\n",
      "conj, -- Min: 0.0, -- Max: 100.0, -- Unique Values: 256\n",
      "verb, -- Min: 0.0, -- Max: 100.0, -- Unique Values: 404\n",
      "adj, -- Min: 0.0, -- Max: 100.0, -- Unique Values: 259\n",
      "posemo, -- Min: 0.0, -- Max: 100.0, -- Unique Values: 198\n",
      "negemo, -- Min: 0.0, -- Max: 100.0, -- Unique Values: 196\n",
      "anx, -- Min: 0.0, -- Max: 100.0, -- Unique Values: 106\n",
      "anger, -- Min: 0.0, -- Max: 100.0, -- Unique Values: 126\n",
      "sad, -- Min: 0.0, -- Max: 100.0, -- Unique Values: 106\n",
      "percept, -- Min: 0.0, -- Max: 100.0, -- Unique Values: 214\n",
      "feel, -- Min: 0.0, -- Max: 100.0, -- Unique Values: 156\n",
      "cogproc, -- Min: 0.0, -- Max: 100.0, -- Unique Values: 411\n",
      "focuspast, -- Min: 0.0, -- Max: 100.0, -- Unique Values: 239\n",
      "focuspresent, -- Min: 0.0, -- Max: 100.0, -- Unique Values: 362\n",
      "focusfuture, -- Min: 0.0, -- Max: 100.0, -- Unique Values: 141\n",
      "work, -- Min: 0.0, -- Max: 100.0, -- Unique Values: 153\n",
      "informal, -- Min: 0.0, -- Max: 100.0, -- Unique Values: 188\n",
      "QMark, -- Min: 0.0, -- Max: 1500.0, -- Unique Values: 190\n"
     ]
    }
   ],
   "source": [
    "#Checking for outliers, using min, max, and unique values for comments dataframe\n",
    "\n",
    "numerical_df_s = df_submissions.select_dtypes(include=['int', 'float'])\n",
    "\n",
    "# Iterate through each numerical column\n",
    "for column in numerical_df_s.columns:\n",
    "    # Calculate min and max range of unique values\n",
    "    min_val = numerical_df_s[column].min()\n",
    "    max_val = numerical_df_s[column].max()\n",
    "    unique_values = numerical_df_s[column].nunique()\n",
    "    \n",
    "    # Print the results\n",
    "    print(f\"{column}, -- Min: {min_val}, -- Max: {max_val}, -- Unique Values: {unique_values}\")\n"
   ]
  },
  {
   "cell_type": "code",
   "execution_count": 52,
   "metadata": {},
   "outputs": [
    {
     "name": "stdout",
     "output_type": "stream",
     "text": [
      "created_utc, -- Min: 1561435211, -- Max: 1659067065, -- Unique Values: 1005848\n",
      "score, -- Min: -105, -- Max: 217, -- Unique Values: 188\n",
      "WC, -- Min: 0, -- Max: 1935, -- Unique Values: 1049\n",
      "Analytic, -- Min: 0.0, -- Max: 99.0, -- Unique Values: 8274\n",
      "Clout, -- Min: 0.0, -- Max: 99.0, -- Unique Values: 8027\n",
      "Authentic, -- Min: 0.0, -- Max: 99.0, -- Unique Values: 6890\n",
      "Tone, -- Min: 0.0, -- Max: 99.0, -- Unique Values: 4364\n",
      "WPS, -- Min: 0.0, -- Max: 812.0, -- Unique Values: 3860\n",
      "Sixltr, -- Min: 0.0, -- Max: 100.0, -- Unique Values: 3209\n",
      "Dic, -- Min: 0.0, -- Max: 100.0, -- Unique Values: 4089\n",
      "pronoun, -- Min: 0.0, -- Max: 100.0, -- Unique Values: 2843\n",
      "ppron, -- Min: 0.0, -- Max: 100.0, -- Unique Values: 2394\n",
      "ipron, -- Min: 0.0, -- Max: 100.0, -- Unique Values: 1628\n",
      "adverb, -- Min: 0.0, -- Max: 100.0, -- Unique Values: 1624\n",
      "negate, -- Min: 0.0, -- Max: 100.0, -- Unique Values: 972\n",
      "verb, -- Min: 0.0, -- Max: 100.0, -- Unique Values: 2716\n",
      "adj, -- Min: 0.0, -- Max: 100.0, -- Unique Values: 1579\n",
      "compare, -- Min: 0.0, -- Max: 100.0, -- Unique Values: 1241\n",
      "number, -- Min: 0.0, -- Max: 100.0, -- Unique Values: 1510\n",
      "affect, -- Min: 0.0, -- Max: 100.0, -- Unique Values: 1709\n",
      "posemo, -- Min: 0.0, -- Max: 100.0, -- Unique Values: 1264\n",
      "negemo, -- Min: 0.0, -- Max: 100.0, -- Unique Values: 1267\n",
      "anx, -- Min: 0.0, -- Max: 100.0, -- Unique Values: 596\n",
      "anger, -- Min: 0.0, -- Max: 100.0, -- Unique Values: 886\n",
      "sad, -- Min: 0.0, -- Max: 100.0, -- Unique Values: 618\n",
      "percept, -- Min: 0.0, -- Max: 100.0, -- Unique Values: 1179\n",
      "feel, -- Min: 0.0, -- Max: 100.0, -- Unique Values: 859\n",
      "bio, -- Min: 0.0, -- Max: 100.0, -- Unique Values: 1617\n",
      "health, -- Min: 0.0, -- Max: 100.0, -- Unique Values: 1351\n",
      "sexual, -- Min: 0.0, -- Max: 100.0, -- Unique Values: 633\n",
      "ingest, -- Min: 0.0, -- Max: 100.0, -- Unique Values: 977\n",
      "risk, -- Min: 0.0, -- Max: 100.0, -- Unique Values: 653\n",
      "work, -- Min: 0.0, -- Max: 100.0, -- Unique Values: 1073\n",
      "leisure, -- Min: 0.0, -- Max: 100.0, -- Unique Values: 812\n",
      "home, -- Min: 0.0, -- Max: 100.0, -- Unique Values: 565\n",
      "money, -- Min: 0.0, -- Max: 100.0, -- Unique Values: 977\n",
      "relig, -- Min: 0.0, -- Max: 100.0, -- Unique Values: 532\n",
      "death, -- Min: 0.0, -- Max: 100.0, -- Unique Values: 584\n",
      "informal, -- Min: 0.0, -- Max: 100.0, -- Unique Values: 1441\n",
      "swear, -- Min: 0.0, -- Max: 100.0, -- Unique Values: 845\n",
      "netspeak, -- Min: 0.0, -- Max: 100.0, -- Unique Values: 1181\n",
      "assent, -- Min: 0.0, -- Max: 100.0, -- Unique Values: 460\n",
      "nonflu, -- Min: 0.0, -- Max: 100.0, -- Unique Values: 425\n",
      "filler, -- Min: 0.0, -- Max: 100.0, -- Unique Values: 360\n"
     ]
    }
   ],
   "source": [
    "#Checking for outliers, using min, max, and unique values for comments dataframe\n",
    "\n",
    "numerical_df_c = df_comments.select_dtypes(include=['int', 'float'])\n",
    "\n",
    "# Iterate through each numerical column\n",
    "for column in numerical_df_c.columns:\n",
    "    # Calculate min and max range of unique values\n",
    "    min_val = numerical_df_c[column].min()\n",
    "    max_val = numerical_df_c[column].max()\n",
    "    unique_values = numerical_df_c[column].nunique()\n",
    "    \n",
    "    # Print the results\n",
    "    print(f\"{column}, -- Min: {min_val}, -- Max: {max_val}, -- Unique Values: {unique_values}\")"
   ]
  },
  {
   "cell_type": "code",
   "execution_count": 53,
   "metadata": {},
   "outputs": [
    {
     "data": {
      "text/plain": [
       "'\\nnumerical_df_submissions = df_submissions.select_dtypes(include=[\\'float64\\', \\'int64\\'])\\n\\n\\ncorrelation_matrix = numerical_df_submissions.corr()\\n\\nplt.figure(figsize=(100, 80))\\nsns.heatmap(correlation_matrix, annot=True, cmap=\\'coolwarm\\', fmt=\".2f\")\\nplt.title(\\'Correlation Matrix Heatmap\\')\\nplt.show()\\n'"
      ]
     },
     "execution_count": 53,
     "metadata": {},
     "output_type": "execute_result"
    }
   ],
   "source": [
    "#only using numerical values for heatmap \n",
    "'''\n",
    "numerical_df_submissions = df_submissions.select_dtypes(include=['float64', 'int64'])\n",
    "\n",
    "\n",
    "correlation_matrix = numerical_df_submissions.corr()\n",
    "\n",
    "plt.figure(figsize=(100, 80))\n",
    "sns.heatmap(correlation_matrix, annot=True, cmap='coolwarm', fmt=\".2f\")\n",
    "plt.title('Correlation Matrix Heatmap')\n",
    "plt.show()\n",
    "'''\n"
   ]
  },
  {
   "cell_type": "code",
   "execution_count": 54,
   "metadata": {},
   "outputs": [
    {
     "data": {
      "text/plain": [
       "'\\ndf_emo = df_submissions[[\\'Tone\\',\\'posemo\\',\\'negemo\\']]\\n\\ncorrelation_matrix = df_emo.corr()\\n\\nplt.figure(figsize=(10, 8))\\nsns.heatmap(correlation_matrix, annot=True, cmap=\\'coolwarm\\', fmt=\".2f\")\\nplt.title(\\'Correlation Matrix Heatmap\\')\\nplt.show()\\n'"
      ]
     },
     "execution_count": 54,
     "metadata": {},
     "output_type": "execute_result"
    }
   ],
   "source": [
    "'''\n",
    "df_emo = df_submissions[['Tone','posemo','negemo']]\n",
    "\n",
    "correlation_matrix = df_emo.corr()\n",
    "\n",
    "plt.figure(figsize=(10, 8))\n",
    "sns.heatmap(correlation_matrix, annot=True, cmap='coolwarm', fmt=\".2f\")\n",
    "plt.title('Correlation Matrix Heatmap')\n",
    "plt.show()\n",
    "'''"
   ]
  },
  {
   "cell_type": "code",
   "execution_count": 55,
   "metadata": {},
   "outputs": [
    {
     "data": {
      "text/html": [
       "<div>\n",
       "<style scoped>\n",
       "    .dataframe tbody tr th:only-of-type {\n",
       "        vertical-align: middle;\n",
       "    }\n",
       "\n",
       "    .dataframe tbody tr th {\n",
       "        vertical-align: top;\n",
       "    }\n",
       "\n",
       "    .dataframe thead th {\n",
       "        text-align: right;\n",
       "    }\n",
       "</style>\n",
       "<table border=\"1\" class=\"dataframe\">\n",
       "  <thead>\n",
       "    <tr style=\"text-align: right;\">\n",
       "      <th></th>\n",
       "      <th>author</th>\n",
       "      <th>Datetime</th>\n",
       "      <th>season</th>\n",
       "      <th>score</th>\n",
       "      <th>WC</th>\n",
       "      <th>Analytic</th>\n",
       "      <th>Clout</th>\n",
       "      <th>Authentic</th>\n",
       "      <th>Tone</th>\n",
       "      <th>WPS</th>\n",
       "      <th>...</th>\n",
       "      <th>home</th>\n",
       "      <th>money</th>\n",
       "      <th>relig</th>\n",
       "      <th>death</th>\n",
       "      <th>informal</th>\n",
       "      <th>swear</th>\n",
       "      <th>netspeak</th>\n",
       "      <th>assent</th>\n",
       "      <th>nonflu</th>\n",
       "      <th>filler</th>\n",
       "    </tr>\n",
       "  </thead>\n",
       "  <tbody>\n",
       "    <tr>\n",
       "      <th>0</th>\n",
       "      <td>BoofDontShoot</td>\n",
       "      <td>2022-07-28 23:50:15</td>\n",
       "      <td>Summer</td>\n",
       "      <td>1</td>\n",
       "      <td>5</td>\n",
       "      <td>8.69</td>\n",
       "      <td>50.00</td>\n",
       "      <td>1.00</td>\n",
       "      <td>25.77</td>\n",
       "      <td>2.50</td>\n",
       "      <td>...</td>\n",
       "      <td>0.00</td>\n",
       "      <td>0.00</td>\n",
       "      <td>0.00</td>\n",
       "      <td>0.00</td>\n",
       "      <td>20.00</td>\n",
       "      <td>0.00</td>\n",
       "      <td>20.00</td>\n",
       "      <td>0.00</td>\n",
       "      <td>0.00</td>\n",
       "      <td>0.0</td>\n",
       "    </tr>\n",
       "    <tr>\n",
       "      <th>1</th>\n",
       "      <td>Busy_Background_195</td>\n",
       "      <td>2022-07-28 23:22:43</td>\n",
       "      <td>Summer</td>\n",
       "      <td>1</td>\n",
       "      <td>55</td>\n",
       "      <td>32.58</td>\n",
       "      <td>13.76</td>\n",
       "      <td>14.10</td>\n",
       "      <td>1.00</td>\n",
       "      <td>13.75</td>\n",
       "      <td>...</td>\n",
       "      <td>0.00</td>\n",
       "      <td>0.00</td>\n",
       "      <td>0.00</td>\n",
       "      <td>1.82</td>\n",
       "      <td>7.27</td>\n",
       "      <td>3.64</td>\n",
       "      <td>1.82</td>\n",
       "      <td>0.00</td>\n",
       "      <td>0.00</td>\n",
       "      <td>0.0</td>\n",
       "    </tr>\n",
       "    <tr>\n",
       "      <th>2</th>\n",
       "      <td>Wolf_Double</td>\n",
       "      <td>2022-07-28 23:06:11</td>\n",
       "      <td>Summer</td>\n",
       "      <td>1</td>\n",
       "      <td>6</td>\n",
       "      <td>1.00</td>\n",
       "      <td>95.20</td>\n",
       "      <td>23.51</td>\n",
       "      <td>99.00</td>\n",
       "      <td>6.00</td>\n",
       "      <td>...</td>\n",
       "      <td>0.00</td>\n",
       "      <td>0.00</td>\n",
       "      <td>0.00</td>\n",
       "      <td>0.00</td>\n",
       "      <td>0.00</td>\n",
       "      <td>0.00</td>\n",
       "      <td>0.00</td>\n",
       "      <td>0.00</td>\n",
       "      <td>0.00</td>\n",
       "      <td>0.0</td>\n",
       "    </tr>\n",
       "    <tr>\n",
       "      <th>3</th>\n",
       "      <td>Knowagoraaa</td>\n",
       "      <td>2022-07-28 22:49:43</td>\n",
       "      <td>Summer</td>\n",
       "      <td>1</td>\n",
       "      <td>39</td>\n",
       "      <td>71.92</td>\n",
       "      <td>60.13</td>\n",
       "      <td>99.00</td>\n",
       "      <td>73.64</td>\n",
       "      <td>13.00</td>\n",
       "      <td>...</td>\n",
       "      <td>0.00</td>\n",
       "      <td>0.00</td>\n",
       "      <td>0.00</td>\n",
       "      <td>0.00</td>\n",
       "      <td>0.00</td>\n",
       "      <td>0.00</td>\n",
       "      <td>0.00</td>\n",
       "      <td>0.00</td>\n",
       "      <td>0.00</td>\n",
       "      <td>0.0</td>\n",
       "    </tr>\n",
       "    <tr>\n",
       "      <th>4</th>\n",
       "      <td>Busy_Background_195</td>\n",
       "      <td>2022-07-28 22:21:57</td>\n",
       "      <td>Summer</td>\n",
       "      <td>1</td>\n",
       "      <td>75</td>\n",
       "      <td>24.37</td>\n",
       "      <td>29.68</td>\n",
       "      <td>14.56</td>\n",
       "      <td>2.41</td>\n",
       "      <td>25.00</td>\n",
       "      <td>...</td>\n",
       "      <td>0.00</td>\n",
       "      <td>0.00</td>\n",
       "      <td>0.00</td>\n",
       "      <td>0.00</td>\n",
       "      <td>2.67</td>\n",
       "      <td>1.33</td>\n",
       "      <td>1.33</td>\n",
       "      <td>1.33</td>\n",
       "      <td>0.00</td>\n",
       "      <td>0.0</td>\n",
       "    </tr>\n",
       "    <tr>\n",
       "      <th>...</th>\n",
       "      <td>...</td>\n",
       "      <td>...</td>\n",
       "      <td>...</td>\n",
       "      <td>...</td>\n",
       "      <td>...</td>\n",
       "      <td>...</td>\n",
       "      <td>...</td>\n",
       "      <td>...</td>\n",
       "      <td>...</td>\n",
       "      <td>...</td>\n",
       "      <td>...</td>\n",
       "      <td>...</td>\n",
       "      <td>...</td>\n",
       "      <td>...</td>\n",
       "      <td>...</td>\n",
       "      <td>...</td>\n",
       "      <td>...</td>\n",
       "      <td>...</td>\n",
       "      <td>...</td>\n",
       "      <td>...</td>\n",
       "      <td>...</td>\n",
       "    </tr>\n",
       "    <tr>\n",
       "      <th>79671</th>\n",
       "      <td>Last_Confidence6221</td>\n",
       "      <td>2019-06-25 00:32:36</td>\n",
       "      <td>Summer</td>\n",
       "      <td>1</td>\n",
       "      <td>5</td>\n",
       "      <td>1.00</td>\n",
       "      <td>99.00</td>\n",
       "      <td>43.37</td>\n",
       "      <td>25.77</td>\n",
       "      <td>5.00</td>\n",
       "      <td>...</td>\n",
       "      <td>0.00</td>\n",
       "      <td>0.00</td>\n",
       "      <td>0.00</td>\n",
       "      <td>0.00</td>\n",
       "      <td>20.00</td>\n",
       "      <td>0.00</td>\n",
       "      <td>0.00</td>\n",
       "      <td>0.00</td>\n",
       "      <td>0.00</td>\n",
       "      <td>0.0</td>\n",
       "    </tr>\n",
       "    <tr>\n",
       "      <th>79672</th>\n",
       "      <td>AutoModerator</td>\n",
       "      <td>2019-06-25 00:32:34</td>\n",
       "      <td>Summer</td>\n",
       "      <td>1</td>\n",
       "      <td>214</td>\n",
       "      <td>61.61</td>\n",
       "      <td>96.91</td>\n",
       "      <td>3.73</td>\n",
       "      <td>69.79</td>\n",
       "      <td>35.67</td>\n",
       "      <td>...</td>\n",
       "      <td>0.00</td>\n",
       "      <td>0.93</td>\n",
       "      <td>0.00</td>\n",
       "      <td>0.00</td>\n",
       "      <td>7.48</td>\n",
       "      <td>0.00</td>\n",
       "      <td>7.48</td>\n",
       "      <td>0.00</td>\n",
       "      <td>0.00</td>\n",
       "      <td>0.0</td>\n",
       "    </tr>\n",
       "    <tr>\n",
       "      <th>79673</th>\n",
       "      <td>abeksR</td>\n",
       "      <td>2019-06-25 00:23:52</td>\n",
       "      <td>Summer</td>\n",
       "      <td>1</td>\n",
       "      <td>7</td>\n",
       "      <td>99.00</td>\n",
       "      <td>50.00</td>\n",
       "      <td>1.00</td>\n",
       "      <td>25.77</td>\n",
       "      <td>7.00</td>\n",
       "      <td>...</td>\n",
       "      <td>0.00</td>\n",
       "      <td>0.00</td>\n",
       "      <td>0.00</td>\n",
       "      <td>0.00</td>\n",
       "      <td>0.00</td>\n",
       "      <td>0.00</td>\n",
       "      <td>0.00</td>\n",
       "      <td>0.00</td>\n",
       "      <td>0.00</td>\n",
       "      <td>0.0</td>\n",
       "    </tr>\n",
       "    <tr>\n",
       "      <th>79674</th>\n",
       "      <td>Classic_Paramedic_86</td>\n",
       "      <td>2019-06-25 00:17:35</td>\n",
       "      <td>Summer</td>\n",
       "      <td>1</td>\n",
       "      <td>731</td>\n",
       "      <td>47.71</td>\n",
       "      <td>58.12</td>\n",
       "      <td>83.37</td>\n",
       "      <td>10.30</td>\n",
       "      <td>21.50</td>\n",
       "      <td>...</td>\n",
       "      <td>0.55</td>\n",
       "      <td>0.14</td>\n",
       "      <td>0.55</td>\n",
       "      <td>0.55</td>\n",
       "      <td>0.55</td>\n",
       "      <td>0.27</td>\n",
       "      <td>0.14</td>\n",
       "      <td>0.00</td>\n",
       "      <td>0.14</td>\n",
       "      <td>0.0</td>\n",
       "    </tr>\n",
       "    <tr>\n",
       "      <th>79675</th>\n",
       "      <td>Chance-Specialist983</td>\n",
       "      <td>2019-06-25 00:13:22</td>\n",
       "      <td>Summer</td>\n",
       "      <td>1</td>\n",
       "      <td>22</td>\n",
       "      <td>69.94</td>\n",
       "      <td>18.16</td>\n",
       "      <td>96.40</td>\n",
       "      <td>94.75</td>\n",
       "      <td>11.00</td>\n",
       "      <td>...</td>\n",
       "      <td>0.00</td>\n",
       "      <td>0.00</td>\n",
       "      <td>0.00</td>\n",
       "      <td>0.00</td>\n",
       "      <td>4.55</td>\n",
       "      <td>0.00</td>\n",
       "      <td>0.00</td>\n",
       "      <td>4.55</td>\n",
       "      <td>0.00</td>\n",
       "      <td>0.0</td>\n",
       "    </tr>\n",
       "  </tbody>\n",
       "</table>\n",
       "<p>79674 rows × 46 columns</p>\n",
       "</div>"
      ],
      "text/plain": [
       "                     author            Datetime  season  score   WC  Analytic  \\\n",
       "0             BoofDontShoot 2022-07-28 23:50:15  Summer      1    5      8.69   \n",
       "1       Busy_Background_195 2022-07-28 23:22:43  Summer      1   55     32.58   \n",
       "2               Wolf_Double 2022-07-28 23:06:11  Summer      1    6      1.00   \n",
       "3               Knowagoraaa 2022-07-28 22:49:43  Summer      1   39     71.92   \n",
       "4       Busy_Background_195 2022-07-28 22:21:57  Summer      1   75     24.37   \n",
       "...                     ...                 ...     ...    ...  ...       ...   \n",
       "79671   Last_Confidence6221 2019-06-25 00:32:36  Summer      1    5      1.00   \n",
       "79672         AutoModerator 2019-06-25 00:32:34  Summer      1  214     61.61   \n",
       "79673                abeksR 2019-06-25 00:23:52  Summer      1    7     99.00   \n",
       "79674  Classic_Paramedic_86 2019-06-25 00:17:35  Summer      1  731     47.71   \n",
       "79675  Chance-Specialist983 2019-06-25 00:13:22  Summer      1   22     69.94   \n",
       "\n",
       "       Clout  Authentic   Tone    WPS  ...  home  money  relig  death  \\\n",
       "0      50.00       1.00  25.77   2.50  ...  0.00   0.00   0.00   0.00   \n",
       "1      13.76      14.10   1.00  13.75  ...  0.00   0.00   0.00   1.82   \n",
       "2      95.20      23.51  99.00   6.00  ...  0.00   0.00   0.00   0.00   \n",
       "3      60.13      99.00  73.64  13.00  ...  0.00   0.00   0.00   0.00   \n",
       "4      29.68      14.56   2.41  25.00  ...  0.00   0.00   0.00   0.00   \n",
       "...      ...        ...    ...    ...  ...   ...    ...    ...    ...   \n",
       "79671  99.00      43.37  25.77   5.00  ...  0.00   0.00   0.00   0.00   \n",
       "79672  96.91       3.73  69.79  35.67  ...  0.00   0.93   0.00   0.00   \n",
       "79673  50.00       1.00  25.77   7.00  ...  0.00   0.00   0.00   0.00   \n",
       "79674  58.12      83.37  10.30  21.50  ...  0.55   0.14   0.55   0.55   \n",
       "79675  18.16      96.40  94.75  11.00  ...  0.00   0.00   0.00   0.00   \n",
       "\n",
       "       informal  swear  netspeak  assent  nonflu  filler  \n",
       "0         20.00   0.00     20.00    0.00    0.00     0.0  \n",
       "1          7.27   3.64      1.82    0.00    0.00     0.0  \n",
       "2          0.00   0.00      0.00    0.00    0.00     0.0  \n",
       "3          0.00   0.00      0.00    0.00    0.00     0.0  \n",
       "4          2.67   1.33      1.33    1.33    0.00     0.0  \n",
       "...         ...    ...       ...     ...     ...     ...  \n",
       "79671     20.00   0.00      0.00    0.00    0.00     0.0  \n",
       "79672      7.48   0.00      7.48    0.00    0.00     0.0  \n",
       "79673      0.00   0.00      0.00    0.00    0.00     0.0  \n",
       "79674      0.55   0.27      0.14    0.00    0.14     0.0  \n",
       "79675      4.55   0.00      0.00    4.55    0.00     0.0  \n",
       "\n",
       "[79674 rows x 46 columns]"
      ]
     },
     "execution_count": 55,
     "metadata": {},
     "output_type": "execute_result"
    }
   ],
   "source": [
    "#Converting created_utc to date time and year columns \n",
    "def extract_datetime(row):\n",
    "    timestamp = row['created_utc']\n",
    "    dt_object = datetime.datetime.fromtimestamp(timestamp)\n",
    "    return dt_object\n",
    "    \n",
    "\n",
    "# Applying the function to each row in the DataFrame and creating a new column\n",
    "df_submissions['Datetime'] = df_submissions.apply(extract_datetime, axis=1)\n",
    "df_comments['Datetime'] = df_submissions.apply(extract_datetime, axis=1)\n",
    "\n",
    "# Dropping the 'created_utc' column\n",
    "df_submissions.drop('created_utc', axis=1, inplace=True)\n",
    "df_comments.drop('created_utc', axis=1, inplace=True)\n",
    "\n",
    "# Inserting the 'Datetime' column\n",
    "datetime_column_submission = df_submissions.pop('Datetime')\n",
    "datetime_column_comment = df_comments.pop('Datetime')\n",
    "\n",
    "df_submissions.insert(2, 'Datetime', datetime_column_submission)\n",
    "df_comments.insert(1, 'Datetime', datetime_column_comment)\n",
    "\n",
    "# Define the bins for the seasons based on days of the year\n",
    "seasons_bins = [0, 80, 172, 264, 355, 366]\n",
    "seasons_labels = ['Winter', 'Spring', 'Summer', 'Fall', 'Winter']\n",
    "\n",
    "#Addind the values to the season column\n",
    "df_submissions['season'] = pd.cut(df_submissions['Datetime'].dt.dayofyear, bins=seasons_bins, labels=seasons_labels, ordered=False)\n",
    "df_comments['season'] = pd.cut(df_comments['Datetime'].dt.dayofyear, bins=seasons_bins, labels=seasons_labels, ordered=False)\n",
    "\n",
    "df_submissions.insert(3, 'season', df_submissions.pop('season'))\n",
    "df_comments.insert(2, 'season', df_comments.pop('season'))\n",
    "\n",
    "df_submissions.dropna()\n",
    "df_comments.dropna()"
   ]
  },
  {
   "cell_type": "code",
   "execution_count": 56,
   "metadata": {},
   "outputs": [
    {
     "data": {
      "text/html": [
       "<div>\n",
       "<style scoped>\n",
       "    .dataframe tbody tr th:only-of-type {\n",
       "        vertical-align: middle;\n",
       "    }\n",
       "\n",
       "    .dataframe tbody tr th {\n",
       "        vertical-align: top;\n",
       "    }\n",
       "\n",
       "    .dataframe thead th {\n",
       "        text-align: right;\n",
       "    }\n",
       "</style>\n",
       "<table border=\"1\" class=\"dataframe\">\n",
       "  <thead>\n",
       "    <tr style=\"text-align: right;\">\n",
       "      <th></th>\n",
       "      <th>author</th>\n",
       "      <th>Datetime</th>\n",
       "      <th>season</th>\n",
       "      <th>score</th>\n",
       "      <th>WC</th>\n",
       "      <th>Analytic</th>\n",
       "      <th>Clout</th>\n",
       "      <th>Authentic</th>\n",
       "      <th>Tone</th>\n",
       "      <th>WPS</th>\n",
       "      <th>...</th>\n",
       "      <th>home</th>\n",
       "      <th>money</th>\n",
       "      <th>relig</th>\n",
       "      <th>death</th>\n",
       "      <th>informal</th>\n",
       "      <th>swear</th>\n",
       "      <th>netspeak</th>\n",
       "      <th>assent</th>\n",
       "      <th>nonflu</th>\n",
       "      <th>filler</th>\n",
       "    </tr>\n",
       "  </thead>\n",
       "  <tbody>\n",
       "    <tr>\n",
       "      <th>0</th>\n",
       "      <td>BoofDontShoot</td>\n",
       "      <td>2022-07-28 23:50:15</td>\n",
       "      <td>Summer</td>\n",
       "      <td>1</td>\n",
       "      <td>5</td>\n",
       "      <td>8.69</td>\n",
       "      <td>50.00</td>\n",
       "      <td>1.00</td>\n",
       "      <td>25.77</td>\n",
       "      <td>2.50</td>\n",
       "      <td>...</td>\n",
       "      <td>0.0</td>\n",
       "      <td>0.00</td>\n",
       "      <td>0.00</td>\n",
       "      <td>0.00</td>\n",
       "      <td>20.00</td>\n",
       "      <td>0.00</td>\n",
       "      <td>20.00</td>\n",
       "      <td>0.00</td>\n",
       "      <td>0.0</td>\n",
       "      <td>0.0</td>\n",
       "    </tr>\n",
       "    <tr>\n",
       "      <th>1</th>\n",
       "      <td>Busy_Background_195</td>\n",
       "      <td>2022-07-28 23:22:43</td>\n",
       "      <td>Summer</td>\n",
       "      <td>1</td>\n",
       "      <td>55</td>\n",
       "      <td>32.58</td>\n",
       "      <td>13.76</td>\n",
       "      <td>14.10</td>\n",
       "      <td>1.00</td>\n",
       "      <td>13.75</td>\n",
       "      <td>...</td>\n",
       "      <td>0.0</td>\n",
       "      <td>0.00</td>\n",
       "      <td>0.00</td>\n",
       "      <td>1.82</td>\n",
       "      <td>7.27</td>\n",
       "      <td>3.64</td>\n",
       "      <td>1.82</td>\n",
       "      <td>0.00</td>\n",
       "      <td>0.0</td>\n",
       "      <td>0.0</td>\n",
       "    </tr>\n",
       "    <tr>\n",
       "      <th>2</th>\n",
       "      <td>Wolf_Double</td>\n",
       "      <td>2022-07-28 23:06:11</td>\n",
       "      <td>Summer</td>\n",
       "      <td>1</td>\n",
       "      <td>6</td>\n",
       "      <td>1.00</td>\n",
       "      <td>95.20</td>\n",
       "      <td>23.51</td>\n",
       "      <td>99.00</td>\n",
       "      <td>6.00</td>\n",
       "      <td>...</td>\n",
       "      <td>0.0</td>\n",
       "      <td>0.00</td>\n",
       "      <td>0.00</td>\n",
       "      <td>0.00</td>\n",
       "      <td>0.00</td>\n",
       "      <td>0.00</td>\n",
       "      <td>0.00</td>\n",
       "      <td>0.00</td>\n",
       "      <td>0.0</td>\n",
       "      <td>0.0</td>\n",
       "    </tr>\n",
       "    <tr>\n",
       "      <th>3</th>\n",
       "      <td>Knowagoraaa</td>\n",
       "      <td>2022-07-28 22:49:43</td>\n",
       "      <td>Summer</td>\n",
       "      <td>1</td>\n",
       "      <td>39</td>\n",
       "      <td>71.92</td>\n",
       "      <td>60.13</td>\n",
       "      <td>99.00</td>\n",
       "      <td>73.64</td>\n",
       "      <td>13.00</td>\n",
       "      <td>...</td>\n",
       "      <td>0.0</td>\n",
       "      <td>0.00</td>\n",
       "      <td>0.00</td>\n",
       "      <td>0.00</td>\n",
       "      <td>0.00</td>\n",
       "      <td>0.00</td>\n",
       "      <td>0.00</td>\n",
       "      <td>0.00</td>\n",
       "      <td>0.0</td>\n",
       "      <td>0.0</td>\n",
       "    </tr>\n",
       "    <tr>\n",
       "      <th>4</th>\n",
       "      <td>Busy_Background_195</td>\n",
       "      <td>2022-07-28 22:21:57</td>\n",
       "      <td>Summer</td>\n",
       "      <td>1</td>\n",
       "      <td>75</td>\n",
       "      <td>24.37</td>\n",
       "      <td>29.68</td>\n",
       "      <td>14.56</td>\n",
       "      <td>2.41</td>\n",
       "      <td>25.00</td>\n",
       "      <td>...</td>\n",
       "      <td>0.0</td>\n",
       "      <td>0.00</td>\n",
       "      <td>0.00</td>\n",
       "      <td>0.00</td>\n",
       "      <td>2.67</td>\n",
       "      <td>1.33</td>\n",
       "      <td>1.33</td>\n",
       "      <td>1.33</td>\n",
       "      <td>0.0</td>\n",
       "      <td>0.0</td>\n",
       "    </tr>\n",
       "    <tr>\n",
       "      <th>...</th>\n",
       "      <td>...</td>\n",
       "      <td>...</td>\n",
       "      <td>...</td>\n",
       "      <td>...</td>\n",
       "      <td>...</td>\n",
       "      <td>...</td>\n",
       "      <td>...</td>\n",
       "      <td>...</td>\n",
       "      <td>...</td>\n",
       "      <td>...</td>\n",
       "      <td>...</td>\n",
       "      <td>...</td>\n",
       "      <td>...</td>\n",
       "      <td>...</td>\n",
       "      <td>...</td>\n",
       "      <td>...</td>\n",
       "      <td>...</td>\n",
       "      <td>...</td>\n",
       "      <td>...</td>\n",
       "      <td>...</td>\n",
       "      <td>...</td>\n",
       "    </tr>\n",
       "    <tr>\n",
       "      <th>1014392</th>\n",
       "      <td>Virgowitch</td>\n",
       "      <td>NaT</td>\n",
       "      <td>NaN</td>\n",
       "      <td>2</td>\n",
       "      <td>5</td>\n",
       "      <td>1.00</td>\n",
       "      <td>50.00</td>\n",
       "      <td>43.37</td>\n",
       "      <td>99.00</td>\n",
       "      <td>5.00</td>\n",
       "      <td>...</td>\n",
       "      <td>0.0</td>\n",
       "      <td>0.00</td>\n",
       "      <td>0.00</td>\n",
       "      <td>0.00</td>\n",
       "      <td>0.00</td>\n",
       "      <td>0.00</td>\n",
       "      <td>0.00</td>\n",
       "      <td>0.00</td>\n",
       "      <td>0.0</td>\n",
       "      <td>0.0</td>\n",
       "    </tr>\n",
       "    <tr>\n",
       "      <th>1014393</th>\n",
       "      <td>DrewSkii1010</td>\n",
       "      <td>NaT</td>\n",
       "      <td>NaN</td>\n",
       "      <td>1</td>\n",
       "      <td>9</td>\n",
       "      <td>99.00</td>\n",
       "      <td>13.32</td>\n",
       "      <td>58.07</td>\n",
       "      <td>99.00</td>\n",
       "      <td>9.00</td>\n",
       "      <td>...</td>\n",
       "      <td>0.0</td>\n",
       "      <td>11.11</td>\n",
       "      <td>0.00</td>\n",
       "      <td>0.00</td>\n",
       "      <td>11.11</td>\n",
       "      <td>0.00</td>\n",
       "      <td>11.11</td>\n",
       "      <td>0.00</td>\n",
       "      <td>0.0</td>\n",
       "      <td>0.0</td>\n",
       "    </tr>\n",
       "    <tr>\n",
       "      <th>1014394</th>\n",
       "      <td>erischilde</td>\n",
       "      <td>NaT</td>\n",
       "      <td>NaN</td>\n",
       "      <td>1</td>\n",
       "      <td>104</td>\n",
       "      <td>7.27</td>\n",
       "      <td>89.42</td>\n",
       "      <td>63.54</td>\n",
       "      <td>43.27</td>\n",
       "      <td>10.40</td>\n",
       "      <td>...</td>\n",
       "      <td>0.0</td>\n",
       "      <td>0.00</td>\n",
       "      <td>0.00</td>\n",
       "      <td>0.00</td>\n",
       "      <td>2.88</td>\n",
       "      <td>1.92</td>\n",
       "      <td>0.00</td>\n",
       "      <td>0.00</td>\n",
       "      <td>0.0</td>\n",
       "      <td>0.0</td>\n",
       "    </tr>\n",
       "    <tr>\n",
       "      <th>1014395</th>\n",
       "      <td>dingobaybees</td>\n",
       "      <td>NaT</td>\n",
       "      <td>NaN</td>\n",
       "      <td>3</td>\n",
       "      <td>44</td>\n",
       "      <td>4.01</td>\n",
       "      <td>91.35</td>\n",
       "      <td>85.21</td>\n",
       "      <td>25.77</td>\n",
       "      <td>11.00</td>\n",
       "      <td>...</td>\n",
       "      <td>0.0</td>\n",
       "      <td>0.00</td>\n",
       "      <td>0.00</td>\n",
       "      <td>0.00</td>\n",
       "      <td>0.00</td>\n",
       "      <td>0.00</td>\n",
       "      <td>0.00</td>\n",
       "      <td>0.00</td>\n",
       "      <td>0.0</td>\n",
       "      <td>0.0</td>\n",
       "    </tr>\n",
       "    <tr>\n",
       "      <th>1014396</th>\n",
       "      <td>wonderwoman2381</td>\n",
       "      <td>NaT</td>\n",
       "      <td>NaN</td>\n",
       "      <td>2</td>\n",
       "      <td>69</td>\n",
       "      <td>83.62</td>\n",
       "      <td>87.68</td>\n",
       "      <td>86.20</td>\n",
       "      <td>1.00</td>\n",
       "      <td>13.80</td>\n",
       "      <td>...</td>\n",
       "      <td>0.0</td>\n",
       "      <td>2.90</td>\n",
       "      <td>1.45</td>\n",
       "      <td>0.00</td>\n",
       "      <td>2.90</td>\n",
       "      <td>2.90</td>\n",
       "      <td>0.00</td>\n",
       "      <td>0.00</td>\n",
       "      <td>0.0</td>\n",
       "      <td>0.0</td>\n",
       "    </tr>\n",
       "  </tbody>\n",
       "</table>\n",
       "<p>1014397 rows × 46 columns</p>\n",
       "</div>"
      ],
      "text/plain": [
       "                      author            Datetime  season  score   WC  \\\n",
       "0              BoofDontShoot 2022-07-28 23:50:15  Summer      1    5   \n",
       "1        Busy_Background_195 2022-07-28 23:22:43  Summer      1   55   \n",
       "2                Wolf_Double 2022-07-28 23:06:11  Summer      1    6   \n",
       "3                Knowagoraaa 2022-07-28 22:49:43  Summer      1   39   \n",
       "4        Busy_Background_195 2022-07-28 22:21:57  Summer      1   75   \n",
       "...                      ...                 ...     ...    ...  ...   \n",
       "1014392           Virgowitch                 NaT     NaN      2    5   \n",
       "1014393         DrewSkii1010                 NaT     NaN      1    9   \n",
       "1014394           erischilde                 NaT     NaN      1  104   \n",
       "1014395         dingobaybees                 NaT     NaN      3   44   \n",
       "1014396      wonderwoman2381                 NaT     NaN      2   69   \n",
       "\n",
       "         Analytic  Clout  Authentic   Tone    WPS  ...  home  money  relig  \\\n",
       "0            8.69  50.00       1.00  25.77   2.50  ...   0.0   0.00   0.00   \n",
       "1           32.58  13.76      14.10   1.00  13.75  ...   0.0   0.00   0.00   \n",
       "2            1.00  95.20      23.51  99.00   6.00  ...   0.0   0.00   0.00   \n",
       "3           71.92  60.13      99.00  73.64  13.00  ...   0.0   0.00   0.00   \n",
       "4           24.37  29.68      14.56   2.41  25.00  ...   0.0   0.00   0.00   \n",
       "...           ...    ...        ...    ...    ...  ...   ...    ...    ...   \n",
       "1014392      1.00  50.00      43.37  99.00   5.00  ...   0.0   0.00   0.00   \n",
       "1014393     99.00  13.32      58.07  99.00   9.00  ...   0.0  11.11   0.00   \n",
       "1014394      7.27  89.42      63.54  43.27  10.40  ...   0.0   0.00   0.00   \n",
       "1014395      4.01  91.35      85.21  25.77  11.00  ...   0.0   0.00   0.00   \n",
       "1014396     83.62  87.68      86.20   1.00  13.80  ...   0.0   2.90   1.45   \n",
       "\n",
       "         death  informal  swear  netspeak  assent  nonflu  filler  \n",
       "0         0.00     20.00   0.00     20.00    0.00     0.0     0.0  \n",
       "1         1.82      7.27   3.64      1.82    0.00     0.0     0.0  \n",
       "2         0.00      0.00   0.00      0.00    0.00     0.0     0.0  \n",
       "3         0.00      0.00   0.00      0.00    0.00     0.0     0.0  \n",
       "4         0.00      2.67   1.33      1.33    1.33     0.0     0.0  \n",
       "...        ...       ...    ...       ...     ...     ...     ...  \n",
       "1014392   0.00      0.00   0.00      0.00    0.00     0.0     0.0  \n",
       "1014393   0.00     11.11   0.00     11.11    0.00     0.0     0.0  \n",
       "1014394   0.00      2.88   1.92      0.00    0.00     0.0     0.0  \n",
       "1014395   0.00      0.00   0.00      0.00    0.00     0.0     0.0  \n",
       "1014396   0.00      2.90   2.90      0.00    0.00     0.0     0.0  \n",
       "\n",
       "[1014397 rows x 46 columns]"
      ]
     },
     "execution_count": 56,
     "metadata": {},
     "output_type": "execute_result"
    }
   ],
   "source": [
    "df_comments"
   ]
  },
  {
   "cell_type": "code",
   "execution_count": 57,
   "metadata": {},
   "outputs": [
    {
     "data": {
      "text/html": [
       "<div>\n",
       "<style scoped>\n",
       "    .dataframe tbody tr th:only-of-type {\n",
       "        vertical-align: middle;\n",
       "    }\n",
       "\n",
       "    .dataframe tbody tr th {\n",
       "        vertical-align: top;\n",
       "    }\n",
       "\n",
       "    .dataframe thead th {\n",
       "        text-align: right;\n",
       "    }\n",
       "</style>\n",
       "<table border=\"1\" class=\"dataframe\">\n",
       "  <thead>\n",
       "    <tr style=\"text-align: right;\">\n",
       "      <th></th>\n",
       "      <th>author</th>\n",
       "      <th>title</th>\n",
       "      <th>Datetime</th>\n",
       "      <th>season</th>\n",
       "      <th>score</th>\n",
       "      <th>WC</th>\n",
       "      <th>Analytic</th>\n",
       "      <th>Clout</th>\n",
       "      <th>Authentic</th>\n",
       "      <th>Tone</th>\n",
       "      <th>...</th>\n",
       "      <th>sad</th>\n",
       "      <th>percept</th>\n",
       "      <th>feel</th>\n",
       "      <th>cogproc</th>\n",
       "      <th>focuspast</th>\n",
       "      <th>focuspresent</th>\n",
       "      <th>focusfuture</th>\n",
       "      <th>work</th>\n",
       "      <th>informal</th>\n",
       "      <th>QMark</th>\n",
       "    </tr>\n",
       "  </thead>\n",
       "  <tbody>\n",
       "    <tr>\n",
       "      <th>0</th>\n",
       "      <td>Odd-Pizza-1079</td>\n",
       "      <td>How much tylenol is too much? Asking for a fri...</td>\n",
       "      <td>2022-07-28 23:50:15</td>\n",
       "      <td>Summer</td>\n",
       "      <td>1</td>\n",
       "      <td>12.0</td>\n",
       "      <td>18.82</td>\n",
       "      <td>79.76</td>\n",
       "      <td>1.79</td>\n",
       "      <td>25.77</td>\n",
       "      <td>...</td>\n",
       "      <td>0.0</td>\n",
       "      <td>0.0</td>\n",
       "      <td>0.0</td>\n",
       "      <td>16.67</td>\n",
       "      <td>0.0</td>\n",
       "      <td>16.67</td>\n",
       "      <td>0.0</td>\n",
       "      <td>0.00</td>\n",
       "      <td>0.0</td>\n",
       "      <td>8.33</td>\n",
       "    </tr>\n",
       "    <tr>\n",
       "      <th>1</th>\n",
       "      <td>Global_Face_4708</td>\n",
       "      <td>Gabapentin/Lyrica/Clonidine Through Telehealth?</td>\n",
       "      <td>2022-07-28 23:22:43</td>\n",
       "      <td>Summer</td>\n",
       "      <td>1</td>\n",
       "      <td>5.0</td>\n",
       "      <td>99.00</td>\n",
       "      <td>50.00</td>\n",
       "      <td>1.00</td>\n",
       "      <td>25.77</td>\n",
       "      <td>...</td>\n",
       "      <td>0.0</td>\n",
       "      <td>0.0</td>\n",
       "      <td>0.0</td>\n",
       "      <td>0.00</td>\n",
       "      <td>0.0</td>\n",
       "      <td>0.00</td>\n",
       "      <td>0.0</td>\n",
       "      <td>0.00</td>\n",
       "      <td>0.0</td>\n",
       "      <td>20.00</td>\n",
       "    </tr>\n",
       "    <tr>\n",
       "      <th>2</th>\n",
       "      <td>Bluebeamtwinfn</td>\n",
       "      <td>Opiates prolonging finish/enhancing sex</td>\n",
       "      <td>2022-07-28 23:06:11</td>\n",
       "      <td>Summer</td>\n",
       "      <td>1</td>\n",
       "      <td>5.0</td>\n",
       "      <td>93.26</td>\n",
       "      <td>50.00</td>\n",
       "      <td>43.37</td>\n",
       "      <td>25.77</td>\n",
       "      <td>...</td>\n",
       "      <td>0.0</td>\n",
       "      <td>0.0</td>\n",
       "      <td>0.0</td>\n",
       "      <td>0.00</td>\n",
       "      <td>0.0</td>\n",
       "      <td>0.00</td>\n",
       "      <td>0.0</td>\n",
       "      <td>0.00</td>\n",
       "      <td>0.0</td>\n",
       "      <td>0.00</td>\n",
       "    </tr>\n",
       "    <tr>\n",
       "      <th>3</th>\n",
       "      <td>iLoveLuckiii</td>\n",
       "      <td>Boost your oxy high! &amp;amp; Save money! (USE ON...</td>\n",
       "      <td>2022-07-28 22:49:43</td>\n",
       "      <td>Summer</td>\n",
       "      <td>1</td>\n",
       "      <td>13.0</td>\n",
       "      <td>82.82</td>\n",
       "      <td>93.79</td>\n",
       "      <td>94.81</td>\n",
       "      <td>99.00</td>\n",
       "      <td>...</td>\n",
       "      <td>0.0</td>\n",
       "      <td>0.0</td>\n",
       "      <td>0.0</td>\n",
       "      <td>7.69</td>\n",
       "      <td>0.0</td>\n",
       "      <td>15.38</td>\n",
       "      <td>0.0</td>\n",
       "      <td>0.00</td>\n",
       "      <td>0.0</td>\n",
       "      <td>0.00</td>\n",
       "    </tr>\n",
       "    <tr>\n",
       "      <th>4</th>\n",
       "      <td>Downtown_Syrup4635</td>\n",
       "      <td>IOP Detox while working 9-5??</td>\n",
       "      <td>2022-07-28 22:21:57</td>\n",
       "      <td>Summer</td>\n",
       "      <td>1</td>\n",
       "      <td>6.0</td>\n",
       "      <td>62.04</td>\n",
       "      <td>50.00</td>\n",
       "      <td>23.51</td>\n",
       "      <td>25.77</td>\n",
       "      <td>...</td>\n",
       "      <td>0.0</td>\n",
       "      <td>0.0</td>\n",
       "      <td>0.0</td>\n",
       "      <td>0.00</td>\n",
       "      <td>0.0</td>\n",
       "      <td>0.00</td>\n",
       "      <td>0.0</td>\n",
       "      <td>16.67</td>\n",
       "      <td>0.0</td>\n",
       "      <td>33.33</td>\n",
       "    </tr>\n",
       "  </tbody>\n",
       "</table>\n",
       "<p>5 rows × 31 columns</p>\n",
       "</div>"
      ],
      "text/plain": [
       "               author                                              title  \\\n",
       "0      Odd-Pizza-1079  How much tylenol is too much? Asking for a fri...   \n",
       "1    Global_Face_4708    Gabapentin/Lyrica/Clonidine Through Telehealth?   \n",
       "2      Bluebeamtwinfn            Opiates prolonging finish/enhancing sex   \n",
       "3        iLoveLuckiii  Boost your oxy high! &amp; Save money! (USE ON...   \n",
       "4  Downtown_Syrup4635                      IOP Detox while working 9-5??   \n",
       "\n",
       "             Datetime  season score    WC  Analytic  Clout  Authentic   Tone  \\\n",
       "0 2022-07-28 23:50:15  Summer     1  12.0     18.82  79.76       1.79  25.77   \n",
       "1 2022-07-28 23:22:43  Summer     1   5.0     99.00  50.00       1.00  25.77   \n",
       "2 2022-07-28 23:06:11  Summer     1   5.0     93.26  50.00      43.37  25.77   \n",
       "3 2022-07-28 22:49:43  Summer     1  13.0     82.82  93.79      94.81  99.00   \n",
       "4 2022-07-28 22:21:57  Summer     1   6.0     62.04  50.00      23.51  25.77   \n",
       "\n",
       "   ...  sad  percept  feel  cogproc  focuspast  focuspresent  focusfuture  \\\n",
       "0  ...  0.0      0.0   0.0    16.67        0.0         16.67          0.0   \n",
       "1  ...  0.0      0.0   0.0     0.00        0.0          0.00          0.0   \n",
       "2  ...  0.0      0.0   0.0     0.00        0.0          0.00          0.0   \n",
       "3  ...  0.0      0.0   0.0     7.69        0.0         15.38          0.0   \n",
       "4  ...  0.0      0.0   0.0     0.00        0.0          0.00          0.0   \n",
       "\n",
       "    work  informal  QMark  \n",
       "0   0.00       0.0   8.33  \n",
       "1   0.00       0.0  20.00  \n",
       "2   0.00       0.0   0.00  \n",
       "3   0.00       0.0   0.00  \n",
       "4  16.67       0.0  33.33  \n",
       "\n",
       "[5 rows x 31 columns]"
      ]
     },
     "execution_count": 57,
     "metadata": {},
     "output_type": "execute_result"
    }
   ],
   "source": [
    "df_submissions.head()"
   ]
  },
  {
   "cell_type": "code",
   "execution_count": 58,
   "metadata": {},
   "outputs": [
    {
     "name": "stderr",
     "output_type": "stream",
     "text": [
      "[nltk_data] Downloading package stopwords to\n",
      "[nltk_data]     /Users/amadouyehara/nltk_data...\n",
      "[nltk_data]   Package stopwords is already up-to-date!\n"
     ]
    },
    {
     "data": {
      "text/plain": [
       "0    much tylenol much asking friend actually\n",
       "1        gabapentinlyricaclonidine telehealth\n",
       "2      opiates prolonging finishenhancing sex\n",
       "3           boost oxy high amp save money use\n",
       "4                        iop detox working 95\n",
       "Name: title, dtype: object"
      ]
     },
     "execution_count": 58,
     "metadata": {},
     "output_type": "execute_result"
    }
   ],
   "source": [
    "#Natural Language Processing for Title columns \n",
    "\n",
    "nltk.download('stopwords')\n",
    "swords = stopwords.words('english')\n",
    "#Removing the word 'not' to avoid consfusion from negative to positive sentiment\n",
    "swords.remove('not')\n",
    "\n",
    "df_submissions['title'] = df_submissions['title'].apply(lambda x: re.sub(r'[^a-zA-Z\\d\\s.]', '', x.lower()))\n",
    "df_submissions['title'] = df_submissions['title'].apply(lambda x: x.replace('.', ' '))\n",
    "df_submissions['title'] = df_submissions['title'].apply(lambda x: ' '.join([t for t in x.split(' ') if (t not in swords) and len(t) > 1]))\n",
    "df_submissions['title'].head()"
   ]
  },
  {
   "cell_type": "code",
   "execution_count": 59,
   "metadata": {},
   "outputs": [
    {
     "name": "stderr",
     "output_type": "stream",
     "text": [
      "huggingface/tokenizers: The current process just got forked, after parallelism has already been used. Disabling parallelism to avoid deadlocks...\n",
      "To disable this warning, you can either:\n",
      "\t- Avoid using `tokenizers` before the fork if possible\n",
      "\t- Explicitly set the environment variable TOKENIZERS_PARALLELISM=(true | false)\n",
      "huggingface/tokenizers: The current process just got forked, after parallelism has already been used. Disabling parallelism to avoid deadlocks...\n",
      "To disable this warning, you can either:\n",
      "\t- Avoid using `tokenizers` before the fork if possible\n",
      "\t- Explicitly set the environment variable TOKENIZERS_PARALLELISM=(true | false)\n",
      "huggingface/tokenizers: The current process just got forked, after parallelism has already been used. Disabling parallelism to avoid deadlocks...\n",
      "To disable this warning, you can either:\n",
      "\t- Avoid using `tokenizers` before the fork if possible\n",
      "\t- Explicitly set the environment variable TOKENIZERS_PARALLELISM=(true | false)\n",
      "huggingface/tokenizers: The current process just got forked, after parallelism has already been used. Disabling parallelism to avoid deadlocks...\n",
      "To disable this warning, you can either:\n",
      "\t- Avoid using `tokenizers` before the fork if possible\n",
      "\t- Explicitly set the environment variable TOKENIZERS_PARALLELISM=(true | false)\n"
     ]
    },
    {
     "name": "stdout",
     "output_type": "stream",
     "text": [
      "      Topic  Count                                        Name  \\\n",
      "0        -1  25090                   -1_took_opiates_take_feel   \n",
      "1         0    422                 0_suboxone_wait_suboxon_8mg   \n",
      "2         1    393         1_addiction_addict_addicted_addicts   \n",
      "3         2    345            2_detox_detoxing_home_detoxrehab   \n",
      "4         3    317               3_opioids_opioid_opiods_opiod   \n",
      "...     ...    ...                                         ...   \n",
      "1425   1424     10  1424_dihydrocodeine_1215_recreation_medium   \n",
      "1426   1425     10                   1425_3day_finessed_7th_wd   \n",
      "1427   1426     10       1426_precipitated_freaked_noon_sister   \n",
      "1428   1427     10           1427_norco_knee_promethazine_tram   \n",
      "1429   1428     10           1428_supeudol_oblong_asprin_folks   \n",
      "\n",
      "                                         Representation  \\\n",
      "0     [took, opiates, take, feel, fentanyl, heroin, ...   \n",
      "1     [suboxone, wait, suboxon, 8mg, blocking, 8mg2m...   \n",
      "2     [addiction, addict, addicted, addicts, functio...   \n",
      "3     [detox, detoxing, home, detoxrehab, detoxed, p...   \n",
      "4     [opioids, opioid, opiods, opiod, withdralws, l...   \n",
      "...                                                 ...   \n",
      "1425  [dihydrocodeine, 1215, recreation, medium, str...   \n",
      "1426  [3day, finessed, 7th, wd, todays, leave, house...   \n",
      "1427  [precipitated, freaked, noon, sister, asap, la...   \n",
      "1428  [norco, knee, promethazine, tram, soma, opinio...   \n",
      "1429  [supeudol, oblong, asprin, folks, canadian, si...   \n",
      "\n",
      "                                    Representative_Docs  \n",
      "0     [question get script subs ive addict years wan...  \n",
      "1         [suboxone help, suboxone help, help suboxone]  \n",
      "2                     [addiction, addiction, addiction]  \n",
      "3                                 [detox, detox, detox]  \n",
      "4                           [opioids, opioids, opioids]  \n",
      "...                                                 ...  \n",
      "1425  [whats better dihydrocodeine morphine extended...  \n",
      "1426  [7th day wd, day vs 3day wd, todays pick fines...  \n",
      "1427  [help precipitated withdrawal, precipitated wi...  \n",
      "1428  [norco tramadol safe, norco tramadol, norco tr...  \n",
      "1429                [supeudol high, supeudol, supeudol]  \n",
      "\n",
      "[1430 rows x 5 columns]\n"
     ]
    }
   ],
   "source": [
    "docs = df_submissions['title'].tolist()\n",
    "\n",
    "topic_model = BERTopic()\n",
    "topics, probs = topic_model.fit_transform(docs)\n",
    "\n",
    "print(topic_model.get_topic_info())"
   ]
  },
  {
   "cell_type": "code",
   "execution_count": 60,
   "metadata": {},
   "outputs": [
    {
     "data": {
      "application/vnd.plotly.v1+json": {
       "config": {
        "plotlyServerURL": "https://plot.ly"
       },
       "data": [
        {
         "marker": {
          "color": "#D55E00"
         },
         "orientation": "h",
         "type": "bar",
         "x": [
          0.003543293498131679,
          0.0039904890770670835,
          0.004069573292546049,
          0.004069573292546049,
          0.00428406891965664,
          0.004333929227332944,
          0.004615770560536579,
          0.004770137089486427,
          0.007663175430576453,
          0.019706318929388893
         ],
         "xaxis": "x",
         "y": [
          "16mg  ",
          "long  ",
          "binger  ",
          "tucked  ",
          "8mg2mg  ",
          "blocking  ",
          "8mg  ",
          "suboxon  ",
          "wait  ",
          "suboxone  "
         ],
         "yaxis": "y"
        },
        {
         "marker": {
          "color": "#0072B2"
         },
         "orientation": "h",
         "type": "bar",
         "x": [
          0.0062332668844580965,
          0.006853432284243716,
          0.008128751081579335,
          0.008627302021644512,
          0.008987226672899086,
          0.009497247032631261,
          0.02013668689709824,
          0.022062049058946206,
          0.02839755579733072,
          0.031973639091338525
         ],
         "xaxis": "x2",
         "y": [
          "overcome  ",
          "mental  ",
          "addictions  ",
          "poly  ",
          "psychological  ",
          "functional  ",
          "addicts  ",
          "addicted  ",
          "addict  ",
          "addiction  "
         ],
         "yaxis": "y2"
        },
        {
         "marker": {
          "color": "#CC79A7"
         },
         "orientation": "h",
         "type": "bar",
         "x": [
          0.006922085799427352,
          0.007096238029340799,
          0.007352779819048606,
          0.007567815144510251,
          0.0076836663382484766,
          0.008246489199372079,
          0.011219548605305121,
          0.011355786201028084,
          0.03453201996174494,
          0.07458269269807806
         ],
         "xaxis": "x3",
         "y": [
          "assisted  ",
          "accelerated  ",
          "comfort  ",
          "detoxwithdrawal  ",
          "plan  ",
          "detoxed  ",
          "detoxrehab  ",
          "home  ",
          "detoxing  ",
          "detox  "
         ],
         "yaxis": "y3"
        },
        {
         "marker": {
          "color": "#E69F00"
         },
         "orientation": "h",
         "type": "bar",
         "x": [
          0.005273324437750993,
          0.00553463632359151,
          0.005623760699249706,
          0.005717843241283568,
          0.005928704324049433,
          0.00611941384742282,
          0.006734901533100068,
          0.007719986723885798,
          0.02076215832394743,
          0.03679479151323697
         ],
         "xaxis": "x4",
         "y": [
          "copper  ",
          "field  ",
          "monologues  ",
          "potentiators  ",
          "lesser  ",
          "withdralws  ",
          "opiod  ",
          "opiods  ",
          "opioid  ",
          "opioids  "
         ],
         "yaxis": "y4"
        },
        {
         "marker": {
          "color": "#56B4E9"
         },
         "orientation": "h",
         "type": "bar",
         "x": [
          0.004954474281774533,
          0.004960364448035889,
          0.004960364448035889,
          0.006082441942546224,
          0.006606927249834641,
          0.008110993523429989,
          0.008698353634221579,
          0.012193543082841212,
          0.03550199533592203,
          0.06601598040095592
         ],
         "xaxis": "x5",
         "y": [
          "journey  ",
          "soberish  ",
          "sobers  ",
          "49  ",
          "months  ",
          "drunk  ",
          "staying  ",
          "living  ",
          "sobriety  ",
          "sober  "
         ],
         "yaxis": "y5"
        },
        {
         "marker": {
          "color": "#009E73"
         },
         "orientation": "h",
         "type": "bar",
         "x": [
          0.004784543903719259,
          0.004907104026625016,
          0.004985499950915498,
          0.005055076969057834,
          0.005055076969057834,
          0.005533504551553392,
          0.007202967533033246,
          0.007202967533033246,
          0.020513073944993368,
          0.03556724173105343
         ],
         "xaxis": "x6",
         "y": [
          "back  ",
          "82  ",
          "onto  ",
          "steady  ",
          "inducing  ",
          "24  ",
          "subscribers  ",
          "subsbupe  ",
          "sub  ",
          "subs  "
         ],
         "yaxis": "y6"
        },
        {
         "marker": {
          "color": "#F0E442"
         },
         "orientation": "h",
         "type": "bar",
         "x": [
          0.05557518870792235,
          0.067984173017259,
          0.08782062478180987,
          0.12066948390823651,
          0.13416670293172908,
          0.15203761781919778,
          0.2097572015856681,
          0.21637336837759438,
          0.30636272203694626,
          0.3187497085275998
         ],
         "xaxis": "x7",
         "y": [
          "sh  ",
          "xx  ",
          "weve  ",
          "18  ",
          "survey  ",
          "lucky  ",
          "anonymous  ",
          "draw  ",
          "incentive  ",
          "aususa  "
         ],
         "yaxis": "y7"
        },
        {
         "marker": {
          "color": "#D55E00"
         },
         "orientation": "h",
         "type": "bar",
         "x": [
          0.00048098852774729997,
          0.000999219742494708,
          0.003421046781406783,
          0.006032646982500466,
          0.006176115800913054,
          0.007339873900625941,
          0.008458942728541327,
          0.01238076139184838,
          0.02847009667142689,
          0.06343020774091793
         ],
         "xaxis": "x8",
         "y": [
          "long  ",
          "cant  ",
          "hell  ",
          "couldnt  ",
          "yes  ",
          "late  ",
          "smh  ",
          "lol  ",
          "helppp  ",
          "help  "
         ],
         "yaxis": "y8"
        },
        {
         "marker": {
          "color": "#0072B2"
         },
         "orientation": "h",
         "type": "bar",
         "x": [
          0.004238388092473292,
          0.004391295171617422,
          0.00531213687849146,
          0.005471903239207848,
          0.005709834604827844,
          0.006508667107482866,
          0.006729995848266761,
          0.008419054169273861,
          0.022967973285149264,
          0.062344631482938104
         ],
         "xaxis": "x9",
         "y": [
          "popped  ",
          "cod  ",
          "boost  ",
          "tongue  ",
          "percosets  ",
          "5325  ",
          "5mg  ",
          "10325  ",
          "percocets  ",
          "percocet  "
         ],
         "yaxis": "y9"
        }
       ],
       "layout": {
        "annotations": [
         {
          "font": {
           "size": 16
          },
          "showarrow": false,
          "text": "Topic 0",
          "x": 0.0875,
          "xanchor": "center",
          "xref": "paper",
          "y": 1,
          "yanchor": "bottom",
          "yref": "paper"
         },
         {
          "font": {
           "size": 16
          },
          "showarrow": false,
          "text": "Topic 1",
          "x": 0.36250000000000004,
          "xanchor": "center",
          "xref": "paper",
          "y": 1,
          "yanchor": "bottom",
          "yref": "paper"
         },
         {
          "font": {
           "size": 16
          },
          "showarrow": false,
          "text": "Topic 2",
          "x": 0.6375000000000001,
          "xanchor": "center",
          "xref": "paper",
          "y": 1,
          "yanchor": "bottom",
          "yref": "paper"
         },
         {
          "font": {
           "size": 16
          },
          "showarrow": false,
          "text": "Topic 3",
          "x": 0.9125,
          "xanchor": "center",
          "xref": "paper",
          "y": 1,
          "yanchor": "bottom",
          "yref": "paper"
         },
         {
          "font": {
           "size": 16
          },
          "showarrow": false,
          "text": "Topic 4",
          "x": 0.0875,
          "xanchor": "center",
          "xref": "paper",
          "y": 0.6222222222222222,
          "yanchor": "bottom",
          "yref": "paper"
         },
         {
          "font": {
           "size": 16
          },
          "showarrow": false,
          "text": "Topic 5",
          "x": 0.36250000000000004,
          "xanchor": "center",
          "xref": "paper",
          "y": 0.6222222222222222,
          "yanchor": "bottom",
          "yref": "paper"
         },
         {
          "font": {
           "size": 16
          },
          "showarrow": false,
          "text": "Topic 6",
          "x": 0.6375000000000001,
          "xanchor": "center",
          "xref": "paper",
          "y": 0.6222222222222222,
          "yanchor": "bottom",
          "yref": "paper"
         },
         {
          "font": {
           "size": 16
          },
          "showarrow": false,
          "text": "Topic 7",
          "x": 0.9125,
          "xanchor": "center",
          "xref": "paper",
          "y": 0.6222222222222222,
          "yanchor": "bottom",
          "yref": "paper"
         },
         {
          "font": {
           "size": 16
          },
          "showarrow": false,
          "text": "Topic 8",
          "x": 0.0875,
          "xanchor": "center",
          "xref": "paper",
          "y": 0.24444444444444446,
          "yanchor": "bottom",
          "yref": "paper"
         }
        ],
        "height": 1950,
        "hoverlabel": {
         "bgcolor": "white",
         "font": {
          "family": "Rockwell",
          "size": 16
         }
        },
        "showlegend": false,
        "template": {
         "data": {
          "bar": [
           {
            "error_x": {
             "color": "#2a3f5f"
            },
            "error_y": {
             "color": "#2a3f5f"
            },
            "marker": {
             "line": {
              "color": "white",
              "width": 0.5
             },
             "pattern": {
              "fillmode": "overlay",
              "size": 10,
              "solidity": 0.2
             }
            },
            "type": "bar"
           }
          ],
          "barpolar": [
           {
            "marker": {
             "line": {
              "color": "white",
              "width": 0.5
             },
             "pattern": {
              "fillmode": "overlay",
              "size": 10,
              "solidity": 0.2
             }
            },
            "type": "barpolar"
           }
          ],
          "carpet": [
           {
            "aaxis": {
             "endlinecolor": "#2a3f5f",
             "gridcolor": "#C8D4E3",
             "linecolor": "#C8D4E3",
             "minorgridcolor": "#C8D4E3",
             "startlinecolor": "#2a3f5f"
            },
            "baxis": {
             "endlinecolor": "#2a3f5f",
             "gridcolor": "#C8D4E3",
             "linecolor": "#C8D4E3",
             "minorgridcolor": "#C8D4E3",
             "startlinecolor": "#2a3f5f"
            },
            "type": "carpet"
           }
          ],
          "choropleth": [
           {
            "colorbar": {
             "outlinewidth": 0,
             "ticks": ""
            },
            "type": "choropleth"
           }
          ],
          "contour": [
           {
            "colorbar": {
             "outlinewidth": 0,
             "ticks": ""
            },
            "colorscale": [
             [
              0,
              "#0d0887"
             ],
             [
              0.1111111111111111,
              "#46039f"
             ],
             [
              0.2222222222222222,
              "#7201a8"
             ],
             [
              0.3333333333333333,
              "#9c179e"
             ],
             [
              0.4444444444444444,
              "#bd3786"
             ],
             [
              0.5555555555555556,
              "#d8576b"
             ],
             [
              0.6666666666666666,
              "#ed7953"
             ],
             [
              0.7777777777777778,
              "#fb9f3a"
             ],
             [
              0.8888888888888888,
              "#fdca26"
             ],
             [
              1,
              "#f0f921"
             ]
            ],
            "type": "contour"
           }
          ],
          "contourcarpet": [
           {
            "colorbar": {
             "outlinewidth": 0,
             "ticks": ""
            },
            "type": "contourcarpet"
           }
          ],
          "heatmap": [
           {
            "colorbar": {
             "outlinewidth": 0,
             "ticks": ""
            },
            "colorscale": [
             [
              0,
              "#0d0887"
             ],
             [
              0.1111111111111111,
              "#46039f"
             ],
             [
              0.2222222222222222,
              "#7201a8"
             ],
             [
              0.3333333333333333,
              "#9c179e"
             ],
             [
              0.4444444444444444,
              "#bd3786"
             ],
             [
              0.5555555555555556,
              "#d8576b"
             ],
             [
              0.6666666666666666,
              "#ed7953"
             ],
             [
              0.7777777777777778,
              "#fb9f3a"
             ],
             [
              0.8888888888888888,
              "#fdca26"
             ],
             [
              1,
              "#f0f921"
             ]
            ],
            "type": "heatmap"
           }
          ],
          "heatmapgl": [
           {
            "colorbar": {
             "outlinewidth": 0,
             "ticks": ""
            },
            "colorscale": [
             [
              0,
              "#0d0887"
             ],
             [
              0.1111111111111111,
              "#46039f"
             ],
             [
              0.2222222222222222,
              "#7201a8"
             ],
             [
              0.3333333333333333,
              "#9c179e"
             ],
             [
              0.4444444444444444,
              "#bd3786"
             ],
             [
              0.5555555555555556,
              "#d8576b"
             ],
             [
              0.6666666666666666,
              "#ed7953"
             ],
             [
              0.7777777777777778,
              "#fb9f3a"
             ],
             [
              0.8888888888888888,
              "#fdca26"
             ],
             [
              1,
              "#f0f921"
             ]
            ],
            "type": "heatmapgl"
           }
          ],
          "histogram": [
           {
            "marker": {
             "pattern": {
              "fillmode": "overlay",
              "size": 10,
              "solidity": 0.2
             }
            },
            "type": "histogram"
           }
          ],
          "histogram2d": [
           {
            "colorbar": {
             "outlinewidth": 0,
             "ticks": ""
            },
            "colorscale": [
             [
              0,
              "#0d0887"
             ],
             [
              0.1111111111111111,
              "#46039f"
             ],
             [
              0.2222222222222222,
              "#7201a8"
             ],
             [
              0.3333333333333333,
              "#9c179e"
             ],
             [
              0.4444444444444444,
              "#bd3786"
             ],
             [
              0.5555555555555556,
              "#d8576b"
             ],
             [
              0.6666666666666666,
              "#ed7953"
             ],
             [
              0.7777777777777778,
              "#fb9f3a"
             ],
             [
              0.8888888888888888,
              "#fdca26"
             ],
             [
              1,
              "#f0f921"
             ]
            ],
            "type": "histogram2d"
           }
          ],
          "histogram2dcontour": [
           {
            "colorbar": {
             "outlinewidth": 0,
             "ticks": ""
            },
            "colorscale": [
             [
              0,
              "#0d0887"
             ],
             [
              0.1111111111111111,
              "#46039f"
             ],
             [
              0.2222222222222222,
              "#7201a8"
             ],
             [
              0.3333333333333333,
              "#9c179e"
             ],
             [
              0.4444444444444444,
              "#bd3786"
             ],
             [
              0.5555555555555556,
              "#d8576b"
             ],
             [
              0.6666666666666666,
              "#ed7953"
             ],
             [
              0.7777777777777778,
              "#fb9f3a"
             ],
             [
              0.8888888888888888,
              "#fdca26"
             ],
             [
              1,
              "#f0f921"
             ]
            ],
            "type": "histogram2dcontour"
           }
          ],
          "mesh3d": [
           {
            "colorbar": {
             "outlinewidth": 0,
             "ticks": ""
            },
            "type": "mesh3d"
           }
          ],
          "parcoords": [
           {
            "line": {
             "colorbar": {
              "outlinewidth": 0,
              "ticks": ""
             }
            },
            "type": "parcoords"
           }
          ],
          "pie": [
           {
            "automargin": true,
            "type": "pie"
           }
          ],
          "scatter": [
           {
            "fillpattern": {
             "fillmode": "overlay",
             "size": 10,
             "solidity": 0.2
            },
            "type": "scatter"
           }
          ],
          "scatter3d": [
           {
            "line": {
             "colorbar": {
              "outlinewidth": 0,
              "ticks": ""
             }
            },
            "marker": {
             "colorbar": {
              "outlinewidth": 0,
              "ticks": ""
             }
            },
            "type": "scatter3d"
           }
          ],
          "scattercarpet": [
           {
            "marker": {
             "colorbar": {
              "outlinewidth": 0,
              "ticks": ""
             }
            },
            "type": "scattercarpet"
           }
          ],
          "scattergeo": [
           {
            "marker": {
             "colorbar": {
              "outlinewidth": 0,
              "ticks": ""
             }
            },
            "type": "scattergeo"
           }
          ],
          "scattergl": [
           {
            "marker": {
             "colorbar": {
              "outlinewidth": 0,
              "ticks": ""
             }
            },
            "type": "scattergl"
           }
          ],
          "scattermapbox": [
           {
            "marker": {
             "colorbar": {
              "outlinewidth": 0,
              "ticks": ""
             }
            },
            "type": "scattermapbox"
           }
          ],
          "scatterpolar": [
           {
            "marker": {
             "colorbar": {
              "outlinewidth": 0,
              "ticks": ""
             }
            },
            "type": "scatterpolar"
           }
          ],
          "scatterpolargl": [
           {
            "marker": {
             "colorbar": {
              "outlinewidth": 0,
              "ticks": ""
             }
            },
            "type": "scatterpolargl"
           }
          ],
          "scatterternary": [
           {
            "marker": {
             "colorbar": {
              "outlinewidth": 0,
              "ticks": ""
             }
            },
            "type": "scatterternary"
           }
          ],
          "surface": [
           {
            "colorbar": {
             "outlinewidth": 0,
             "ticks": ""
            },
            "colorscale": [
             [
              0,
              "#0d0887"
             ],
             [
              0.1111111111111111,
              "#46039f"
             ],
             [
              0.2222222222222222,
              "#7201a8"
             ],
             [
              0.3333333333333333,
              "#9c179e"
             ],
             [
              0.4444444444444444,
              "#bd3786"
             ],
             [
              0.5555555555555556,
              "#d8576b"
             ],
             [
              0.6666666666666666,
              "#ed7953"
             ],
             [
              0.7777777777777778,
              "#fb9f3a"
             ],
             [
              0.8888888888888888,
              "#fdca26"
             ],
             [
              1,
              "#f0f921"
             ]
            ],
            "type": "surface"
           }
          ],
          "table": [
           {
            "cells": {
             "fill": {
              "color": "#EBF0F8"
             },
             "line": {
              "color": "white"
             }
            },
            "header": {
             "fill": {
              "color": "#C8D4E3"
             },
             "line": {
              "color": "white"
             }
            },
            "type": "table"
           }
          ]
         },
         "layout": {
          "annotationdefaults": {
           "arrowcolor": "#2a3f5f",
           "arrowhead": 0,
           "arrowwidth": 1
          },
          "autotypenumbers": "strict",
          "coloraxis": {
           "colorbar": {
            "outlinewidth": 0,
            "ticks": ""
           }
          },
          "colorscale": {
           "diverging": [
            [
             0,
             "#8e0152"
            ],
            [
             0.1,
             "#c51b7d"
            ],
            [
             0.2,
             "#de77ae"
            ],
            [
             0.3,
             "#f1b6da"
            ],
            [
             0.4,
             "#fde0ef"
            ],
            [
             0.5,
             "#f7f7f7"
            ],
            [
             0.6,
             "#e6f5d0"
            ],
            [
             0.7,
             "#b8e186"
            ],
            [
             0.8,
             "#7fbc41"
            ],
            [
             0.9,
             "#4d9221"
            ],
            [
             1,
             "#276419"
            ]
           ],
           "sequential": [
            [
             0,
             "#0d0887"
            ],
            [
             0.1111111111111111,
             "#46039f"
            ],
            [
             0.2222222222222222,
             "#7201a8"
            ],
            [
             0.3333333333333333,
             "#9c179e"
            ],
            [
             0.4444444444444444,
             "#bd3786"
            ],
            [
             0.5555555555555556,
             "#d8576b"
            ],
            [
             0.6666666666666666,
             "#ed7953"
            ],
            [
             0.7777777777777778,
             "#fb9f3a"
            ],
            [
             0.8888888888888888,
             "#fdca26"
            ],
            [
             1,
             "#f0f921"
            ]
           ],
           "sequentialminus": [
            [
             0,
             "#0d0887"
            ],
            [
             0.1111111111111111,
             "#46039f"
            ],
            [
             0.2222222222222222,
             "#7201a8"
            ],
            [
             0.3333333333333333,
             "#9c179e"
            ],
            [
             0.4444444444444444,
             "#bd3786"
            ],
            [
             0.5555555555555556,
             "#d8576b"
            ],
            [
             0.6666666666666666,
             "#ed7953"
            ],
            [
             0.7777777777777778,
             "#fb9f3a"
            ],
            [
             0.8888888888888888,
             "#fdca26"
            ],
            [
             1,
             "#f0f921"
            ]
           ]
          },
          "colorway": [
           "#636efa",
           "#EF553B",
           "#00cc96",
           "#ab63fa",
           "#FFA15A",
           "#19d3f3",
           "#FF6692",
           "#B6E880",
           "#FF97FF",
           "#FECB52"
          ],
          "font": {
           "color": "#2a3f5f"
          },
          "geo": {
           "bgcolor": "white",
           "lakecolor": "white",
           "landcolor": "white",
           "showlakes": true,
           "showland": true,
           "subunitcolor": "#C8D4E3"
          },
          "hoverlabel": {
           "align": "left"
          },
          "hovermode": "closest",
          "mapbox": {
           "style": "light"
          },
          "paper_bgcolor": "white",
          "plot_bgcolor": "white",
          "polar": {
           "angularaxis": {
            "gridcolor": "#EBF0F8",
            "linecolor": "#EBF0F8",
            "ticks": ""
           },
           "bgcolor": "white",
           "radialaxis": {
            "gridcolor": "#EBF0F8",
            "linecolor": "#EBF0F8",
            "ticks": ""
           }
          },
          "scene": {
           "xaxis": {
            "backgroundcolor": "white",
            "gridcolor": "#DFE8F3",
            "gridwidth": 2,
            "linecolor": "#EBF0F8",
            "showbackground": true,
            "ticks": "",
            "zerolinecolor": "#EBF0F8"
           },
           "yaxis": {
            "backgroundcolor": "white",
            "gridcolor": "#DFE8F3",
            "gridwidth": 2,
            "linecolor": "#EBF0F8",
            "showbackground": true,
            "ticks": "",
            "zerolinecolor": "#EBF0F8"
           },
           "zaxis": {
            "backgroundcolor": "white",
            "gridcolor": "#DFE8F3",
            "gridwidth": 2,
            "linecolor": "#EBF0F8",
            "showbackground": true,
            "ticks": "",
            "zerolinecolor": "#EBF0F8"
           }
          },
          "shapedefaults": {
           "line": {
            "color": "#2a3f5f"
           }
          },
          "ternary": {
           "aaxis": {
            "gridcolor": "#DFE8F3",
            "linecolor": "#A2B1C6",
            "ticks": ""
           },
           "baxis": {
            "gridcolor": "#DFE8F3",
            "linecolor": "#A2B1C6",
            "ticks": ""
           },
           "bgcolor": "white",
           "caxis": {
            "gridcolor": "#DFE8F3",
            "linecolor": "#A2B1C6",
            "ticks": ""
           }
          },
          "title": {
           "x": 0.05
          },
          "xaxis": {
           "automargin": true,
           "gridcolor": "#EBF0F8",
           "linecolor": "#EBF0F8",
           "ticks": "",
           "title": {
            "standoff": 15
           },
           "zerolinecolor": "#EBF0F8",
           "zerolinewidth": 2
          },
          "yaxis": {
           "automargin": true,
           "gridcolor": "#EBF0F8",
           "linecolor": "#EBF0F8",
           "ticks": "",
           "title": {
            "standoff": 15
           },
           "zerolinecolor": "#EBF0F8",
           "zerolinewidth": 2
          }
         }
        },
        "title": {
         "font": {
          "color": "Black",
          "size": 22
         },
         "text": "Topic Word Scores",
         "x": 0.5,
         "xanchor": "center",
         "yanchor": "top"
        },
        "width": 2600,
        "xaxis": {
         "anchor": "y",
         "domain": [
          0,
          0.175
         ],
         "showgrid": true
        },
        "xaxis10": {
         "anchor": "y10",
         "domain": [
          0.275,
          0.45
         ],
         "showgrid": true
        },
        "xaxis11": {
         "anchor": "y11",
         "domain": [
          0.55,
          0.7250000000000001
         ],
         "showgrid": true
        },
        "xaxis12": {
         "anchor": "y12",
         "domain": [
          0.825,
          1
         ],
         "showgrid": true
        },
        "xaxis2": {
         "anchor": "y2",
         "domain": [
          0.275,
          0.45
         ],
         "showgrid": true
        },
        "xaxis3": {
         "anchor": "y3",
         "domain": [
          0.55,
          0.7250000000000001
         ],
         "showgrid": true
        },
        "xaxis4": {
         "anchor": "y4",
         "domain": [
          0.825,
          1
         ],
         "showgrid": true
        },
        "xaxis5": {
         "anchor": "y5",
         "domain": [
          0,
          0.175
         ],
         "showgrid": true
        },
        "xaxis6": {
         "anchor": "y6",
         "domain": [
          0.275,
          0.45
         ],
         "showgrid": true
        },
        "xaxis7": {
         "anchor": "y7",
         "domain": [
          0.55,
          0.7250000000000001
         ],
         "showgrid": true
        },
        "xaxis8": {
         "anchor": "y8",
         "domain": [
          0.825,
          1
         ],
         "showgrid": true
        },
        "xaxis9": {
         "anchor": "y9",
         "domain": [
          0,
          0.175
         ],
         "showgrid": true
        },
        "yaxis": {
         "anchor": "x",
         "domain": [
          0.7555555555555555,
          1
         ],
         "showgrid": true
        },
        "yaxis10": {
         "anchor": "x10",
         "domain": [
          0,
          0.24444444444444446
         ],
         "showgrid": true
        },
        "yaxis11": {
         "anchor": "x11",
         "domain": [
          0,
          0.24444444444444446
         ],
         "showgrid": true
        },
        "yaxis12": {
         "anchor": "x12",
         "domain": [
          0,
          0.24444444444444446
         ],
         "showgrid": true
        },
        "yaxis2": {
         "anchor": "x2",
         "domain": [
          0.7555555555555555,
          1
         ],
         "showgrid": true
        },
        "yaxis3": {
         "anchor": "x3",
         "domain": [
          0.7555555555555555,
          1
         ],
         "showgrid": true
        },
        "yaxis4": {
         "anchor": "x4",
         "domain": [
          0.7555555555555555,
          1
         ],
         "showgrid": true
        },
        "yaxis5": {
         "anchor": "x5",
         "domain": [
          0.37777777777777777,
          0.6222222222222222
         ],
         "showgrid": true
        },
        "yaxis6": {
         "anchor": "x6",
         "domain": [
          0.37777777777777777,
          0.6222222222222222
         ],
         "showgrid": true
        },
        "yaxis7": {
         "anchor": "x7",
         "domain": [
          0.37777777777777777,
          0.6222222222222222
         ],
         "showgrid": true
        },
        "yaxis8": {
         "anchor": "x8",
         "domain": [
          0.37777777777777777,
          0.6222222222222222
         ],
         "showgrid": true
        },
        "yaxis9": {
         "anchor": "x9",
         "domain": [
          0,
          0.24444444444444446
         ],
         "showgrid": true
        }
       }
      }
     },
     "metadata": {},
     "output_type": "display_data"
    }
   ],
   "source": [
    "topic_model.visualize_barchart(top_n_topics=9, n_words=10, width=650, height=650)"
   ]
  },
  {
   "cell_type": "code",
   "execution_count": 61,
   "metadata": {},
   "outputs": [
    {
     "data": {
      "text/html": [
       "<div>\n",
       "<style scoped>\n",
       "    .dataframe tbody tr th:only-of-type {\n",
       "        vertical-align: middle;\n",
       "    }\n",
       "\n",
       "    .dataframe tbody tr th {\n",
       "        vertical-align: top;\n",
       "    }\n",
       "\n",
       "    .dataframe thead th {\n",
       "        text-align: right;\n",
       "    }\n",
       "</style>\n",
       "<table border=\"1\" class=\"dataframe\">\n",
       "  <thead>\n",
       "    <tr style=\"text-align: right;\">\n",
       "      <th></th>\n",
       "      <th>author</th>\n",
       "      <th>title</th>\n",
       "      <th>Datetime</th>\n",
       "      <th>season</th>\n",
       "      <th>score</th>\n",
       "      <th>WC</th>\n",
       "      <th>Analytic</th>\n",
       "      <th>Clout</th>\n",
       "      <th>Authentic</th>\n",
       "      <th>Tone</th>\n",
       "      <th>...</th>\n",
       "      <th>percept</th>\n",
       "      <th>feel</th>\n",
       "      <th>cogproc</th>\n",
       "      <th>focuspast</th>\n",
       "      <th>focuspresent</th>\n",
       "      <th>focusfuture</th>\n",
       "      <th>work</th>\n",
       "      <th>informal</th>\n",
       "      <th>QMark</th>\n",
       "      <th>title_polarity</th>\n",
       "    </tr>\n",
       "  </thead>\n",
       "  <tbody>\n",
       "    <tr>\n",
       "      <th>0</th>\n",
       "      <td>Odd-Pizza-1079</td>\n",
       "      <td>much tylenol much asking friend actually</td>\n",
       "      <td>2022-07-28 23:50:15</td>\n",
       "      <td>Summer</td>\n",
       "      <td>1</td>\n",
       "      <td>12.0</td>\n",
       "      <td>18.82</td>\n",
       "      <td>79.76</td>\n",
       "      <td>1.79</td>\n",
       "      <td>25.77</td>\n",
       "      <td>...</td>\n",
       "      <td>0.00</td>\n",
       "      <td>0.00</td>\n",
       "      <td>16.67</td>\n",
       "      <td>0.00</td>\n",
       "      <td>16.67</td>\n",
       "      <td>0.00</td>\n",
       "      <td>0.00</td>\n",
       "      <td>0.00</td>\n",
       "      <td>8.33</td>\n",
       "      <td>0.13</td>\n",
       "    </tr>\n",
       "    <tr>\n",
       "      <th>1</th>\n",
       "      <td>Global_Face_4708</td>\n",
       "      <td>gabapentinlyricaclonidine telehealth</td>\n",
       "      <td>2022-07-28 23:22:43</td>\n",
       "      <td>Summer</td>\n",
       "      <td>1</td>\n",
       "      <td>5.0</td>\n",
       "      <td>99.00</td>\n",
       "      <td>50.00</td>\n",
       "      <td>1.00</td>\n",
       "      <td>25.77</td>\n",
       "      <td>...</td>\n",
       "      <td>0.00</td>\n",
       "      <td>0.00</td>\n",
       "      <td>0.00</td>\n",
       "      <td>0.00</td>\n",
       "      <td>0.00</td>\n",
       "      <td>0.00</td>\n",
       "      <td>0.00</td>\n",
       "      <td>0.00</td>\n",
       "      <td>20.00</td>\n",
       "      <td>0.00</td>\n",
       "    </tr>\n",
       "    <tr>\n",
       "      <th>2</th>\n",
       "      <td>Bluebeamtwinfn</td>\n",
       "      <td>opiates prolonging finishenhancing sex</td>\n",
       "      <td>2022-07-28 23:06:11</td>\n",
       "      <td>Summer</td>\n",
       "      <td>1</td>\n",
       "      <td>5.0</td>\n",
       "      <td>93.26</td>\n",
       "      <td>50.00</td>\n",
       "      <td>43.37</td>\n",
       "      <td>25.77</td>\n",
       "      <td>...</td>\n",
       "      <td>0.00</td>\n",
       "      <td>0.00</td>\n",
       "      <td>0.00</td>\n",
       "      <td>0.00</td>\n",
       "      <td>0.00</td>\n",
       "      <td>0.00</td>\n",
       "      <td>0.00</td>\n",
       "      <td>0.00</td>\n",
       "      <td>0.00</td>\n",
       "      <td>0.00</td>\n",
       "    </tr>\n",
       "    <tr>\n",
       "      <th>3</th>\n",
       "      <td>iLoveLuckiii</td>\n",
       "      <td>boost oxy high amp save money use</td>\n",
       "      <td>2022-07-28 22:49:43</td>\n",
       "      <td>Summer</td>\n",
       "      <td>1</td>\n",
       "      <td>13.0</td>\n",
       "      <td>82.82</td>\n",
       "      <td>93.79</td>\n",
       "      <td>94.81</td>\n",
       "      <td>99.00</td>\n",
       "      <td>...</td>\n",
       "      <td>0.00</td>\n",
       "      <td>0.00</td>\n",
       "      <td>7.69</td>\n",
       "      <td>0.00</td>\n",
       "      <td>15.38</td>\n",
       "      <td>0.00</td>\n",
       "      <td>0.00</td>\n",
       "      <td>0.00</td>\n",
       "      <td>0.00</td>\n",
       "      <td>0.16</td>\n",
       "    </tr>\n",
       "    <tr>\n",
       "      <th>4</th>\n",
       "      <td>Downtown_Syrup4635</td>\n",
       "      <td>iop detox working 95</td>\n",
       "      <td>2022-07-28 22:21:57</td>\n",
       "      <td>Summer</td>\n",
       "      <td>1</td>\n",
       "      <td>6.0</td>\n",
       "      <td>62.04</td>\n",
       "      <td>50.00</td>\n",
       "      <td>23.51</td>\n",
       "      <td>25.77</td>\n",
       "      <td>...</td>\n",
       "      <td>0.00</td>\n",
       "      <td>0.00</td>\n",
       "      <td>0.00</td>\n",
       "      <td>0.00</td>\n",
       "      <td>0.00</td>\n",
       "      <td>0.00</td>\n",
       "      <td>16.67</td>\n",
       "      <td>0.00</td>\n",
       "      <td>33.33</td>\n",
       "      <td>0.00</td>\n",
       "    </tr>\n",
       "    <tr>\n",
       "      <th>...</th>\n",
       "      <td>...</td>\n",
       "      <td>...</td>\n",
       "      <td>...</td>\n",
       "      <td>...</td>\n",
       "      <td>...</td>\n",
       "      <td>...</td>\n",
       "      <td>...</td>\n",
       "      <td>...</td>\n",
       "      <td>...</td>\n",
       "      <td>...</td>\n",
       "      <td>...</td>\n",
       "      <td>...</td>\n",
       "      <td>...</td>\n",
       "      <td>...</td>\n",
       "      <td>...</td>\n",
       "      <td>...</td>\n",
       "      <td>...</td>\n",
       "      <td>...</td>\n",
       "      <td>...</td>\n",
       "      <td>...</td>\n",
       "      <td>...</td>\n",
       "    </tr>\n",
       "    <tr>\n",
       "      <th>79671</th>\n",
       "      <td>Kriskross88</td>\n",
       "      <td>started nodding front friend last night kept s...</td>\n",
       "      <td>2019-06-25 00:32:36</td>\n",
       "      <td>Summer</td>\n",
       "      <td>6</td>\n",
       "      <td>38.0</td>\n",
       "      <td>28.39</td>\n",
       "      <td>14.62</td>\n",
       "      <td>99.00</td>\n",
       "      <td>1.00</td>\n",
       "      <td>...</td>\n",
       "      <td>5.26</td>\n",
       "      <td>2.63</td>\n",
       "      <td>13.16</td>\n",
       "      <td>5.26</td>\n",
       "      <td>15.79</td>\n",
       "      <td>2.63</td>\n",
       "      <td>2.63</td>\n",
       "      <td>2.63</td>\n",
       "      <td>0.00</td>\n",
       "      <td>-0.26</td>\n",
       "    </tr>\n",
       "    <tr>\n",
       "      <th>79672</th>\n",
       "      <td>Jupiterjigs1</td>\n",
       "      <td>best way use oxy 30s</td>\n",
       "      <td>2019-06-25 00:32:34</td>\n",
       "      <td>Summer</td>\n",
       "      <td>3</td>\n",
       "      <td>6.0</td>\n",
       "      <td>99.00</td>\n",
       "      <td>50.00</td>\n",
       "      <td>23.51</td>\n",
       "      <td>99.00</td>\n",
       "      <td>...</td>\n",
       "      <td>0.00</td>\n",
       "      <td>0.00</td>\n",
       "      <td>16.67</td>\n",
       "      <td>0.00</td>\n",
       "      <td>16.67</td>\n",
       "      <td>0.00</td>\n",
       "      <td>0.00</td>\n",
       "      <td>0.00</td>\n",
       "      <td>16.67</td>\n",
       "      <td>1.00</td>\n",
       "    </tr>\n",
       "    <tr>\n",
       "      <th>79673</th>\n",
       "      <td>FBIintern</td>\n",
       "      <td>not many homosexual use opiates</td>\n",
       "      <td>2019-06-25 00:23:52</td>\n",
       "      <td>Summer</td>\n",
       "      <td>0</td>\n",
       "      <td>9.0</td>\n",
       "      <td>1.00</td>\n",
       "      <td>1.00</td>\n",
       "      <td>98.01</td>\n",
       "      <td>25.77</td>\n",
       "      <td>...</td>\n",
       "      <td>0.00</td>\n",
       "      <td>0.00</td>\n",
       "      <td>33.33</td>\n",
       "      <td>0.00</td>\n",
       "      <td>22.22</td>\n",
       "      <td>0.00</td>\n",
       "      <td>0.00</td>\n",
       "      <td>0.00</td>\n",
       "      <td>11.11</td>\n",
       "      <td>-0.25</td>\n",
       "    </tr>\n",
       "    <tr>\n",
       "      <th>79674</th>\n",
       "      <td>AutomaticBrick3</td>\n",
       "      <td>stamp bags review</td>\n",
       "      <td>2019-06-25 00:17:35</td>\n",
       "      <td>Summer</td>\n",
       "      <td>0</td>\n",
       "      <td>3.0</td>\n",
       "      <td>93.26</td>\n",
       "      <td>50.00</td>\n",
       "      <td>1.00</td>\n",
       "      <td>25.77</td>\n",
       "      <td>...</td>\n",
       "      <td>0.00</td>\n",
       "      <td>0.00</td>\n",
       "      <td>0.00</td>\n",
       "      <td>0.00</td>\n",
       "      <td>0.00</td>\n",
       "      <td>0.00</td>\n",
       "      <td>33.33</td>\n",
       "      <td>0.00</td>\n",
       "      <td>0.00</td>\n",
       "      <td>0.00</td>\n",
       "    </tr>\n",
       "    <tr>\n",
       "      <th>79675</th>\n",
       "      <td>Bartard666</td>\n",
       "      <td>hows everyone</td>\n",
       "      <td>2019-06-25 00:13:22</td>\n",
       "      <td>Summer</td>\n",
       "      <td>3</td>\n",
       "      <td>3.0</td>\n",
       "      <td>1.00</td>\n",
       "      <td>99.00</td>\n",
       "      <td>1.00</td>\n",
       "      <td>25.77</td>\n",
       "      <td>...</td>\n",
       "      <td>0.00</td>\n",
       "      <td>0.00</td>\n",
       "      <td>66.67</td>\n",
       "      <td>0.00</td>\n",
       "      <td>33.33</td>\n",
       "      <td>0.00</td>\n",
       "      <td>0.00</td>\n",
       "      <td>0.00</td>\n",
       "      <td>33.33</td>\n",
       "      <td>0.00</td>\n",
       "    </tr>\n",
       "  </tbody>\n",
       "</table>\n",
       "<p>79674 rows × 32 columns</p>\n",
       "</div>"
      ],
      "text/plain": [
       "                   author                                              title  \\\n",
       "0          Odd-Pizza-1079           much tylenol much asking friend actually   \n",
       "1        Global_Face_4708               gabapentinlyricaclonidine telehealth   \n",
       "2          Bluebeamtwinfn             opiates prolonging finishenhancing sex   \n",
       "3            iLoveLuckiii                  boost oxy high amp save money use   \n",
       "4      Downtown_Syrup4635                               iop detox working 95   \n",
       "...                   ...                                                ...   \n",
       "79671         Kriskross88  started nodding front friend last night kept s...   \n",
       "79672        Jupiterjigs1                               best way use oxy 30s   \n",
       "79673           FBIintern                    not many homosexual use opiates   \n",
       "79674     AutomaticBrick3                                  stamp bags review   \n",
       "79675          Bartard666                                      hows everyone   \n",
       "\n",
       "                 Datetime  season score    WC  Analytic  Clout  Authentic  \\\n",
       "0     2022-07-28 23:50:15  Summer     1  12.0     18.82  79.76       1.79   \n",
       "1     2022-07-28 23:22:43  Summer     1   5.0     99.00  50.00       1.00   \n",
       "2     2022-07-28 23:06:11  Summer     1   5.0     93.26  50.00      43.37   \n",
       "3     2022-07-28 22:49:43  Summer     1  13.0     82.82  93.79      94.81   \n",
       "4     2022-07-28 22:21:57  Summer     1   6.0     62.04  50.00      23.51   \n",
       "...                   ...     ...   ...   ...       ...    ...        ...   \n",
       "79671 2019-06-25 00:32:36  Summer     6  38.0     28.39  14.62      99.00   \n",
       "79672 2019-06-25 00:32:34  Summer     3   6.0     99.00  50.00      23.51   \n",
       "79673 2019-06-25 00:23:52  Summer     0   9.0      1.00   1.00      98.01   \n",
       "79674 2019-06-25 00:17:35  Summer     0   3.0     93.26  50.00       1.00   \n",
       "79675 2019-06-25 00:13:22  Summer     3   3.0      1.00  99.00       1.00   \n",
       "\n",
       "        Tone  ...  percept  feel  cogproc  focuspast  focuspresent  \\\n",
       "0      25.77  ...     0.00  0.00    16.67       0.00         16.67   \n",
       "1      25.77  ...     0.00  0.00     0.00       0.00          0.00   \n",
       "2      25.77  ...     0.00  0.00     0.00       0.00          0.00   \n",
       "3      99.00  ...     0.00  0.00     7.69       0.00         15.38   \n",
       "4      25.77  ...     0.00  0.00     0.00       0.00          0.00   \n",
       "...      ...  ...      ...   ...      ...        ...           ...   \n",
       "79671   1.00  ...     5.26  2.63    13.16       5.26         15.79   \n",
       "79672  99.00  ...     0.00  0.00    16.67       0.00         16.67   \n",
       "79673  25.77  ...     0.00  0.00    33.33       0.00         22.22   \n",
       "79674  25.77  ...     0.00  0.00     0.00       0.00          0.00   \n",
       "79675  25.77  ...     0.00  0.00    66.67       0.00         33.33   \n",
       "\n",
       "       focusfuture   work  informal  QMark  title_polarity  \n",
       "0             0.00   0.00      0.00   8.33            0.13  \n",
       "1             0.00   0.00      0.00  20.00            0.00  \n",
       "2             0.00   0.00      0.00   0.00            0.00  \n",
       "3             0.00   0.00      0.00   0.00            0.16  \n",
       "4             0.00  16.67      0.00  33.33            0.00  \n",
       "...            ...    ...       ...    ...             ...  \n",
       "79671         2.63   2.63      2.63   0.00           -0.26  \n",
       "79672         0.00   0.00      0.00  16.67            1.00  \n",
       "79673         0.00   0.00      0.00  11.11           -0.25  \n",
       "79674         0.00  33.33      0.00   0.00            0.00  \n",
       "79675         0.00   0.00      0.00  33.33            0.00  \n",
       "\n",
       "[79674 rows x 32 columns]"
      ]
     },
     "execution_count": 61,
     "metadata": {},
     "output_type": "execute_result"
    }
   ],
   "source": [
    "nlp = spacy.load('en_core_web_sm')\n",
    "nlp.add_pipe('spacytextblob')\n",
    "\n",
    "df_submissions['title_polarity'] = df_submissions['title'].apply(lambda x: round((nlp(x))._.blob.polarity, 2))\n",
    "df_submissions"
   ]
  },
  {
   "cell_type": "code",
   "execution_count": 62,
   "metadata": {},
   "outputs": [
    {
     "name": "stdout",
     "output_type": "stream",
     "text": [
      "Median Score: 1.0\n",
      "Accuracy: 0.9189206149984311\n"
     ]
    }
   ],
   "source": [
    "#Main Task #1: Random Forest Calssifier to predict scores based off of positive and negative emotion\n",
    "\n",
    "#Submissions\n",
    "\n",
    "# Convert 'score' column to numeric, setting errors='coerce' to convert non-numeric values to NaN\n",
    "# Then drop rows with NaN in 'score'\n",
    "df_submissions['score'] = pd.to_numeric(df_submissions['score'], errors='coerce')\n",
    "df_submissions.dropna(subset=['score'], inplace=True)\n",
    "\n",
    "#Scores above the median as 'higher'\n",
    "median_score = df_submissions['score'].median()\n",
    "df_submissions['higher_score'] = (df_submissions['score'] > median_score).astype(int)\n",
    "print('Median Score:', median_score)\n",
    "\n",
    "\n",
    "# Splitting the data\n",
    "X = df_submissions[['posemo', 'negemo','title_polarity']]\n",
    "y = df_submissions['higher_score']\n",
    "X_train, X_test, y_train, y_test = train_test_split(X, y, test_size=0.2, random_state=42)\n",
    "\n",
    "\n",
    "clf = RandomForestClassifier(random_state=42)\n",
    "clf.fit(X_train, y_train)\n",
    "\n",
    "y_pred = clf.predict(X_test)\n",
    "\n",
    "#Accruacy Score \n",
    "accuracy = accuracy_score(y_test, y_pred)\n",
    "print('Accuracy:', accuracy)"
   ]
  },
  {
   "cell_type": "code",
   "execution_count": 63,
   "metadata": {},
   "outputs": [
    {
     "name": "stdout",
     "output_type": "stream",
     "text": [
      "Feature Importances:\n",
      "posemo: 0.2200\n",
      "negemo: 0.2491\n",
      "title_polarity: 0.5309\n"
     ]
    }
   ],
   "source": [
    "#Feature Importance\n",
    "features = ['posemo', 'negemo','title_polarity']\n",
    "feature_importances = clf.feature_importances_\n",
    "\n",
    "# Mapping feature importances\n",
    "feature_importance_dict = dict(zip(features, feature_importances))\n",
    "\n",
    "print('Feature Importances:')\n",
    "for feature, importance in feature_importance_dict.items():\n",
    "    print(f'{feature}: {importance:.4f}')"
   ]
  },
  {
   "cell_type": "code",
   "execution_count": 64,
   "metadata": {},
   "outputs": [
    {
     "name": "stdout",
     "output_type": "stream",
     "text": [
      "Median Score: 1.0\n",
      "Accuracy: 0.8260203075709779\n"
     ]
    }
   ],
   "source": [
    "#Main Task #1: Random Forest Calssifier to predict scores based off of positive and negative emotion\n",
    "\n",
    "#Comments\n",
    "\n",
    "# Convert 'score' column to numeric, setting errors='coerce' to convert non-numeric values to null\n",
    "# Then drop rows with NaN in 'score'\n",
    "df_comments['score'] = pd.to_numeric(df_comments['score'], errors='coerce')\n",
    "df_comments.dropna(subset=['score'], inplace=True)\n",
    "\n",
    "#Scores above the median as 'higher'\n",
    "median_score = df_comments['score'].median()\n",
    "df_comments['higher_score'] = (df_comments['score'] > median_score).astype(int)\n",
    "print('Median Score:', median_score)\n",
    "\n",
    "\n",
    "# Splitting the data\n",
    "X = df_comments[['posemo', 'negemo']]\n",
    "y = df_comments['higher_score']\n",
    "X_train, X_test, y_train, y_test = train_test_split(X, y, test_size=0.2, random_state=42)\n",
    "\n",
    "\n",
    "clf = RandomForestClassifier(random_state=42)\n",
    "clf.fit(X_train, y_train)\n",
    "\n",
    "y_pred = clf.predict(X_test)\n",
    "\n",
    "#Accruacy Score \n",
    "accuracy = accuracy_score(y_test, y_pred)\n",
    "print('Accuracy:', accuracy)"
   ]
  },
  {
   "cell_type": "code",
   "execution_count": 65,
   "metadata": {},
   "outputs": [
    {
     "name": "stdout",
     "output_type": "stream",
     "text": [
      "Feature Importances:\n",
      "posemo: 0.5003\n",
      "negemo: 0.4997\n"
     ]
    }
   ],
   "source": [
    "#Feature Importance\n",
    "features = ['posemo', 'negemo']\n",
    "feature_importances = clf.feature_importances_\n",
    "\n",
    "# Mapping feature importances\n",
    "feature_importance_dict = dict(zip(features, feature_importances))\n",
    "\n",
    "print('Feature Importances:')\n",
    "for feature, importance in feature_importance_dict.items():\n",
    "    print(f'{feature}: {importance:.4f}')"
   ]
  },
  {
   "cell_type": "code",
   "execution_count": 66,
   "metadata": {},
   "outputs": [],
   "source": [
    "#df_submissions.to_csv('df_submissions.csv', index=False)"
   ]
  },
  {
   "cell_type": "code",
   "execution_count": 96,
   "metadata": {},
   "outputs": [
    {
     "data": {
      "text/html": [
       "<div>\n",
       "<style scoped>\n",
       "    .dataframe tbody tr th:only-of-type {\n",
       "        vertical-align: middle;\n",
       "    }\n",
       "\n",
       "    .dataframe tbody tr th {\n",
       "        vertical-align: top;\n",
       "    }\n",
       "\n",
       "    .dataframe thead th {\n",
       "        text-align: right;\n",
       "    }\n",
       "</style>\n",
       "<table border=\"1\" class=\"dataframe\">\n",
       "  <thead>\n",
       "    <tr style=\"text-align: right;\">\n",
       "      <th></th>\n",
       "      <th>score</th>\n",
       "      <th>posemo</th>\n",
       "      <th>negemo</th>\n",
       "      <th>title_polarity</th>\n",
       "      <th>season_Fall</th>\n",
       "      <th>season_Spring</th>\n",
       "      <th>season_Summer</th>\n",
       "      <th>season_Winter</th>\n",
       "    </tr>\n",
       "  </thead>\n",
       "  <tbody>\n",
       "    <tr>\n",
       "      <th>0</th>\n",
       "      <td>1.0</td>\n",
       "      <td>0.00</td>\n",
       "      <td>0.0</td>\n",
       "      <td>0.13</td>\n",
       "      <td>0.0</td>\n",
       "      <td>0.0</td>\n",
       "      <td>1.0</td>\n",
       "      <td>0.0</td>\n",
       "    </tr>\n",
       "    <tr>\n",
       "      <th>1</th>\n",
       "      <td>1.0</td>\n",
       "      <td>0.00</td>\n",
       "      <td>0.0</td>\n",
       "      <td>0.00</td>\n",
       "      <td>0.0</td>\n",
       "      <td>0.0</td>\n",
       "      <td>1.0</td>\n",
       "      <td>0.0</td>\n",
       "    </tr>\n",
       "    <tr>\n",
       "      <th>2</th>\n",
       "      <td>1.0</td>\n",
       "      <td>0.00</td>\n",
       "      <td>0.0</td>\n",
       "      <td>0.00</td>\n",
       "      <td>0.0</td>\n",
       "      <td>0.0</td>\n",
       "      <td>1.0</td>\n",
       "      <td>0.0</td>\n",
       "    </tr>\n",
       "    <tr>\n",
       "      <th>3</th>\n",
       "      <td>1.0</td>\n",
       "      <td>7.69</td>\n",
       "      <td>0.0</td>\n",
       "      <td>0.16</td>\n",
       "      <td>0.0</td>\n",
       "      <td>0.0</td>\n",
       "      <td>1.0</td>\n",
       "      <td>0.0</td>\n",
       "    </tr>\n",
       "    <tr>\n",
       "      <th>4</th>\n",
       "      <td>1.0</td>\n",
       "      <td>0.00</td>\n",
       "      <td>0.0</td>\n",
       "      <td>0.00</td>\n",
       "      <td>0.0</td>\n",
       "      <td>0.0</td>\n",
       "      <td>1.0</td>\n",
       "      <td>0.0</td>\n",
       "    </tr>\n",
       "  </tbody>\n",
       "</table>\n",
       "</div>"
      ],
      "text/plain": [
       "   score  posemo  negemo  title_polarity  season_Fall  season_Spring  \\\n",
       "0    1.0    0.00     0.0            0.13          0.0            0.0   \n",
       "1    1.0    0.00     0.0            0.00          0.0            0.0   \n",
       "2    1.0    0.00     0.0            0.00          0.0            0.0   \n",
       "3    1.0    7.69     0.0            0.16          0.0            0.0   \n",
       "4    1.0    0.00     0.0            0.00          0.0            0.0   \n",
       "\n",
       "   season_Summer  season_Winter  \n",
       "0            1.0            0.0  \n",
       "1            1.0            0.0  \n",
       "2            1.0            0.0  \n",
       "3            1.0            0.0  \n",
       "4            1.0            0.0  "
      ]
     },
     "execution_count": 96,
     "metadata": {},
     "output_type": "execute_result"
    }
   ],
   "source": [
    "'''\n",
    "# Normalizing the numeric columns\n",
    "scaler = MinMaxScaler()\n",
    "df_submissions[['score_normalized', 'posemo_normalized', 'negemo_normalized', 'title_polarity_normalized']] = scaler.fit_transform(df_submissions[['score', 'posemo', 'negemo', 'title_polarity']])\n",
    "'''\n",
    "# Encoding the season column\n",
    "encoder = OneHotEncoder()\n",
    "season_encoded = encoder.fit_transform(df_submissions[['season']]).toarray()\n",
    "season_encoded_df = pd.DataFrame(season_encoded, columns=encoder.get_feature_names_out(['season']))\n",
    "\n",
    "# Combining the normalized and encoded features\n",
    "features_df_sub = pd.concat([df_submissions[['score', 'posemo', 'negemo', 'title_polarity']], season_encoded_df], axis=1)\n",
    "features_df_sub.head()"
   ]
  },
  {
   "cell_type": "code",
   "execution_count": 97,
   "metadata": {},
   "outputs": [],
   "source": [
    "features_df_sub = features_df_sub.dropna()"
   ]
  },
  {
   "cell_type": "code",
   "execution_count": 85,
   "metadata": {},
   "outputs": [],
   "source": [
    "df_submissions = df_submissions.dropna()"
   ]
  },
  {
   "cell_type": "code",
   "execution_count": null,
   "metadata": {},
   "outputs": [],
   "source": []
  },
  {
   "cell_type": "code",
   "execution_count": 100,
   "metadata": {},
   "outputs": [
    {
     "data": {
      "image/png": "[encoded data removed]",
      "text/plain": [
       "<Figure size 1000x600 with 2 Axes>"
      ]
     },
     "metadata": {},
     "output_type": "display_data"
    }
   ],
   "source": [
    "'''\n",
    "from sklearn.cluster import KMeans\n",
    "import matplotlib.pyplot as plt\n",
    "\n",
    "# Applying K-Means Clustering\n",
    "kmeans = KMeans(n_clusters=4, random_state=0)\n",
    "clusters = kmeans.fit_predict(features_df_sub)\n",
    "\n",
    "# Adding cluster labels to the dataframe\n",
    "features_df_sub['Cluster'] = clusters\n",
    "\n",
    "\n",
    "# Plotting the clusters\n",
    "plt.figure(figsize=(10, 6), facecolor='white')\n",
    "plt.scatter(features_df_sub['Datetime'], df_submissions['score'], c=features_df_sub['Cluster'], cmap='viridis', alpha=0.5)\n",
    "plt.title('Cluster Distribution Over Time')\n",
    "plt.xlabel('Date')\n",
    "plt.ylabel('Score')\n",
    "plt.colorbar(label='Cluster')\n",
    "plt.show()\n",
    "print('Clustering complete. Clusters are visualized based on the score over time.')\n",
    "'''\n"
   ]
  },
  {
   "cell_type": "code",
   "execution_count": 109,
   "metadata": {},
   "outputs": [
    {
     "data": {
      "text/plain": [
       "\"\\n# Visualizing the clusters using a scatter plot\\n\\nseason_colors = {'Winter': 'blue', 'Spring': 'green', 'Summer': 'yellow', 'Fall': 'red'}\\nseason_color_values = features_df_sub['season'].map(season_colors)\\nplt.figure(figsize=(10, 6), facecolor='white')\\nplt.scatter(features_df_sub['posemo'], features_df_sub['negemo'], c=features_df_sub['Cluster'], cmap='viridis', alpha=0.5)\\nplt.title('Clusters of Posts Based on Normalized Emotional Scores')\\nplt.xlabel('Normalized Positive Emotion Score')\\nplt.ylabel('Normalized Negative Emotion Score')\\nplt.colorbar(label='Cluster')\\nplt.show()\\nprint('Scatter plot of clusters based on normalized emotional scores displayed.')\\n\""
      ]
     },
     "execution_count": 109,
     "metadata": {},
     "output_type": "execute_result"
    }
   ],
   "source": [
    "'''\n",
    "# Visualizing the clusters using a scatter plot\n",
    "\n",
    "season_colors = {'Winter': 'blue', 'Spring': 'green', 'Summer': 'yellow', 'Fall': 'red'}\n",
    "season_color_values = features_df_sub['season'].map(season_colors)\n",
    "plt.figure(figsize=(10, 6), facecolor='white')\n",
    "plt.scatter(features_df_sub['posemo'], features_df_sub['negemo'], c=features_df_sub['Cluster'], cmap='viridis', alpha=0.5)\n",
    "plt.title('Clusters of Posts Based on Normalized Emotional Scores')\n",
    "plt.xlabel('Normalized Positive Emotion Score')\n",
    "plt.ylabel('Normalized Negative Emotion Score')\n",
    "plt.colorbar(label='Cluster')\n",
    "plt.show()\n",
    "print('Scatter plot of clusters based on normalized emotional scores displayed.')\n",
    "'''"
   ]
  }
 ],
 "metadata": {
  "kernelspec": {
   "display_name": "Python 3.10(capstone)",
   "language": "python",
   "name": "acv"
  },
  "language_info": {
   "codemirror_mode": {
    "name": "ipython",
    "version": 3
   },
   "file_extension": ".py",
   "mimetype": "text/x-python",
   "name": "python",
   "nbconvert_exporter": "python",
   "pygments_lexer": "ipython3",
   "version": "3.11.5"
  }
 },
 "nbformat": 4,
 "nbformat_minor": 2
}
