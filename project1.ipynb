{
 "cells": [
  {
   "cell_type": "code",
   "execution_count": 45,
   "metadata": {},
   "outputs": [],
   "source": [
    "# Run these in your terminal in order\n",
    "\n",
    "#!pip install bertopic\n",
    "\n",
    "#pip install -r requirements.txt install bertopic\n",
    "\n",
    "#pip uninstall transformers bertopic\n",
    "#pip install transformers bertopic\n",
    "\n",
    "#!pip install spacytextblob\n",
    "#python -m spacy download en_core_web_sm"
   ]
  },
  {
   "cell_type": "code",
   "execution_count": 46,
   "metadata": {},
   "outputs": [],
   "source": [
    "import pandas as pd\n",
    "\n",
    "#Correlation Matrix\n",
    "import seaborn as sns\n",
    "import matplotlib.pyplot as plt\n",
    "import datetime\n",
    "\n",
    "import nltk\n",
    "from nltk.corpus import stopwords\n",
    "from nltk import ngrams\n",
    "\n",
    "import re\n",
    "\n",
    "from bertopic import BERTopic\n"
   ]
  },
  {
   "cell_type": "code",
   "execution_count": 32,
   "metadata": {},
   "outputs": [],
   "source": [
    "#Amado's csv to df \n",
    "\n",
    "df_comments = pd.read_csv('/Users/amadouyehara/Desktop/Spring 2024/Applied Analytics & Predictive Modeling/Project 1/opiates_comments6_LIWC.csv')\n",
    "df_submissions = pd.read_csv('/Users/amadouyehara/Desktop/Spring 2024/Applied Analytics & Predictive Modeling/Project 1/opiates_submissions6_LIWC.csv', low_memory=False)\n"
   ]
  },
  {
   "cell_type": "code",
   "execution_count": 33,
   "metadata": {},
   "outputs": [],
   "source": [
    "#Kaily's \n",
    "\n",
    "#df_comments = pd.read_csv(\"C:/Users/Kaily Mejia/Dropbox/Graduate Courses/Applied and Predictive Modeling/Final Project/opiates_comments6_LIWC.csv\" )\n",
    "#df_submissions = pd.read_csv('C:/Users/Kaily Mejia/Dropbox/Graduate Courses/Applied and Predictive Modeling/Final Project/opiates_submissions6_LIWC.csv', low_memory = False)\n"
   ]
  },
  {
   "cell_type": "code",
   "execution_count": 34,
   "metadata": {},
   "outputs": [
    {
     "data": {
      "text/html": [
       "<div>\n",
       "<style scoped>\n",
       "    .dataframe tbody tr th:only-of-type {\n",
       "        vertical-align: middle;\n",
       "    }\n",
       "\n",
       "    .dataframe tbody tr th {\n",
       "        vertical-align: top;\n",
       "    }\n",
       "\n",
       "    .dataframe thead th {\n",
       "        text-align: right;\n",
       "    }\n",
       "</style>\n",
       "<table border=\"1\" class=\"dataframe\">\n",
       "  <thead>\n",
       "    <tr style=\"text-align: right;\">\n",
       "      <th></th>\n",
       "      <th>author</th>\n",
       "      <th>created_utc</th>\n",
       "      <th>score</th>\n",
       "      <th>subreddit</th>\n",
       "      <th>WC</th>\n",
       "      <th>Analytic</th>\n",
       "      <th>Clout</th>\n",
       "      <th>Authentic</th>\n",
       "      <th>Tone</th>\n",
       "      <th>WPS</th>\n",
       "      <th>...</th>\n",
       "      <th>Comma</th>\n",
       "      <th>Colon</th>\n",
       "      <th>SemiC</th>\n",
       "      <th>QMark</th>\n",
       "      <th>Exclam</th>\n",
       "      <th>Dash</th>\n",
       "      <th>Quote</th>\n",
       "      <th>Apostro</th>\n",
       "      <th>Parenth</th>\n",
       "      <th>OtherP</th>\n",
       "    </tr>\n",
       "  </thead>\n",
       "  <tbody>\n",
       "    <tr>\n",
       "      <th>0</th>\n",
       "      <td>BoofDontShoot</td>\n",
       "      <td>1659067065</td>\n",
       "      <td>1</td>\n",
       "      <td>opiates</td>\n",
       "      <td>5</td>\n",
       "      <td>8.69</td>\n",
       "      <td>50.00</td>\n",
       "      <td>1.00</td>\n",
       "      <td>25.77</td>\n",
       "      <td>2.50</td>\n",
       "      <td>...</td>\n",
       "      <td>0.0</td>\n",
       "      <td>0.0</td>\n",
       "      <td>0.0</td>\n",
       "      <td>0.0</td>\n",
       "      <td>0.0</td>\n",
       "      <td>0.00</td>\n",
       "      <td>0.00</td>\n",
       "      <td>0.00</td>\n",
       "      <td>0.00</td>\n",
       "      <td>0.0</td>\n",
       "    </tr>\n",
       "    <tr>\n",
       "      <th>1</th>\n",
       "      <td>Busy_Background_195</td>\n",
       "      <td>1659067044</td>\n",
       "      <td>1</td>\n",
       "      <td>opiates</td>\n",
       "      <td>55</td>\n",
       "      <td>32.58</td>\n",
       "      <td>13.76</td>\n",
       "      <td>14.10</td>\n",
       "      <td>1.00</td>\n",
       "      <td>13.75</td>\n",
       "      <td>...</td>\n",
       "      <td>0.0</td>\n",
       "      <td>0.0</td>\n",
       "      <td>0.0</td>\n",
       "      <td>0.0</td>\n",
       "      <td>0.0</td>\n",
       "      <td>0.00</td>\n",
       "      <td>0.00</td>\n",
       "      <td>5.45</td>\n",
       "      <td>3.64</td>\n",
       "      <td>0.0</td>\n",
       "    </tr>\n",
       "    <tr>\n",
       "      <th>2</th>\n",
       "      <td>Wolf_Double</td>\n",
       "      <td>1659066949</td>\n",
       "      <td>1</td>\n",
       "      <td>opiates</td>\n",
       "      <td>6</td>\n",
       "      <td>1.00</td>\n",
       "      <td>95.20</td>\n",
       "      <td>23.51</td>\n",
       "      <td>99.00</td>\n",
       "      <td>6.00</td>\n",
       "      <td>...</td>\n",
       "      <td>0.0</td>\n",
       "      <td>0.0</td>\n",
       "      <td>0.0</td>\n",
       "      <td>0.0</td>\n",
       "      <td>0.0</td>\n",
       "      <td>0.00</td>\n",
       "      <td>0.00</td>\n",
       "      <td>0.00</td>\n",
       "      <td>0.00</td>\n",
       "      <td>0.0</td>\n",
       "    </tr>\n",
       "    <tr>\n",
       "      <th>3</th>\n",
       "      <td>Knowagoraaa</td>\n",
       "      <td>1659066905</td>\n",
       "      <td>1</td>\n",
       "      <td>opiates</td>\n",
       "      <td>39</td>\n",
       "      <td>71.92</td>\n",
       "      <td>60.13</td>\n",
       "      <td>99.00</td>\n",
       "      <td>73.64</td>\n",
       "      <td>13.00</td>\n",
       "      <td>...</td>\n",
       "      <td>0.0</td>\n",
       "      <td>0.0</td>\n",
       "      <td>0.0</td>\n",
       "      <td>0.0</td>\n",
       "      <td>0.0</td>\n",
       "      <td>2.56</td>\n",
       "      <td>0.00</td>\n",
       "      <td>5.13</td>\n",
       "      <td>0.00</td>\n",
       "      <td>0.0</td>\n",
       "    </tr>\n",
       "    <tr>\n",
       "      <th>4</th>\n",
       "      <td>Busy_Background_195</td>\n",
       "      <td>1659066875</td>\n",
       "      <td>1</td>\n",
       "      <td>opiates</td>\n",
       "      <td>75</td>\n",
       "      <td>24.37</td>\n",
       "      <td>29.68</td>\n",
       "      <td>14.56</td>\n",
       "      <td>2.41</td>\n",
       "      <td>25.00</td>\n",
       "      <td>...</td>\n",
       "      <td>0.0</td>\n",
       "      <td>0.0</td>\n",
       "      <td>0.0</td>\n",
       "      <td>0.0</td>\n",
       "      <td>0.0</td>\n",
       "      <td>0.00</td>\n",
       "      <td>2.67</td>\n",
       "      <td>4.00</td>\n",
       "      <td>0.00</td>\n",
       "      <td>0.0</td>\n",
       "    </tr>\n",
       "  </tbody>\n",
       "</table>\n",
       "<p>5 rows × 96 columns</p>\n",
       "</div>"
      ],
      "text/plain": [
       "                author  created_utc  score subreddit  WC  Analytic  Clout  \\\n",
       "0        BoofDontShoot   1659067065      1   opiates   5      8.69  50.00   \n",
       "1  Busy_Background_195   1659067044      1   opiates  55     32.58  13.76   \n",
       "2          Wolf_Double   1659066949      1   opiates   6      1.00  95.20   \n",
       "3          Knowagoraaa   1659066905      1   opiates  39     71.92  60.13   \n",
       "4  Busy_Background_195   1659066875      1   opiates  75     24.37  29.68   \n",
       "\n",
       "   Authentic   Tone    WPS  ...  Comma  Colon  SemiC  QMark  Exclam  Dash  \\\n",
       "0       1.00  25.77   2.50  ...    0.0    0.0    0.0    0.0     0.0  0.00   \n",
       "1      14.10   1.00  13.75  ...    0.0    0.0    0.0    0.0     0.0  0.00   \n",
       "2      23.51  99.00   6.00  ...    0.0    0.0    0.0    0.0     0.0  0.00   \n",
       "3      99.00  73.64  13.00  ...    0.0    0.0    0.0    0.0     0.0  2.56   \n",
       "4      14.56   2.41  25.00  ...    0.0    0.0    0.0    0.0     0.0  0.00   \n",
       "\n",
       "   Quote  Apostro  Parenth  OtherP  \n",
       "0   0.00     0.00     0.00     0.0  \n",
       "1   0.00     5.45     3.64     0.0  \n",
       "2   0.00     0.00     0.00     0.0  \n",
       "3   0.00     5.13     0.00     0.0  \n",
       "4   2.67     4.00     0.00     0.0  \n",
       "\n",
       "[5 rows x 96 columns]"
      ]
     },
     "execution_count": 34,
     "metadata": {},
     "output_type": "execute_result"
    }
   ],
   "source": [
    "#Structure of Comments dataset\n",
    "df_comments.head()"
   ]
  },
  {
   "cell_type": "code",
   "execution_count": 35,
   "metadata": {},
   "outputs": [
    {
     "data": {
      "text/html": [
       "<div>\n",
       "<style scoped>\n",
       "    .dataframe tbody tr th:only-of-type {\n",
       "        vertical-align: middle;\n",
       "    }\n",
       "\n",
       "    .dataframe tbody tr th {\n",
       "        vertical-align: top;\n",
       "    }\n",
       "\n",
       "    .dataframe thead th {\n",
       "        text-align: right;\n",
       "    }\n",
       "</style>\n",
       "<table border=\"1\" class=\"dataframe\">\n",
       "  <thead>\n",
       "    <tr style=\"text-align: right;\">\n",
       "      <th></th>\n",
       "      <th>author</th>\n",
       "      <th>title</th>\n",
       "      <th>created_utc</th>\n",
       "      <th>score</th>\n",
       "      <th>subreddit</th>\n",
       "      <th>WC</th>\n",
       "      <th>Analytic</th>\n",
       "      <th>Clout</th>\n",
       "      <th>Authentic</th>\n",
       "      <th>Tone</th>\n",
       "      <th>...</th>\n",
       "      <th>Comma</th>\n",
       "      <th>Colon</th>\n",
       "      <th>SemiC</th>\n",
       "      <th>QMark</th>\n",
       "      <th>Exclam</th>\n",
       "      <th>Dash</th>\n",
       "      <th>Quote</th>\n",
       "      <th>Apostro</th>\n",
       "      <th>Parenth</th>\n",
       "      <th>OtherP</th>\n",
       "    </tr>\n",
       "  </thead>\n",
       "  <tbody>\n",
       "    <tr>\n",
       "      <th>0</th>\n",
       "      <td>Odd-Pizza-1079</td>\n",
       "      <td>How much tylenol is too much? Asking for a fri...</td>\n",
       "      <td>1.659067e+09</td>\n",
       "      <td>1</td>\n",
       "      <td>opiates</td>\n",
       "      <td>12.0</td>\n",
       "      <td>18.82</td>\n",
       "      <td>79.76</td>\n",
       "      <td>1.79</td>\n",
       "      <td>25.77</td>\n",
       "      <td>...</td>\n",
       "      <td>0.0</td>\n",
       "      <td>0.0</td>\n",
       "      <td>0.00</td>\n",
       "      <td>8.33</td>\n",
       "      <td>0.00</td>\n",
       "      <td>0.00</td>\n",
       "      <td>0.0</td>\n",
       "      <td>0.0</td>\n",
       "      <td>16.67</td>\n",
       "      <td>0.00</td>\n",
       "    </tr>\n",
       "    <tr>\n",
       "      <th>1</th>\n",
       "      <td>Global_Face_4708</td>\n",
       "      <td>Gabapentin/Lyrica/Clonidine Through Telehealth?</td>\n",
       "      <td>1.659065e+09</td>\n",
       "      <td>1</td>\n",
       "      <td>opiates</td>\n",
       "      <td>5.0</td>\n",
       "      <td>99.00</td>\n",
       "      <td>50.00</td>\n",
       "      <td>1.00</td>\n",
       "      <td>25.77</td>\n",
       "      <td>...</td>\n",
       "      <td>0.0</td>\n",
       "      <td>0.0</td>\n",
       "      <td>0.00</td>\n",
       "      <td>20.00</td>\n",
       "      <td>0.00</td>\n",
       "      <td>0.00</td>\n",
       "      <td>0.0</td>\n",
       "      <td>0.0</td>\n",
       "      <td>0.00</td>\n",
       "      <td>40.00</td>\n",
       "    </tr>\n",
       "    <tr>\n",
       "      <th>2</th>\n",
       "      <td>Bluebeamtwinfn</td>\n",
       "      <td>Opiates prolonging finish/enhancing sex</td>\n",
       "      <td>1.659064e+09</td>\n",
       "      <td>1</td>\n",
       "      <td>opiates</td>\n",
       "      <td>5.0</td>\n",
       "      <td>93.26</td>\n",
       "      <td>50.00</td>\n",
       "      <td>43.37</td>\n",
       "      <td>25.77</td>\n",
       "      <td>...</td>\n",
       "      <td>0.0</td>\n",
       "      <td>0.0</td>\n",
       "      <td>0.00</td>\n",
       "      <td>0.00</td>\n",
       "      <td>0.00</td>\n",
       "      <td>0.00</td>\n",
       "      <td>0.0</td>\n",
       "      <td>0.0</td>\n",
       "      <td>0.00</td>\n",
       "      <td>20.00</td>\n",
       "    </tr>\n",
       "    <tr>\n",
       "      <th>3</th>\n",
       "      <td>iLoveLuckiii</td>\n",
       "      <td>Boost your oxy high! &amp;amp; Save money! (USE ON...</td>\n",
       "      <td>1.659063e+09</td>\n",
       "      <td>1</td>\n",
       "      <td>opiates</td>\n",
       "      <td>13.0</td>\n",
       "      <td>82.82</td>\n",
       "      <td>93.79</td>\n",
       "      <td>94.81</td>\n",
       "      <td>99.00</td>\n",
       "      <td>...</td>\n",
       "      <td>0.0</td>\n",
       "      <td>0.0</td>\n",
       "      <td>7.69</td>\n",
       "      <td>0.00</td>\n",
       "      <td>15.38</td>\n",
       "      <td>0.00</td>\n",
       "      <td>0.0</td>\n",
       "      <td>0.0</td>\n",
       "      <td>15.38</td>\n",
       "      <td>7.69</td>\n",
       "    </tr>\n",
       "    <tr>\n",
       "      <th>4</th>\n",
       "      <td>Downtown_Syrup4635</td>\n",
       "      <td>IOP Detox while working 9-5??</td>\n",
       "      <td>1.659061e+09</td>\n",
       "      <td>1</td>\n",
       "      <td>opiates</td>\n",
       "      <td>6.0</td>\n",
       "      <td>62.04</td>\n",
       "      <td>50.00</td>\n",
       "      <td>23.51</td>\n",
       "      <td>25.77</td>\n",
       "      <td>...</td>\n",
       "      <td>0.0</td>\n",
       "      <td>0.0</td>\n",
       "      <td>0.00</td>\n",
       "      <td>33.33</td>\n",
       "      <td>0.00</td>\n",
       "      <td>16.67</td>\n",
       "      <td>0.0</td>\n",
       "      <td>0.0</td>\n",
       "      <td>0.00</td>\n",
       "      <td>0.00</td>\n",
       "    </tr>\n",
       "  </tbody>\n",
       "</table>\n",
       "<p>5 rows × 98 columns</p>\n",
       "</div>"
      ],
      "text/plain": [
       "               author                                              title  \\\n",
       "0      Odd-Pizza-1079  How much tylenol is too much? Asking for a fri...   \n",
       "1    Global_Face_4708    Gabapentin/Lyrica/Clonidine Through Telehealth?   \n",
       "2      Bluebeamtwinfn            Opiates prolonging finish/enhancing sex   \n",
       "3        iLoveLuckiii  Boost your oxy high! &amp; Save money! (USE ON...   \n",
       "4  Downtown_Syrup4635                      IOP Detox while working 9-5??   \n",
       "\n",
       "    created_utc score subreddit    WC  Analytic  Clout  Authentic   Tone  ...  \\\n",
       "0  1.659067e+09     1   opiates  12.0     18.82  79.76       1.79  25.77  ...   \n",
       "1  1.659065e+09     1   opiates   5.0     99.00  50.00       1.00  25.77  ...   \n",
       "2  1.659064e+09     1   opiates   5.0     93.26  50.00      43.37  25.77  ...   \n",
       "3  1.659063e+09     1   opiates  13.0     82.82  93.79      94.81  99.00  ...   \n",
       "4  1.659061e+09     1   opiates   6.0     62.04  50.00      23.51  25.77  ...   \n",
       "\n",
       "   Comma  Colon  SemiC  QMark  Exclam   Dash  Quote  Apostro  Parenth  OtherP  \n",
       "0    0.0    0.0   0.00   8.33    0.00   0.00    0.0      0.0    16.67    0.00  \n",
       "1    0.0    0.0   0.00  20.00    0.00   0.00    0.0      0.0     0.00   40.00  \n",
       "2    0.0    0.0   0.00   0.00    0.00   0.00    0.0      0.0     0.00   20.00  \n",
       "3    0.0    0.0   7.69   0.00   15.38   0.00    0.0      0.0    15.38    7.69  \n",
       "4    0.0    0.0   0.00  33.33    0.00  16.67    0.0      0.0     0.00    0.00  \n",
       "\n",
       "[5 rows x 98 columns]"
      ]
     },
     "execution_count": 35,
     "metadata": {},
     "output_type": "execute_result"
    }
   ],
   "source": [
    "#Structure of Submissions dataset\n",
    "df_submissions.head()"
   ]
  },
  {
   "cell_type": "code",
   "execution_count": 36,
   "metadata": {},
   "outputs": [
    {
     "name": "stdout",
     "output_type": "stream",
     "text": [
      "1014397\n",
      "1014397\n",
      "79676\n",
      "79674\n"
     ]
    }
   ],
   "source": [
    "#Removing null values\n",
    "print(len(df_comments))\n",
    "df_comments = df_comments.dropna()\n",
    "print(len(df_comments))\n",
    "\n",
    "print(len(df_submissions))\n",
    "df_submissions = df_submissions.dropna()\n",
    "print(len(df_submissions))"
   ]
  },
  {
   "cell_type": "code",
   "execution_count": 37,
   "metadata": {},
   "outputs": [
    {
     "data": {
      "text/plain": [
       "'\\ndf_comments = df_comments.select_dtypes(include=[\\'float64\\', \\'int64\\'])\\n\\ncorrelation_matrix = df_comments.corr()\\n\\nplt.figure(figsize=(100, 80))\\nsns.heatmap(correlation_matrix, annot=True, cmap=\\'coolwarm\\', fmt=\".2f\")\\nplt.title(\\'Correlation Matrix Heatmap\\')\\nplt.show()\\n'"
      ]
     },
     "execution_count": 37,
     "metadata": {},
     "output_type": "execute_result"
    }
   ],
   "source": [
    "#only using numerical values for heatmap \n",
    "'''\n",
    "df_comments = df_comments.select_dtypes(include=['float64', 'int64'])\n",
    "\n",
    "correlation_matrix = df_comments.corr()\n",
    "\n",
    "plt.figure(figsize=(100, 80))\n",
    "sns.heatmap(correlation_matrix, annot=True, cmap='coolwarm', fmt=\".2f\")\n",
    "plt.title('Correlation Matrix Heatmap')\n",
    "plt.show()\n",
    "'''"
   ]
  },
  {
   "cell_type": "code",
   "execution_count": 38,
   "metadata": {},
   "outputs": [],
   "source": [
    "df_comments = df_comments[['author', 'created_utc','score', 'WC', 'Analytic', 'Clout', 'Authentic', 'Tone', 'WPS', 'Sixltr', 'Dic', 'pronoun', 'ppron', 'ipron', 'adverb', 'negate', 'verb', 'adj', 'compare', 'number', 'affect', 'posemo', 'negemo', 'anx', 'anger', 'sad', 'percept', 'feel', 'bio', 'health', 'sexual', 'ingest', 'risk', 'work', 'leisure', 'home', 'money', 'relig', 'death', 'informal', 'swear', 'netspeak', 'assent', 'nonflu', 'filler']]\n",
    "df_submissions = df_submissions[['author', 'title', 'created_utc','score', 'WC', 'Analytic', 'Clout', 'Authentic', 'Tone', 'pronoun', 'article', 'auxverb', 'adverb', 'conj', 'verb', 'adj', 'posemo', 'negemo', 'anx', 'anger', 'sad', 'percept','feel','cogproc', 'focuspast', 'focuspresent', 'focusfuture', 'work','informal','QMark']]"
   ]
  },
  {
   "cell_type": "code",
   "execution_count": 39,
   "metadata": {},
   "outputs": [
    {
     "data": {
      "text/plain": [
       "'\\nnumerical_df_submissions = df_submissions.select_dtypes(include=[\\'float64\\', \\'int64\\'])\\n\\n\\ncorrelation_matrix = numerical_df_submissions.corr()\\n\\nplt.figure(figsize=(100, 80))\\nsns.heatmap(correlation_matrix, annot=True, cmap=\\'coolwarm\\', fmt=\".2f\")\\nplt.title(\\'Correlation Matrix Heatmap\\')\\nplt.show()\\n'"
      ]
     },
     "execution_count": 39,
     "metadata": {},
     "output_type": "execute_result"
    }
   ],
   "source": [
    "#only using numerical values for heatmap \n",
    "'''\n",
    "numerical_df_submissions = df_submissions.select_dtypes(include=['float64', 'int64'])\n",
    "\n",
    "\n",
    "correlation_matrix = numerical_df_submissions.corr()\n",
    "\n",
    "plt.figure(figsize=(100, 80))\n",
    "sns.heatmap(correlation_matrix, annot=True, cmap='coolwarm', fmt=\".2f\")\n",
    "plt.title('Correlation Matrix Heatmap')\n",
    "plt.show()\n",
    "'''\n"
   ]
  },
  {
   "cell_type": "code",
   "execution_count": 40,
   "metadata": {},
   "outputs": [
    {
     "data": {
      "text/plain": [
       "'\\ndf_emo = df_submissions[[\\'Tone\\',\\'posemo\\',\\'negemo\\']]\\n\\ncorrelation_matrix = df_emo.corr()\\n\\nplt.figure(figsize=(10, 8))\\nsns.heatmap(correlation_matrix, annot=True, cmap=\\'coolwarm\\', fmt=\".2f\")\\nplt.title(\\'Correlation Matrix Heatmap\\')\\nplt.show()\\n'"
      ]
     },
     "execution_count": 40,
     "metadata": {},
     "output_type": "execute_result"
    }
   ],
   "source": [
    "'''\n",
    "df_emo = df_submissions[['Tone','posemo','negemo']]\n",
    "\n",
    "correlation_matrix = df_emo.corr()\n",
    "\n",
    "plt.figure(figsize=(10, 8))\n",
    "sns.heatmap(correlation_matrix, annot=True, cmap='coolwarm', fmt=\".2f\")\n",
    "plt.title('Correlation Matrix Heatmap')\n",
    "plt.show()\n",
    "'''"
   ]
  },
  {
   "cell_type": "code",
   "execution_count": 41,
   "metadata": {},
   "outputs": [],
   "source": [
    "#Converting created_utc to date time and year columns \n",
    "def extract_datetime(row):\n",
    "    timestamp = row['created_utc']\n",
    "    dt_object = datetime.datetime.fromtimestamp(timestamp)\n",
    "    return dt_object\n",
    "    \n",
    "\n",
    "# Applying the function to each row in the DataFrame and creating a new column\n",
    "df_submissions['Datetime'] = df_submissions.apply(extract_datetime, axis=1)\n",
    "df_comments['Datetime'] = df_submissions.apply(extract_datetime, axis=1)\n",
    "\n",
    "# Dropping the 'created_utc' column\n",
    "df_submissions.drop('created_utc', axis=1, inplace=True)\n",
    "df_comments.drop('created_utc', axis=1, inplace=True)\n",
    "\n",
    "# Inserting the 'Datetime' column\n",
    "datetime_column_submission = df_submissions.pop('Datetime')\n",
    "datetime_column_comment = df_comments.pop('Datetime')\n",
    "\n",
    "df_submissions.insert(2, 'Datetime', datetime_column_submission)\n",
    "df_comments.insert(1, 'Datetime', datetime_column_comment)\n",
    "\n",
    "# Define the bins for the seasons based on days of the year\n",
    "seasons_bins = [0, 80, 172, 264, 355, 366]\n",
    "seasons_labels = ['Winter', 'Spring', 'Summer', 'Fall', 'Winter']\n",
    "\n",
    "#Addind the values to the season column\n",
    "df_submissions['season'] = pd.cut(df_submissions['Datetime'].dt.dayofyear, bins=seasons_bins, labels=seasons_labels, ordered=False)\n",
    "df_comments['season'] = pd.cut(df_comments['Datetime'].dt.dayofyear, bins=seasons_bins, labels=seasons_labels, ordered=False)\n",
    "\n",
    "df_submissions.insert(3, 'season', df_submissions.pop('season'))\n",
    "df_comments.insert(2, 'season', df_comments.pop('season'))"
   ]
  },
  {
   "cell_type": "code",
   "execution_count": null,
   "metadata": {},
   "outputs": [
    {
     "data": {
      "text/html": [
       "<div>\n",
       "<style scoped>\n",
       "    .dataframe tbody tr th:only-of-type {\n",
       "        vertical-align: middle;\n",
       "    }\n",
       "\n",
       "    .dataframe tbody tr th {\n",
       "        vertical-align: top;\n",
       "    }\n",
       "\n",
       "    .dataframe thead th {\n",
       "        text-align: right;\n",
       "    }\n",
       "</style>\n",
       "<table border=\"1\" class=\"dataframe\">\n",
       "  <thead>\n",
       "    <tr style=\"text-align: right;\">\n",
       "      <th></th>\n",
       "      <th>author</th>\n",
       "      <th>Datetime</th>\n",
       "      <th>season</th>\n",
       "      <th>score</th>\n",
       "      <th>WC</th>\n",
       "      <th>Analytic</th>\n",
       "      <th>Clout</th>\n",
       "      <th>Authentic</th>\n",
       "      <th>Tone</th>\n",
       "      <th>WPS</th>\n",
       "      <th>...</th>\n",
       "      <th>home</th>\n",
       "      <th>money</th>\n",
       "      <th>relig</th>\n",
       "      <th>death</th>\n",
       "      <th>informal</th>\n",
       "      <th>swear</th>\n",
       "      <th>netspeak</th>\n",
       "      <th>assent</th>\n",
       "      <th>nonflu</th>\n",
       "      <th>filler</th>\n",
       "    </tr>\n",
       "  </thead>\n",
       "  <tbody>\n",
       "    <tr>\n",
       "      <th>0</th>\n",
       "      <td>BoofDontShoot</td>\n",
       "      <td>2022-07-28 23:50:15</td>\n",
       "      <td>Summer</td>\n",
       "      <td>1</td>\n",
       "      <td>5</td>\n",
       "      <td>8.69</td>\n",
       "      <td>50.00</td>\n",
       "      <td>1.00</td>\n",
       "      <td>25.77</td>\n",
       "      <td>2.50</td>\n",
       "      <td>...</td>\n",
       "      <td>0.0</td>\n",
       "      <td>0.00</td>\n",
       "      <td>0.00</td>\n",
       "      <td>0.00</td>\n",
       "      <td>20.00</td>\n",
       "      <td>0.00</td>\n",
       "      <td>20.00</td>\n",
       "      <td>0.00</td>\n",
       "      <td>0.0</td>\n",
       "      <td>0.0</td>\n",
       "    </tr>\n",
       "    <tr>\n",
       "      <th>1</th>\n",
       "      <td>Busy_Background_195</td>\n",
       "      <td>2022-07-28 23:22:43</td>\n",
       "      <td>Summer</td>\n",
       "      <td>1</td>\n",
       "      <td>55</td>\n",
       "      <td>32.58</td>\n",
       "      <td>13.76</td>\n",
       "      <td>14.10</td>\n",
       "      <td>1.00</td>\n",
       "      <td>13.75</td>\n",
       "      <td>...</td>\n",
       "      <td>0.0</td>\n",
       "      <td>0.00</td>\n",
       "      <td>0.00</td>\n",
       "      <td>1.82</td>\n",
       "      <td>7.27</td>\n",
       "      <td>3.64</td>\n",
       "      <td>1.82</td>\n",
       "      <td>0.00</td>\n",
       "      <td>0.0</td>\n",
       "      <td>0.0</td>\n",
       "    </tr>\n",
       "    <tr>\n",
       "      <th>2</th>\n",
       "      <td>Wolf_Double</td>\n",
       "      <td>2022-07-28 23:06:11</td>\n",
       "      <td>Summer</td>\n",
       "      <td>1</td>\n",
       "      <td>6</td>\n",
       "      <td>1.00</td>\n",
       "      <td>95.20</td>\n",
       "      <td>23.51</td>\n",
       "      <td>99.00</td>\n",
       "      <td>6.00</td>\n",
       "      <td>...</td>\n",
       "      <td>0.0</td>\n",
       "      <td>0.00</td>\n",
       "      <td>0.00</td>\n",
       "      <td>0.00</td>\n",
       "      <td>0.00</td>\n",
       "      <td>0.00</td>\n",
       "      <td>0.00</td>\n",
       "      <td>0.00</td>\n",
       "      <td>0.0</td>\n",
       "      <td>0.0</td>\n",
       "    </tr>\n",
       "    <tr>\n",
       "      <th>3</th>\n",
       "      <td>Knowagoraaa</td>\n",
       "      <td>2022-07-28 22:49:43</td>\n",
       "      <td>Summer</td>\n",
       "      <td>1</td>\n",
       "      <td>39</td>\n",
       "      <td>71.92</td>\n",
       "      <td>60.13</td>\n",
       "      <td>99.00</td>\n",
       "      <td>73.64</td>\n",
       "      <td>13.00</td>\n",
       "      <td>...</td>\n",
       "      <td>0.0</td>\n",
       "      <td>0.00</td>\n",
       "      <td>0.00</td>\n",
       "      <td>0.00</td>\n",
       "      <td>0.00</td>\n",
       "      <td>0.00</td>\n",
       "      <td>0.00</td>\n",
       "      <td>0.00</td>\n",
       "      <td>0.0</td>\n",
       "      <td>0.0</td>\n",
       "    </tr>\n",
       "    <tr>\n",
       "      <th>4</th>\n",
       "      <td>Busy_Background_195</td>\n",
       "      <td>2022-07-28 22:21:57</td>\n",
       "      <td>Summer</td>\n",
       "      <td>1</td>\n",
       "      <td>75</td>\n",
       "      <td>24.37</td>\n",
       "      <td>29.68</td>\n",
       "      <td>14.56</td>\n",
       "      <td>2.41</td>\n",
       "      <td>25.00</td>\n",
       "      <td>...</td>\n",
       "      <td>0.0</td>\n",
       "      <td>0.00</td>\n",
       "      <td>0.00</td>\n",
       "      <td>0.00</td>\n",
       "      <td>2.67</td>\n",
       "      <td>1.33</td>\n",
       "      <td>1.33</td>\n",
       "      <td>1.33</td>\n",
       "      <td>0.0</td>\n",
       "      <td>0.0</td>\n",
       "    </tr>\n",
       "    <tr>\n",
       "      <th>...</th>\n",
       "      <td>...</td>\n",
       "      <td>...</td>\n",
       "      <td>...</td>\n",
       "      <td>...</td>\n",
       "      <td>...</td>\n",
       "      <td>...</td>\n",
       "      <td>...</td>\n",
       "      <td>...</td>\n",
       "      <td>...</td>\n",
       "      <td>...</td>\n",
       "      <td>...</td>\n",
       "      <td>...</td>\n",
       "      <td>...</td>\n",
       "      <td>...</td>\n",
       "      <td>...</td>\n",
       "      <td>...</td>\n",
       "      <td>...</td>\n",
       "      <td>...</td>\n",
       "      <td>...</td>\n",
       "      <td>...</td>\n",
       "      <td>...</td>\n",
       "    </tr>\n",
       "    <tr>\n",
       "      <th>1014392</th>\n",
       "      <td>Virgowitch</td>\n",
       "      <td>NaT</td>\n",
       "      <td>NaN</td>\n",
       "      <td>2</td>\n",
       "      <td>5</td>\n",
       "      <td>1.00</td>\n",
       "      <td>50.00</td>\n",
       "      <td>43.37</td>\n",
       "      <td>99.00</td>\n",
       "      <td>5.00</td>\n",
       "      <td>...</td>\n",
       "      <td>0.0</td>\n",
       "      <td>0.00</td>\n",
       "      <td>0.00</td>\n",
       "      <td>0.00</td>\n",
       "      <td>0.00</td>\n",
       "      <td>0.00</td>\n",
       "      <td>0.00</td>\n",
       "      <td>0.00</td>\n",
       "      <td>0.0</td>\n",
       "      <td>0.0</td>\n",
       "    </tr>\n",
       "    <tr>\n",
       "      <th>1014393</th>\n",
       "      <td>DrewSkii1010</td>\n",
       "      <td>NaT</td>\n",
       "      <td>NaN</td>\n",
       "      <td>1</td>\n",
       "      <td>9</td>\n",
       "      <td>99.00</td>\n",
       "      <td>13.32</td>\n",
       "      <td>58.07</td>\n",
       "      <td>99.00</td>\n",
       "      <td>9.00</td>\n",
       "      <td>...</td>\n",
       "      <td>0.0</td>\n",
       "      <td>11.11</td>\n",
       "      <td>0.00</td>\n",
       "      <td>0.00</td>\n",
       "      <td>11.11</td>\n",
       "      <td>0.00</td>\n",
       "      <td>11.11</td>\n",
       "      <td>0.00</td>\n",
       "      <td>0.0</td>\n",
       "      <td>0.0</td>\n",
       "    </tr>\n",
       "    <tr>\n",
       "      <th>1014394</th>\n",
       "      <td>erischilde</td>\n",
       "      <td>NaT</td>\n",
       "      <td>NaN</td>\n",
       "      <td>1</td>\n",
       "      <td>104</td>\n",
       "      <td>7.27</td>\n",
       "      <td>89.42</td>\n",
       "      <td>63.54</td>\n",
       "      <td>43.27</td>\n",
       "      <td>10.40</td>\n",
       "      <td>...</td>\n",
       "      <td>0.0</td>\n",
       "      <td>0.00</td>\n",
       "      <td>0.00</td>\n",
       "      <td>0.00</td>\n",
       "      <td>2.88</td>\n",
       "      <td>1.92</td>\n",
       "      <td>0.00</td>\n",
       "      <td>0.00</td>\n",
       "      <td>0.0</td>\n",
       "      <td>0.0</td>\n",
       "    </tr>\n",
       "    <tr>\n",
       "      <th>1014395</th>\n",
       "      <td>dingobaybees</td>\n",
       "      <td>NaT</td>\n",
       "      <td>NaN</td>\n",
       "      <td>3</td>\n",
       "      <td>44</td>\n",
       "      <td>4.01</td>\n",
       "      <td>91.35</td>\n",
       "      <td>85.21</td>\n",
       "      <td>25.77</td>\n",
       "      <td>11.00</td>\n",
       "      <td>...</td>\n",
       "      <td>0.0</td>\n",
       "      <td>0.00</td>\n",
       "      <td>0.00</td>\n",
       "      <td>0.00</td>\n",
       "      <td>0.00</td>\n",
       "      <td>0.00</td>\n",
       "      <td>0.00</td>\n",
       "      <td>0.00</td>\n",
       "      <td>0.0</td>\n",
       "      <td>0.0</td>\n",
       "    </tr>\n",
       "    <tr>\n",
       "      <th>1014396</th>\n",
       "      <td>wonderwoman2381</td>\n",
       "      <td>NaT</td>\n",
       "      <td>NaN</td>\n",
       "      <td>2</td>\n",
       "      <td>69</td>\n",
       "      <td>83.62</td>\n",
       "      <td>87.68</td>\n",
       "      <td>86.20</td>\n",
       "      <td>1.00</td>\n",
       "      <td>13.80</td>\n",
       "      <td>...</td>\n",
       "      <td>0.0</td>\n",
       "      <td>2.90</td>\n",
       "      <td>1.45</td>\n",
       "      <td>0.00</td>\n",
       "      <td>2.90</td>\n",
       "      <td>2.90</td>\n",
       "      <td>0.00</td>\n",
       "      <td>0.00</td>\n",
       "      <td>0.0</td>\n",
       "      <td>0.0</td>\n",
       "    </tr>\n",
       "  </tbody>\n",
       "</table>\n",
       "<p>1014397 rows × 46 columns</p>\n",
       "</div>"
      ],
      "text/plain": [
       "                      author            Datetime  season  score   WC  \\\n",
       "0              BoofDontShoot 2022-07-28 23:50:15  Summer      1    5   \n",
       "1        Busy_Background_195 2022-07-28 23:22:43  Summer      1   55   \n",
       "2                Wolf_Double 2022-07-28 23:06:11  Summer      1    6   \n",
       "3                Knowagoraaa 2022-07-28 22:49:43  Summer      1   39   \n",
       "4        Busy_Background_195 2022-07-28 22:21:57  Summer      1   75   \n",
       "...                      ...                 ...     ...    ...  ...   \n",
       "1014392           Virgowitch                 NaT     NaN      2    5   \n",
       "1014393         DrewSkii1010                 NaT     NaN      1    9   \n",
       "1014394           erischilde                 NaT     NaN      1  104   \n",
       "1014395         dingobaybees                 NaT     NaN      3   44   \n",
       "1014396      wonderwoman2381                 NaT     NaN      2   69   \n",
       "\n",
       "         Analytic  Clout  Authentic   Tone    WPS  ...  home  money  relig  \\\n",
       "0            8.69  50.00       1.00  25.77   2.50  ...   0.0   0.00   0.00   \n",
       "1           32.58  13.76      14.10   1.00  13.75  ...   0.0   0.00   0.00   \n",
       "2            1.00  95.20      23.51  99.00   6.00  ...   0.0   0.00   0.00   \n",
       "3           71.92  60.13      99.00  73.64  13.00  ...   0.0   0.00   0.00   \n",
       "4           24.37  29.68      14.56   2.41  25.00  ...   0.0   0.00   0.00   \n",
       "...           ...    ...        ...    ...    ...  ...   ...    ...    ...   \n",
       "1014392      1.00  50.00      43.37  99.00   5.00  ...   0.0   0.00   0.00   \n",
       "1014393     99.00  13.32      58.07  99.00   9.00  ...   0.0  11.11   0.00   \n",
       "1014394      7.27  89.42      63.54  43.27  10.40  ...   0.0   0.00   0.00   \n",
       "1014395      4.01  91.35      85.21  25.77  11.00  ...   0.0   0.00   0.00   \n",
       "1014396     83.62  87.68      86.20   1.00  13.80  ...   0.0   2.90   1.45   \n",
       "\n",
       "         death  informal  swear  netspeak  assent  nonflu  filler  \n",
       "0         0.00     20.00   0.00     20.00    0.00     0.0     0.0  \n",
       "1         1.82      7.27   3.64      1.82    0.00     0.0     0.0  \n",
       "2         0.00      0.00   0.00      0.00    0.00     0.0     0.0  \n",
       "3         0.00      0.00   0.00      0.00    0.00     0.0     0.0  \n",
       "4         0.00      2.67   1.33      1.33    1.33     0.0     0.0  \n",
       "...        ...       ...    ...       ...     ...     ...     ...  \n",
       "1014392   0.00      0.00   0.00      0.00    0.00     0.0     0.0  \n",
       "1014393   0.00     11.11   0.00     11.11    0.00     0.0     0.0  \n",
       "1014394   0.00      2.88   1.92      0.00    0.00     0.0     0.0  \n",
       "1014395   0.00      0.00   0.00      0.00    0.00     0.0     0.0  \n",
       "1014396   0.00      2.90   2.90      0.00    0.00     0.0     0.0  \n",
       "\n",
       "[1014397 rows x 46 columns]"
      ]
     },
     "execution_count": 19,
     "metadata": {},
     "output_type": "execute_result"
    },
    {
     "data": {
      "text/html": [
       "<div>\n",
       "<style scoped>\n",
       "    .dataframe tbody tr th:only-of-type {\n",
       "        vertical-align: middle;\n",
       "    }\n",
       "\n",
       "    .dataframe tbody tr th {\n",
       "        vertical-align: top;\n",
       "    }\n",
       "\n",
       "    .dataframe thead th {\n",
       "        text-align: right;\n",
       "    }\n",
       "</style>\n",
       "<table border=\"1\" class=\"dataframe\">\n",
       "  <thead>\n",
       "    <tr style=\"text-align: right;\">\n",
       "      <th></th>\n",
       "      <th>author</th>\n",
       "      <th>Datetime</th>\n",
       "      <th>season</th>\n",
       "      <th>score</th>\n",
       "      <th>WC</th>\n",
       "      <th>Analytic</th>\n",
       "      <th>Clout</th>\n",
       "      <th>Authentic</th>\n",
       "      <th>Tone</th>\n",
       "      <th>WPS</th>\n",
       "      <th>...</th>\n",
       "      <th>home</th>\n",
       "      <th>money</th>\n",
       "      <th>relig</th>\n",
       "      <th>death</th>\n",
       "      <th>informal</th>\n",
       "      <th>swear</th>\n",
       "      <th>netspeak</th>\n",
       "      <th>assent</th>\n",
       "      <th>nonflu</th>\n",
       "      <th>filler</th>\n",
       "    </tr>\n",
       "  </thead>\n",
       "  <tbody>\n",
       "    <tr>\n",
       "      <th>0</th>\n",
       "      <td>BoofDontShoot</td>\n",
       "      <td>2022-07-28 23:50:15</td>\n",
       "      <td>Summer</td>\n",
       "      <td>1</td>\n",
       "      <td>5</td>\n",
       "      <td>8.69</td>\n",
       "      <td>50.00</td>\n",
       "      <td>1.00</td>\n",
       "      <td>25.77</td>\n",
       "      <td>2.50</td>\n",
       "      <td>...</td>\n",
       "      <td>0.0</td>\n",
       "      <td>0.00</td>\n",
       "      <td>0.00</td>\n",
       "      <td>0.00</td>\n",
       "      <td>20.00</td>\n",
       "      <td>0.00</td>\n",
       "      <td>20.00</td>\n",
       "      <td>0.00</td>\n",
       "      <td>0.0</td>\n",
       "      <td>0.0</td>\n",
       "    </tr>\n",
       "    <tr>\n",
       "      <th>1</th>\n",
       "      <td>Busy_Background_195</td>\n",
       "      <td>2022-07-28 23:22:43</td>\n",
       "      <td>Summer</td>\n",
       "      <td>1</td>\n",
       "      <td>55</td>\n",
       "      <td>32.58</td>\n",
       "      <td>13.76</td>\n",
       "      <td>14.10</td>\n",
       "      <td>1.00</td>\n",
       "      <td>13.75</td>\n",
       "      <td>...</td>\n",
       "      <td>0.0</td>\n",
       "      <td>0.00</td>\n",
       "      <td>0.00</td>\n",
       "      <td>1.82</td>\n",
       "      <td>7.27</td>\n",
       "      <td>3.64</td>\n",
       "      <td>1.82</td>\n",
       "      <td>0.00</td>\n",
       "      <td>0.0</td>\n",
       "      <td>0.0</td>\n",
       "    </tr>\n",
       "    <tr>\n",
       "      <th>2</th>\n",
       "      <td>Wolf_Double</td>\n",
       "      <td>2022-07-28 23:06:11</td>\n",
       "      <td>Summer</td>\n",
       "      <td>1</td>\n",
       "      <td>6</td>\n",
       "      <td>1.00</td>\n",
       "      <td>95.20</td>\n",
       "      <td>23.51</td>\n",
       "      <td>99.00</td>\n",
       "      <td>6.00</td>\n",
       "      <td>...</td>\n",
       "      <td>0.0</td>\n",
       "      <td>0.00</td>\n",
       "      <td>0.00</td>\n",
       "      <td>0.00</td>\n",
       "      <td>0.00</td>\n",
       "      <td>0.00</td>\n",
       "      <td>0.00</td>\n",
       "      <td>0.00</td>\n",
       "      <td>0.0</td>\n",
       "      <td>0.0</td>\n",
       "    </tr>\n",
       "    <tr>\n",
       "      <th>3</th>\n",
       "      <td>Knowagoraaa</td>\n",
       "      <td>2022-07-28 22:49:43</td>\n",
       "      <td>Summer</td>\n",
       "      <td>1</td>\n",
       "      <td>39</td>\n",
       "      <td>71.92</td>\n",
       "      <td>60.13</td>\n",
       "      <td>99.00</td>\n",
       "      <td>73.64</td>\n",
       "      <td>13.00</td>\n",
       "      <td>...</td>\n",
       "      <td>0.0</td>\n",
       "      <td>0.00</td>\n",
       "      <td>0.00</td>\n",
       "      <td>0.00</td>\n",
       "      <td>0.00</td>\n",
       "      <td>0.00</td>\n",
       "      <td>0.00</td>\n",
       "      <td>0.00</td>\n",
       "      <td>0.0</td>\n",
       "      <td>0.0</td>\n",
       "    </tr>\n",
       "    <tr>\n",
       "      <th>4</th>\n",
       "      <td>Busy_Background_195</td>\n",
       "      <td>2022-07-28 22:21:57</td>\n",
       "      <td>Summer</td>\n",
       "      <td>1</td>\n",
       "      <td>75</td>\n",
       "      <td>24.37</td>\n",
       "      <td>29.68</td>\n",
       "      <td>14.56</td>\n",
       "      <td>2.41</td>\n",
       "      <td>25.00</td>\n",
       "      <td>...</td>\n",
       "      <td>0.0</td>\n",
       "      <td>0.00</td>\n",
       "      <td>0.00</td>\n",
       "      <td>0.00</td>\n",
       "      <td>2.67</td>\n",
       "      <td>1.33</td>\n",
       "      <td>1.33</td>\n",
       "      <td>1.33</td>\n",
       "      <td>0.0</td>\n",
       "      <td>0.0</td>\n",
       "    </tr>\n",
       "    <tr>\n",
       "      <th>...</th>\n",
       "      <td>...</td>\n",
       "      <td>...</td>\n",
       "      <td>...</td>\n",
       "      <td>...</td>\n",
       "      <td>...</td>\n",
       "      <td>...</td>\n",
       "      <td>...</td>\n",
       "      <td>...</td>\n",
       "      <td>...</td>\n",
       "      <td>...</td>\n",
       "      <td>...</td>\n",
       "      <td>...</td>\n",
       "      <td>...</td>\n",
       "      <td>...</td>\n",
       "      <td>...</td>\n",
       "      <td>...</td>\n",
       "      <td>...</td>\n",
       "      <td>...</td>\n",
       "      <td>...</td>\n",
       "      <td>...</td>\n",
       "      <td>...</td>\n",
       "    </tr>\n",
       "    <tr>\n",
       "      <th>1014392</th>\n",
       "      <td>Virgowitch</td>\n",
       "      <td>NaT</td>\n",
       "      <td>NaN</td>\n",
       "      <td>2</td>\n",
       "      <td>5</td>\n",
       "      <td>1.00</td>\n",
       "      <td>50.00</td>\n",
       "      <td>43.37</td>\n",
       "      <td>99.00</td>\n",
       "      <td>5.00</td>\n",
       "      <td>...</td>\n",
       "      <td>0.0</td>\n",
       "      <td>0.00</td>\n",
       "      <td>0.00</td>\n",
       "      <td>0.00</td>\n",
       "      <td>0.00</td>\n",
       "      <td>0.00</td>\n",
       "      <td>0.00</td>\n",
       "      <td>0.00</td>\n",
       "      <td>0.0</td>\n",
       "      <td>0.0</td>\n",
       "    </tr>\n",
       "    <tr>\n",
       "      <th>1014393</th>\n",
       "      <td>DrewSkii1010</td>\n",
       "      <td>NaT</td>\n",
       "      <td>NaN</td>\n",
       "      <td>1</td>\n",
       "      <td>9</td>\n",
       "      <td>99.00</td>\n",
       "      <td>13.32</td>\n",
       "      <td>58.07</td>\n",
       "      <td>99.00</td>\n",
       "      <td>9.00</td>\n",
       "      <td>...</td>\n",
       "      <td>0.0</td>\n",
       "      <td>11.11</td>\n",
       "      <td>0.00</td>\n",
       "      <td>0.00</td>\n",
       "      <td>11.11</td>\n",
       "      <td>0.00</td>\n",
       "      <td>11.11</td>\n",
       "      <td>0.00</td>\n",
       "      <td>0.0</td>\n",
       "      <td>0.0</td>\n",
       "    </tr>\n",
       "    <tr>\n",
       "      <th>1014394</th>\n",
       "      <td>erischilde</td>\n",
       "      <td>NaT</td>\n",
       "      <td>NaN</td>\n",
       "      <td>1</td>\n",
       "      <td>104</td>\n",
       "      <td>7.27</td>\n",
       "      <td>89.42</td>\n",
       "      <td>63.54</td>\n",
       "      <td>43.27</td>\n",
       "      <td>10.40</td>\n",
       "      <td>...</td>\n",
       "      <td>0.0</td>\n",
       "      <td>0.00</td>\n",
       "      <td>0.00</td>\n",
       "      <td>0.00</td>\n",
       "      <td>2.88</td>\n",
       "      <td>1.92</td>\n",
       "      <td>0.00</td>\n",
       "      <td>0.00</td>\n",
       "      <td>0.0</td>\n",
       "      <td>0.0</td>\n",
       "    </tr>\n",
       "    <tr>\n",
       "      <th>1014395</th>\n",
       "      <td>dingobaybees</td>\n",
       "      <td>NaT</td>\n",
       "      <td>NaN</td>\n",
       "      <td>3</td>\n",
       "      <td>44</td>\n",
       "      <td>4.01</td>\n",
       "      <td>91.35</td>\n",
       "      <td>85.21</td>\n",
       "      <td>25.77</td>\n",
       "      <td>11.00</td>\n",
       "      <td>...</td>\n",
       "      <td>0.0</td>\n",
       "      <td>0.00</td>\n",
       "      <td>0.00</td>\n",
       "      <td>0.00</td>\n",
       "      <td>0.00</td>\n",
       "      <td>0.00</td>\n",
       "      <td>0.00</td>\n",
       "      <td>0.00</td>\n",
       "      <td>0.0</td>\n",
       "      <td>0.0</td>\n",
       "    </tr>\n",
       "    <tr>\n",
       "      <th>1014396</th>\n",
       "      <td>wonderwoman2381</td>\n",
       "      <td>NaT</td>\n",
       "      <td>NaN</td>\n",
       "      <td>2</td>\n",
       "      <td>69</td>\n",
       "      <td>83.62</td>\n",
       "      <td>87.68</td>\n",
       "      <td>86.20</td>\n",
       "      <td>1.00</td>\n",
       "      <td>13.80</td>\n",
       "      <td>...</td>\n",
       "      <td>0.0</td>\n",
       "      <td>2.90</td>\n",
       "      <td>1.45</td>\n",
       "      <td>0.00</td>\n",
       "      <td>2.90</td>\n",
       "      <td>2.90</td>\n",
       "      <td>0.00</td>\n",
       "      <td>0.00</td>\n",
       "      <td>0.0</td>\n",
       "      <td>0.0</td>\n",
       "    </tr>\n",
       "  </tbody>\n",
       "</table>\n",
       "<p>1014397 rows × 46 columns</p>\n",
       "</div>"
      ],
      "text/plain": [
       "                      author            Datetime  season  score   WC  \\\n",
       "0              BoofDontShoot 2022-07-28 23:50:15  Summer      1    5   \n",
       "1        Busy_Background_195 2022-07-28 23:22:43  Summer      1   55   \n",
       "2                Wolf_Double 2022-07-28 23:06:11  Summer      1    6   \n",
       "3                Knowagoraaa 2022-07-28 22:49:43  Summer      1   39   \n",
       "4        Busy_Background_195 2022-07-28 22:21:57  Summer      1   75   \n",
       "...                      ...                 ...     ...    ...  ...   \n",
       "1014392           Virgowitch                 NaT     NaN      2    5   \n",
       "1014393         DrewSkii1010                 NaT     NaN      1    9   \n",
       "1014394           erischilde                 NaT     NaN      1  104   \n",
       "1014395         dingobaybees                 NaT     NaN      3   44   \n",
       "1014396      wonderwoman2381                 NaT     NaN      2   69   \n",
       "\n",
       "         Analytic  Clout  Authentic   Tone    WPS  ...  home  money  relig  \\\n",
       "0            8.69  50.00       1.00  25.77   2.50  ...   0.0   0.00   0.00   \n",
       "1           32.58  13.76      14.10   1.00  13.75  ...   0.0   0.00   0.00   \n",
       "2            1.00  95.20      23.51  99.00   6.00  ...   0.0   0.00   0.00   \n",
       "3           71.92  60.13      99.00  73.64  13.00  ...   0.0   0.00   0.00   \n",
       "4           24.37  29.68      14.56   2.41  25.00  ...   0.0   0.00   0.00   \n",
       "...           ...    ...        ...    ...    ...  ...   ...    ...    ...   \n",
       "1014392      1.00  50.00      43.37  99.00   5.00  ...   0.0   0.00   0.00   \n",
       "1014393     99.00  13.32      58.07  99.00   9.00  ...   0.0  11.11   0.00   \n",
       "1014394      7.27  89.42      63.54  43.27  10.40  ...   0.0   0.00   0.00   \n",
       "1014395      4.01  91.35      85.21  25.77  11.00  ...   0.0   0.00   0.00   \n",
       "1014396     83.62  87.68      86.20   1.00  13.80  ...   0.0   2.90   1.45   \n",
       "\n",
       "         death  informal  swear  netspeak  assent  nonflu  filler  \n",
       "0         0.00     20.00   0.00     20.00    0.00     0.0     0.0  \n",
       "1         1.82      7.27   3.64      1.82    0.00     0.0     0.0  \n",
       "2         0.00      0.00   0.00      0.00    0.00     0.0     0.0  \n",
       "3         0.00      0.00   0.00      0.00    0.00     0.0     0.0  \n",
       "4         0.00      2.67   1.33      1.33    1.33     0.0     0.0  \n",
       "...        ...       ...    ...       ...     ...     ...     ...  \n",
       "1014392   0.00      0.00   0.00      0.00    0.00     0.0     0.0  \n",
       "1014393   0.00     11.11   0.00     11.11    0.00     0.0     0.0  \n",
       "1014394   0.00      2.88   1.92      0.00    0.00     0.0     0.0  \n",
       "1014395   0.00      0.00   0.00      0.00    0.00     0.0     0.0  \n",
       "1014396   0.00      2.90   2.90      0.00    0.00     0.0     0.0  \n",
       "\n",
       "[1014397 rows x 46 columns]"
      ]
     },
     "execution_count": 42,
     "metadata": {},
     "output_type": "execute_result"
    }
   ],
   "source": [
    "df_comments"
   ]
  },
  {
   "cell_type": "code",
   "execution_count": null,
   "metadata": {},
   "outputs": [
    {
     "data": {
      "text/html": [
       "<div>\n",
       "<style scoped>\n",
       "    .dataframe tbody tr th:only-of-type {\n",
       "        vertical-align: middle;\n",
       "    }\n",
       "\n",
       "    .dataframe tbody tr th {\n",
       "        vertical-align: top;\n",
       "    }\n",
       "\n",
       "    .dataframe thead th {\n",
       "        text-align: right;\n",
       "    }\n",
       "</style>\n",
       "<table border=\"1\" class=\"dataframe\">\n",
       "  <thead>\n",
       "    <tr style=\"text-align: right;\">\n",
       "      <th></th>\n",
       "      <th>author</th>\n",
       "      <th>title</th>\n",
       "      <th>Datetime</th>\n",
       "      <th>season</th>\n",
       "      <th>score</th>\n",
       "      <th>WC</th>\n",
       "      <th>Analytic</th>\n",
       "      <th>Clout</th>\n",
       "      <th>Authentic</th>\n",
       "      <th>Tone</th>\n",
       "      <th>...</th>\n",
       "      <th>sad</th>\n",
       "      <th>percept</th>\n",
       "      <th>feel</th>\n",
       "      <th>cogproc</th>\n",
       "      <th>focuspast</th>\n",
       "      <th>focuspresent</th>\n",
       "      <th>focusfuture</th>\n",
       "      <th>work</th>\n",
       "      <th>informal</th>\n",
       "      <th>QMark</th>\n",
       "    </tr>\n",
       "  </thead>\n",
       "  <tbody>\n",
       "    <tr>\n",
       "      <th>0</th>\n",
       "      <td>Odd-Pizza-1079</td>\n",
       "      <td>How much tylenol is too much? Asking for a fri...</td>\n",
       "      <td>2022-07-28 23:50:15</td>\n",
       "      <td>Summer</td>\n",
       "      <td>1</td>\n",
       "      <td>12.0</td>\n",
       "      <td>18.82</td>\n",
       "      <td>79.76</td>\n",
       "      <td>1.79</td>\n",
       "      <td>25.77</td>\n",
       "      <td>...</td>\n",
       "      <td>0.0</td>\n",
       "      <td>0.0</td>\n",
       "      <td>0.0</td>\n",
       "      <td>16.67</td>\n",
       "      <td>0.0</td>\n",
       "      <td>16.67</td>\n",
       "      <td>0.0</td>\n",
       "      <td>0.00</td>\n",
       "      <td>0.0</td>\n",
       "      <td>8.33</td>\n",
       "    </tr>\n",
       "    <tr>\n",
       "      <th>1</th>\n",
       "      <td>Global_Face_4708</td>\n",
       "      <td>Gabapentin/Lyrica/Clonidine Through Telehealth?</td>\n",
       "      <td>2022-07-28 23:22:43</td>\n",
       "      <td>Summer</td>\n",
       "      <td>1</td>\n",
       "      <td>5.0</td>\n",
       "      <td>99.00</td>\n",
       "      <td>50.00</td>\n",
       "      <td>1.00</td>\n",
       "      <td>25.77</td>\n",
       "      <td>...</td>\n",
       "      <td>0.0</td>\n",
       "      <td>0.0</td>\n",
       "      <td>0.0</td>\n",
       "      <td>0.00</td>\n",
       "      <td>0.0</td>\n",
       "      <td>0.00</td>\n",
       "      <td>0.0</td>\n",
       "      <td>0.00</td>\n",
       "      <td>0.0</td>\n",
       "      <td>20.00</td>\n",
       "    </tr>\n",
       "    <tr>\n",
       "      <th>2</th>\n",
       "      <td>Bluebeamtwinfn</td>\n",
       "      <td>Opiates prolonging finish/enhancing sex</td>\n",
       "      <td>2022-07-28 23:06:11</td>\n",
       "      <td>Summer</td>\n",
       "      <td>1</td>\n",
       "      <td>5.0</td>\n",
       "      <td>93.26</td>\n",
       "      <td>50.00</td>\n",
       "      <td>43.37</td>\n",
       "      <td>25.77</td>\n",
       "      <td>...</td>\n",
       "      <td>0.0</td>\n",
       "      <td>0.0</td>\n",
       "      <td>0.0</td>\n",
       "      <td>0.00</td>\n",
       "      <td>0.0</td>\n",
       "      <td>0.00</td>\n",
       "      <td>0.0</td>\n",
       "      <td>0.00</td>\n",
       "      <td>0.0</td>\n",
       "      <td>0.00</td>\n",
       "    </tr>\n",
       "    <tr>\n",
       "      <th>3</th>\n",
       "      <td>iLoveLuckiii</td>\n",
       "      <td>Boost your oxy high! &amp;amp; Save money! (USE ON...</td>\n",
       "      <td>2022-07-28 22:49:43</td>\n",
       "      <td>Summer</td>\n",
       "      <td>1</td>\n",
       "      <td>13.0</td>\n",
       "      <td>82.82</td>\n",
       "      <td>93.79</td>\n",
       "      <td>94.81</td>\n",
       "      <td>99.00</td>\n",
       "      <td>...</td>\n",
       "      <td>0.0</td>\n",
       "      <td>0.0</td>\n",
       "      <td>0.0</td>\n",
       "      <td>7.69</td>\n",
       "      <td>0.0</td>\n",
       "      <td>15.38</td>\n",
       "      <td>0.0</td>\n",
       "      <td>0.00</td>\n",
       "      <td>0.0</td>\n",
       "      <td>0.00</td>\n",
       "    </tr>\n",
       "    <tr>\n",
       "      <th>4</th>\n",
       "      <td>Downtown_Syrup4635</td>\n",
       "      <td>IOP Detox while working 9-5??</td>\n",
       "      <td>2022-07-28 22:21:57</td>\n",
       "      <td>Summer</td>\n",
       "      <td>1</td>\n",
       "      <td>6.0</td>\n",
       "      <td>62.04</td>\n",
       "      <td>50.00</td>\n",
       "      <td>23.51</td>\n",
       "      <td>25.77</td>\n",
       "      <td>...</td>\n",
       "      <td>0.0</td>\n",
       "      <td>0.0</td>\n",
       "      <td>0.0</td>\n",
       "      <td>0.00</td>\n",
       "      <td>0.0</td>\n",
       "      <td>0.00</td>\n",
       "      <td>0.0</td>\n",
       "      <td>16.67</td>\n",
       "      <td>0.0</td>\n",
       "      <td>33.33</td>\n",
       "    </tr>\n",
       "  </tbody>\n",
       "</table>\n",
       "<p>5 rows × 31 columns</p>\n",
       "</div>"
      ],
      "text/plain": [
       "               author                                              title  \\\n",
       "0      Odd-Pizza-1079  How much tylenol is too much? Asking for a fri...   \n",
       "1    Global_Face_4708    Gabapentin/Lyrica/Clonidine Through Telehealth?   \n",
       "2      Bluebeamtwinfn            Opiates prolonging finish/enhancing sex   \n",
       "3        iLoveLuckiii  Boost your oxy high! &amp; Save money! (USE ON...   \n",
       "4  Downtown_Syrup4635                      IOP Detox while working 9-5??   \n",
       "\n",
       "             Datetime  season score    WC  Analytic  Clout  Authentic   Tone  \\\n",
       "0 2022-07-28 23:50:15  Summer     1  12.0     18.82  79.76       1.79  25.77   \n",
       "1 2022-07-28 23:22:43  Summer     1   5.0     99.00  50.00       1.00  25.77   \n",
       "2 2022-07-28 23:06:11  Summer     1   5.0     93.26  50.00      43.37  25.77   \n",
       "3 2022-07-28 22:49:43  Summer     1  13.0     82.82  93.79      94.81  99.00   \n",
       "4 2022-07-28 22:21:57  Summer     1   6.0     62.04  50.00      23.51  25.77   \n",
       "\n",
       "   ...  sad  percept  feel  cogproc  focuspast  focuspresent  focusfuture  \\\n",
       "0  ...  0.0      0.0   0.0    16.67        0.0         16.67          0.0   \n",
       "1  ...  0.0      0.0   0.0     0.00        0.0          0.00          0.0   \n",
       "2  ...  0.0      0.0   0.0     0.00        0.0          0.00          0.0   \n",
       "3  ...  0.0      0.0   0.0     7.69        0.0         15.38          0.0   \n",
       "4  ...  0.0      0.0   0.0     0.00        0.0          0.00          0.0   \n",
       "\n",
       "    work  informal  QMark  \n",
       "0   0.00       0.0   8.33  \n",
       "1   0.00       0.0  20.00  \n",
       "2   0.00       0.0   0.00  \n",
       "3   0.00       0.0   0.00  \n",
       "4  16.67       0.0  33.33  \n",
       "\n",
       "[5 rows x 31 columns]"
      ]
     },
     "execution_count": 20,
     "metadata": {},
     "output_type": "execute_result"
    }
   ],
   "source": [
    "df_submissions.head()"
   ]
  },
  {
   "cell_type": "code",
   "execution_count": null,
   "metadata": {},
   "outputs": [
    {
     "name": "stderr",
     "output_type": "stream",
     "text": [
      "[nltk_data] Downloading package stopwords to\n",
      "[nltk_data]     /Users/amadouyehara/nltk_data...\n",
      "[nltk_data]   Package stopwords is already up-to-date!\n"
     ]
    },
    {
     "data": {
      "text/plain": [
       "0    much tylenol much asking friend actually\n",
       "1        gabapentinlyricaclonidine telehealth\n",
       "2      opiates prolonging finishenhancing sex\n",
       "3           boost oxy high amp save money use\n",
       "4                        iop detox working 95\n",
       "Name: title, dtype: object"
      ]
     },
     "execution_count": 21,
     "metadata": {},
     "output_type": "execute_result"
    }
   ],
   "source": [
    "#Natural Language Processing for Title columns \n",
    "\n",
    "nltk.download('stopwords')\n",
    "swords = stopwords.words('english')\n",
    "#Removing the word 'not' to avoid consfusion from negative to positive sentiment\n",
    "swords.remove('not')\n",
    "\n",
    "df_submissions['title_nlp'] = df_submissions['title'].apply(lambda x: re.sub(r'[^a-zA-Z\\d\\s.]', '', x.lower()))\n",
    "df_submissions['title_nlp'] = df_submissions['title'].apply(lambda x: x.replace('.', ' '))\n",
    "df_submissions['title_nlp'] = df_submissions['title'].apply(lambda x: ' '.join([t for t in x.split(' ') if (t not in swords) and len(t) > 1]))\n",
    "df_submissions['title_nlp'].head()"
   ]
  },
  {
   "cell_type": "code",
   "execution_count": null,
   "metadata": {},
   "outputs": [
    {
     "data": {
      "application/vnd.jupyter.widget-view+json": {
       "model_id": "d93065a1c233403490f9e4b81ede45b6",
       "version_major": 2,
       "version_minor": 0
      },
      "text/plain": [
       "modules.json:   0%|          | 0.00/349 [00:00<?, ?B/s]"
      ]
     },
     "metadata": {},
     "output_type": "display_data"
    },
    {
     "data": {
      "application/vnd.jupyter.widget-view+json": {
       "model_id": "e704805ef0424d3fbb3aea9785f1f7b7",
       "version_major": 2,
       "version_minor": 0
      },
      "text/plain": [
       "config_sentence_transformers.json:   0%|          | 0.00/116 [00:00<?, ?B/s]"
      ]
     },
     "metadata": {},
     "output_type": "display_data"
    },
    {
     "data": {
      "application/vnd.jupyter.widget-view+json": {
       "model_id": "de01db76c1864fa7a32295d423db56b4",
       "version_major": 2,
       "version_minor": 0
      },
      "text/plain": [
       "README.md:   0%|          | 0.00/10.7k [00:00<?, ?B/s]"
      ]
     },
     "metadata": {},
     "output_type": "display_data"
    },
    {
     "data": {
      "application/vnd.jupyter.widget-view+json": {
       "model_id": "219a9590b4ad4917bb0494002ea7fd36",
       "version_major": 2,
       "version_minor": 0
      },
      "text/plain": [
       "sentence_bert_config.json:   0%|          | 0.00/53.0 [00:00<?, ?B/s]"
      ]
     },
     "metadata": {},
     "output_type": "display_data"
    },
    {
     "data": {
      "application/vnd.jupyter.widget-view+json": {
       "model_id": "754ec21f8a1c41348d6cb5e1e4113bd2",
       "version_major": 2,
       "version_minor": 0
      },
      "text/plain": [
       "config.json:   0%|          | 0.00/612 [00:00<?, ?B/s]"
      ]
     },
     "metadata": {},
     "output_type": "display_data"
    },
    {
     "data": {
      "application/vnd.jupyter.widget-view+json": {
       "model_id": "b548bdad329f4aeba4712b3bc108c24e",
       "version_major": 2,
       "version_minor": 0
      },
      "text/plain": [
       "model.safetensors:   0%|          | 0.00/90.9M [00:00<?, ?B/s]"
      ]
     },
     "metadata": {},
     "output_type": "display_data"
    },
    {
     "data": {
      "application/vnd.jupyter.widget-view+json": {
       "model_id": "3db26be420f94ef0ac3acabd66114327",
       "version_major": 2,
       "version_minor": 0
      },
      "text/plain": [
       "tokenizer_config.json:   0%|          | 0.00/350 [00:00<?, ?B/s]"
      ]
     },
     "metadata": {},
     "output_type": "display_data"
    },
    {
     "data": {
      "application/vnd.jupyter.widget-view+json": {
       "model_id": "5b8a12c933e545269029ea42dbfb115a",
       "version_major": 2,
       "version_minor": 0
      },
      "text/plain": [
       "vocab.txt:   0%|          | 0.00/232k [00:00<?, ?B/s]"
      ]
     },
     "metadata": {},
     "output_type": "display_data"
    },
    {
     "data": {
      "application/vnd.jupyter.widget-view+json": {
       "model_id": "51c59a0324554220a56bbb506df7dc9a",
       "version_major": 2,
       "version_minor": 0
      },
      "text/plain": [
       "tokenizer.json:   0%|          | 0.00/466k [00:00<?, ?B/s]"
      ]
     },
     "metadata": {},
     "output_type": "display_data"
    },
    {
     "data": {
      "application/vnd.jupyter.widget-view+json": {
       "model_id": "53598c062d844386af7c66a8f9ad641a",
       "version_major": 2,
       "version_minor": 0
      },
      "text/plain": [
       "special_tokens_map.json:   0%|          | 0.00/112 [00:00<?, ?B/s]"
      ]
     },
     "metadata": {},
     "output_type": "display_data"
    },
    {
     "data": {
      "application/vnd.jupyter.widget-view+json": {
       "model_id": "a5fa5ca4a82f4804aebd3e5e21fc188d",
       "version_major": 2,
       "version_minor": 0
      },
      "text/plain": [
       "1_Pooling/config.json:   0%|          | 0.00/190 [00:00<?, ?B/s]"
      ]
     },
     "metadata": {},
     "output_type": "display_data"
    },
    {
     "name": "stderr",
     "output_type": "stream",
     "text": [
      "huggingface/tokenizers: The current process just got forked, after parallelism has already been used. Disabling parallelism to avoid deadlocks...\n",
      "To disable this warning, you can either:\n",
      "\t- Avoid using `tokenizers` before the fork if possible\n",
      "\t- Explicitly set the environment variable TOKENIZERS_PARALLELISM=(true | false)\n",
      "huggingface/tokenizers: The current process just got forked, after parallelism has already been used. Disabling parallelism to avoid deadlocks...\n",
      "To disable this warning, you can either:\n",
      "\t- Avoid using `tokenizers` before the fork if possible\n",
      "\t- Explicitly set the environment variable TOKENIZERS_PARALLELISM=(true | false)\n",
      "huggingface/tokenizers: The current process just got forked, after parallelism has already been used. Disabling parallelism to avoid deadlocks...\n",
      "To disable this warning, you can either:\n",
      "\t- Avoid using `tokenizers` before the fork if possible\n",
      "\t- Explicitly set the environment variable TOKENIZERS_PARALLELISM=(true | false)\n",
      "huggingface/tokenizers: The current process just got forked, after parallelism has already been used. Disabling parallelism to avoid deadlocks...\n",
      "To disable this warning, you can either:\n",
      "\t- Avoid using `tokenizers` before the fork if possible\n",
      "\t- Explicitly set the environment variable TOKENIZERS_PARALLELISM=(true | false)\n",
      "huggingface/tokenizers: The current process just got forked, after parallelism has already been used. Disabling parallelism to avoid deadlocks...\n",
      "To disable this warning, you can either:\n",
      "\t- Avoid using `tokenizers` before the fork if possible\n",
      "\t- Explicitly set the environment variable TOKENIZERS_PARALLELISM=(true | false)\n"
     ]
    },
    {
     "name": "stdout",
     "output_type": "stream",
     "text": [
      "      Topic  Count                                        Name  \\\n",
      "0        -1  24071                  -1_pill_heroin_opiates_ago   \n",
      "1         0    615         0_addiction_addict_addicts_addicted   \n",
      "2         1    580                     1_suboxone_8mg_wait_2mg   \n",
      "3         2    479               2_plug_plugs_finding_plugging   \n",
      "4         3    372        3_opioids_opioid_opioidopiate_opiods   \n",
      "...     ...    ...                                         ...   \n",
      "1400   1399     10           1399_somebody_answer_someone_hope   \n",
      "1401   1400     10            1400_fenny_snitch_sells_separate   \n",
      "1402   1401     10  1401_710labs_utraceyh415_oxycocets_goodhow   \n",
      "1403   1402     10           1402_uk_authoritarian_ukers_peeps   \n",
      "1404   1403     10  1403_spicek2_fub144_marijuana_cannabinoids   \n",
      "\n",
      "                                         Representation  \\\n",
      "0     [pill, heroin, opiates, ago, took, ive, xanax,...   \n",
      "1     [addiction, addict, addicts, addicted, recover...   \n",
      "2     [suboxone, 8mg, wait, 2mg, 24, suboxon, long, ...   \n",
      "3     [plug, plugs, finding, plugging, find, new, ou...   \n",
      "4     [opioids, opioid, opioidopiate, opiods, monolo...   \n",
      "...                                                 ...   \n",
      "1400  [somebody, answer, someone, hope, help, please...   \n",
      "1401  [fenny, snitch, sells, separate, killer, deale...   \n",
      "1402  [710labs, utraceyh415, oxycocets, goodhow, n23...   \n",
      "1403  [uk, authoritarian, ukers, peeps, wales, hellh...   \n",
      "1404  [spicek2, fub144, marijuana, cannabinoids, wee...   \n",
      "\n",
      "                                    Representative_Docs  \n",
      "0     [first time opiates codeine 30mg many take, ne...  \n",
      "1                     [addiction, addiction, addiction]  \n",
      "2          [suboxone help, suboxone help, get suboxone]  \n",
      "3                                    [plug, plug, plug]  \n",
      "4                       [get opioids, opioids, opioids]  \n",
      "...                                                 ...  \n",
      "1400  [somebody help, somebody help, somebody please...  \n",
      "1401  [anyone ever snitch fent dealer, love fenny de...  \n",
      "1402  [oxycocets 5325, thank package utraceyh415, ox...  \n",
      "1403  [question uk amp irish pals, hey new saying hi...  \n",
      "1404  [oxycodone marijuana, oxycodone 10mg 100mg mar...  \n",
      "\n",
      "[1405 rows x 5 columns]\n"
     ]
    }
   ],
   "source": [
    "docs = df_submissions['title_nlp'].tolist()\n",
    "\n",
    "topic_model = BERTopic()\n",
    "topics, probs = topic_model.fit_transform(docs)\n",
    "\n",
    "print(topic_model.get_topic_info())"
   ]
  },
  {
   "cell_type": "code",
   "execution_count": null,
   "metadata": {},
   "outputs": [
    {
     "name": "stderr",
     "output_type": "stream",
     "text": [
      "huggingface/tokenizers: The current process just got forked, after parallelism has already been used. Disabling parallelism to avoid deadlocks...\n",
      "To disable this warning, you can either:\n",
      "\t- Avoid using `tokenizers` before the fork if possible\n",
      "\t- Explicitly set the environment variable TOKENIZERS_PARALLELISM=(true | false)\n"
     ]
    },
    {
     "data": {
      "application/vnd.plotly.v1+json": {
       "config": {
        "plotlyServerURL": "https://plot.ly"
       },
       "data": [
        {
         "marker": {
          "color": "#D55E00"
         },
         "orientation": "h",
         "type": "bar",
         "x": [
          0.004991857230863213,
          0.0050213872148477876,
          0.0055839909291645696,
          0.005627278795271887,
          0.005895022824228642,
          0.007151945665480635,
          0.015300855003716848,
          0.01652470358971031,
          0.02555545754085297,
          0.026009926764470167
         ],
         "xaxis": "x",
         "y": [
          "mental  ",
          "physically  ",
          "psychological  ",
          "functional  ",
          "addictions  ",
          "recovering  ",
          "addicted  ",
          "addicts  ",
          "addict  ",
          "addiction  "
         ],
         "yaxis": "y"
        },
        {
         "marker": {
          "color": "#0072B2"
         },
         "orientation": "h",
         "type": "bar",
         "x": [
          0.002997946607267703,
          0.003007621520340176,
          0.0030499168751854733,
          0.0032728239075571603,
          0.0033473639820496403,
          0.003468968408104091,
          0.0043644277380007965,
          0.005856640644149987,
          0.0063115086034221035,
          0.01910153483310747
         ],
         "xaxis": "x2",
         "y": [
          "hours  ",
          "8mg2mg  ",
          "blocking  ",
          "long  ",
          "suboxon  ",
          "24  ",
          "2mg  ",
          "wait  ",
          "8mg  ",
          "suboxone  "
         ],
         "yaxis": "y2"
        },
        {
         "marker": {
          "color": "#CC79A7"
         },
         "orientation": "h",
         "type": "bar",
         "x": [
          0.0047781178908185085,
          0.005035822808323508,
          0.005855276474227908,
          0.006091033443489859,
          0.006180282507622356,
          0.007611642336110873,
          0.008696619001358,
          0.010068699536876618,
          0.04392193161406933,
          0.061349313031216116
         ],
         "xaxis": "x3",
         "y": [
          "ghosted  ",
          "plugg  ",
          "pluggingboofing  ",
          "outlet  ",
          "new  ",
          "find  ",
          "plugging  ",
          "finding  ",
          "plugs  ",
          "plug  "
         ],
         "yaxis": "y3"
        },
        {
         "marker": {
          "color": "#E69F00"
         },
         "orientation": "h",
         "type": "bar",
         "x": [
          0.005118372134235917,
          0.005118372134235917,
          0.005653407615297089,
          0.006180303709783291,
          0.006623234563126157,
          0.007057772117574777,
          0.007413720481904108,
          0.009934851844689235,
          0.01912293490289026,
          0.03680665879671734
         ],
         "xaxis": "x4",
         "y": [
          "withdralws  ",
          "epigenetics  ",
          "opiod  ",
          "synthetic  ",
          "lesser  ",
          "monologues  ",
          "opiods  ",
          "opioidopiate  ",
          "opioid  ",
          "opioids  "
         ],
         "yaxis": "y4"
        },
        {
         "marker": {
          "color": "#56B4E9"
         },
         "orientation": "h",
         "type": "bar",
         "x": [
          0.0052413664049744966,
          0.005337562582141243,
          0.005775446433685258,
          0.005802797143772734,
          0.006804343123844423,
          0.007095715630539673,
          0.008835436043264538,
          0.009938561488900963,
          0.01000263184594795,
          0.011072574762955952
         ],
         "xaxis": "x5",
         "y": [
          "20  ",
          "10mg  ",
          "15mg  ",
          "oxys  ",
          "oxy  ",
          "30mg  ",
          "5mg  ",
          "20mg  ",
          "80mg  ",
          "40mg  "
         ],
         "yaxis": "y5"
        },
        {
         "marker": {
          "color": "#009E73"
         },
         "orientation": "h",
         "type": "bar",
         "x": [
          0.006715374064591163,
          0.006799116519052807,
          0.007003239438057398,
          0.00710221124909957,
          0.007108608294535571,
          0.011405515734820812,
          0.011691493408039315,
          0.014464394585784345,
          0.02168863250047147,
          0.08337458400514074
         ],
         "xaxis": "x6",
         "y": [
          "overdosed  ",
          "administer  ",
          "ambulance  ",
          "spray  ",
          "overdosing  ",
          "free  ",
          "narcand  ",
          "narcaned  ",
          "narcanned  ",
          "narcan  "
         ],
         "yaxis": "y6"
        },
        {
         "marker": {
          "color": "#F0E442"
         },
         "orientation": "h",
         "type": "bar",
         "x": [
          0.0027355794173715016,
          0.0033534134904190317,
          0.005896774960614878,
          0.00603627563220665,
          0.007167273117862026,
          0.008254072325517267,
          0.011704057477595675,
          0.014583195347262129,
          0.027715250713636605,
          0.06322736915752773
         ],
         "xaxis": "x7",
         "y": [
          "okay  ",
          "hell  ",
          "couldnt  ",
          "yes  ",
          "late  ",
          "smh  ",
          "helps  ",
          "lol  ",
          "helppp  ",
          "help  "
         ],
         "yaxis": "y7"
        },
        {
         "marker": {
          "color": "#D55E00"
         },
         "orientation": "h",
         "type": "bar",
         "x": [
          0.00001,
          0.00001,
          0.00001,
          0.00001,
          0.00001,
          0.00001,
          0.00001,
          0.26956815110774673,
          1.0185354637261452,
          1.6111018074804377
         ],
         "xaxis": "x8",
         "y": [
          "  ",
          "  ",
          "  ",
          "  ",
          "  ",
          "  ",
          "  ",
          "youve  ",
          "sh  ",
          "weve  "
         ],
         "yaxis": "y8"
        },
        {
         "marker": {
          "color": "#0072B2"
         },
         "orientation": "h",
         "type": "bar",
         "x": [
          0.00760332226963595,
          0.00801496696756302,
          0.008128236805505748,
          0.00892034172621015,
          0.010484293542595814,
          0.014867236210350247,
          0.017217881912004677,
          0.01920902387733333,
          0.06938908880243778,
          0.10888802872538425
         ],
         "xaxis": "x9",
         "y": [
          "injector  ",
          "pw  ",
          "spray  ",
          "blockage  ",
          "naltrexonevivitrol  ",
          "implant  ",
          "ultra  ",
          "nalaxone  ",
          "naloxone  ",
          "naltrexone  "
         ],
         "yaxis": "y9"
        }
       ],
       "layout": {
        "annotations": [
         {
          "font": {
           "size": 16
          },
          "showarrow": false,
          "text": "Topic 0",
          "x": 0.0875,
          "xanchor": "center",
          "xref": "paper",
          "y": 1,
          "yanchor": "bottom",
          "yref": "paper"
         },
         {
          "font": {
           "size": 16
          },
          "showarrow": false,
          "text": "Topic 1",
          "x": 0.36250000000000004,
          "xanchor": "center",
          "xref": "paper",
          "y": 1,
          "yanchor": "bottom",
          "yref": "paper"
         },
         {
          "font": {
           "size": 16
          },
          "showarrow": false,
          "text": "Topic 2",
          "x": 0.6375000000000001,
          "xanchor": "center",
          "xref": "paper",
          "y": 1,
          "yanchor": "bottom",
          "yref": "paper"
         },
         {
          "font": {
           "size": 16
          },
          "showarrow": false,
          "text": "Topic 3",
          "x": 0.9125,
          "xanchor": "center",
          "xref": "paper",
          "y": 1,
          "yanchor": "bottom",
          "yref": "paper"
         },
         {
          "font": {
           "size": 16
          },
          "showarrow": false,
          "text": "Topic 4",
          "x": 0.0875,
          "xanchor": "center",
          "xref": "paper",
          "y": 0.6222222222222222,
          "yanchor": "bottom",
          "yref": "paper"
         },
         {
          "font": {
           "size": 16
          },
          "showarrow": false,
          "text": "Topic 5",
          "x": 0.36250000000000004,
          "xanchor": "center",
          "xref": "paper",
          "y": 0.6222222222222222,
          "yanchor": "bottom",
          "yref": "paper"
         },
         {
          "font": {
           "size": 16
          },
          "showarrow": false,
          "text": "Topic 6",
          "x": 0.6375000000000001,
          "xanchor": "center",
          "xref": "paper",
          "y": 0.6222222222222222,
          "yanchor": "bottom",
          "yref": "paper"
         },
         {
          "font": {
           "size": 16
          },
          "showarrow": false,
          "text": "Topic 7",
          "x": 0.9125,
          "xanchor": "center",
          "xref": "paper",
          "y": 0.6222222222222222,
          "yanchor": "bottom",
          "yref": "paper"
         },
         {
          "font": {
           "size": 16
          },
          "showarrow": false,
          "text": "Topic 8",
          "x": 0.0875,
          "xanchor": "center",
          "xref": "paper",
          "y": 0.24444444444444446,
          "yanchor": "bottom",
          "yref": "paper"
         }
        ],
        "height": 1950,
        "hoverlabel": {
         "bgcolor": "white",
         "font": {
          "family": "Rockwell",
          "size": 16
         }
        },
        "showlegend": false,
        "template": {
         "data": {
          "bar": [
           {
            "error_x": {
             "color": "#2a3f5f"
            },
            "error_y": {
             "color": "#2a3f5f"
            },
            "marker": {
             "line": {
              "color": "white",
              "width": 0.5
             },
             "pattern": {
              "fillmode": "overlay",
              "size": 10,
              "solidity": 0.2
             }
            },
            "type": "bar"
           }
          ],
          "barpolar": [
           {
            "marker": {
             "line": {
              "color": "white",
              "width": 0.5
             },
             "pattern": {
              "fillmode": "overlay",
              "size": 10,
              "solidity": 0.2
             }
            },
            "type": "barpolar"
           }
          ],
          "carpet": [
           {
            "aaxis": {
             "endlinecolor": "#2a3f5f",
             "gridcolor": "#C8D4E3",
             "linecolor": "#C8D4E3",
             "minorgridcolor": "#C8D4E3",
             "startlinecolor": "#2a3f5f"
            },
            "baxis": {
             "endlinecolor": "#2a3f5f",
             "gridcolor": "#C8D4E3",
             "linecolor": "#C8D4E3",
             "minorgridcolor": "#C8D4E3",
             "startlinecolor": "#2a3f5f"
            },
            "type": "carpet"
           }
          ],
          "choropleth": [
           {
            "colorbar": {
             "outlinewidth": 0,
             "ticks": ""
            },
            "type": "choropleth"
           }
          ],
          "contour": [
           {
            "colorbar": {
             "outlinewidth": 0,
             "ticks": ""
            },
            "colorscale": [
             [
              0,
              "#0d0887"
             ],
             [
              0.1111111111111111,
              "#46039f"
             ],
             [
              0.2222222222222222,
              "#7201a8"
             ],
             [
              0.3333333333333333,
              "#9c179e"
             ],
             [
              0.4444444444444444,
              "#bd3786"
             ],
             [
              0.5555555555555556,
              "#d8576b"
             ],
             [
              0.6666666666666666,
              "#ed7953"
             ],
             [
              0.7777777777777778,
              "#fb9f3a"
             ],
             [
              0.8888888888888888,
              "#fdca26"
             ],
             [
              1,
              "#f0f921"
             ]
            ],
            "type": "contour"
           }
          ],
          "contourcarpet": [
           {
            "colorbar": {
             "outlinewidth": 0,
             "ticks": ""
            },
            "type": "contourcarpet"
           }
          ],
          "heatmap": [
           {
            "colorbar": {
             "outlinewidth": 0,
             "ticks": ""
            },
            "colorscale": [
             [
              0,
              "#0d0887"
             ],
             [
              0.1111111111111111,
              "#46039f"
             ],
             [
              0.2222222222222222,
              "#7201a8"
             ],
             [
              0.3333333333333333,
              "#9c179e"
             ],
             [
              0.4444444444444444,
              "#bd3786"
             ],
             [
              0.5555555555555556,
              "#d8576b"
             ],
             [
              0.6666666666666666,
              "#ed7953"
             ],
             [
              0.7777777777777778,
              "#fb9f3a"
             ],
             [
              0.8888888888888888,
              "#fdca26"
             ],
             [
              1,
              "#f0f921"
             ]
            ],
            "type": "heatmap"
           }
          ],
          "heatmapgl": [
           {
            "colorbar": {
             "outlinewidth": 0,
             "ticks": ""
            },
            "colorscale": [
             [
              0,
              "#0d0887"
             ],
             [
              0.1111111111111111,
              "#46039f"
             ],
             [
              0.2222222222222222,
              "#7201a8"
             ],
             [
              0.3333333333333333,
              "#9c179e"
             ],
             [
              0.4444444444444444,
              "#bd3786"
             ],
             [
              0.5555555555555556,
              "#d8576b"
             ],
             [
              0.6666666666666666,
              "#ed7953"
             ],
             [
              0.7777777777777778,
              "#fb9f3a"
             ],
             [
              0.8888888888888888,
              "#fdca26"
             ],
             [
              1,
              "#f0f921"
             ]
            ],
            "type": "heatmapgl"
           }
          ],
          "histogram": [
           {
            "marker": {
             "pattern": {
              "fillmode": "overlay",
              "size": 10,
              "solidity": 0.2
             }
            },
            "type": "histogram"
           }
          ],
          "histogram2d": [
           {
            "colorbar": {
             "outlinewidth": 0,
             "ticks": ""
            },
            "colorscale": [
             [
              0,
              "#0d0887"
             ],
             [
              0.1111111111111111,
              "#46039f"
             ],
             [
              0.2222222222222222,
              "#7201a8"
             ],
             [
              0.3333333333333333,
              "#9c179e"
             ],
             [
              0.4444444444444444,
              "#bd3786"
             ],
             [
              0.5555555555555556,
              "#d8576b"
             ],
             [
              0.6666666666666666,
              "#ed7953"
             ],
             [
              0.7777777777777778,
              "#fb9f3a"
             ],
             [
              0.8888888888888888,
              "#fdca26"
             ],
             [
              1,
              "#f0f921"
             ]
            ],
            "type": "histogram2d"
           }
          ],
          "histogram2dcontour": [
           {
            "colorbar": {
             "outlinewidth": 0,
             "ticks": ""
            },
            "colorscale": [
             [
              0,
              "#0d0887"
             ],
             [
              0.1111111111111111,
              "#46039f"
             ],
             [
              0.2222222222222222,
              "#7201a8"
             ],
             [
              0.3333333333333333,
              "#9c179e"
             ],
             [
              0.4444444444444444,
              "#bd3786"
             ],
             [
              0.5555555555555556,
              "#d8576b"
             ],
             [
              0.6666666666666666,
              "#ed7953"
             ],
             [
              0.7777777777777778,
              "#fb9f3a"
             ],
             [
              0.8888888888888888,
              "#fdca26"
             ],
             [
              1,
              "#f0f921"
             ]
            ],
            "type": "histogram2dcontour"
           }
          ],
          "mesh3d": [
           {
            "colorbar": {
             "outlinewidth": 0,
             "ticks": ""
            },
            "type": "mesh3d"
           }
          ],
          "parcoords": [
           {
            "line": {
             "colorbar": {
              "outlinewidth": 0,
              "ticks": ""
             }
            },
            "type": "parcoords"
           }
          ],
          "pie": [
           {
            "automargin": true,
            "type": "pie"
           }
          ],
          "scatter": [
           {
            "fillpattern": {
             "fillmode": "overlay",
             "size": 10,
             "solidity": 0.2
            },
            "type": "scatter"
           }
          ],
          "scatter3d": [
           {
            "line": {
             "colorbar": {
              "outlinewidth": 0,
              "ticks": ""
             }
            },
            "marker": {
             "colorbar": {
              "outlinewidth": 0,
              "ticks": ""
             }
            },
            "type": "scatter3d"
           }
          ],
          "scattercarpet": [
           {
            "marker": {
             "colorbar": {
              "outlinewidth": 0,
              "ticks": ""
             }
            },
            "type": "scattercarpet"
           }
          ],
          "scattergeo": [
           {
            "marker": {
             "colorbar": {
              "outlinewidth": 0,
              "ticks": ""
             }
            },
            "type": "scattergeo"
           }
          ],
          "scattergl": [
           {
            "marker": {
             "colorbar": {
              "outlinewidth": 0,
              "ticks": ""
             }
            },
            "type": "scattergl"
           }
          ],
          "scattermapbox": [
           {
            "marker": {
             "colorbar": {
              "outlinewidth": 0,
              "ticks": ""
             }
            },
            "type": "scattermapbox"
           }
          ],
          "scatterpolar": [
           {
            "marker": {
             "colorbar": {
              "outlinewidth": 0,
              "ticks": ""
             }
            },
            "type": "scatterpolar"
           }
          ],
          "scatterpolargl": [
           {
            "marker": {
             "colorbar": {
              "outlinewidth": 0,
              "ticks": ""
             }
            },
            "type": "scatterpolargl"
           }
          ],
          "scatterternary": [
           {
            "marker": {
             "colorbar": {
              "outlinewidth": 0,
              "ticks": ""
             }
            },
            "type": "scatterternary"
           }
          ],
          "surface": [
           {
            "colorbar": {
             "outlinewidth": 0,
             "ticks": ""
            },
            "colorscale": [
             [
              0,
              "#0d0887"
             ],
             [
              0.1111111111111111,
              "#46039f"
             ],
             [
              0.2222222222222222,
              "#7201a8"
             ],
             [
              0.3333333333333333,
              "#9c179e"
             ],
             [
              0.4444444444444444,
              "#bd3786"
             ],
             [
              0.5555555555555556,
              "#d8576b"
             ],
             [
              0.6666666666666666,
              "#ed7953"
             ],
             [
              0.7777777777777778,
              "#fb9f3a"
             ],
             [
              0.8888888888888888,
              "#fdca26"
             ],
             [
              1,
              "#f0f921"
             ]
            ],
            "type": "surface"
           }
          ],
          "table": [
           {
            "cells": {
             "fill": {
              "color": "#EBF0F8"
             },
             "line": {
              "color": "white"
             }
            },
            "header": {
             "fill": {
              "color": "#C8D4E3"
             },
             "line": {
              "color": "white"
             }
            },
            "type": "table"
           }
          ]
         },
         "layout": {
          "annotationdefaults": {
           "arrowcolor": "#2a3f5f",
           "arrowhead": 0,
           "arrowwidth": 1
          },
          "autotypenumbers": "strict",
          "coloraxis": {
           "colorbar": {
            "outlinewidth": 0,
            "ticks": ""
           }
          },
          "colorscale": {
           "diverging": [
            [
             0,
             "#8e0152"
            ],
            [
             0.1,
             "#c51b7d"
            ],
            [
             0.2,
             "#de77ae"
            ],
            [
             0.3,
             "#f1b6da"
            ],
            [
             0.4,
             "#fde0ef"
            ],
            [
             0.5,
             "#f7f7f7"
            ],
            [
             0.6,
             "#e6f5d0"
            ],
            [
             0.7,
             "#b8e186"
            ],
            [
             0.8,
             "#7fbc41"
            ],
            [
             0.9,
             "#4d9221"
            ],
            [
             1,
             "#276419"
            ]
           ],
           "sequential": [
            [
             0,
             "#0d0887"
            ],
            [
             0.1111111111111111,
             "#46039f"
            ],
            [
             0.2222222222222222,
             "#7201a8"
            ],
            [
             0.3333333333333333,
             "#9c179e"
            ],
            [
             0.4444444444444444,
             "#bd3786"
            ],
            [
             0.5555555555555556,
             "#d8576b"
            ],
            [
             0.6666666666666666,
             "#ed7953"
            ],
            [
             0.7777777777777778,
             "#fb9f3a"
            ],
            [
             0.8888888888888888,
             "#fdca26"
            ],
            [
             1,
             "#f0f921"
            ]
           ],
           "sequentialminus": [
            [
             0,
             "#0d0887"
            ],
            [
             0.1111111111111111,
             "#46039f"
            ],
            [
             0.2222222222222222,
             "#7201a8"
            ],
            [
             0.3333333333333333,
             "#9c179e"
            ],
            [
             0.4444444444444444,
             "#bd3786"
            ],
            [
             0.5555555555555556,
             "#d8576b"
            ],
            [
             0.6666666666666666,
             "#ed7953"
            ],
            [
             0.7777777777777778,
             "#fb9f3a"
            ],
            [
             0.8888888888888888,
             "#fdca26"
            ],
            [
             1,
             "#f0f921"
            ]
           ]
          },
          "colorway": [
           "#636efa",
           "#EF553B",
           "#00cc96",
           "#ab63fa",
           "#FFA15A",
           "#19d3f3",
           "#FF6692",
           "#B6E880",
           "#FF97FF",
           "#FECB52"
          ],
          "font": {
           "color": "#2a3f5f"
          },
          "geo": {
           "bgcolor": "white",
           "lakecolor": "white",
           "landcolor": "white",
           "showlakes": true,
           "showland": true,
           "subunitcolor": "#C8D4E3"
          },
          "hoverlabel": {
           "align": "left"
          },
          "hovermode": "closest",
          "mapbox": {
           "style": "light"
          },
          "paper_bgcolor": "white",
          "plot_bgcolor": "white",
          "polar": {
           "angularaxis": {
            "gridcolor": "#EBF0F8",
            "linecolor": "#EBF0F8",
            "ticks": ""
           },
           "bgcolor": "white",
           "radialaxis": {
            "gridcolor": "#EBF0F8",
            "linecolor": "#EBF0F8",
            "ticks": ""
           }
          },
          "scene": {
           "xaxis": {
            "backgroundcolor": "white",
            "gridcolor": "#DFE8F3",
            "gridwidth": 2,
            "linecolor": "#EBF0F8",
            "showbackground": true,
            "ticks": "",
            "zerolinecolor": "#EBF0F8"
           },
           "yaxis": {
            "backgroundcolor": "white",
            "gridcolor": "#DFE8F3",
            "gridwidth": 2,
            "linecolor": "#EBF0F8",
            "showbackground": true,
            "ticks": "",
            "zerolinecolor": "#EBF0F8"
           },
           "zaxis": {
            "backgroundcolor": "white",
            "gridcolor": "#DFE8F3",
            "gridwidth": 2,
            "linecolor": "#EBF0F8",
            "showbackground": true,
            "ticks": "",
            "zerolinecolor": "#EBF0F8"
           }
          },
          "shapedefaults": {
           "line": {
            "color": "#2a3f5f"
           }
          },
          "ternary": {
           "aaxis": {
            "gridcolor": "#DFE8F3",
            "linecolor": "#A2B1C6",
            "ticks": ""
           },
           "baxis": {
            "gridcolor": "#DFE8F3",
            "linecolor": "#A2B1C6",
            "ticks": ""
           },
           "bgcolor": "white",
           "caxis": {
            "gridcolor": "#DFE8F3",
            "linecolor": "#A2B1C6",
            "ticks": ""
           }
          },
          "title": {
           "x": 0.05
          },
          "xaxis": {
           "automargin": true,
           "gridcolor": "#EBF0F8",
           "linecolor": "#EBF0F8",
           "ticks": "",
           "title": {
            "standoff": 15
           },
           "zerolinecolor": "#EBF0F8",
           "zerolinewidth": 2
          },
          "yaxis": {
           "automargin": true,
           "gridcolor": "#EBF0F8",
           "linecolor": "#EBF0F8",
           "ticks": "",
           "title": {
            "standoff": 15
           },
           "zerolinecolor": "#EBF0F8",
           "zerolinewidth": 2
          }
         }
        },
        "title": {
         "font": {
          "color": "Black",
          "size": 22
         },
         "text": "Topic Word Scores",
         "x": 0.5,
         "xanchor": "center",
         "yanchor": "top"
        },
        "width": 2600,
        "xaxis": {
         "anchor": "y",
         "domain": [
          0,
          0.175
         ],
         "showgrid": true
        },
        "xaxis10": {
         "anchor": "y10",
         "domain": [
          0.275,
          0.45
         ],
         "showgrid": true
        },
        "xaxis11": {
         "anchor": "y11",
         "domain": [
          0.55,
          0.7250000000000001
         ],
         "showgrid": true
        },
        "xaxis12": {
         "anchor": "y12",
         "domain": [
          0.825,
          1
         ],
         "showgrid": true
        },
        "xaxis2": {
         "anchor": "y2",
         "domain": [
          0.275,
          0.45
         ],
         "showgrid": true
        },
        "xaxis3": {
         "anchor": "y3",
         "domain": [
          0.55,
          0.7250000000000001
         ],
         "showgrid": true
        },
        "xaxis4": {
         "anchor": "y4",
         "domain": [
          0.825,
          1
         ],
         "showgrid": true
        },
        "xaxis5": {
         "anchor": "y5",
         "domain": [
          0,
          0.175
         ],
         "showgrid": true
        },
        "xaxis6": {
         "anchor": "y6",
         "domain": [
          0.275,
          0.45
         ],
         "showgrid": true
        },
        "xaxis7": {
         "anchor": "y7",
         "domain": [
          0.55,
          0.7250000000000001
         ],
         "showgrid": true
        },
        "xaxis8": {
         "anchor": "y8",
         "domain": [
          0.825,
          1
         ],
         "showgrid": true
        },
        "xaxis9": {
         "anchor": "y9",
         "domain": [
          0,
          0.175
         ],
         "showgrid": true
        },
        "yaxis": {
         "anchor": "x",
         "domain": [
          0.7555555555555555,
          1
         ],
         "showgrid": true
        },
        "yaxis10": {
         "anchor": "x10",
         "domain": [
          0,
          0.24444444444444446
         ],
         "showgrid": true
        },
        "yaxis11": {
         "anchor": "x11",
         "domain": [
          0,
          0.24444444444444446
         ],
         "showgrid": true
        },
        "yaxis12": {
         "anchor": "x12",
         "domain": [
          0,
          0.24444444444444446
         ],
         "showgrid": true
        },
        "yaxis2": {
         "anchor": "x2",
         "domain": [
          0.7555555555555555,
          1
         ],
         "showgrid": true
        },
        "yaxis3": {
         "anchor": "x3",
         "domain": [
          0.7555555555555555,
          1
         ],
         "showgrid": true
        },
        "yaxis4": {
         "anchor": "x4",
         "domain": [
          0.7555555555555555,
          1
         ],
         "showgrid": true
        },
        "yaxis5": {
         "anchor": "x5",
         "domain": [
          0.37777777777777777,
          0.6222222222222222
         ],
         "showgrid": true
        },
        "yaxis6": {
         "anchor": "x6",
         "domain": [
          0.37777777777777777,
          0.6222222222222222
         ],
         "showgrid": true
        },
        "yaxis7": {
         "anchor": "x7",
         "domain": [
          0.37777777777777777,
          0.6222222222222222
         ],
         "showgrid": true
        },
        "yaxis8": {
         "anchor": "x8",
         "domain": [
          0.37777777777777777,
          0.6222222222222222
         ],
         "showgrid": true
        },
        "yaxis9": {
         "anchor": "x9",
         "domain": [
          0,
          0.24444444444444446
         ],
         "showgrid": true
        }
       }
      }
     },
     "metadata": {},
     "output_type": "display_data"
    }
   ],
   "source": [
    "topic_model.visualize_barchart(top_n_topics=9, n_words=10, width=650, height=650)"
   ]
  },
  {
   "cell_type": "code",
   "execution_count": null,
   "metadata": {},
   "outputs": [
    {
     "name": "stderr",
     "output_type": "stream",
     "text": [
      "huggingface/tokenizers: The current process just got forked, after parallelism has already been used. Disabling parallelism to avoid deadlocks...\n",
      "To disable this warning, you can either:\n",
      "\t- Avoid using `tokenizers` before the fork if possible\n",
      "\t- Explicitly set the environment variable TOKENIZERS_PARALLELISM=(true | false)\n"
     ]
    },
    {
     "name": "stdout",
     "output_type": "stream",
     "text": [
      "Requirement already satisfied: spacytextblob in /Users/amadouyehara/anaconda3/lib/python3.11/site-packages (4.0.0)\n",
      "Requirement already satisfied: spacy<4.0,>=3.0 in /Users/amadouyehara/anaconda3/lib/python3.11/site-packages (from spacytextblob) (3.7.4)\n",
      "Requirement already satisfied: textblob<0.16.0,>=0.15.3 in /Users/amadouyehara/anaconda3/lib/python3.11/site-packages (from spacytextblob) (0.15.3)\n",
      "Requirement already satisfied: spacy-legacy<3.1.0,>=3.0.11 in /Users/amadouyehara/anaconda3/lib/python3.11/site-packages (from spacy<4.0,>=3.0->spacytextblob) (3.0.12)\n",
      "Requirement already satisfied: spacy-loggers<2.0.0,>=1.0.0 in /Users/amadouyehara/anaconda3/lib/python3.11/site-packages (from spacy<4.0,>=3.0->spacytextblob) (1.0.5)\n",
      "Requirement already satisfied: murmurhash<1.1.0,>=0.28.0 in /Users/amadouyehara/anaconda3/lib/python3.11/site-packages (from spacy<4.0,>=3.0->spacytextblob) (1.0.10)\n",
      "Requirement already satisfied: cymem<2.1.0,>=2.0.2 in /Users/amadouyehara/anaconda3/lib/python3.11/site-packages (from spacy<4.0,>=3.0->spacytextblob) (2.0.8)\n",
      "Requirement already satisfied: preshed<3.1.0,>=3.0.2 in /Users/amadouyehara/anaconda3/lib/python3.11/site-packages (from spacy<4.0,>=3.0->spacytextblob) (3.0.9)\n",
      "Requirement already satisfied: thinc<8.3.0,>=8.2.2 in /Users/amadouyehara/anaconda3/lib/python3.11/site-packages (from spacy<4.0,>=3.0->spacytextblob) (8.2.3)\n",
      "Requirement already satisfied: wasabi<1.2.0,>=0.9.1 in /Users/amadouyehara/anaconda3/lib/python3.11/site-packages (from spacy<4.0,>=3.0->spacytextblob) (1.1.2)\n",
      "Requirement already satisfied: srsly<3.0.0,>=2.4.3 in /Users/amadouyehara/anaconda3/lib/python3.11/site-packages (from spacy<4.0,>=3.0->spacytextblob) (2.4.8)\n",
      "Requirement already satisfied: catalogue<2.1.0,>=2.0.6 in /Users/amadouyehara/anaconda3/lib/python3.11/site-packages (from spacy<4.0,>=3.0->spacytextblob) (2.0.10)\n",
      "Requirement already satisfied: weasel<0.4.0,>=0.1.0 in /Users/amadouyehara/anaconda3/lib/python3.11/site-packages (from spacy<4.0,>=3.0->spacytextblob) (0.3.4)\n",
      "Requirement already satisfied: typer<0.10.0,>=0.3.0 in /Users/amadouyehara/anaconda3/lib/python3.11/site-packages (from spacy<4.0,>=3.0->spacytextblob) (0.9.4)\n",
      "Requirement already satisfied: smart-open<7.0.0,>=5.2.1 in /Users/amadouyehara/anaconda3/lib/python3.11/site-packages (from spacy<4.0,>=3.0->spacytextblob) (5.2.1)\n",
      "Requirement already satisfied: tqdm<5.0.0,>=4.38.0 in /Users/amadouyehara/anaconda3/lib/python3.11/site-packages (from spacy<4.0,>=3.0->spacytextblob) (4.65.0)\n",
      "Requirement already satisfied: requests<3.0.0,>=2.13.0 in /Users/amadouyehara/anaconda3/lib/python3.11/site-packages (from spacy<4.0,>=3.0->spacytextblob) (2.31.0)\n",
      "Requirement already satisfied: pydantic!=1.8,!=1.8.1,<3.0.0,>=1.7.4 in /Users/amadouyehara/anaconda3/lib/python3.11/site-packages (from spacy<4.0,>=3.0->spacytextblob) (1.10.8)\n",
      "Requirement already satisfied: jinja2 in /Users/amadouyehara/anaconda3/lib/python3.11/site-packages (from spacy<4.0,>=3.0->spacytextblob) (3.1.2)\n",
      "Requirement already satisfied: setuptools in /Users/amadouyehara/anaconda3/lib/python3.11/site-packages (from spacy<4.0,>=3.0->spacytextblob) (68.0.0)\n",
      "Requirement already satisfied: packaging>=20.0 in /Users/amadouyehara/anaconda3/lib/python3.11/site-packages (from spacy<4.0,>=3.0->spacytextblob) (23.2)\n",
      "Requirement already satisfied: langcodes<4.0.0,>=3.2.0 in /Users/amadouyehara/anaconda3/lib/python3.11/site-packages (from spacy<4.0,>=3.0->spacytextblob) (3.3.0)\n",
      "Requirement already satisfied: numpy>=1.19.0 in /Users/amadouyehara/anaconda3/lib/python3.11/site-packages (from spacy<4.0,>=3.0->spacytextblob) (1.24.3)\n",
      "Requirement already satisfied: nltk>=3.1 in /Users/amadouyehara/anaconda3/lib/python3.11/site-packages (from textblob<0.16.0,>=0.15.3->spacytextblob) (3.8.1)\n",
      "Requirement already satisfied: click in /Users/amadouyehara/anaconda3/lib/python3.11/site-packages (from nltk>=3.1->textblob<0.16.0,>=0.15.3->spacytextblob) (8.0.4)\n",
      "Requirement already satisfied: joblib in /Users/amadouyehara/anaconda3/lib/python3.11/site-packages (from nltk>=3.1->textblob<0.16.0,>=0.15.3->spacytextblob) (1.2.0)\n",
      "Requirement already satisfied: regex>=2021.8.3 in /Users/amadouyehara/anaconda3/lib/python3.11/site-packages (from nltk>=3.1->textblob<0.16.0,>=0.15.3->spacytextblob) (2022.7.9)\n",
      "Requirement already satisfied: typing-extensions>=4.2.0 in /Users/amadouyehara/anaconda3/lib/python3.11/site-packages (from pydantic!=1.8,!=1.8.1,<3.0.0,>=1.7.4->spacy<4.0,>=3.0->spacytextblob) (4.7.1)\n",
      "Requirement already satisfied: charset-normalizer<4,>=2 in /Users/amadouyehara/anaconda3/lib/python3.11/site-packages (from requests<3.0.0,>=2.13.0->spacy<4.0,>=3.0->spacytextblob) (2.0.4)\n",
      "Requirement already satisfied: idna<4,>=2.5 in /Users/amadouyehara/anaconda3/lib/python3.11/site-packages (from requests<3.0.0,>=2.13.0->spacy<4.0,>=3.0->spacytextblob) (3.4)\n",
      "Requirement already satisfied: urllib3<3,>=1.21.1 in /Users/amadouyehara/anaconda3/lib/python3.11/site-packages (from requests<3.0.0,>=2.13.0->spacy<4.0,>=3.0->spacytextblob) (1.26.16)\n",
      "Requirement already satisfied: certifi>=2017.4.17 in /Users/amadouyehara/anaconda3/lib/python3.11/site-packages (from requests<3.0.0,>=2.13.0->spacy<4.0,>=3.0->spacytextblob) (2023.11.17)\n",
      "Requirement already satisfied: blis<0.8.0,>=0.7.8 in /Users/amadouyehara/anaconda3/lib/python3.11/site-packages (from thinc<8.3.0,>=8.2.2->spacy<4.0,>=3.0->spacytextblob) (0.7.11)\n",
      "Requirement already satisfied: confection<1.0.0,>=0.0.1 in /Users/amadouyehara/anaconda3/lib/python3.11/site-packages (from thinc<8.3.0,>=8.2.2->spacy<4.0,>=3.0->spacytextblob) (0.1.4)\n",
      "Requirement already satisfied: cloudpathlib<0.17.0,>=0.7.0 in /Users/amadouyehara/anaconda3/lib/python3.11/site-packages (from weasel<0.4.0,>=0.1.0->spacy<4.0,>=3.0->spacytextblob) (0.16.0)\n",
      "Requirement already satisfied: MarkupSafe>=2.0 in /Users/amadouyehara/anaconda3/lib/python3.11/site-packages (from jinja2->spacy<4.0,>=3.0->spacytextblob) (2.1.1)\n"
     ]
    }
   ],
   "source": [
    "!pip install spacytextblob"
   ]
  },
  {
   "cell_type": "code",
   "execution_count": null,
   "metadata": {},
   "outputs": [
    {
     "data": {
      "text/html": [
       "<div>\n",
       "<style scoped>\n",
       "    .dataframe tbody tr th:only-of-type {\n",
       "        vertical-align: middle;\n",
       "    }\n",
       "\n",
       "    .dataframe tbody tr th {\n",
       "        vertical-align: top;\n",
       "    }\n",
       "\n",
       "    .dataframe thead th {\n",
       "        text-align: right;\n",
       "    }\n",
       "</style>\n",
       "<table border=\"1\" class=\"dataframe\">\n",
       "  <thead>\n",
       "    <tr style=\"text-align: right;\">\n",
       "      <th></th>\n",
       "      <th>author</th>\n",
       "      <th>title</th>\n",
       "      <th>Datetime</th>\n",
       "      <th>season</th>\n",
       "      <th>score</th>\n",
       "      <th>WC</th>\n",
       "      <th>Analytic</th>\n",
       "      <th>Clout</th>\n",
       "      <th>Authentic</th>\n",
       "      <th>Tone</th>\n",
       "      <th>...</th>\n",
       "      <th>percept</th>\n",
       "      <th>feel</th>\n",
       "      <th>cogproc</th>\n",
       "      <th>focuspast</th>\n",
       "      <th>focuspresent</th>\n",
       "      <th>focusfuture</th>\n",
       "      <th>work</th>\n",
       "      <th>informal</th>\n",
       "      <th>QMark</th>\n",
       "      <th>title_polarity</th>\n",
       "    </tr>\n",
       "  </thead>\n",
       "  <tbody>\n",
       "    <tr>\n",
       "      <th>0</th>\n",
       "      <td>Odd-Pizza-1079</td>\n",
       "      <td>much tylenol much asking friend actually</td>\n",
       "      <td>2022-07-28 23:50:15</td>\n",
       "      <td>Summer</td>\n",
       "      <td>1</td>\n",
       "      <td>12.0</td>\n",
       "      <td>18.82</td>\n",
       "      <td>79.76</td>\n",
       "      <td>1.79</td>\n",
       "      <td>25.77</td>\n",
       "      <td>...</td>\n",
       "      <td>0.0</td>\n",
       "      <td>0.0</td>\n",
       "      <td>16.67</td>\n",
       "      <td>0.0</td>\n",
       "      <td>16.67</td>\n",
       "      <td>0.0</td>\n",
       "      <td>0.00</td>\n",
       "      <td>0.0</td>\n",
       "      <td>8.33</td>\n",
       "      <td>0.13</td>\n",
       "    </tr>\n",
       "    <tr>\n",
       "      <th>1</th>\n",
       "      <td>Global_Face_4708</td>\n",
       "      <td>gabapentinlyricaclonidine telehealth</td>\n",
       "      <td>2022-07-28 23:22:43</td>\n",
       "      <td>Summer</td>\n",
       "      <td>1</td>\n",
       "      <td>5.0</td>\n",
       "      <td>99.00</td>\n",
       "      <td>50.00</td>\n",
       "      <td>1.00</td>\n",
       "      <td>25.77</td>\n",
       "      <td>...</td>\n",
       "      <td>0.0</td>\n",
       "      <td>0.0</td>\n",
       "      <td>0.00</td>\n",
       "      <td>0.0</td>\n",
       "      <td>0.00</td>\n",
       "      <td>0.0</td>\n",
       "      <td>0.00</td>\n",
       "      <td>0.0</td>\n",
       "      <td>20.00</td>\n",
       "      <td>0.00</td>\n",
       "    </tr>\n",
       "    <tr>\n",
       "      <th>2</th>\n",
       "      <td>Bluebeamtwinfn</td>\n",
       "      <td>opiates prolonging finishenhancing sex</td>\n",
       "      <td>2022-07-28 23:06:11</td>\n",
       "      <td>Summer</td>\n",
       "      <td>1</td>\n",
       "      <td>5.0</td>\n",
       "      <td>93.26</td>\n",
       "      <td>50.00</td>\n",
       "      <td>43.37</td>\n",
       "      <td>25.77</td>\n",
       "      <td>...</td>\n",
       "      <td>0.0</td>\n",
       "      <td>0.0</td>\n",
       "      <td>0.00</td>\n",
       "      <td>0.0</td>\n",
       "      <td>0.00</td>\n",
       "      <td>0.0</td>\n",
       "      <td>0.00</td>\n",
       "      <td>0.0</td>\n",
       "      <td>0.00</td>\n",
       "      <td>0.00</td>\n",
       "    </tr>\n",
       "    <tr>\n",
       "      <th>3</th>\n",
       "      <td>iLoveLuckiii</td>\n",
       "      <td>boost oxy high amp save money use</td>\n",
       "      <td>2022-07-28 22:49:43</td>\n",
       "      <td>Summer</td>\n",
       "      <td>1</td>\n",
       "      <td>13.0</td>\n",
       "      <td>82.82</td>\n",
       "      <td>93.79</td>\n",
       "      <td>94.81</td>\n",
       "      <td>99.00</td>\n",
       "      <td>...</td>\n",
       "      <td>0.0</td>\n",
       "      <td>0.0</td>\n",
       "      <td>7.69</td>\n",
       "      <td>0.0</td>\n",
       "      <td>15.38</td>\n",
       "      <td>0.0</td>\n",
       "      <td>0.00</td>\n",
       "      <td>0.0</td>\n",
       "      <td>0.00</td>\n",
       "      <td>0.16</td>\n",
       "    </tr>\n",
       "    <tr>\n",
       "      <th>4</th>\n",
       "      <td>Downtown_Syrup4635</td>\n",
       "      <td>iop detox working 95</td>\n",
       "      <td>2022-07-28 22:21:57</td>\n",
       "      <td>Summer</td>\n",
       "      <td>1</td>\n",
       "      <td>6.0</td>\n",
       "      <td>62.04</td>\n",
       "      <td>50.00</td>\n",
       "      <td>23.51</td>\n",
       "      <td>25.77</td>\n",
       "      <td>...</td>\n",
       "      <td>0.0</td>\n",
       "      <td>0.0</td>\n",
       "      <td>0.00</td>\n",
       "      <td>0.0</td>\n",
       "      <td>0.00</td>\n",
       "      <td>0.0</td>\n",
       "      <td>16.67</td>\n",
       "      <td>0.0</td>\n",
       "      <td>33.33</td>\n",
       "      <td>0.00</td>\n",
       "    </tr>\n",
       "  </tbody>\n",
       "</table>\n",
       "<p>5 rows × 32 columns</p>\n",
       "</div>"
      ],
      "text/plain": [
       "               author                                     title  \\\n",
       "0      Odd-Pizza-1079  much tylenol much asking friend actually   \n",
       "1    Global_Face_4708      gabapentinlyricaclonidine telehealth   \n",
       "2      Bluebeamtwinfn    opiates prolonging finishenhancing sex   \n",
       "3        iLoveLuckiii         boost oxy high amp save money use   \n",
       "4  Downtown_Syrup4635                      iop detox working 95   \n",
       "\n",
       "             Datetime  season score    WC  Analytic  Clout  Authentic   Tone  \\\n",
       "0 2022-07-28 23:50:15  Summer     1  12.0     18.82  79.76       1.79  25.77   \n",
       "1 2022-07-28 23:22:43  Summer     1   5.0     99.00  50.00       1.00  25.77   \n",
       "2 2022-07-28 23:06:11  Summer     1   5.0     93.26  50.00      43.37  25.77   \n",
       "3 2022-07-28 22:49:43  Summer     1  13.0     82.82  93.79      94.81  99.00   \n",
       "4 2022-07-28 22:21:57  Summer     1   6.0     62.04  50.00      23.51  25.77   \n",
       "\n",
       "   ...  percept  feel  cogproc  focuspast  focuspresent  focusfuture   work  \\\n",
       "0  ...      0.0   0.0    16.67        0.0         16.67          0.0   0.00   \n",
       "1  ...      0.0   0.0     0.00        0.0          0.00          0.0   0.00   \n",
       "2  ...      0.0   0.0     0.00        0.0          0.00          0.0   0.00   \n",
       "3  ...      0.0   0.0     7.69        0.0         15.38          0.0   0.00   \n",
       "4  ...      0.0   0.0     0.00        0.0          0.00          0.0  16.67   \n",
       "\n",
       "   informal  QMark  title_polarity  \n",
       "0       0.0   8.33            0.13  \n",
       "1       0.0  20.00            0.00  \n",
       "2       0.0   0.00            0.00  \n",
       "3       0.0   0.00            0.16  \n",
       "4       0.0  33.33            0.00  \n",
       "\n",
       "[5 rows x 32 columns]"
      ]
     },
     "execution_count": 28,
     "metadata": {},
     "output_type": "execute_result"
    }
   ],
   "source": [
    "import spacy\n",
    "from spacytextblob.spacytextblob import SpacyTextBlob\n",
    "nlp = spacy.load('en_core_web_sm')\n",
    "nlp.add_pipe('spacytextblob')\n",
    "\n",
    "df_submissions['title_polarity'] = df_submissions['title'].apply(lambda x: round((nlp(x))._.blob.polarity, 2))\n",
    "df_submissions"
   ]
  }
 ],
 "metadata": {
  "kernelspec": {
   "display_name": "Python 3.10(capstone)",
   "language": "python",
   "name": "acv"
  },
  "language_info": {
   "codemirror_mode": {
    "name": "ipython",
    "version": 3
   },
   "file_extension": ".py",
   "mimetype": "text/x-python",
   "name": "python",
   "nbconvert_exporter": "python",
   "pygments_lexer": "ipython3",
   "version": "3.11.5"
  }
 },
 "nbformat": 4,
 "nbformat_minor": 2
}
